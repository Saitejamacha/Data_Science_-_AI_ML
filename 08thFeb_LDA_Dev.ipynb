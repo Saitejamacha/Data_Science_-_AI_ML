{
  "nbformat": 4,
  "nbformat_minor": 0,
  "metadata": {
    "colab": {
      "provenance": [],
      "include_colab_link": true
    },
    "kernelspec": {
      "name": "python3",
      "display_name": "Python 3"
    },
    "language_info": {
      "name": "python"
    }
  },
  "cells": [
    {
      "cell_type": "markdown",
      "metadata": {
        "id": "view-in-github",
        "colab_type": "text"
      },
      "source": [
        "<a href=\"https://colab.research.google.com/github/Saitejamacha/Data_Science_-_AI_ML/blob/main/08thFeb_LDA_Dev.ipynb\" target=\"_parent\"><img src=\"https://colab.research.google.com/assets/colab-badge.svg\" alt=\"Open In Colab\"/></a>"
      ]
    },
    {
      "cell_type": "markdown",
      "source": [
        "# **Introduction**\n",
        "  **Hey everyone, good evening!**\n",
        "\n",
        "  **Just in case you're grabbing a coffee, I wanted to let you know we're kicking off this seminar on Linear Discriminant Analysis (LDA) at 08:10 PM.**"
      ],
      "metadata": {
        "id": "BM-NcgeGYyGI"
      }
    },
    {
      "cell_type": "markdown",
      "source": [
        "## **Revision on LDA**\n",
        "\n",
        "  **In a nutshell, LDA is a cool technique used to categorize data into different groups. It's like being a super organizer, looking for patterns in information to effectively sort things out.  Think of it like separating apples from oranges based on their size and color. LDA does something similar, but with much more complex data and multiple features!**\n",
        "\n",
        "  **We'll be diving deeper into LDA throughout the seminar, so come prepared to unlock the mysteries of data classification!**"
      ],
      "metadata": {
        "id": "hQM0nOslArRl"
      }
    },
    {
      "cell_type": "markdown",
      "source": [
        "## **Types of Data**\n",
        "  * **Linearly Seperable**\n",
        "  * **Non Linearly Seperable**"
      ],
      "metadata": {
        "id": "qWP5XkaMA4Ac"
      }
    },
    {
      "cell_type": "markdown",
      "source": [
        "## **Difference between `PCA` and `LDA`**\n",
        "* **These both are dimensionality Reduction Techniques**\n",
        "* **LDA is supervised & PCA is unsupervised**\n",
        "* **LDA is used for maximizing the distance between two classes, whereas PCA is used for maximizing the variance / information captured**\n",
        "* **LDA is generally classification-based data**"
      ],
      "metadata": {
        "id": "20Xix829BmBB"
      }
    },
    {
      "cell_type": "markdown",
      "source": [
        "# **Step 1 - Importing Libraries**"
      ],
      "metadata": {
        "id": "nDvh31Q4Ci1H"
      }
    },
    {
      "cell_type": "markdown",
      "source": [
        "**Configuration Libraries**"
      ],
      "metadata": {
        "id": "BK321lLpCuN1"
      }
    },
    {
      "cell_type": "code",
      "source": [
        "import warnings\n",
        "warnings.filterwarnings('ignore')"
      ],
      "metadata": {
        "id": "lXAv9LuPCwm7"
      },
      "execution_count": null,
      "outputs": []
    },
    {
      "cell_type": "markdown",
      "source": [
        "**Classical Libraries**"
      ],
      "metadata": {
        "id": "635qq7xtCqR9"
      }
    },
    {
      "cell_type": "code",
      "source": [
        "import numpy as np\n",
        "import pandas as pd\n",
        "import seaborn as sns\n",
        "import matplotlib.pyplot as plt"
      ],
      "metadata": {
        "id": "aF0qTQqe-hKT"
      },
      "execution_count": null,
      "outputs": []
    },
    {
      "cell_type": "markdown",
      "source": [
        "**Machine Learning Libraries**"
      ],
      "metadata": {
        "id": "8IsuozxZCsAZ"
      }
    },
    {
      "cell_type": "code",
      "source": [
        "from sklearn.metrics import * # Import Everything\n",
        "from sklearn.ensemble import RandomForestClassifier\n",
        "from sklearn.model_selection import train_test_split\n",
        "from sklearn.preprocessing import StandardScaler\n",
        "from sklearn.discriminant_analysis import LinearDiscriminantAnalysis as LDA"
      ],
      "metadata": {
        "id": "CQWfzzRSCtZ6"
      },
      "execution_count": null,
      "outputs": []
    },
    {
      "cell_type": "markdown",
      "source": [
        "# **Step 2 - Data Ingestion Phase**"
      ],
      "metadata": {
        "id": "gLYX5C9VDCIV"
      }
    },
    {
      "cell_type": "markdown",
      "source": [
        "### **2.1. Load Data**\n",
        "**[Link to Dataset](https://scikit-learn.org/stable/modules/generated/sklearn.datasets.load_digits.html)**"
      ],
      "metadata": {
        "id": "xqA0jgcoDFvA"
      }
    },
    {
      "cell_type": "code",
      "source": [
        "from sklearn.datasets import load_digits"
      ],
      "metadata": {
        "id": "tfwkQOFmDFO0"
      },
      "execution_count": null,
      "outputs": []
    },
    {
      "cell_type": "markdown",
      "source": [
        "### **2.2. Loading data into the environment**"
      ],
      "metadata": {
        "id": "HdukD3MDFNLl"
      }
    },
    {
      "cell_type": "code",
      "source": [
        "digits = load_digits()"
      ],
      "metadata": {
        "id": "bzaOTRu6FQFY"
      },
      "execution_count": null,
      "outputs": []
    },
    {
      "cell_type": "markdown",
      "source": [
        "### **2.3. What's inside the data**"
      ],
      "metadata": {
        "id": "-deD4BdsFRUk"
      }
    },
    {
      "cell_type": "code",
      "source": [
        "plt.gray()\n",
        "plt.matshow(digits.images[0])\n",
        "plt.show()"
      ],
      "metadata": {
        "colab": {
          "base_uri": "https://localhost:8080/",
          "height": 454
        },
        "id": "dMmZc9KLDfyS",
        "outputId": "a279f7e4-a7ab-4495-e319-1220c9aba84d"
      },
      "execution_count": null,
      "outputs": [
        {
          "output_type": "display_data",
          "data": {
            "text/plain": [
              "<Figure size 640x480 with 0 Axes>"
            ]
          },
          "metadata": {}
        },
        {
          "output_type": "display_data",
          "data": {
            "text/plain": [
              "<Figure size 480x480 with 1 Axes>"
            ],
            "image/png": "[encoded data removed]"
          },
          "metadata": {}
        }
      ]
    },
    {
      "cell_type": "markdown",
      "source": [
        "### **2.4. Array version for the same**"
      ],
      "metadata": {
        "id": "lAFmmiFyFVLo"
      }
    },
    {
      "cell_type": "code",
      "source": [
        "digits.images[0]"
      ],
      "metadata": {
        "colab": {
          "base_uri": "https://localhost:8080/"
        },
        "id": "oDuvqu_xD7ec",
        "outputId": "50b13265-be58-4e95-8c1b-f43848102e7a"
      },
      "execution_count": null,
      "outputs": [
        {
          "output_type": "execute_result",
          "data": {
            "text/plain": [
              "array([[ 0.,  0.,  5., 13.,  9.,  1.,  0.,  0.],\n",
              "       [ 0.,  0., 13., 15., 10., 15.,  5.,  0.],\n",
              "       [ 0.,  3., 15.,  2.,  0., 11.,  8.,  0.],\n",
              "       [ 0.,  4., 12.,  0.,  0.,  8.,  8.,  0.],\n",
              "       [ 0.,  5.,  8.,  0.,  0.,  9.,  8.,  0.],\n",
              "       [ 0.,  4., 11.,  0.,  1., 12.,  7.,  0.],\n",
              "       [ 0.,  2., 14.,  5., 10., 12.,  0.,  0.],\n",
              "       [ 0.,  0.,  6., 13., 10.,  0.,  0.,  0.]])"
            ]
          },
          "metadata": {},
          "execution_count": 7
        }
      ]
    },
    {
      "cell_type": "markdown",
      "source": [
        "### **2.5. Components of this data**"
      ],
      "metadata": {
        "id": "O3O2BY2gFY10"
      }
    },
    {
      "cell_type": "code",
      "source": [
        "digits.keys()"
      ],
      "metadata": {
        "colab": {
          "base_uri": "https://localhost:8080/"
        },
        "id": "epqe_OUSE0M0",
        "outputId": "62624033-5651-49bb-e790-b7cf1d249ead"
      },
      "execution_count": null,
      "outputs": [
        {
          "output_type": "execute_result",
          "data": {
            "text/plain": [
              "dict_keys(['data', 'target', 'frame', 'feature_names', 'target_names', 'images', 'DESCR'])"
            ]
          },
          "metadata": {},
          "execution_count": 10
        }
      ]
    },
    {
      "cell_type": "code",
      "source": [
        "print(digits.DESCR)"
      ],
      "metadata": {
        "colab": {
          "base_uri": "https://localhost:8080/"
        },
        "id": "zVq2QdELFeCq",
        "outputId": "80af50cc-b628-46e5-be09-125a25d9464b"
      },
      "execution_count": null,
      "outputs": [
        {
          "output_type": "stream",
          "name": "stdout",
          "text": [
            ".. _digits_dataset:\n",
            "\n",
            "Optical recognition of handwritten digits dataset\n",
            "--------------------------------------------------\n",
            "\n",
            "**Data Set Characteristics:**\n",
            "\n",
            ":Number of Instances: 1797\n",
            ":Number of Attributes: 64\n",
            ":Attribute Information: 8x8 image of integer pixels in the range 0..16.\n",
            ":Missing Attribute Values: None\n",
            ":Creator: E. Alpaydin (alpaydin '@' boun.edu.tr)\n",
            ":Date: July; 1998\n",
            "\n",
            "This is a copy of the test set of the UCI ML hand-written digits datasets\n",
            "https://archive.ics.uci.edu/ml/datasets/Optical+Recognition+of+Handwritten+Digits\n",
            "\n",
            "The data set contains images of hand-written digits: 10 classes where\n",
            "each class refers to a digit.\n",
            "\n",
            "Preprocessing programs made available by NIST were used to extract\n",
            "normalized bitmaps of handwritten digits from a preprinted form. From a\n",
            "total of 43 people, 30 contributed to the training set and different 13\n",
            "to the test set. 32x32 bitmaps are divided into nonoverlapping blocks of\n",
            "4x4 and the number of on pixels are counted in each block. This generates\n",
            "an input matrix of 8x8 where each element is an integer in the range\n",
            "0..16. This reduces dimensionality and gives invariance to small\n",
            "distortions.\n",
            "\n",
            "For info on NIST preprocessing routines, see M. D. Garris, J. L. Blue, G.\n",
            "T. Candela, D. L. Dimmick, J. Geist, P. J. Grother, S. A. Janet, and C.\n",
            "L. Wilson, NIST Form-Based Handprint Recognition System, NISTIR 5469,\n",
            "1994.\n",
            "\n",
            ".. dropdown:: References\n",
            "\n",
            "  - C. Kaynak (1995) Methods of Combining Multiple Classifiers and Their\n",
            "    Applications to Handwritten Digit Recognition, MSc Thesis, Institute of\n",
            "    Graduate Studies in Science and Engineering, Bogazici University.\n",
            "  - E. Alpaydin, C. Kaynak (1998) Cascading Classifiers, Kybernetika.\n",
            "  - Ken Tang and Ponnuthurai N. Suganthan and Xi Yao and A. Kai Qin.\n",
            "    Linear dimensionalityreduction using relevance weighted LDA. School of\n",
            "    Electrical and Electronic Engineering Nanyang Technological University.\n",
            "    2005.\n",
            "  - Claudio Gentile. A New Approximate Maximal Margin Classification\n",
            "    Algorithm. NIPS. 2000.\n",
            "\n"
          ]
        }
      ]
    },
    {
      "cell_type": "markdown",
      "source": [
        "### **2.6. Converting the data into DataFrame**"
      ],
      "metadata": {
        "id": "gdSOnUUZFmZ8"
      }
    },
    {
      "cell_type": "code",
      "source": [
        "df = pd.DataFrame(digits.data, columns = digits.feature_names)"
      ],
      "metadata": {
        "id": "3TMGf13fFhjt"
      },
      "execution_count": null,
      "outputs": []
    },
    {
      "cell_type": "markdown",
      "source": [
        "#### **2.6.1. Data Inspection**"
      ],
      "metadata": {
        "id": "e2g5h7E6FuK7"
      }
    },
    {
      "cell_type": "code",
      "source": [
        "df.head()"
      ],
      "metadata": {
        "colab": {
          "base_uri": "https://localhost:8080/",
          "height": 255
        },
        "id": "1d4UCJXzFtbv",
        "outputId": "3f6f5f93-adf0-4c49-943d-c09594ea441e"
      },
      "execution_count": null,
      "outputs": [
        {
          "output_type": "execute_result",
          "data": {
            "text/plain": [
              "   pixel_0_0  pixel_0_1  pixel_0_2  pixel_0_3  pixel_0_4  pixel_0_5  \\\n",
              "0        0.0        0.0        5.0       13.0        9.0        1.0   \n",
              "1        0.0        0.0        0.0       12.0       13.0        5.0   \n",
              "2        0.0        0.0        0.0        4.0       15.0       12.0   \n",
              "3        0.0        0.0        7.0       15.0       13.0        1.0   \n",
              "4        0.0        0.0        0.0        1.0       11.0        0.0   \n",
              "\n",
              "   pixel_0_6  pixel_0_7  pixel_1_0  pixel_1_1  ...  pixel_6_6  pixel_6_7  \\\n",
              "0        0.0        0.0        0.0        0.0  ...        0.0        0.0   \n",
              "1        0.0        0.0        0.0        0.0  ...        0.0        0.0   \n",
              "2        0.0        0.0        0.0        0.0  ...        5.0        0.0   \n",
              "3        0.0        0.0        0.0        8.0  ...        9.0        0.0   \n",
              "4        0.0        0.0        0.0        0.0  ...        0.0        0.0   \n",
              "\n",
              "   pixel_7_0  pixel_7_1  pixel_7_2  pixel_7_3  pixel_7_4  pixel_7_5  \\\n",
              "0        0.0        0.0        6.0       13.0       10.0        0.0   \n",
              "1        0.0        0.0        0.0       11.0       16.0       10.0   \n",
              "2        0.0        0.0        0.0        3.0       11.0       16.0   \n",
              "3        0.0        0.0        7.0       13.0       13.0        9.0   \n",
              "4        0.0        0.0        0.0        2.0       16.0        4.0   \n",
              "\n",
              "   pixel_7_6  pixel_7_7  \n",
              "0        0.0        0.0  \n",
              "1        0.0        0.0  \n",
              "2        9.0        0.0  \n",
              "3        0.0        0.0  \n",
              "4        0.0        0.0  \n",
              "\n",
              "[5 rows x 64 columns]"
            ],
            "text/html": [
              "\n",
              "  <div id=\"df-5910de8e-27b8-447b-ad5b-95168260b47d\" class=\"colab-df-container\">\n",
              "    <div>\n",
              "<style scoped>\n",
              "    .dataframe tbody tr th:only-of-type {\n",
              "        vertical-align: middle;\n",
              "    }\n",
              "\n",
              "    .dataframe tbody tr th {\n",
              "        vertical-align: top;\n",
              "    }\n",
              "\n",
              "    .dataframe thead th {\n",
              "        text-align: right;\n",
              "    }\n",
              "</style>\n",
              "<table border=\"1\" class=\"dataframe\">\n",
              "  <thead>\n",
              "    <tr style=\"text-align: right;\">\n",
              "      <th></th>\n",
              "      <th>pixel_0_0</th>\n",
              "      <th>pixel_0_1</th>\n",
              "      <th>pixel_0_2</th>\n",
              "      <th>pixel_0_3</th>\n",
              "      <th>pixel_0_4</th>\n",
              "      <th>pixel_0_5</th>\n",
              "      <th>pixel_0_6</th>\n",
              "      <th>pixel_0_7</th>\n",
              "      <th>pixel_1_0</th>\n",
              "      <th>pixel_1_1</th>\n",
              "      <th>...</th>\n",
              "      <th>pixel_6_6</th>\n",
              "      <th>pixel_6_7</th>\n",
              "      <th>pixel_7_0</th>\n",
              "      <th>pixel_7_1</th>\n",
              "      <th>pixel_7_2</th>\n",
              "      <th>pixel_7_3</th>\n",
              "      <th>pixel_7_4</th>\n",
              "      <th>pixel_7_5</th>\n",
              "      <th>pixel_7_6</th>\n",
              "      <th>pixel_7_7</th>\n",
              "    </tr>\n",
              "  </thead>\n",
              "  <tbody>\n",
              "    <tr>\n",
              "      <th>0</th>\n",
              "      <td>0.0</td>\n",
              "      <td>0.0</td>\n",
              "      <td>5.0</td>\n",
              "      <td>13.0</td>\n",
              "      <td>9.0</td>\n",
              "      <td>1.0</td>\n",
              "      <td>0.0</td>\n",
              "      <td>0.0</td>\n",
              "      <td>0.0</td>\n",
              "      <td>0.0</td>\n",
              "      <td>...</td>\n",
              "      <td>0.0</td>\n",
              "      <td>0.0</td>\n",
              "      <td>0.0</td>\n",
              "      <td>0.0</td>\n",
              "      <td>6.0</td>\n",
              "      <td>13.0</td>\n",
              "      <td>10.0</td>\n",
              "      <td>0.0</td>\n",
              "      <td>0.0</td>\n",
              "      <td>0.0</td>\n",
              "    </tr>\n",
              "    <tr>\n",
              "      <th>1</th>\n",
              "      <td>0.0</td>\n",
              "      <td>0.0</td>\n",
              "      <td>0.0</td>\n",
              "      <td>12.0</td>\n",
              "      <td>13.0</td>\n",
              "      <td>5.0</td>\n",
              "      <td>0.0</td>\n",
              "      <td>0.0</td>\n",
              "      <td>0.0</td>\n",
              "      <td>0.0</td>\n",
              "      <td>...</td>\n",
              "      <td>0.0</td>\n",
              "      <td>0.0</td>\n",
              "      <td>0.0</td>\n",
              "      <td>0.0</td>\n",
              "      <td>0.0</td>\n",
              "      <td>11.0</td>\n",
              "      <td>16.0</td>\n",
              "      <td>10.0</td>\n",
              "      <td>0.0</td>\n",
              "      <td>0.0</td>\n",
              "    </tr>\n",
              "    <tr>\n",
              "      <th>2</th>\n",
              "      <td>0.0</td>\n",
              "      <td>0.0</td>\n",
              "      <td>0.0</td>\n",
              "      <td>4.0</td>\n",
              "      <td>15.0</td>\n",
              "      <td>12.0</td>\n",
              "      <td>0.0</td>\n",
              "      <td>0.0</td>\n",
              "      <td>0.0</td>\n",
              "      <td>0.0</td>\n",
              "      <td>...</td>\n",
              "      <td>5.0</td>\n",
              "      <td>0.0</td>\n",
              "      <td>0.0</td>\n",
              "      <td>0.0</td>\n",
              "      <td>0.0</td>\n",
              "      <td>3.0</td>\n",
              "      <td>11.0</td>\n",
              "      <td>16.0</td>\n",
              "      <td>9.0</td>\n",
              "      <td>0.0</td>\n",
              "    </tr>\n",
              "    <tr>\n",
              "      <th>3</th>\n",
              "      <td>0.0</td>\n",
              "      <td>0.0</td>\n",
              "      <td>7.0</td>\n",
              "      <td>15.0</td>\n",
              "      <td>13.0</td>\n",
              "      <td>1.0</td>\n",
              "      <td>0.0</td>\n",
              "      <td>0.0</td>\n",
              "      <td>0.0</td>\n",
              "      <td>8.0</td>\n",
              "      <td>...</td>\n",
              "      <td>9.0</td>\n",
              "      <td>0.0</td>\n",
              "      <td>0.0</td>\n",
              "      <td>0.0</td>\n",
              "      <td>7.0</td>\n",
              "      <td>13.0</td>\n",
              "      <td>13.0</td>\n",
              "      <td>9.0</td>\n",
              "      <td>0.0</td>\n",
              "      <td>0.0</td>\n",
              "    </tr>\n",
              "    <tr>\n",
              "      <th>4</th>\n",
              "      <td>0.0</td>\n",
              "      <td>0.0</td>\n",
              "      <td>0.0</td>\n",
              "      <td>1.0</td>\n",
              "      <td>11.0</td>\n",
              "      <td>0.0</td>\n",
              "      <td>0.0</td>\n",
              "      <td>0.0</td>\n",
              "      <td>0.0</td>\n",
              "      <td>0.0</td>\n",
              "      <td>...</td>\n",
              "      <td>0.0</td>\n",
              "      <td>0.0</td>\n",
              "      <td>0.0</td>\n",
              "      <td>0.0</td>\n",
              "      <td>0.0</td>\n",
              "      <td>2.0</td>\n",
              "      <td>16.0</td>\n",
              "      <td>4.0</td>\n",
              "      <td>0.0</td>\n",
              "      <td>0.0</td>\n",
              "    </tr>\n",
              "  </tbody>\n",
              "</table>\n",
              "<p>5 rows × 64 columns</p>\n",
              "</div>\n",
              "    <div class=\"colab-df-buttons\">\n",
              "\n",
              "  <div class=\"colab-df-container\">\n",
              "    <button class=\"colab-df-convert\" onclick=\"convertToInteractive('df-5910de8e-27b8-447b-ad5b-95168260b47d')\"\n",
              "            title=\"Convert this dataframe to an interactive table.\"\n",
              "            style=\"display:none;\">\n",
              "\n",
              "  <svg xmlns=\"http://www.w3.org/2000/svg\" height=\"24px\" viewBox=\"0 -960 960 960\">\n",
              "    <path d=\"M120-120v-720h720v720H120Zm60-500h600v-160H180v160Zm220 220h160v-160H400v160Zm0 220h160v-160H400v160ZM180-400h160v-160H180v160Zm440 0h160v-160H620v160ZM180-180h160v-160H180v160Zm440 0h160v-160H620v160Z\"/>\n",
              "  </svg>\n",
              "    </button>\n",
              "\n",
              "  <style>\n",
              "    .colab-df-container {\n",
              "      display:flex;\n",
              "      gap: 12px;\n",
              "    }\n",
              "\n",
              "    .colab-df-convert {\n",
              "      background-color: #E8F0FE;\n",
              "      border: none;\n",
              "      border-radius: 50%;\n",
              "      cursor: pointer;\n",
              "      display: none;\n",
              "      fill: #1967D2;\n",
              "      height: 32px;\n",
              "      padding: 0 0 0 0;\n",
              "      width: 32px;\n",
              "    }\n",
              "\n",
              "    .colab-df-convert:hover {\n",
              "      background-color: #E2EBFA;\n",
              "      box-shadow: 0px 1px 2px rgba(60, 64, 67, 0.3), 0px 1px 3px 1px rgba(60, 64, 67, 0.15);\n",
              "      fill: #174EA6;\n",
              "    }\n",
              "\n",
              "    .colab-df-buttons div {\n",
              "      margin-bottom: 4px;\n",
              "    }\n",
              "\n",
              "    [theme=dark] .colab-df-convert {\n",
              "      background-color: #3B4455;\n",
              "      fill: #D2E3FC;\n",
              "    }\n",
              "\n",
              "    [theme=dark] .colab-df-convert:hover {\n",
              "      background-color: #434B5C;\n",
              "      box-shadow: 0px 1px 3px 1px rgba(0, 0, 0, 0.15);\n",
              "      filter: drop-shadow(0px 1px 2px rgba(0, 0, 0, 0.3));\n",
              "      fill: #FFFFFF;\n",
              "    }\n",
              "  </style>\n",
              "\n",
              "    <script>\n",
              "      const buttonEl =\n",
              "        document.querySelector('#df-5910de8e-27b8-447b-ad5b-95168260b47d button.colab-df-convert');\n",
              "      buttonEl.style.display =\n",
              "        google.colab.kernel.accessAllowed ? 'block' : 'none';\n",
              "\n",
              "      async function convertToInteractive(key) {\n",
              "        const element = document.querySelector('#df-5910de8e-27b8-447b-ad5b-95168260b47d');\n",
              "        const dataTable =\n",
              "          await google.colab.kernel.invokeFunction('convertToInteractive',\n",
              "                                                    [key], {});\n",
              "        if (!dataTable) return;\n",
              "\n",
              "        const docLinkHtml = 'Like what you see? Visit the ' +\n",
              "          '<a target=\"_blank\" href=https://colab.research.google.com/notebooks/data_table.ipynb>data table notebook</a>'\n",
              "          + ' to learn more about interactive tables.';\n",
              "        element.innerHTML = '';\n",
              "        dataTable['output_type'] = 'display_data';\n",
              "        await google.colab.output.renderOutput(dataTable, element);\n",
              "        const docLink = document.createElement('div');\n",
              "        docLink.innerHTML = docLinkHtml;\n",
              "        element.appendChild(docLink);\n",
              "      }\n",
              "    </script>\n",
              "  </div>\n",
              "\n",
              "\n",
              "<div id=\"df-e4b6851a-016b-463d-831e-3b30626d29e1\">\n",
              "  <button class=\"colab-df-quickchart\" onclick=\"quickchart('df-e4b6851a-016b-463d-831e-3b30626d29e1')\"\n",
              "            title=\"Suggest charts\"\n",
              "            style=\"display:none;\">\n",
              "\n",
              "<svg xmlns=\"http://www.w3.org/2000/svg\" height=\"24px\"viewBox=\"0 0 24 24\"\n",
              "     width=\"24px\">\n",
              "    <g>\n",
              "        <path d=\"M19 3H5c-1.1 0-2 .9-2 2v14c0 1.1.9 2 2 2h14c1.1 0 2-.9 2-2V5c0-1.1-.9-2-2-2zM9 17H7v-7h2v7zm4 0h-2V7h2v10zm4 0h-2v-4h2v4z\"/>\n",
              "    </g>\n",
              "</svg>\n",
              "  </button>\n",
              "\n",
              "<style>\n",
              "  .colab-df-quickchart {\n",
              "      --bg-color: #E8F0FE;\n",
              "      --fill-color: #1967D2;\n",
              "      --hover-bg-color: #E2EBFA;\n",
              "      --hover-fill-color: #174EA6;\n",
              "      --disabled-fill-color: #AAA;\n",
              "      --disabled-bg-color: #DDD;\n",
              "  }\n",
              "\n",
              "  [theme=dark] .colab-df-quickchart {\n",
              "      --bg-color: #3B4455;\n",
              "      --fill-color: #D2E3FC;\n",
              "      --hover-bg-color: #434B5C;\n",
              "      --hover-fill-color: #FFFFFF;\n",
              "      --disabled-bg-color: #3B4455;\n",
              "      --disabled-fill-color: #666;\n",
              "  }\n",
              "\n",
              "  .colab-df-quickchart {\n",
              "    background-color: var(--bg-color);\n",
              "    border: none;\n",
              "    border-radius: 50%;\n",
              "    cursor: pointer;\n",
              "    display: none;\n",
              "    fill: var(--fill-color);\n",
              "    height: 32px;\n",
              "    padding: 0;\n",
              "    width: 32px;\n",
              "  }\n",
              "\n",
              "  .colab-df-quickchart:hover {\n",
              "    background-color: var(--hover-bg-color);\n",
              "    box-shadow: 0 1px 2px rgba(60, 64, 67, 0.3), 0 1px 3px 1px rgba(60, 64, 67, 0.15);\n",
              "    fill: var(--button-hover-fill-color);\n",
              "  }\n",
              "\n",
              "  .colab-df-quickchart-complete:disabled,\n",
              "  .colab-df-quickchart-complete:disabled:hover {\n",
              "    background-color: var(--disabled-bg-color);\n",
              "    fill: var(--disabled-fill-color);\n",
              "    box-shadow: none;\n",
              "  }\n",
              "\n",
              "  .colab-df-spinner {\n",
              "    border: 2px solid var(--fill-color);\n",
              "    border-color: transparent;\n",
              "    border-bottom-color: var(--fill-color);\n",
              "    animation:\n",
              "      spin 1s steps(1) infinite;\n",
              "  }\n",
              "\n",
              "  @keyframes spin {\n",
              "    0% {\n",
              "      border-color: transparent;\n",
              "      border-bottom-color: var(--fill-color);\n",
              "      border-left-color: var(--fill-color);\n",
              "    }\n",
              "    20% {\n",
              "      border-color: transparent;\n",
              "      border-left-color: var(--fill-color);\n",
              "      border-top-color: var(--fill-color);\n",
              "    }\n",
              "    30% {\n",
              "      border-color: transparent;\n",
              "      border-left-color: var(--fill-color);\n",
              "      border-top-color: var(--fill-color);\n",
              "      border-right-color: var(--fill-color);\n",
              "    }\n",
              "    40% {\n",
              "      border-color: transparent;\n",
              "      border-right-color: var(--fill-color);\n",
              "      border-top-color: var(--fill-color);\n",
              "    }\n",
              "    60% {\n",
              "      border-color: transparent;\n",
              "      border-right-color: var(--fill-color);\n",
              "    }\n",
              "    80% {\n",
              "      border-color: transparent;\n",
              "      border-right-color: var(--fill-color);\n",
              "      border-bottom-color: var(--fill-color);\n",
              "    }\n",
              "    90% {\n",
              "      border-color: transparent;\n",
              "      border-bottom-color: var(--fill-color);\n",
              "    }\n",
              "  }\n",
              "</style>\n",
              "\n",
              "  <script>\n",
              "    async function quickchart(key) {\n",
              "      const quickchartButtonEl =\n",
              "        document.querySelector('#' + key + ' button');\n",
              "      quickchartButtonEl.disabled = true;  // To prevent multiple clicks.\n",
              "      quickchartButtonEl.classList.add('colab-df-spinner');\n",
              "      try {\n",
              "        const charts = await google.colab.kernel.invokeFunction(\n",
              "            'suggestCharts', [key], {});\n",
              "      } catch (error) {\n",
              "        console.error('Error during call to suggestCharts:', error);\n",
              "      }\n",
              "      quickchartButtonEl.classList.remove('colab-df-spinner');\n",
              "      quickchartButtonEl.classList.add('colab-df-quickchart-complete');\n",
              "    }\n",
              "    (() => {\n",
              "      let quickchartButtonEl =\n",
              "        document.querySelector('#df-e4b6851a-016b-463d-831e-3b30626d29e1 button');\n",
              "      quickchartButtonEl.style.display =\n",
              "        google.colab.kernel.accessAllowed ? 'block' : 'none';\n",
              "    })();\n",
              "  </script>\n",
              "</div>\n",
              "\n",
              "    </div>\n",
              "  </div>\n"
            ],
            "application/vnd.google.colaboratory.intrinsic+json": {
              "type": "dataframe",
              "variable_name": "df"
            }
          },
          "metadata": {},
          "execution_count": 14
        }
      ]
    },
    {
      "cell_type": "markdown",
      "source": [
        "#### **2.6.2. Column Inspection**"
      ],
      "metadata": {
        "id": "RfBSQU-oF4Z1"
      }
    },
    {
      "cell_type": "code",
      "source": [
        "list(df.columns)"
      ],
      "metadata": {
        "colab": {
          "base_uri": "https://localhost:8080/"
        },
        "id": "laXmG1CBFxR5",
        "outputId": "ffca2fde-a52c-4d94-de5a-2d438319c832"
      },
      "execution_count": null,
      "outputs": [
        {
          "output_type": "execute_result",
          "data": {
            "text/plain": [
              "['pixel_0_0',\n",
              " 'pixel_0_1',\n",
              " 'pixel_0_2',\n",
              " 'pixel_0_3',\n",
              " 'pixel_0_4',\n",
              " 'pixel_0_5',\n",
              " 'pixel_0_6',\n",
              " 'pixel_0_7',\n",
              " 'pixel_1_0',\n",
              " 'pixel_1_1',\n",
              " 'pixel_1_2',\n",
              " 'pixel_1_3',\n",
              " 'pixel_1_4',\n",
              " 'pixel_1_5',\n",
              " 'pixel_1_6',\n",
              " 'pixel_1_7',\n",
              " 'pixel_2_0',\n",
              " 'pixel_2_1',\n",
              " 'pixel_2_2',\n",
              " 'pixel_2_3',\n",
              " 'pixel_2_4',\n",
              " 'pixel_2_5',\n",
              " 'pixel_2_6',\n",
              " 'pixel_2_7',\n",
              " 'pixel_3_0',\n",
              " 'pixel_3_1',\n",
              " 'pixel_3_2',\n",
              " 'pixel_3_3',\n",
              " 'pixel_3_4',\n",
              " 'pixel_3_5',\n",
              " 'pixel_3_6',\n",
              " 'pixel_3_7',\n",
              " 'pixel_4_0',\n",
              " 'pixel_4_1',\n",
              " 'pixel_4_2',\n",
              " 'pixel_4_3',\n",
              " 'pixel_4_4',\n",
              " 'pixel_4_5',\n",
              " 'pixel_4_6',\n",
              " 'pixel_4_7',\n",
              " 'pixel_5_0',\n",
              " 'pixel_5_1',\n",
              " 'pixel_5_2',\n",
              " 'pixel_5_3',\n",
              " 'pixel_5_4',\n",
              " 'pixel_5_5',\n",
              " 'pixel_5_6',\n",
              " 'pixel_5_7',\n",
              " 'pixel_6_0',\n",
              " 'pixel_6_1',\n",
              " 'pixel_6_2',\n",
              " 'pixel_6_3',\n",
              " 'pixel_6_4',\n",
              " 'pixel_6_5',\n",
              " 'pixel_6_6',\n",
              " 'pixel_6_7',\n",
              " 'pixel_7_0',\n",
              " 'pixel_7_1',\n",
              " 'pixel_7_2',\n",
              " 'pixel_7_3',\n",
              " 'pixel_7_4',\n",
              " 'pixel_7_5',\n",
              " 'pixel_7_6',\n",
              " 'pixel_7_7']"
            ]
          },
          "metadata": {},
          "execution_count": 15
        }
      ]
    },
    {
      "cell_type": "markdown",
      "source": [
        "#### **2.6.3. Adding the target columns**"
      ],
      "metadata": {
        "id": "3DvefgzHGP4R"
      }
    },
    {
      "cell_type": "code",
      "source": [
        "df[\"Target\"] = digits.target"
      ],
      "metadata": {
        "id": "VS94O6aMF84B"
      },
      "execution_count": null,
      "outputs": []
    },
    {
      "cell_type": "markdown",
      "source": [
        "#### **2.6.4. Shape Inspection**"
      ],
      "metadata": {
        "id": "zGy9VZglGZMB"
      }
    },
    {
      "cell_type": "code",
      "source": [
        "df.shape"
      ],
      "metadata": {
        "colab": {
          "base_uri": "https://localhost:8080/"
        },
        "id": "jS5vWHheGXL7",
        "outputId": "7309923e-8ff9-41cf-93cc-e4caf8001a39"
      },
      "execution_count": null,
      "outputs": [
        {
          "output_type": "execute_result",
          "data": {
            "text/plain": [
              "(1797, 65)"
            ]
          },
          "metadata": {},
          "execution_count": 17
        }
      ]
    },
    {
      "cell_type": "markdown",
      "source": [
        "# **Step 3 - Distribution of Features**"
      ],
      "metadata": {
        "id": "JmkfLN8lGkX4"
      }
    },
    {
      "cell_type": "markdown",
      "source": [
        "## **3.1. Dividing the data into train and test based on features**"
      ],
      "metadata": {
        "id": "LqcK_ej2Gp7v"
      }
    },
    {
      "cell_type": "code",
      "source": [
        "# Features Data\n",
        "X = df.drop(\"Target\", axis = 1)\n",
        "\n",
        "# Target Data\n",
        "Y = df[\"Target\"]"
      ],
      "metadata": {
        "id": "z5G1wxV1GcOX"
      },
      "execution_count": null,
      "outputs": []
    },
    {
      "cell_type": "markdown",
      "source": [
        "## **3.2. Dividing the data into train and test based on size**"
      ],
      "metadata": {
        "id": "EQHOXMVvG18Q"
      }
    },
    {
      "cell_type": "code",
      "source": [
        "x_train, x_test, y_train, y_test = train_test_split(X, Y, test_size = 0.2, random_state = 45)"
      ],
      "metadata": {
        "id": "1P7IWHJBGzt9"
      },
      "execution_count": null,
      "outputs": []
    },
    {
      "cell_type": "markdown",
      "source": [
        "### **3.2.1. Cross Check the Data**"
      ],
      "metadata": {
        "id": "wWGwboAZHH4n"
      }
    },
    {
      "cell_type": "code",
      "source": [
        "x_train.shape, y_train.shape"
      ],
      "metadata": {
        "colab": {
          "base_uri": "https://localhost:8080/"
        },
        "id": "PCSjz5DAHHOQ",
        "outputId": "d1e63ea5-2663-4a34-d611-2546ff8baef0"
      },
      "execution_count": null,
      "outputs": [
        {
          "output_type": "execute_result",
          "data": {
            "text/plain": [
              "((1437, 64), (1437,))"
            ]
          },
          "metadata": {},
          "execution_count": 23
        }
      ]
    },
    {
      "cell_type": "code",
      "source": [
        "x_test.shape, y_test.shape"
      ],
      "metadata": {
        "colab": {
          "base_uri": "https://localhost:8080/"
        },
        "id": "mFEEYoIxHSbq",
        "outputId": "75387c77-6080-456f-d834-2853a2c9837d"
      },
      "execution_count": null,
      "outputs": [
        {
          "output_type": "execute_result",
          "data": {
            "text/plain": [
              "((360, 64), (360,))"
            ]
          },
          "metadata": {},
          "execution_count": 24
        }
      ]
    },
    {
      "cell_type": "markdown",
      "source": [
        "# **Step 4 - Standardize the Data**\n",
        "\n",
        "**Where the mean ~ 0, and standard Deviation ~ 1**"
      ],
      "metadata": {
        "id": "gfaKijfoHYld"
      }
    },
    {
      "cell_type": "markdown",
      "source": [
        "### **4.1. Create an object for Standard Scaler**"
      ],
      "metadata": {
        "id": "BN7S8zFWIA4T"
      }
    },
    {
      "cell_type": "code",
      "source": [
        "scaler = StandardScaler()"
      ],
      "metadata": {
        "id": "1R8ccUQSHVN2"
      },
      "execution_count": null,
      "outputs": []
    },
    {
      "cell_type": "markdown",
      "source": [
        "### **4.2. Fit the data into the scaler**"
      ],
      "metadata": {
        "id": "eh3cQO51ILuM"
      }
    },
    {
      "cell_type": "code",
      "source": [
        "x_train = scaler.fit_transform(x_train)"
      ],
      "metadata": {
        "id": "T7mUlrNYIHnH"
      },
      "execution_count": null,
      "outputs": []
    },
    {
      "cell_type": "code",
      "source": [
        "x_test = scaler.transform(x_test)"
      ],
      "metadata": {
        "id": "tqGPhqUdIUV9"
      },
      "execution_count": null,
      "outputs": []
    },
    {
      "cell_type": "markdown",
      "source": [
        "**Since, the majority of the data is in the x_train. So definitely the scaler will have a more better chance to get the mean based on the training data. And using the same mean and characteristic we will try to scale the testing data as well**"
      ],
      "metadata": {
        "id": "ybDA2V9sIaca"
      }
    },
    {
      "cell_type": "markdown",
      "source": [
        "# **Step 5 - Linear Discriminant Analysis**"
      ],
      "metadata": {
        "id": "QRkeHuKhK-Vp"
      }
    },
    {
      "cell_type": "markdown",
      "source": [
        "* **Here in LDA, in order to find the number of components for the data there is a formula**\n",
        "  * **`n_components` = `min((number_of_opclasses - 1), (no_of_features))`**"
      ],
      "metadata": {
        "id": "oFY9IJuQLItB"
      }
    },
    {
      "cell_type": "markdown",
      "source": [
        "* **Total number of classes: 10**\n",
        "* **Total number of features: 64**\n",
        "* **Total Number of Components: 10-1 = 9**"
      ],
      "metadata": {
        "id": "7XYGoO5mREdM"
      }
    },
    {
      "cell_type": "markdown",
      "source": [
        "### **5.1. Frame a object of LDA**"
      ],
      "metadata": {
        "id": "b2qNCovdRYc9"
      }
    },
    {
      "cell_type": "code",
      "source": [
        "obj_LDA = LDA(n_components = min(10 - 1, 64))"
      ],
      "metadata": {
        "id": "3jRwIU5iLflw"
      },
      "execution_count": null,
      "outputs": []
    },
    {
      "cell_type": "code",
      "source": [
        "print(obj_LDA)"
      ],
      "metadata": {
        "colab": {
          "base_uri": "https://localhost:8080/"
        },
        "id": "MXOsZfINRraY",
        "outputId": "727071a2-d31b-4138-d601-bc0f39da97f7"
      },
      "execution_count": null,
      "outputs": [
        {
          "output_type": "stream",
          "name": "stdout",
          "text": [
            "LinearDiscriminantAnalysis(n_components=9)\n"
          ]
        }
      ]
    },
    {
      "cell_type": "markdown",
      "source": [
        "### **5.2. Fit the data into LDA**"
      ],
      "metadata": {
        "id": "RsNjgPxCRuq6"
      }
    },
    {
      "cell_type": "code",
      "source": [
        "x_train = obj_LDA.fit_transform(x_train, y_train)"
      ],
      "metadata": {
        "id": "SSttZDBIRs1r"
      },
      "execution_count": null,
      "outputs": []
    },
    {
      "cell_type": "code",
      "source": [
        "x_test = obj_LDA.transform(x_test)"
      ],
      "metadata": {
        "id": "JklNuQ0FR2rM"
      },
      "execution_count": null,
      "outputs": []
    },
    {
      "cell_type": "markdown",
      "source": [
        "### **5.3. Shape after Transformation**"
      ],
      "metadata": {
        "id": "vehjrqtrR70T"
      }
    },
    {
      "cell_type": "code",
      "source": [
        "x_train.shape, x_test.shape"
      ],
      "metadata": {
        "colab": {
          "base_uri": "https://localhost:8080/"
        },
        "id": "Y_qsXvjBR6h1",
        "outputId": "76ecbc2b-0008-43d2-b798-956812dc0c9b"
      },
      "execution_count": null,
      "outputs": [
        {
          "output_type": "execute_result",
          "data": {
            "text/plain": [
              "((1437, 9), (360, 9))"
            ]
          },
          "metadata": {},
          "execution_count": 35
        }
      ]
    },
    {
      "cell_type": "markdown",
      "source": [
        "### **5.4. What is the Contribution of each feature in framing the line**"
      ],
      "metadata": {
        "id": "5dcvxbZRSMno"
      }
    },
    {
      "cell_type": "code",
      "source": [
        "pd.DataFrame(obj_LDA.coef_)"
      ],
      "metadata": {
        "colab": {
          "base_uri": "https://localhost:8080/",
          "height": 586
        },
        "id": "sLM4Oq96SAFT",
        "outputId": "cca97e62-080c-4dc6-81a9-c86dfcce36e9"
      },
      "execution_count": null,
      "outputs": [
        {
          "output_type": "execute_result",
          "data": {
            "text/plain": [
              "             0         1         2         3         4         5         6   \\\n",
              "0  3.264495e-17 -0.281554  0.084274  0.699288 -0.660953 -2.821995  0.445948   \n",
              "1 -1.930452e-17 -0.037941  0.344381  0.117934 -1.519680  1.061025 -0.656725   \n",
              "2 -3.880459e-17 -0.579115 -0.394396 -0.247720 -0.501801  0.468193  0.234932   \n",
              "3  5.910019e-19 -0.332386 -0.893403  1.171365  0.860591  1.085142 -0.186414   \n",
              "4 -1.913338e-17  0.342309 -0.357956 -2.176710  0.045233 -3.069420 -1.136347   \n",
              "5  4.591556e-17  0.032808  1.645762  0.036524  1.430477  3.093162  1.868914   \n",
              "6 -8.096250e-18  0.183819 -1.630300 -0.811934  0.048181 -0.515923 -0.778949   \n",
              "7  4.343565e-17  0.973312 -0.194479  0.759282  0.633868  1.119200  1.291436   \n",
              "8 -2.554310e-17 -0.090756  0.922380 -0.773106  0.009374 -0.164247 -1.244245   \n",
              "9 -1.625250e-17 -0.161194  0.292634  1.072104 -0.315483 -0.464339 -0.006803   \n",
              "\n",
              "         7         8         9   ...        54        55        56        57  \\\n",
              "0 -0.105277  0.055249 -0.576242  ... -1.313926  0.054425 -0.328737  0.344687   \n",
              "1  0.144307 -0.231126 -0.220448  ... -0.597947  0.657954 -0.239563  0.074165   \n",
              "2 -0.345482 -0.204311  1.276417  ...  2.424457 -0.249690  1.079111  0.429960   \n",
              "3 -0.258902 -0.194502  0.870655  ...  0.738904 -0.282059  0.808791  0.508504   \n",
              "4  0.710378  0.043595  0.722818  ... -1.178330  0.269301 -0.851432 -0.359187   \n",
              "5 -1.016013  0.182521 -0.897828  ... -1.550501  0.227910  0.092075  0.274370   \n",
              "6 -0.030533  0.173615 -0.266304  ...  0.727647 -1.020361 -0.277649 -0.066920   \n",
              "7  1.178596  0.250198 -0.893310  ... -0.058395  0.240721 -0.344236 -1.400297   \n",
              "8  0.103138  0.040600  0.039217  ...  0.575319 -0.093163  0.173280 -0.049858   \n",
              "9 -0.261080 -0.112200  0.069364  ...  0.411455  0.142425 -0.129303  0.162765   \n",
              "\n",
              "         58        59        60        61        62        63  \n",
              "0 -0.150040 -0.254558  0.104806 -0.622324  0.430761 -0.812061  \n",
              "1 -1.787354  0.191104  1.176404  1.600678 -0.656132  1.157225  \n",
              "2  0.340201  0.543037  0.301759  1.849628  2.785474 -0.210942  \n",
              "3  1.495536 -0.055065  0.350091  0.521634 -0.231638 -0.141327  \n",
              "4 -0.161138 -0.243884  1.262636 -1.532070 -0.722420  0.182225  \n",
              "5  1.346305  0.922707 -1.660042 -0.209760 -0.317329 -0.917881  \n",
              "6  0.549945  0.133998  0.081092  0.459158 -0.207770 -0.011835  \n",
              "7  0.667633 -0.321775 -3.397195 -0.341285 -1.063513  0.735595  \n",
              "8 -2.029416  0.082284  0.888602 -1.257657 -0.009380  0.546856  \n",
              "9 -0.256717 -1.061588  0.944113 -0.551882 -0.028891 -0.447746  \n",
              "\n",
              "[10 rows x 64 columns]"
            ],
            "text/html": [
              "\n",
              "  <div id=\"df-68f8de4f-e53c-4feb-a392-689969c16f79\" class=\"colab-df-container\">\n",
              "    <div>\n",
              "<style scoped>\n",
              "    .dataframe tbody tr th:only-of-type {\n",
              "        vertical-align: middle;\n",
              "    }\n",
              "\n",
              "    .dataframe tbody tr th {\n",
              "        vertical-align: top;\n",
              "    }\n",
              "\n",
              "    .dataframe thead th {\n",
              "        text-align: right;\n",
              "    }\n",
              "</style>\n",
              "<table border=\"1\" class=\"dataframe\">\n",
              "  <thead>\n",
              "    <tr style=\"text-align: right;\">\n",
              "      <th></th>\n",
              "      <th>0</th>\n",
              "      <th>1</th>\n",
              "      <th>2</th>\n",
              "      <th>3</th>\n",
              "      <th>4</th>\n",
              "      <th>5</th>\n",
              "      <th>6</th>\n",
              "      <th>7</th>\n",
              "      <th>8</th>\n",
              "      <th>9</th>\n",
              "      <th>...</th>\n",
              "      <th>54</th>\n",
              "      <th>55</th>\n",
              "      <th>56</th>\n",
              "      <th>57</th>\n",
              "      <th>58</th>\n",
              "      <th>59</th>\n",
              "      <th>60</th>\n",
              "      <th>61</th>\n",
              "      <th>62</th>\n",
              "      <th>63</th>\n",
              "    </tr>\n",
              "  </thead>\n",
              "  <tbody>\n",
              "    <tr>\n",
              "      <th>0</th>\n",
              "      <td>3.264495e-17</td>\n",
              "      <td>-0.281554</td>\n",
              "      <td>0.084274</td>\n",
              "      <td>0.699288</td>\n",
              "      <td>-0.660953</td>\n",
              "      <td>-2.821995</td>\n",
              "      <td>0.445948</td>\n",
              "      <td>-0.105277</td>\n",
              "      <td>0.055249</td>\n",
              "      <td>-0.576242</td>\n",
              "      <td>...</td>\n",
              "      <td>-1.313926</td>\n",
              "      <td>0.054425</td>\n",
              "      <td>-0.328737</td>\n",
              "      <td>0.344687</td>\n",
              "      <td>-0.150040</td>\n",
              "      <td>-0.254558</td>\n",
              "      <td>0.104806</td>\n",
              "      <td>-0.622324</td>\n",
              "      <td>0.430761</td>\n",
              "      <td>-0.812061</td>\n",
              "    </tr>\n",
              "    <tr>\n",
              "      <th>1</th>\n",
              "      <td>-1.930452e-17</td>\n",
              "      <td>-0.037941</td>\n",
              "      <td>0.344381</td>\n",
              "      <td>0.117934</td>\n",
              "      <td>-1.519680</td>\n",
              "      <td>1.061025</td>\n",
              "      <td>-0.656725</td>\n",
              "      <td>0.144307</td>\n",
              "      <td>-0.231126</td>\n",
              "      <td>-0.220448</td>\n",
              "      <td>...</td>\n",
              "      <td>-0.597947</td>\n",
              "      <td>0.657954</td>\n",
              "      <td>-0.239563</td>\n",
              "      <td>0.074165</td>\n",
              "      <td>-1.787354</td>\n",
              "      <td>0.191104</td>\n",
              "      <td>1.176404</td>\n",
              "      <td>1.600678</td>\n",
              "      <td>-0.656132</td>\n",
              "      <td>1.157225</td>\n",
              "    </tr>\n",
              "    <tr>\n",
              "      <th>2</th>\n",
              "      <td>-3.880459e-17</td>\n",
              "      <td>-0.579115</td>\n",
              "      <td>-0.394396</td>\n",
              "      <td>-0.247720</td>\n",
              "      <td>-0.501801</td>\n",
              "      <td>0.468193</td>\n",
              "      <td>0.234932</td>\n",
              "      <td>-0.345482</td>\n",
              "      <td>-0.204311</td>\n",
              "      <td>1.276417</td>\n",
              "      <td>...</td>\n",
              "      <td>2.424457</td>\n",
              "      <td>-0.249690</td>\n",
              "      <td>1.079111</td>\n",
              "      <td>0.429960</td>\n",
              "      <td>0.340201</td>\n",
              "      <td>0.543037</td>\n",
              "      <td>0.301759</td>\n",
              "      <td>1.849628</td>\n",
              "      <td>2.785474</td>\n",
              "      <td>-0.210942</td>\n",
              "    </tr>\n",
              "    <tr>\n",
              "      <th>3</th>\n",
              "      <td>5.910019e-19</td>\n",
              "      <td>-0.332386</td>\n",
              "      <td>-0.893403</td>\n",
              "      <td>1.171365</td>\n",
              "      <td>0.860591</td>\n",
              "      <td>1.085142</td>\n",
              "      <td>-0.186414</td>\n",
              "      <td>-0.258902</td>\n",
              "      <td>-0.194502</td>\n",
              "      <td>0.870655</td>\n",
              "      <td>...</td>\n",
              "      <td>0.738904</td>\n",
              "      <td>-0.282059</td>\n",
              "      <td>0.808791</td>\n",
              "      <td>0.508504</td>\n",
              "      <td>1.495536</td>\n",
              "      <td>-0.055065</td>\n",
              "      <td>0.350091</td>\n",
              "      <td>0.521634</td>\n",
              "      <td>-0.231638</td>\n",
              "      <td>-0.141327</td>\n",
              "    </tr>\n",
              "    <tr>\n",
              "      <th>4</th>\n",
              "      <td>-1.913338e-17</td>\n",
              "      <td>0.342309</td>\n",
              "      <td>-0.357956</td>\n",
              "      <td>-2.176710</td>\n",
              "      <td>0.045233</td>\n",
              "      <td>-3.069420</td>\n",
              "      <td>-1.136347</td>\n",
              "      <td>0.710378</td>\n",
              "      <td>0.043595</td>\n",
              "      <td>0.722818</td>\n",
              "      <td>...</td>\n",
              "      <td>-1.178330</td>\n",
              "      <td>0.269301</td>\n",
              "      <td>-0.851432</td>\n",
              "      <td>-0.359187</td>\n",
              "      <td>-0.161138</td>\n",
              "      <td>-0.243884</td>\n",
              "      <td>1.262636</td>\n",
              "      <td>-1.532070</td>\n",
              "      <td>-0.722420</td>\n",
              "      <td>0.182225</td>\n",
              "    </tr>\n",
              "    <tr>\n",
              "      <th>5</th>\n",
              "      <td>4.591556e-17</td>\n",
              "      <td>0.032808</td>\n",
              "      <td>1.645762</td>\n",
              "      <td>0.036524</td>\n",
              "      <td>1.430477</td>\n",
              "      <td>3.093162</td>\n",
              "      <td>1.868914</td>\n",
              "      <td>-1.016013</td>\n",
              "      <td>0.182521</td>\n",
              "      <td>-0.897828</td>\n",
              "      <td>...</td>\n",
              "      <td>-1.550501</td>\n",
              "      <td>0.227910</td>\n",
              "      <td>0.092075</td>\n",
              "      <td>0.274370</td>\n",
              "      <td>1.346305</td>\n",
              "      <td>0.922707</td>\n",
              "      <td>-1.660042</td>\n",
              "      <td>-0.209760</td>\n",
              "      <td>-0.317329</td>\n",
              "      <td>-0.917881</td>\n",
              "    </tr>\n",
              "    <tr>\n",
              "      <th>6</th>\n",
              "      <td>-8.096250e-18</td>\n",
              "      <td>0.183819</td>\n",
              "      <td>-1.630300</td>\n",
              "      <td>-0.811934</td>\n",
              "      <td>0.048181</td>\n",
              "      <td>-0.515923</td>\n",
              "      <td>-0.778949</td>\n",
              "      <td>-0.030533</td>\n",
              "      <td>0.173615</td>\n",
              "      <td>-0.266304</td>\n",
              "      <td>...</td>\n",
              "      <td>0.727647</td>\n",
              "      <td>-1.020361</td>\n",
              "      <td>-0.277649</td>\n",
              "      <td>-0.066920</td>\n",
              "      <td>0.549945</td>\n",
              "      <td>0.133998</td>\n",
              "      <td>0.081092</td>\n",
              "      <td>0.459158</td>\n",
              "      <td>-0.207770</td>\n",
              "      <td>-0.011835</td>\n",
              "    </tr>\n",
              "    <tr>\n",
              "      <th>7</th>\n",
              "      <td>4.343565e-17</td>\n",
              "      <td>0.973312</td>\n",
              "      <td>-0.194479</td>\n",
              "      <td>0.759282</td>\n",
              "      <td>0.633868</td>\n",
              "      <td>1.119200</td>\n",
              "      <td>1.291436</td>\n",
              "      <td>1.178596</td>\n",
              "      <td>0.250198</td>\n",
              "      <td>-0.893310</td>\n",
              "      <td>...</td>\n",
              "      <td>-0.058395</td>\n",
              "      <td>0.240721</td>\n",
              "      <td>-0.344236</td>\n",
              "      <td>-1.400297</td>\n",
              "      <td>0.667633</td>\n",
              "      <td>-0.321775</td>\n",
              "      <td>-3.397195</td>\n",
              "      <td>-0.341285</td>\n",
              "      <td>-1.063513</td>\n",
              "      <td>0.735595</td>\n",
              "    </tr>\n",
              "    <tr>\n",
              "      <th>8</th>\n",
              "      <td>-2.554310e-17</td>\n",
              "      <td>-0.090756</td>\n",
              "      <td>0.922380</td>\n",
              "      <td>-0.773106</td>\n",
              "      <td>0.009374</td>\n",
              "      <td>-0.164247</td>\n",
              "      <td>-1.244245</td>\n",
              "      <td>0.103138</td>\n",
              "      <td>0.040600</td>\n",
              "      <td>0.039217</td>\n",
              "      <td>...</td>\n",
              "      <td>0.575319</td>\n",
              "      <td>-0.093163</td>\n",
              "      <td>0.173280</td>\n",
              "      <td>-0.049858</td>\n",
              "      <td>-2.029416</td>\n",
              "      <td>0.082284</td>\n",
              "      <td>0.888602</td>\n",
              "      <td>-1.257657</td>\n",
              "      <td>-0.009380</td>\n",
              "      <td>0.546856</td>\n",
              "    </tr>\n",
              "    <tr>\n",
              "      <th>9</th>\n",
              "      <td>-1.625250e-17</td>\n",
              "      <td>-0.161194</td>\n",
              "      <td>0.292634</td>\n",
              "      <td>1.072104</td>\n",
              "      <td>-0.315483</td>\n",
              "      <td>-0.464339</td>\n",
              "      <td>-0.006803</td>\n",
              "      <td>-0.261080</td>\n",
              "      <td>-0.112200</td>\n",
              "      <td>0.069364</td>\n",
              "      <td>...</td>\n",
              "      <td>0.411455</td>\n",
              "      <td>0.142425</td>\n",
              "      <td>-0.129303</td>\n",
              "      <td>0.162765</td>\n",
              "      <td>-0.256717</td>\n",
              "      <td>-1.061588</td>\n",
              "      <td>0.944113</td>\n",
              "      <td>-0.551882</td>\n",
              "      <td>-0.028891</td>\n",
              "      <td>-0.447746</td>\n",
              "    </tr>\n",
              "  </tbody>\n",
              "</table>\n",
              "<p>10 rows × 64 columns</p>\n",
              "</div>\n",
              "    <div class=\"colab-df-buttons\">\n",
              "\n",
              "  <div class=\"colab-df-container\">\n",
              "    <button class=\"colab-df-convert\" onclick=\"convertToInteractive('df-68f8de4f-e53c-4feb-a392-689969c16f79')\"\n",
              "            title=\"Convert this dataframe to an interactive table.\"\n",
              "            style=\"display:none;\">\n",
              "\n",
              "  <svg xmlns=\"http://www.w3.org/2000/svg\" height=\"24px\" viewBox=\"0 -960 960 960\">\n",
              "    <path d=\"M120-120v-720h720v720H120Zm60-500h600v-160H180v160Zm220 220h160v-160H400v160Zm0 220h160v-160H400v160ZM180-400h160v-160H180v160Zm440 0h160v-160H620v160ZM180-180h160v-160H180v160Zm440 0h160v-160H620v160Z\"/>\n",
              "  </svg>\n",
              "    </button>\n",
              "\n",
              "  <style>\n",
              "    .colab-df-container {\n",
              "      display:flex;\n",
              "      gap: 12px;\n",
              "    }\n",
              "\n",
              "    .colab-df-convert {\n",
              "      background-color: #E8F0FE;\n",
              "      border: none;\n",
              "      border-radius: 50%;\n",
              "      cursor: pointer;\n",
              "      display: none;\n",
              "      fill: #1967D2;\n",
              "      height: 32px;\n",
              "      padding: 0 0 0 0;\n",
              "      width: 32px;\n",
              "    }\n",
              "\n",
              "    .colab-df-convert:hover {\n",
              "      background-color: #E2EBFA;\n",
              "      box-shadow: 0px 1px 2px rgba(60, 64, 67, 0.3), 0px 1px 3px 1px rgba(60, 64, 67, 0.15);\n",
              "      fill: #174EA6;\n",
              "    }\n",
              "\n",
              "    .colab-df-buttons div {\n",
              "      margin-bottom: 4px;\n",
              "    }\n",
              "\n",
              "    [theme=dark] .colab-df-convert {\n",
              "      background-color: #3B4455;\n",
              "      fill: #D2E3FC;\n",
              "    }\n",
              "\n",
              "    [theme=dark] .colab-df-convert:hover {\n",
              "      background-color: #434B5C;\n",
              "      box-shadow: 0px 1px 3px 1px rgba(0, 0, 0, 0.15);\n",
              "      filter: drop-shadow(0px 1px 2px rgba(0, 0, 0, 0.3));\n",
              "      fill: #FFFFFF;\n",
              "    }\n",
              "  </style>\n",
              "\n",
              "    <script>\n",
              "      const buttonEl =\n",
              "        document.querySelector('#df-68f8de4f-e53c-4feb-a392-689969c16f79 button.colab-df-convert');\n",
              "      buttonEl.style.display =\n",
              "        google.colab.kernel.accessAllowed ? 'block' : 'none';\n",
              "\n",
              "      async function convertToInteractive(key) {\n",
              "        const element = document.querySelector('#df-68f8de4f-e53c-4feb-a392-689969c16f79');\n",
              "        const dataTable =\n",
              "          await google.colab.kernel.invokeFunction('convertToInteractive',\n",
              "                                                    [key], {});\n",
              "        if (!dataTable) return;\n",
              "\n",
              "        const docLinkHtml = 'Like what you see? Visit the ' +\n",
              "          '<a target=\"_blank\" href=https://colab.research.google.com/notebooks/data_table.ipynb>data table notebook</a>'\n",
              "          + ' to learn more about interactive tables.';\n",
              "        element.innerHTML = '';\n",
              "        dataTable['output_type'] = 'display_data';\n",
              "        await google.colab.output.renderOutput(dataTable, element);\n",
              "        const docLink = document.createElement('div');\n",
              "        docLink.innerHTML = docLinkHtml;\n",
              "        element.appendChild(docLink);\n",
              "      }\n",
              "    </script>\n",
              "  </div>\n",
              "\n",
              "\n",
              "<div id=\"df-b953b1d0-b55f-414f-8c40-586d98429068\">\n",
              "  <button class=\"colab-df-quickchart\" onclick=\"quickchart('df-b953b1d0-b55f-414f-8c40-586d98429068')\"\n",
              "            title=\"Suggest charts\"\n",
              "            style=\"display:none;\">\n",
              "\n",
              "<svg xmlns=\"http://www.w3.org/2000/svg\" height=\"24px\"viewBox=\"0 0 24 24\"\n",
              "     width=\"24px\">\n",
              "    <g>\n",
              "        <path d=\"M19 3H5c-1.1 0-2 .9-2 2v14c0 1.1.9 2 2 2h14c1.1 0 2-.9 2-2V5c0-1.1-.9-2-2-2zM9 17H7v-7h2v7zm4 0h-2V7h2v10zm4 0h-2v-4h2v4z\"/>\n",
              "    </g>\n",
              "</svg>\n",
              "  </button>\n",
              "\n",
              "<style>\n",
              "  .colab-df-quickchart {\n",
              "      --bg-color: #E8F0FE;\n",
              "      --fill-color: #1967D2;\n",
              "      --hover-bg-color: #E2EBFA;\n",
              "      --hover-fill-color: #174EA6;\n",
              "      --disabled-fill-color: #AAA;\n",
              "      --disabled-bg-color: #DDD;\n",
              "  }\n",
              "\n",
              "  [theme=dark] .colab-df-quickchart {\n",
              "      --bg-color: #3B4455;\n",
              "      --fill-color: #D2E3FC;\n",
              "      --hover-bg-color: #434B5C;\n",
              "      --hover-fill-color: #FFFFFF;\n",
              "      --disabled-bg-color: #3B4455;\n",
              "      --disabled-fill-color: #666;\n",
              "  }\n",
              "\n",
              "  .colab-df-quickchart {\n",
              "    background-color: var(--bg-color);\n",
              "    border: none;\n",
              "    border-radius: 50%;\n",
              "    cursor: pointer;\n",
              "    display: none;\n",
              "    fill: var(--fill-color);\n",
              "    height: 32px;\n",
              "    padding: 0;\n",
              "    width: 32px;\n",
              "  }\n",
              "\n",
              "  .colab-df-quickchart:hover {\n",
              "    background-color: var(--hover-bg-color);\n",
              "    box-shadow: 0 1px 2px rgba(60, 64, 67, 0.3), 0 1px 3px 1px rgba(60, 64, 67, 0.15);\n",
              "    fill: var(--button-hover-fill-color);\n",
              "  }\n",
              "\n",
              "  .colab-df-quickchart-complete:disabled,\n",
              "  .colab-df-quickchart-complete:disabled:hover {\n",
              "    background-color: var(--disabled-bg-color);\n",
              "    fill: var(--disabled-fill-color);\n",
              "    box-shadow: none;\n",
              "  }\n",
              "\n",
              "  .colab-df-spinner {\n",
              "    border: 2px solid var(--fill-color);\n",
              "    border-color: transparent;\n",
              "    border-bottom-color: var(--fill-color);\n",
              "    animation:\n",
              "      spin 1s steps(1) infinite;\n",
              "  }\n",
              "\n",
              "  @keyframes spin {\n",
              "    0% {\n",
              "      border-color: transparent;\n",
              "      border-bottom-color: var(--fill-color);\n",
              "      border-left-color: var(--fill-color);\n",
              "    }\n",
              "    20% {\n",
              "      border-color: transparent;\n",
              "      border-left-color: var(--fill-color);\n",
              "      border-top-color: var(--fill-color);\n",
              "    }\n",
              "    30% {\n",
              "      border-color: transparent;\n",
              "      border-left-color: var(--fill-color);\n",
              "      border-top-color: var(--fill-color);\n",
              "      border-right-color: var(--fill-color);\n",
              "    }\n",
              "    40% {\n",
              "      border-color: transparent;\n",
              "      border-right-color: var(--fill-color);\n",
              "      border-top-color: var(--fill-color);\n",
              "    }\n",
              "    60% {\n",
              "      border-color: transparent;\n",
              "      border-right-color: var(--fill-color);\n",
              "    }\n",
              "    80% {\n",
              "      border-color: transparent;\n",
              "      border-right-color: var(--fill-color);\n",
              "      border-bottom-color: var(--fill-color);\n",
              "    }\n",
              "    90% {\n",
              "      border-color: transparent;\n",
              "      border-bottom-color: var(--fill-color);\n",
              "    }\n",
              "  }\n",
              "</style>\n",
              "\n",
              "  <script>\n",
              "    async function quickchart(key) {\n",
              "      const quickchartButtonEl =\n",
              "        document.querySelector('#' + key + ' button');\n",
              "      quickchartButtonEl.disabled = true;  // To prevent multiple clicks.\n",
              "      quickchartButtonEl.classList.add('colab-df-spinner');\n",
              "      try {\n",
              "        const charts = await google.colab.kernel.invokeFunction(\n",
              "            'suggestCharts', [key], {});\n",
              "      } catch (error) {\n",
              "        console.error('Error during call to suggestCharts:', error);\n",
              "      }\n",
              "      quickchartButtonEl.classList.remove('colab-df-spinner');\n",
              "      quickchartButtonEl.classList.add('colab-df-quickchart-complete');\n",
              "    }\n",
              "    (() => {\n",
              "      let quickchartButtonEl =\n",
              "        document.querySelector('#df-b953b1d0-b55f-414f-8c40-586d98429068 button');\n",
              "      quickchartButtonEl.style.display =\n",
              "        google.colab.kernel.accessAllowed ? 'block' : 'none';\n",
              "    })();\n",
              "  </script>\n",
              "</div>\n",
              "\n",
              "    </div>\n",
              "  </div>\n"
            ],
            "application/vnd.google.colaboratory.intrinsic+json": {
              "type": "dataframe"
            }
          },
          "metadata": {},
          "execution_count": 38
        }
      ]
    },
    {
      "cell_type": "markdown",
      "source": [
        "### **5.5. Total Explained Variance**"
      ],
      "metadata": {
        "id": "klGJryPkSeox"
      }
    },
    {
      "cell_type": "code",
      "source": [
        "sum(obj_LDA.explained_variance_ratio_)"
      ],
      "metadata": {
        "colab": {
          "base_uri": "https://localhost:8080/"
        },
        "id": "QnImTDjjSUYj",
        "outputId": "03e81b53-adc0-4fb1-9fad-d34f8b31aedc"
      },
      "execution_count": null,
      "outputs": [
        {
          "output_type": "execute_result",
          "data": {
            "text/plain": [
              "0.9999999999999998"
            ]
          },
          "metadata": {},
          "execution_count": 39
        }
      ]
    },
    {
      "cell_type": "markdown",
      "source": [
        "#### **5.5.1. Information given by the first feature**"
      ],
      "metadata": {
        "id": "Crj6XCWjSsyf"
      }
    },
    {
      "cell_type": "code",
      "source": [
        "obj_LDA.explained_variance_ratio_[0]"
      ],
      "metadata": {
        "colab": {
          "base_uri": "https://localhost:8080/"
        },
        "id": "jVPOHRaRSlTG",
        "outputId": "52d0a70b-b991-4cff-da60-fdab1f1201f9"
      },
      "execution_count": null,
      "outputs": [
        {
          "output_type": "execute_result",
          "data": {
            "text/plain": [
              "0.27682121521853453"
            ]
          },
          "metadata": {},
          "execution_count": 40
        }
      ]
    },
    {
      "cell_type": "markdown",
      "source": [
        "#### **5.5.2. Information given by the second feature**"
      ],
      "metadata": {
        "id": "bftMZ2XQSzXi"
      }
    },
    {
      "cell_type": "code",
      "source": [
        "obj_LDA.explained_variance_ratio_[1]"
      ],
      "metadata": {
        "colab": {
          "base_uri": "https://localhost:8080/"
        },
        "id": "Vly8a1R7SpOA",
        "outputId": "2ee7624a-9ee0-4e86-ac01-9a6bee8ad6d1"
      },
      "execution_count": null,
      "outputs": [
        {
          "output_type": "execute_result",
          "data": {
            "text/plain": [
              "0.18291650204146198"
            ]
          },
          "metadata": {},
          "execution_count": 41
        }
      ]
    },
    {
      "cell_type": "markdown",
      "source": [
        "# **Step 6 - Model Building**"
      ],
      "metadata": {
        "id": "JfZRLAz8S48G"
      }
    },
    {
      "cell_type": "code",
      "source": [
        "x_train.shape, x_test.shape"
      ],
      "metadata": {
        "colab": {
          "base_uri": "https://localhost:8080/"
        },
        "id": "XKP6odQRSrJ4",
        "outputId": "941ecfe3-cc9f-4e82-f9ff-a2f87c9a06f2"
      },
      "execution_count": null,
      "outputs": [
        {
          "output_type": "execute_result",
          "data": {
            "text/plain": [
              "((1437, 9), (360, 9))"
            ]
          },
          "metadata": {},
          "execution_count": 42
        }
      ]
    },
    {
      "cell_type": "markdown",
      "source": [
        "### **6.1. Build a RF Classifier**"
      ],
      "metadata": {
        "id": "WUholKmRS_iH"
      }
    },
    {
      "cell_type": "code",
      "source": [
        "model = RandomForestClassifier()"
      ],
      "metadata": {
        "id": "xrPpBYaeS9ir"
      },
      "execution_count": null,
      "outputs": []
    },
    {
      "cell_type": "markdown",
      "source": [
        "### **6.2. Fit the model with the data**"
      ],
      "metadata": {
        "id": "gA0iGYftTK-b"
      }
    },
    {
      "cell_type": "code",
      "source": [
        "model.fit(x_train, y_train)"
      ],
      "metadata": {
        "colab": {
          "base_uri": "https://localhost:8080/",
          "height": 80
        },
        "id": "6dc0rFNQTKfH",
        "outputId": "33f39ea6-7b94-4fdd-b4ac-e5a87b654477"
      },
      "execution_count": null,
      "outputs": [
        {
          "output_type": "execute_result",
          "data": {
            "text/plain": [
              "RandomForestClassifier()"
            ],
            "text/html": [
              "<style>#sk-container-id-1 {\n",
              "  /* Definition of color scheme common for light and dark mode */\n",
              "  --sklearn-color-text: #000;\n",
              "  --sklearn-color-text-muted: #666;\n",
              "  --sklearn-color-line: gray;\n",
              "  /* Definition of color scheme for unfitted estimators */\n",
              "  --sklearn-color-unfitted-level-0: #fff5e6;\n",
              "  --sklearn-color-unfitted-level-1: #f6e4d2;\n",
              "  --sklearn-color-unfitted-level-2: #ffe0b3;\n",
              "  --sklearn-color-unfitted-level-3: chocolate;\n",
              "  /* Definition of color scheme for fitted estimators */\n",
              "  --sklearn-color-fitted-level-0: #f0f8ff;\n",
              "  --sklearn-color-fitted-level-1: #d4ebff;\n",
              "  --sklearn-color-fitted-level-2: #b3dbfd;\n",
              "  --sklearn-color-fitted-level-3: cornflowerblue;\n",
              "\n",
              "  /* Specific color for light theme */\n",
              "  --sklearn-color-text-on-default-background: var(--sg-text-color, var(--theme-code-foreground, var(--jp-content-font-color1, black)));\n",
              "  --sklearn-color-background: var(--sg-background-color, var(--theme-background, var(--jp-layout-color0, white)));\n",
              "  --sklearn-color-border-box: var(--sg-text-color, var(--theme-code-foreground, var(--jp-content-font-color1, black)));\n",
              "  --sklearn-color-icon: #696969;\n",
              "\n",
              "  @media (prefers-color-scheme: dark) {\n",
              "    /* Redefinition of color scheme for dark theme */\n",
              "    --sklearn-color-text-on-default-background: var(--sg-text-color, var(--theme-code-foreground, var(--jp-content-font-color1, white)));\n",
              "    --sklearn-color-background: var(--sg-background-color, var(--theme-background, var(--jp-layout-color0, #111)));\n",
              "    --sklearn-color-border-box: var(--sg-text-color, var(--theme-code-foreground, var(--jp-content-font-color1, white)));\n",
              "    --sklearn-color-icon: #878787;\n",
              "  }\n",
              "}\n",
              "\n",
              "#sk-container-id-1 {\n",
              "  color: var(--sklearn-color-text);\n",
              "}\n",
              "\n",
              "#sk-container-id-1 pre {\n",
              "  padding: 0;\n",
              "}\n",
              "\n",
              "#sk-container-id-1 input.sk-hidden--visually {\n",
              "  border: 0;\n",
              "  clip: rect(1px 1px 1px 1px);\n",
              "  clip: rect(1px, 1px, 1px, 1px);\n",
              "  height: 1px;\n",
              "  margin: -1px;\n",
              "  overflow: hidden;\n",
              "  padding: 0;\n",
              "  position: absolute;\n",
              "  width: 1px;\n",
              "}\n",
              "\n",
              "#sk-container-id-1 div.sk-dashed-wrapped {\n",
              "  border: 1px dashed var(--sklearn-color-line);\n",
              "  margin: 0 0.4em 0.5em 0.4em;\n",
              "  box-sizing: border-box;\n",
              "  padding-bottom: 0.4em;\n",
              "  background-color: var(--sklearn-color-background);\n",
              "}\n",
              "\n",
              "#sk-container-id-1 div.sk-container {\n",
              "  /* jupyter's `normalize.less` sets `[hidden] { display: none; }`\n",
              "     but bootstrap.min.css set `[hidden] { display: none !important; }`\n",
              "     so we also need the `!important` here to be able to override the\n",
              "     default hidden behavior on the sphinx rendered scikit-learn.org.\n",
              "     See: https://github.com/scikit-learn/scikit-learn/issues/21755 */\n",
              "  display: inline-block !important;\n",
              "  position: relative;\n",
              "}\n",
              "\n",
              "#sk-container-id-1 div.sk-text-repr-fallback {\n",
              "  display: none;\n",
              "}\n",
              "\n",
              "div.sk-parallel-item,\n",
              "div.sk-serial,\n",
              "div.sk-item {\n",
              "  /* draw centered vertical line to link estimators */\n",
              "  background-image: linear-gradient(var(--sklearn-color-text-on-default-background), var(--sklearn-color-text-on-default-background));\n",
              "  background-size: 2px 100%;\n",
              "  background-repeat: no-repeat;\n",
              "  background-position: center center;\n",
              "}\n",
              "\n",
              "/* Parallel-specific style estimator block */\n",
              "\n",
              "#sk-container-id-1 div.sk-parallel-item::after {\n",
              "  content: \"\";\n",
              "  width: 100%;\n",
              "  border-bottom: 2px solid var(--sklearn-color-text-on-default-background);\n",
              "  flex-grow: 1;\n",
              "}\n",
              "\n",
              "#sk-container-id-1 div.sk-parallel {\n",
              "  display: flex;\n",
              "  align-items: stretch;\n",
              "  justify-content: center;\n",
              "  background-color: var(--sklearn-color-background);\n",
              "  position: relative;\n",
              "}\n",
              "\n",
              "#sk-container-id-1 div.sk-parallel-item {\n",
              "  display: flex;\n",
              "  flex-direction: column;\n",
              "}\n",
              "\n",
              "#sk-container-id-1 div.sk-parallel-item:first-child::after {\n",
              "  align-self: flex-end;\n",
              "  width: 50%;\n",
              "}\n",
              "\n",
              "#sk-container-id-1 div.sk-parallel-item:last-child::after {\n",
              "  align-self: flex-start;\n",
              "  width: 50%;\n",
              "}\n",
              "\n",
              "#sk-container-id-1 div.sk-parallel-item:only-child::after {\n",
              "  width: 0;\n",
              "}\n",
              "\n",
              "/* Serial-specific style estimator block */\n",
              "\n",
              "#sk-container-id-1 div.sk-serial {\n",
              "  display: flex;\n",
              "  flex-direction: column;\n",
              "  align-items: center;\n",
              "  background-color: var(--sklearn-color-background);\n",
              "  padding-right: 1em;\n",
              "  padding-left: 1em;\n",
              "}\n",
              "\n",
              "\n",
              "/* Toggleable style: style used for estimator/Pipeline/ColumnTransformer box that is\n",
              "clickable and can be expanded/collapsed.\n",
              "- Pipeline and ColumnTransformer use this feature and define the default style\n",
              "- Estimators will overwrite some part of the style using the `sk-estimator` class\n",
              "*/\n",
              "\n",
              "/* Pipeline and ColumnTransformer style (default) */\n",
              "\n",
              "#sk-container-id-1 div.sk-toggleable {\n",
              "  /* Default theme specific background. It is overwritten whether we have a\n",
              "  specific estimator or a Pipeline/ColumnTransformer */\n",
              "  background-color: var(--sklearn-color-background);\n",
              "}\n",
              "\n",
              "/* Toggleable label */\n",
              "#sk-container-id-1 label.sk-toggleable__label {\n",
              "  cursor: pointer;\n",
              "  display: flex;\n",
              "  width: 100%;\n",
              "  margin-bottom: 0;\n",
              "  padding: 0.5em;\n",
              "  box-sizing: border-box;\n",
              "  text-align: center;\n",
              "  align-items: start;\n",
              "  justify-content: space-between;\n",
              "  gap: 0.5em;\n",
              "}\n",
              "\n",
              "#sk-container-id-1 label.sk-toggleable__label .caption {\n",
              "  font-size: 0.6rem;\n",
              "  font-weight: lighter;\n",
              "  color: var(--sklearn-color-text-muted);\n",
              "}\n",
              "\n",
              "#sk-container-id-1 label.sk-toggleable__label-arrow:before {\n",
              "  /* Arrow on the left of the label */\n",
              "  content: \"▸\";\n",
              "  float: left;\n",
              "  margin-right: 0.25em;\n",
              "  color: var(--sklearn-color-icon);\n",
              "}\n",
              "\n",
              "#sk-container-id-1 label.sk-toggleable__label-arrow:hover:before {\n",
              "  color: var(--sklearn-color-text);\n",
              "}\n",
              "\n",
              "/* Toggleable content - dropdown */\n",
              "\n",
              "#sk-container-id-1 div.sk-toggleable__content {\n",
              "  max-height: 0;\n",
              "  max-width: 0;\n",
              "  overflow: hidden;\n",
              "  text-align: left;\n",
              "  /* unfitted */\n",
              "  background-color: var(--sklearn-color-unfitted-level-0);\n",
              "}\n",
              "\n",
              "#sk-container-id-1 div.sk-toggleable__content.fitted {\n",
              "  /* fitted */\n",
              "  background-color: var(--sklearn-color-fitted-level-0);\n",
              "}\n",
              "\n",
              "#sk-container-id-1 div.sk-toggleable__content pre {\n",
              "  margin: 0.2em;\n",
              "  border-radius: 0.25em;\n",
              "  color: var(--sklearn-color-text);\n",
              "  /* unfitted */\n",
              "  background-color: var(--sklearn-color-unfitted-level-0);\n",
              "}\n",
              "\n",
              "#sk-container-id-1 div.sk-toggleable__content.fitted pre {\n",
              "  /* unfitted */\n",
              "  background-color: var(--sklearn-color-fitted-level-0);\n",
              "}\n",
              "\n",
              "#sk-container-id-1 input.sk-toggleable__control:checked~div.sk-toggleable__content {\n",
              "  /* Expand drop-down */\n",
              "  max-height: 200px;\n",
              "  max-width: 100%;\n",
              "  overflow: auto;\n",
              "}\n",
              "\n",
              "#sk-container-id-1 input.sk-toggleable__control:checked~label.sk-toggleable__label-arrow:before {\n",
              "  content: \"▾\";\n",
              "}\n",
              "\n",
              "/* Pipeline/ColumnTransformer-specific style */\n",
              "\n",
              "#sk-container-id-1 div.sk-label input.sk-toggleable__control:checked~label.sk-toggleable__label {\n",
              "  color: var(--sklearn-color-text);\n",
              "  background-color: var(--sklearn-color-unfitted-level-2);\n",
              "}\n",
              "\n",
              "#sk-container-id-1 div.sk-label.fitted input.sk-toggleable__control:checked~label.sk-toggleable__label {\n",
              "  background-color: var(--sklearn-color-fitted-level-2);\n",
              "}\n",
              "\n",
              "/* Estimator-specific style */\n",
              "\n",
              "/* Colorize estimator box */\n",
              "#sk-container-id-1 div.sk-estimator input.sk-toggleable__control:checked~label.sk-toggleable__label {\n",
              "  /* unfitted */\n",
              "  background-color: var(--sklearn-color-unfitted-level-2);\n",
              "}\n",
              "\n",
              "#sk-container-id-1 div.sk-estimator.fitted input.sk-toggleable__control:checked~label.sk-toggleable__label {\n",
              "  /* fitted */\n",
              "  background-color: var(--sklearn-color-fitted-level-2);\n",
              "}\n",
              "\n",
              "#sk-container-id-1 div.sk-label label.sk-toggleable__label,\n",
              "#sk-container-id-1 div.sk-label label {\n",
              "  /* The background is the default theme color */\n",
              "  color: var(--sklearn-color-text-on-default-background);\n",
              "}\n",
              "\n",
              "/* On hover, darken the color of the background */\n",
              "#sk-container-id-1 div.sk-label:hover label.sk-toggleable__label {\n",
              "  color: var(--sklearn-color-text);\n",
              "  background-color: var(--sklearn-color-unfitted-level-2);\n",
              "}\n",
              "\n",
              "/* Label box, darken color on hover, fitted */\n",
              "#sk-container-id-1 div.sk-label.fitted:hover label.sk-toggleable__label.fitted {\n",
              "  color: var(--sklearn-color-text);\n",
              "  background-color: var(--sklearn-color-fitted-level-2);\n",
              "}\n",
              "\n",
              "/* Estimator label */\n",
              "\n",
              "#sk-container-id-1 div.sk-label label {\n",
              "  font-family: monospace;\n",
              "  font-weight: bold;\n",
              "  display: inline-block;\n",
              "  line-height: 1.2em;\n",
              "}\n",
              "\n",
              "#sk-container-id-1 div.sk-label-container {\n",
              "  text-align: center;\n",
              "}\n",
              "\n",
              "/* Estimator-specific */\n",
              "#sk-container-id-1 div.sk-estimator {\n",
              "  font-family: monospace;\n",
              "  border: 1px dotted var(--sklearn-color-border-box);\n",
              "  border-radius: 0.25em;\n",
              "  box-sizing: border-box;\n",
              "  margin-bottom: 0.5em;\n",
              "  /* unfitted */\n",
              "  background-color: var(--sklearn-color-unfitted-level-0);\n",
              "}\n",
              "\n",
              "#sk-container-id-1 div.sk-estimator.fitted {\n",
              "  /* fitted */\n",
              "  background-color: var(--sklearn-color-fitted-level-0);\n",
              "}\n",
              "\n",
              "/* on hover */\n",
              "#sk-container-id-1 div.sk-estimator:hover {\n",
              "  /* unfitted */\n",
              "  background-color: var(--sklearn-color-unfitted-level-2);\n",
              "}\n",
              "\n",
              "#sk-container-id-1 div.sk-estimator.fitted:hover {\n",
              "  /* fitted */\n",
              "  background-color: var(--sklearn-color-fitted-level-2);\n",
              "}\n",
              "\n",
              "/* Specification for estimator info (e.g. \"i\" and \"?\") */\n",
              "\n",
              "/* Common style for \"i\" and \"?\" */\n",
              "\n",
              ".sk-estimator-doc-link,\n",
              "a:link.sk-estimator-doc-link,\n",
              "a:visited.sk-estimator-doc-link {\n",
              "  float: right;\n",
              "  font-size: smaller;\n",
              "  line-height: 1em;\n",
              "  font-family: monospace;\n",
              "  background-color: var(--sklearn-color-background);\n",
              "  border-radius: 1em;\n",
              "  height: 1em;\n",
              "  width: 1em;\n",
              "  text-decoration: none !important;\n",
              "  margin-left: 0.5em;\n",
              "  text-align: center;\n",
              "  /* unfitted */\n",
              "  border: var(--sklearn-color-unfitted-level-1) 1pt solid;\n",
              "  color: var(--sklearn-color-unfitted-level-1);\n",
              "}\n",
              "\n",
              ".sk-estimator-doc-link.fitted,\n",
              "a:link.sk-estimator-doc-link.fitted,\n",
              "a:visited.sk-estimator-doc-link.fitted {\n",
              "  /* fitted */\n",
              "  border: var(--sklearn-color-fitted-level-1) 1pt solid;\n",
              "  color: var(--sklearn-color-fitted-level-1);\n",
              "}\n",
              "\n",
              "/* On hover */\n",
              "div.sk-estimator:hover .sk-estimator-doc-link:hover,\n",
              ".sk-estimator-doc-link:hover,\n",
              "div.sk-label-container:hover .sk-estimator-doc-link:hover,\n",
              ".sk-estimator-doc-link:hover {\n",
              "  /* unfitted */\n",
              "  background-color: var(--sklearn-color-unfitted-level-3);\n",
              "  color: var(--sklearn-color-background);\n",
              "  text-decoration: none;\n",
              "}\n",
              "\n",
              "div.sk-estimator.fitted:hover .sk-estimator-doc-link.fitted:hover,\n",
              ".sk-estimator-doc-link.fitted:hover,\n",
              "div.sk-label-container:hover .sk-estimator-doc-link.fitted:hover,\n",
              ".sk-estimator-doc-link.fitted:hover {\n",
              "  /* fitted */\n",
              "  background-color: var(--sklearn-color-fitted-level-3);\n",
              "  color: var(--sklearn-color-background);\n",
              "  text-decoration: none;\n",
              "}\n",
              "\n",
              "/* Span, style for the box shown on hovering the info icon */\n",
              ".sk-estimator-doc-link span {\n",
              "  display: none;\n",
              "  z-index: 9999;\n",
              "  position: relative;\n",
              "  font-weight: normal;\n",
              "  right: .2ex;\n",
              "  padding: .5ex;\n",
              "  margin: .5ex;\n",
              "  width: min-content;\n",
              "  min-width: 20ex;\n",
              "  max-width: 50ex;\n",
              "  color: var(--sklearn-color-text);\n",
              "  box-shadow: 2pt 2pt 4pt #999;\n",
              "  /* unfitted */\n",
              "  background: var(--sklearn-color-unfitted-level-0);\n",
              "  border: .5pt solid var(--sklearn-color-unfitted-level-3);\n",
              "}\n",
              "\n",
              ".sk-estimator-doc-link.fitted span {\n",
              "  /* fitted */\n",
              "  background: var(--sklearn-color-fitted-level-0);\n",
              "  border: var(--sklearn-color-fitted-level-3);\n",
              "}\n",
              "\n",
              ".sk-estimator-doc-link:hover span {\n",
              "  display: block;\n",
              "}\n",
              "\n",
              "/* \"?\"-specific style due to the `<a>` HTML tag */\n",
              "\n",
              "#sk-container-id-1 a.estimator_doc_link {\n",
              "  float: right;\n",
              "  font-size: 1rem;\n",
              "  line-height: 1em;\n",
              "  font-family: monospace;\n",
              "  background-color: var(--sklearn-color-background);\n",
              "  border-radius: 1rem;\n",
              "  height: 1rem;\n",
              "  width: 1rem;\n",
              "  text-decoration: none;\n",
              "  /* unfitted */\n",
              "  color: var(--sklearn-color-unfitted-level-1);\n",
              "  border: var(--sklearn-color-unfitted-level-1) 1pt solid;\n",
              "}\n",
              "\n",
              "#sk-container-id-1 a.estimator_doc_link.fitted {\n",
              "  /* fitted */\n",
              "  border: var(--sklearn-color-fitted-level-1) 1pt solid;\n",
              "  color: var(--sklearn-color-fitted-level-1);\n",
              "}\n",
              "\n",
              "/* On hover */\n",
              "#sk-container-id-1 a.estimator_doc_link:hover {\n",
              "  /* unfitted */\n",
              "  background-color: var(--sklearn-color-unfitted-level-3);\n",
              "  color: var(--sklearn-color-background);\n",
              "  text-decoration: none;\n",
              "}\n",
              "\n",
              "#sk-container-id-1 a.estimator_doc_link.fitted:hover {\n",
              "  /* fitted */\n",
              "  background-color: var(--sklearn-color-fitted-level-3);\n",
              "}\n",
              "</style><div id=\"sk-container-id-1\" class=\"sk-top-container\"><div class=\"sk-text-repr-fallback\"><pre>RandomForestClassifier()</pre><b>In a Jupyter environment, please rerun this cell to show the HTML representation or trust the notebook. <br />On GitHub, the HTML representation is unable to render, please try loading this page with nbviewer.org.</b></div><div class=\"sk-container\" hidden><div class=\"sk-item\"><div class=\"sk-estimator fitted sk-toggleable\"><input class=\"sk-toggleable__control sk-hidden--visually\" id=\"sk-estimator-id-1\" type=\"checkbox\" checked><label for=\"sk-estimator-id-1\" class=\"sk-toggleable__label fitted sk-toggleable__label-arrow\"><div><div>RandomForestClassifier</div></div><div><a class=\"sk-estimator-doc-link fitted\" rel=\"noreferrer\" target=\"_blank\" href=\"https://scikit-learn.org/1.6/modules/generated/sklearn.ensemble.RandomForestClassifier.html\">?<span>Documentation for RandomForestClassifier</span></a><span class=\"sk-estimator-doc-link fitted\">i<span>Fitted</span></span></div></label><div class=\"sk-toggleable__content fitted\"><pre>RandomForestClassifier()</pre></div> </div></div></div></div>"
            ]
          },
          "metadata": {},
          "execution_count": 45
        }
      ]
    },
    {
      "cell_type": "markdown",
      "source": [
        "### **6.3. Test the model**"
      ],
      "metadata": {
        "id": "8rCqo-98TRiP"
      }
    },
    {
      "cell_type": "code",
      "source": [
        "pred = model.predict(x_test)"
      ],
      "metadata": {
        "id": "K3XkJYsiTQnp"
      },
      "execution_count": null,
      "outputs": []
    },
    {
      "cell_type": "markdown",
      "source": [
        "### **6.4. Check for Accuracy**"
      ],
      "metadata": {
        "id": "rcECijVwTX72"
      }
    },
    {
      "cell_type": "code",
      "source": [
        "print(f\"The accuracy: {accuracy_score(y_test, pred)}\")"
      ],
      "metadata": {
        "colab": {
          "base_uri": "https://localhost:8080/"
        },
        "id": "mQ0RrqKiTW_V",
        "outputId": "f9802043-632f-4c20-c16a-72c793a6569c"
      },
      "execution_count": null,
      "outputs": [
        {
          "output_type": "stream",
          "name": "stdout",
          "text": [
            "The accuracy: 0.9388888888888889\n"
          ]
        }
      ]
    },
    {
      "cell_type": "markdown",
      "source": [
        "#### **6.4.1. Classification Report**"
      ],
      "metadata": {
        "id": "9iOPp3MsTiOu"
      }
    },
    {
      "cell_type": "code",
      "source": [
        "print(classification_report(y_test, pred))"
      ],
      "metadata": {
        "colab": {
          "base_uri": "https://localhost:8080/"
        },
        "id": "cXGsVyqOTqK0",
        "outputId": "49946196-6e2b-47fb-d726-b042367de408"
      },
      "execution_count": null,
      "outputs": [
        {
          "output_type": "stream",
          "name": "stdout",
          "text": [
            "              precision    recall  f1-score   support\n",
            "\n",
            "           0       1.00      1.00      1.00        27\n",
            "           1       0.97      0.91      0.94        33\n",
            "           2       0.94      0.97      0.96        35\n",
            "           3       0.95      0.93      0.94        41\n",
            "           4       0.98      0.98      0.98        45\n",
            "           5       0.96      0.90      0.93        30\n",
            "           6       0.98      0.98      0.98        41\n",
            "           7       0.93      0.95      0.94        39\n",
            "           8       0.84      0.84      0.84        32\n",
            "           9       0.85      0.92      0.88        37\n",
            "\n",
            "    accuracy                           0.94       360\n",
            "   macro avg       0.94      0.94      0.94       360\n",
            "weighted avg       0.94      0.94      0.94       360\n",
            "\n"
          ]
        }
      ]
    },
    {
      "cell_type": "markdown",
      "source": [
        "#### **6.4.2. Confusion Matrix**"
      ],
      "metadata": {
        "id": "HI09qATaTmzl"
      }
    },
    {
      "cell_type": "code",
      "source": [
        "print(confusion_matrix(y_test, pred))"
      ],
      "metadata": {
        "colab": {
          "base_uri": "https://localhost:8080/"
        },
        "id": "Mz8k1HKMTfuH",
        "outputId": "fa8b533d-2019-4394-c5e7-9663cb895aeb"
      },
      "execution_count": null,
      "outputs": [
        {
          "output_type": "stream",
          "name": "stdout",
          "text": [
            "[[27  0  0  0  0  0  0  0  0  0]\n",
            " [ 0 30  0  0  0  0  0  0  2  1]\n",
            " [ 0  1 34  0  0  0  0  0  0  0]\n",
            " [ 0  0  1 38  0  1  0  0  1  0]\n",
            " [ 0  0  0  0 44  0  0  1  0  0]\n",
            " [ 0  0  0  1  0 27  0  0  1  1]\n",
            " [ 0  0  0  0  1  0 40  0  0  0]\n",
            " [ 0  0  0  0  0  0  0 37  0  2]\n",
            " [ 0  0  1  0  0  0  1  1 27  2]\n",
            " [ 0  0  0  1  0  0  0  1  1 34]]\n"
          ]
        }
      ]
    },
    {
      "cell_type": "markdown",
      "source": [
        "# **Step 7 - Visualize**"
      ],
      "metadata": {
        "id": "Rd2fOgEf8P-D"
      }
    },
    {
      "cell_type": "markdown",
      "source": [
        "### **2D for maximizing the Distance**"
      ],
      "metadata": {
        "id": "fdEMfyH1UEZT"
      }
    },
    {
      "cell_type": "code",
      "source": [
        "import plotly.express as px\n",
        "fig = px.scatter(df, x = x_train[:,8], y = y_train,\n",
        "                 labels={\n",
        "                     \"x\": \"LD1\",\n",
        "                     \"y\": \"LD2\",\n",
        "                 },\n",
        "                 opacity=1, color = y_train)\n",
        "\n",
        "\n",
        "fig.update_layout(dict(plot_bgcolor = 'white'))\n",
        "\n",
        "\n",
        "fig.update_xaxes(showgrid=True, gridwidth=1, gridcolor='lightgrey',\n",
        "                 zeroline=True, zerolinewidth=1, zerolinecolor='lightgrey',\n",
        "                 showline=True, linewidth=1, linecolor='black')\n",
        "\n",
        "fig.update_yaxes(showgrid=True, gridwidth=1, gridcolor='lightgrey',\n",
        "                 zeroline=True, zerolinewidth=1, zerolinecolor='lightgrey',\n",
        "                 showline=True, linewidth=1, linecolor='black')\n",
        "\n",
        "\n",
        "fig.update_layout(title_text=\"LDA Plot\")\n",
        "\n",
        "fig.update_traces(marker=dict(size=3))\n",
        "\n",
        "fig.show()"
      ],
      "metadata": {
        "colab": {
          "base_uri": "https://localhost:8080/",
          "height": 542
        },
        "id": "klpbFeEN8A_-",
        "outputId": "5eb10244-f07e-4239-e462-55a737fdeee3"
      },
      "execution_count": null,
      "outputs": [
        {
          "output_type": "display_data",
          "data": {
            "text/html": [
              "<html>\n",
              "<head><meta charset=\"utf-8\" /></head>\n",
              "<body>\n",
              "    <div>            <script src=\"https://cdnjs.cloudflare.com/ajax/libs/mathjax/2.7.5/MathJax.js?config=TeX-AMS-MML_SVG\"></script><script type=\"text/javascript\">if (window.MathJax && window.MathJax.Hub && window.MathJax.Hub.Config) {window.MathJax.Hub.Config({SVG: {font: \"STIX-Web\"}});}</script>                <script type=\"text/javascript\">window.PlotlyConfig = {MathJaxConfig: 'local'};</script>\n",
              "        <script charset=\"utf-8\" src=\"https://cdn.plot.ly/plotly-2.35.2.min.js\"></script>                <div id=\"7d6650e0-7f73-4747-8a10-8e9899ae67b5\" class=\"plotly-graph-div\" style=\"height:525px; width:100%;\"></div>            <script type=\"text/javascript\">                                    window.PLOTLYENV=window.PLOTLYENV || {};                                    if (document.getElementById(\"7d6650e0-7f73-4747-8a10-8e9899ae67b5\")) {                    Plotly.newPlot(                        \"7d6650e0-7f73-4747-8a10-8e9899ae67b5\",                        [{\"hovertemplate\":\"LD1=%{x}\\u003cbr\\u003eLD2=%{y}\\u003cbr\\u003ecolor=%{marker.color}\\u003cextra\\u003e\\u003c\\u002fextra\\u003e\",\"legendgroup\":\"\",\"marker\":{\"color\":[6,2,3,0,8,9,2,3,9,4,3,9,0,0,9,5,1,9,9,3,4,0,1,2,1,0,0,9,7,8,8,7,0,0,2,0,3,8,2,8,9,9,7,9,7,5,9,2,5,9,5,5,3,6,5,3,7,3,2,5,9,0,9,8,5,9,3,1,2,4,4,7,2,0,3,2,8,6,4,5,4,7,4,7,2,1,2,4,0,0,5,3,6,2,3,5,6,1,5,7,7,4,7,5,8,9,1,8,1,3,0,3,6,6,8,5,9,3,3,3,3,8,7,7,1,0,0,7,6,4,3,8,3,8,9,7,0,1,0,8,9,7,2,9,0,8,8,1,6,4,2,7,5,0,5,0,1,8,6,3,4,7,8,2,3,1,4,0,8,6,6,4,8,6,9,7,0,9,6,0,4,9,3,3,9,7,8,7,4,7,5,2,6,8,6,9,5,9,4,4,2,1,7,1,7,1,5,1,6,4,9,7,8,7,7,6,9,5,2,0,3,2,3,6,1,6,4,2,1,3,0,1,4,7,0,0,7,8,9,6,7,8,6,1,2,6,9,8,2,4,3,7,9,8,5,1,9,7,5,3,6,6,5,8,5,4,7,8,3,0,3,2,0,0,1,8,4,3,3,7,5,1,2,9,0,0,5,5,3,9,4,1,2,8,5,8,5,6,5,3,2,8,7,9,8,3,3,0,8,7,4,5,1,9,4,6,9,0,1,1,7,4,2,6,8,9,8,8,6,0,9,0,0,8,6,2,0,5,3,7,1,0,9,5,9,9,5,4,4,2,8,5,1,0,6,2,1,5,8,5,2,9,1,9,3,2,5,1,2,5,9,3,5,3,3,0,6,1,7,8,1,4,4,5,4,2,0,5,6,5,2,5,3,1,2,0,1,2,5,7,4,9,3,3,3,8,3,2,5,6,5,6,9,3,2,0,8,5,6,4,3,8,4,3,6,1,1,1,9,4,4,9,9,2,3,9,5,2,3,1,1,8,2,8,6,4,3,3,9,7,2,7,1,4,6,5,5,2,3,7,1,8,0,9,1,4,7,2,0,8,9,2,7,4,2,9,3,8,7,8,6,1,1,7,9,1,8,3,0,7,7,5,3,5,7,1,7,3,7,5,0,9,3,7,1,3,7,2,7,4,0,6,8,4,6,6,5,4,3,4,9,9,9,8,9,0,3,3,5,7,8,6,3,5,3,6,6,8,5,0,4,5,6,4,5,8,9,1,1,5,7,7,3,8,7,8,3,4,2,8,2,7,4,8,4,6,8,1,1,2,5,7,0,1,7,7,1,8,2,4,2,7,7,1,3,5,3,8,3,0,8,8,2,5,4,3,8,8,8,3,4,0,9,6,3,8,3,4,5,0,4,3,8,1,5,1,2,8,4,9,6,6,4,7,5,9,3,2,5,9,6,7,1,2,8,2,1,5,9,1,6,4,9,6,1,8,9,0,6,0,7,5,5,8,0,4,5,3,2,8,9,1,3,2,2,3,6,7,1,5,5,3,0,6,1,1,8,0,0,6,0,1,1,2,1,2,0,0,2,9,9,6,1,4,2,9,1,4,7,5,5,6,3,3,3,6,5,5,3,5,8,0,4,9,2,6,2,3,9,6,7,3,4,4,3,8,0,0,0,1,6,6,6,4,2,2,2,8,8,9,2,5,9,6,4,1,0,8,0,4,7,6,4,5,6,8,9,5,6,8,7,9,2,1,6,6,5,9,3,1,5,4,9,1,5,8,5,9,8,0,4,9,1,5,1,1,2,2,9,5,7,1,3,3,0,9,2,1,1,4,1,4,4,0,2,1,6,1,6,7,4,4,8,5,1,0,8,7,0,7,2,4,0,7,5,4,2,0,3,7,3,6,3,3,8,4,7,4,2,0,7,3,7,0,0,8,8,9,2,5,5,0,1,0,9,8,1,7,0,2,1,3,1,5,0,7,8,1,2,1,2,3,1,1,9,6,9,0,0,4,8,2,2,6,7,8,2,3,2,3,7,2,5,6,6,0,1,0,9,1,8,2,3,4,6,3,0,5,1,3,9,4,1,2,5,5,9,4,6,8,9,6,7,1,6,0,5,7,4,0,7,9,5,7,5,9,0,1,4,3,7,5,8,0,3,4,5,4,0,4,1,5,2,0,1,6,0,7,9,0,4,6,5,0,6,3,6,6,9,6,3,6,0,8,4,0,1,2,0,0,1,1,3,1,9,4,8,4,9,9,0,6,8,1,8,3,5,9,1,0,6,9,4,3,3,3,1,5,5,1,8,0,9,3,2,7,7,1,9,4,4,6,0,8,5,6,7,3,6,6,2,7,8,9,8,4,8,9,6,0,3,4,0,8,2,6,6,7,4,6,4,5,2,7,9,5,4,7,1,8,1,7,3,9,5,5,4,2,8,8,8,8,5,8,3,8,5,4,6,7,2,0,0,9,0,7,8,0,6,1,2,2,6,7,2,7,5,7,6,5,1,5,8,9,5,1,2,9,1,1,7,2,6,0,1,0,1,0,1,6,4,0,0,8,7,5,1,4,9,6,7,1,9,7,7,4,3,9,0,3,5,2,3,9,2,7,0,0,0,2,6,4,5,9,7,8,0,3,8,8,0,9,7,1,1,2,6,4,4,3,7,7,0,6,5,6,9,6,7,9,3,2,2,2,2,1,5,1,0,6,4,8,6,4,6,7,6,3,9,9,1,8,6,2,8,0,3,1,3,7,5,5,8,6,7,4,2,8,1,0,6,1,1,4,8,5,1,9,7,3,5,2,0,6,2,5,9,1,3,3,0,9,9,7,8,0,6,2,4,0,0,9,7,1,8,3,5,9,6,1,9,7,7,2,0,9,1,4,2,2,2,1,5,8,8,2,7,7,5,6,9,7,7,4,0,5,5,7,0,9,3,3,5,6,4,4,7,0,6,2,3,7,5,5,4,3,7,8,5,0,8,1,7,3,7,9,4,4,8,1,5,5,2,0,4,4,6,4,5,4,2,2,0,6,4,5,2,5,6,5,2,2,8,6,0,0,2,7,7,1,2,6,0,3,0,5,0,1,0,9,9,6,7,1,8,4,7,4,4,3,1,4,3,7,9,5,0,3,2,6,3,1,9,6,9,9,4,2,1,9,9,2,2,0,2,6,2,8,8,0,2,1,2,9,6,3,9,6,4,5,8,1,6,4,2,2,4,5,0,8,6,6,8,5,2,7,5,5,4,4,5,6,3,5,0,8,9],\"coloraxis\":\"coloraxis\",\"opacity\":1,\"symbol\":\"circle\",\"size\":3},\"mode\":\"markers\",\"name\":\"\",\"showlegend\":false,\"x\":[1.2025567633283334,0.6758717776777615,-0.022142324835555532,-1.6121218897304506,-2.9273435685671023,1.436287154978149,1.3773627803607518,0.3334469672951382,-0.16025321252136715,0.16566271090731433,-2.0986467029394236,2.8446559749745797,-1.4327389209555688,-0.7460557266324092,-0.6450269060703697,-0.1719401911772312,-1.264615278854113,2.166824267654379,2.4391246884631226,-1.6140171261219467,-0.9918190935559744,-0.9369448677155562,-1.4364516762365984,0.569317559161288,0.02280234077093352,-0.21381247835633932,-0.6203058435985136,-1.6755719279755146,-0.19788734966000399,-0.6048529266391379,-0.8783042512993802,-0.8904988477611734,-0.5736115664669259,0.5739313732768303,-0.4890422269909758,-0.7034357430928276,-0.9139428829858547,-2.5345601755666034,0.13721682610360936,-1.4665892594204586,-0.2085716503801489,2.875668955216423,1.5352924753063615,0.3748582616606226,-0.6810762846849906,-0.9190884457437437,1.5450887772650117,0.9603483368662236,0.16826103203749154,1.1290936339978555,-2.4122300210958465,-0.3004280122088635,-0.45960042651610317,2.1416008228484675,-1.010944934249099,-0.8922170329477332,1.1385986803348405,-1.7294124376964115,-1.0306195263654445,1.4199879212237283,1.7680540211643698,0.4364679303211935,1.344482732687328,-0.8497675840831367,-0.711313724785699,0.8140487775653221,-0.9387488273434662,-0.18557133189217304,-0.5846584554872057,-0.6260220374303574,-1.0059777759726984,0.5361718112865893,-0.16654303966239933,-0.0022063657944258637,-0.8925185276798818,0.29737472569275536,-1.5921680161115275,0.7344995839675533,-0.6955205474139463,0.3884542725568612,-1.6762370189725206,-1.5658382701555325,-0.3065859371158578,2.493092415650358,0.45237121615393305,1.0270140808421055,0.5434891238212467,-1.1133027983790897,-0.6729970064192914,-1.0600745352414407,-0.16591966071882713,0.796473564907252,-0.17052475947544884,-0.002125806703058354,-2.7072928342133338,-0.2938699120160397,0.1266921437665584,-0.7076034951739353,0.13131880916429592,0.0064745893269806355,-0.6969299311545943,-0.8426955169728526,0.5411580543464322,-0.9789011357167451,-1.1137556419882344,2.2372558121387907,0.057221429301131936,-1.8897291227189745,-0.011584141692111059,0.5327627605547771,-0.12764477039638017,0.15546533540999366,-0.12687904773370978,-0.0018709074568682706,-2.0697422420221376,-1.1987843552546795,2.117512984634898,-0.9126438810695,-1.0481100976784266,-0.9078217458055506,-1.594974660690757,-1.6823982874420977,-1.0930846087615635,-0.17433567634929298,1.0718074172373906,-0.341884797633334,-1.8516298905390491,-0.09361115338842863,2.4646456039509426,-1.5402284097681596,-3.098667687985306,-0.7884029667004403,-0.648047588450873,-0.9203767970560836,3.0175069687097653,-0.8913356123845165,0.1740042351049094,-1.0843288700242104,-2.0403127560863825,-1.355344376295182,2.0864614173099767,-1.88384034575367,-1.1425011196382688,1.5860614748524031,0.32597143968611314,-0.8504095541751656,-2.0368547652723707,0.9095721348362915,1.1290691712019223,-0.7769947644313882,0.19383225142345323,1.6563894321758288,0.7612699246105822,-1.3277425418145612,0.11020241564556456,-0.7293021901936626,0.014562750356454908,-2.9136077092207078,-1.0951678123925357,-0.7366698556082896,-0.4907693342212987,0.036081923707242385,-1.2097639269931393,-0.45333855078250657,0.15258404909045445,-0.21229943749499372,1.2155730278025376,-0.5041009773700305,-0.25443001327654363,0.02573108809706671,0.46554122466366565,-1.628780551910559,-1.5787333726180337,0.4452303706010715,0.045601036330333015,1.801606648454003,-1.3008508759439978,0.6832258388192577,-0.03200567480390617,1.3793243917584124,-1.2507499935046154,-1.3918068295714234,-0.4659481479040715,-0.15406424427700974,0.06963883858242695,-0.5111501298931663,-2.9880739385219672,0.7585334289764197,-1.5978142256639154,1.093194977815981,0.34222557857746816,-1.411160264887596,-1.3569679709835603,-2.534591091272536,1.192322805961729,2.0669995390672464,0.469628868496836,2.317822011219547,0.7549836371724976,-0.3276265356507269,1.7496821174120867,0.04812700562849106,0.9512718469444298,0.7429510139196478,1.2899167581025142,0.6901644169313391,-0.7159914326558767,0.3649139105389452,0.1989670705906281,-0.9073663183247473,1.485364169340512,0.05734042495837765,1.301640634324354,-0.6853497771964616,0.09313675809575817,0.10130275651232735,1.3768738031184493,0.36024351477647365,0.08163445658359574,-1.9309287348363948,-1.304974621166181,0.6994928147207997,-1.4465071177666584,-0.5447867641329128,-0.1399231897493072,-0.21655915185972183,-0.9397841884631364,-1.0082843637019052,-0.8997917254240593,-0.14744979001661826,-1.0497181451853534,0.0690226795349122,-0.9735494798040982,1.6112620919188827,1.808588329032772,-0.8163860653631638,-0.39609876902486146,-2.5384841069858877,-0.29470488837665304,1.6549092483606191,-0.19267852904017607,-1.5217670605803066,1.581719313836537,0.16212029508328685,0.8137098442060305,2.9598699288546513,1.4040995030612264,-0.2943241493274477,-0.18705257654300034,0.758821201726117,-1.3254691621387282,-0.2006266923206797,1.8568326912193203,-1.148991103187336,0.7125114094491063,0.18774463595096155,1.8675026836674062,-0.8453848779044231,2.9285191449826113,1.086021085115782,0.03037836741171143,0.7010719814535169,-1.016778332215621,-0.07982006719084943,0.7035749409734735,-0.4411101375103279,-1.9089404876499234,-2.2355728561122445,-0.9883386294470214,-1.1518217592033122,-0.33716786966739554,0.7361898383601715,0.2860151538217065,-1.292460626099157,-0.4548979783061823,-1.85827776540852,1.0446842244691459,0.2654737607088449,0.7333542530736191,-0.13840986103581898,0.7854044812327922,-0.06735352891322641,0.8934120406986958,2.2257171111267837,-1.5755233434553262,-0.7314615588389137,0.472524902099515,-0.06773839540291748,0.6975701154325533,-0.2950515978399363,-0.8553103173349343,-0.008547961863990598,-0.5664376930929323,-2.454136266886378,-0.8941306172311165,0.6616905644776567,0.009775625401709504,0.9834639895470999,1.8397279316782376,-0.1857308139805715,-0.2042221243019791,-0.7564424427887947,-0.17462086736171678,0.4363344003374489,-1.33333983486001,-0.8159953831210289,-0.9956531418311317,-1.3128740482374874,-1.6747787274985708,0.5408403541397723,-0.7406328562751086,-0.4299827843717771,0.16260759603140684,1.465001768051189,-0.42484207957942344,2.858101215488101,1.157134167910512,-0.3325187660014255,0.27165265913818565,0.668619631524313,0.7098259803985502,-0.2649034648179349,0.39659631726197864,1.7277753714779442,-1.8433650254421248,-1.7580508532522299,-3.4361249507804046,-3.4886226732373227,0.7319390784149822,0.01562498678013704,2.4675680401351063,-0.4222513392259735,0.37138176522187033,-0.9376046746187914,1.3193362591838698,-0.8011796049227043,-0.855550374694304,1.0549217224507976,-0.003057652407619314,1.2154187085889532,-1.1961176741652408,-0.46483173190448523,0.21733810902038816,0.6205388661831177,0.16545113108233214,2.4913629011249547,-1.2874727315781591,-1.2549248194752156,-1.249669323010614,1.5338863931464883,-1.2909304932349037,-0.6822321530665891,0.1273944500574912,-1.4064984442593154,0.863436218882055,0.8653491195753995,1.2434044424372261,0.033237287473169,1.6947595488793634,-0.2413638486870435,0.7635991505488858,2.1083981050655427,-0.06599917169679485,1.4892838767297027,-0.8548425745413176,0.5361170077264944,1.2394748735634498,-0.961843502190363,0.36588637985498357,-0.8637966276826562,1.029711535095383,-1.125758278884191,-0.822019207915285,-2.116763274825615,-1.7871326419543139,-0.5168719744256124,0.2575956003200952,0.9457303494555606,-1.1057207817250523,-2.344865079066611,-1.0456547794281126,0.3848513130080517,0.04286920869481858,0.17057927721019686,-1.3409226491513264,-1.17747109157085,-0.6657597004959069,0.1368395057145495,0.013037761169099946,-2.9243038046260907,0.258331787610033,-1.4436804786555386,0.777084591830784,0.9610930173878215,0.7235740713008523,0.1491359535675386,-1.534673953592345,-0.06104564286201444,-0.2727572388263889,0.6359197591982618,0.11922189375372648,2.4840374782319325,-0.6111960966867667,-1.1116844806903183,-2.4197861465394497,-0.24116622161188253,-0.06114126105738556,0.9638029817391915,2.788201078182452,1.2518305288690295,-2.3672148445793795,1.250541710854939,0.8848254514593445,0.7128991912179196,1.552543675368379,0.20991659893709766,0.31862338157075015,0.587686612861187,1.2200127438521762,-0.35501620308295795,0.9029111236395199,-0.9046520017470754,-1.942381834904166,-2.2678054456412897,-0.5796025535837422,0.2092933717030789,-1.0021424862148307,0.22076806785557881,2.3770912954117183,0.04752350067100341,0.05173418618640072,0.026712641776332143,0.11266284893976651,0.9264107963632203,-1.447968443937177,3.142261740610731,-1.2911351793149837,0.11988696580650676,-1.4429288730309338,-0.8386636434873795,0.22714318826397176,-2.3757097030282175,0.799811526687487,-0.7224919274426566,-1.1957515132457206,-0.9338768921184063,-1.5846300872558488,-2.1463590220419544,2.998874816827474,0.6078307440790215,-0.7537363338516951,0.4993104796437711,0.42316610171019964,-0.6585469898175786,1.7029275781174873,-1.6162971520686578,-1.4516298128825458,-0.5209495442114412,-1.6764664746601752,0.1399801756378537,1.4159859146977196,-1.4974196414663974,0.10597225156708,2.3014910747264117,-0.7669778132591633,0.5677344780972824,-0.12883571460623222,0.2867578930257535,0.3355546197898452,-1.354933521880995,-0.1794320364987828,0.6568701069875021,0.8739909763486075,-0.07517902871528695,1.6580406691768854,2.1271215926101243,-0.6993145497634965,-0.4356001084756964,0.9828515752347495,0.256361726929454,-0.13955850467153894,0.7067684873584726,-0.0018179021410232902,0.7085943049162812,2.1474878793726804,2.383425800546814,-2.0774493332862596,-0.13368398419528252,-0.6181404021284564,0.9939574004586271,1.0505332340469338,-1.223567307689496,-1.5396920926963416,-1.2376958875779949,0.33519187788257726,-0.3664433780651907,0.8496011115354275,-1.2329740493724695,0.24766798205841353,0.6139245161255129,2.2738413517010705,0.5474673507752943,-0.7201075785179879,0.2084640979235356,0.4124672994363085,-0.7565390044491667,-0.23433382528475116,0.58898742687228,-0.5080756978821823,-0.4041214052743879,-0.6896413573691361,0.8066291770802598,-1.2187116836022087,-1.0969577968373325,1.5535703518118635,0.8135419642821073,-0.7278874859022756,-1.0733072508433072,-0.5763757512299124,-1.8079789677369182,0.3701177312590771,-0.014223246007061277,1.21203951925144,-0.9913367428139234,1.6592295354982145,-1.1583269092065334,-1.4236912154160704,0.2379569918961435,-0.6322660789637495,-0.3867231563727322,-1.0980563911908015,0.10541192569949849,1.90924500285136,0.07123597048192397,0.7457175477762666,-1.1931500631756664,1.4203076554847938,-2.039135093055024,-0.08379976409432718,-1.1168170671797797,-0.9293506816035728,0.619671129345097,0.6151895638112738,-1.22983139783612,-1.5506336246412373,-1.9942771149727312,0.6345717522060685,-0.2741530321540382,1.2091903447660928,-1.3474809976501352,-0.503195200626982,-0.9620188144268648,-2.056720414234091,-0.927879074838041,0.18505040837187925,-2.32288398657337,-1.2060656873783004,-1.1546151014732084,0.3981956585520507,-2.0086535149023996,-0.230519158325211,1.2583826853389584,1.4617401233757246,0.29318481780950634,-1.2113443273294655,1.444692378863575,-1.7280282913686427,0.03513206240697319,0.26930119460400165,1.3478783814394844,0.2368577648831042,0.7209953945723574,-1.3474682264160416,1.4468317863764988,0.1786780134807755,0.9250181340755729,-0.3238551404162477,0.8973829220042915,0.7835547457833602,-0.8969263930658601,-0.720836643976819,-0.09823549402850146,1.1893643032705252,-0.3726956474661282,0.1594518581217222,-1.5143563780158051,-0.20501887779361885,-2.2257189515845144,-2.0159507616288552,-1.8797836393663918,-1.1487195000137507,-2.356518314415084,-0.765102082336951,-0.8616320577449283,-0.94538443833025,-0.08884180469577636,-0.05440799057455707,-1.4261421776616918,-0.02317832808614618,-2.8813814376300186,0.45827927690555037,-1.107908669590871,1.2243566370064236,1.5616486259670972,-0.3693795946228026,-1.838444005745498,0.852635152735672,-0.4654188520084955,1.0317946113456822,0.3785633147857868,0.21995288241768904,-0.469689759742401,-0.956524913931611,1.26231680889536,0.17874617484030275,1.6222942131537081,0.5387162499865714,-0.36824650037987927,-0.5257455182329956,1.9022499388702394,-0.28999838216757745,2.974101161515009,-0.623097635108984,-0.7135527786254697,1.1957097277906266,2.725881651950358,-1.2424727172582455,1.1529840239153129,-0.38275289026311365,0.06853540998407238,2.146528007568567,-0.7679041550331178,-0.10326616093895259,-2.5383956156177403,-1.7054688168170056,-0.018412035023359866,-0.10226562329425783,-1.048422685659994,3.364644173295854,1.2613561122942174,0.9000019043221559,-0.47559732660729476,0.9469358772116204,1.5124025440568376,0.7092254388784487,-1.357237498245544,0.6630109240188589,0.017294344844904042,0.1482250071400272,-0.12268503436221975,-0.9996947537038353,0.7187199590232751,-1.6087604078967734,-2.2660946011449536,-1.2043988850409828,-0.4774824496931765,-0.725515292686369,-0.026965119423999505,0.83163017497083,-1.2588492849861683,3.3755451315668394,0.8559697910565351,-0.5112507460378063,-0.23504582838412277,0.4381682728999768,0.4590977337607753,-0.4260078090517609,1.3899824517785169,-0.12261210535836106,-1.2390091106483212,0.32212348430374166,-0.5791816542483534,0.7325721661536049,3.19437710478227,0.9087632937431491,-0.28711545121878584,-1.0884627900265937,-0.43650227467264247,0.028102986271996176,2.5012476471149703,-1.6943227032886377,-0.041594331834337535,1.88613307344736,1.094183327090137,0.29034762620919996,0.706855050580723,-0.7140653003318822,-0.4499672152344226,-0.4284753048250872,2.6330147537970183,0.4172686645532929,1.0736264529205386,1.6438729186224972,-0.5811782316807997,-0.43228536447482835,1.8629505694667772,0.7030510006562922,-0.7170371937088555,0.5280340813784102,0.5938863302991938,-0.585099764926593,1.646802851799099,-1.0927627564183313,-1.9351852311714897,-1.061582329263711,1.6903738782800606,-1.0216044987241792,2.105203224760267,1.1208736403071111,-1.3354364360335171,-1.377603596982823,-1.143151875663022,-0.18019439642978347,3.2460687984489467,1.3544058428678956,-0.2606124678459795,0.4212617846734469,-1.858181715524886,1.1604916217576575,2.2933388956114045,0.25841467940751145,-2.058350480411358,-0.8804834288350843,-0.8077218846042916,-1.600393101014087,-0.4186443188458188,-0.2184868252424712,-1.115661451415274,-0.014671358837229493,-0.9981838182883663,1.0859053175337,2.489218571549521,2.6814951358830914,-1.4237139618941674,0.24174529728867697,0.28372874362366585,-0.03814979986076622,-0.11554079832993325,-2.241311760289115,-0.02297406042317729,0.4188255081181657,0.8848348076345428,0.5101555614271256,0.3624429551854545,-1.0921942260683877,-0.9740652256383351,-0.5610386224765599,-1.4554846087760127,-1.1675438221337135,-1.7408512218723244,0.7441559756360386,0.4388060987232055,-0.1732170152675896,0.5970118409666304,1.430047030051903,-2.8466497672043323,3.680360850687956,-0.021831334453266654,-0.507529126712815,-1.0254921660166534,1.5489746170951402,1.8113455344164444,1.1470315696281845,-0.1329372970325987,-0.571283603218019,1.0773284202320934,-3.0376112444796877,1.6859530129593652,-1.879735470454851,-0.616463213768227,-1.0302192101204415,-0.6171197603174801,1.2670620327541688,0.6270524461990323,-0.7236601189585379,-1.3528092585912759,0.008809741296155854,2.7921988244648968,-1.6114170284759188,-0.8788362727996738,-0.013521429317827741,1.2922896350179696,-0.6171004825281667,-0.9862519085726972,3.1245494696413076,-0.6825762441152903,1.0256985779663168,-1.7594364361634773,2.0409498345502155,-0.7412514855123173,1.177338636003089,0.4721840158936211,-2.899923036157684,-0.5450920509870106,-0.1319313593549115,-0.11827657398511202,0.0906546506481035,2.0159889233796586,0.6606663393078943,-0.946186525268812,-0.5299679233762614,0.6135955499806728,1.532654561866071,-0.9804216713049113,-0.01107979824302445,1.4326482886991825,0.42426293059624476,-0.01807626194743252,1.0984732438127265,-0.8896059542675626,-0.49040661010885805,0.2716194729532275,-2.7669564583575403,-1.8804815063332512,-0.3184863656038053,0.4614941268709805,-0.46541267916032647,-1.2785305261226398,0.13401272367475167,0.482849209757982,0.768957570596573,-0.7451744777882138,-0.6799718923402555,1.4760569647052098,0.5406213307152598,-0.3528911126115784,0.021590023238903286,-1.7202672577632734,-0.5704943323680056,-0.027778198390135185,-0.08563540298965151,-0.47772763567708276,-2.873570865654944,1.196764442401798,-1.569946826985376,-0.8223850225850633,0.5094923859993742,-0.2852678338378842,-0.43223435842840013,-1.9095043497736612,-0.8244591727310804,-1.3796380982598824,-0.891146019688242,-1.0500272315763248,-0.18472338757984008,-0.9798384881452389,-2.1774575206708695,0.036129020052548165,-1.6251473988437508,-1.0399652524720706,-0.3982142118739065,-0.3233445741140173,0.3512289071812013,-0.2739062001137372,2.0372327653851148,-2.034064484386376,0.5914626069286407,1.5699256744569774,1.3543631694751954,0.15345612186114263,0.8094663397937503,-2.2640123228961335,2.1571588775060118,0.8439666375626955,0.7716753899753421,-1.0895000956207606,-1.9578716952157884,-0.3416397572814219,1.6007194615065015,0.3266824062987682,1.3744318676743905,0.10301501571456663,0.44660092018383285,-0.06476059236071317,1.8578577317970255,-0.5257239564860154,0.7676148460883283,0.9291637376349721,0.07762690074423934,0.45333422911992166,-1.8839378363937087,0.5253914737361977,1.684777599695244,0.19420800046968992,0.026117046348133496,-2.9196232176634336,-0.6251487868163011,0.28515992118142536,-0.15856576014023566,-0.2579568305118912,-0.16717472294244295,-0.0689201981019698,0.33690297618893444,1.3659419773019936,0.40601467312527356,0.3526357368472981,0.8328925100820443,-0.05881986883641828,1.3674975129521778,0.039924803791272744,-0.8026589834405817,-1.077531934907012,-1.4231675523992269,-0.2335579986066384,0.46810497448129323,-0.32042887976520995,-0.5956358290336405,-1.6644169324715912,-0.44196030742919995,1.5444495889213907,1.371265428865152,-1.3165438256652529,-1.0204467112340523,0.9510718803261816,-0.6972235861180421,-0.9442387407816508,3.8647292296811986,-0.4011031293970309,-0.026153481121073338,-2.0166481499662012,3.3320071975600487,0.9871964231376729,-1.0441343401868461,0.016722448306182525,2.7161604549567233,-0.8886011688799766,-0.6776969329429156,-0.1653661658904828,-0.8531200285749564,-1.3776603807420706,-0.31308945702080393,3.142063500652338,-0.2785238569615887,0.4510370770527224,-0.7067066728784513,-0.15628921738734913,-1.8032425615279144,0.8974431613900482,-0.9638554113324018,-1.104036715706411,1.4613703125925221,0.6459679102726403,-2.383991291662766,-1.039527087178854,-0.8686268989246789,0.4203084482390789,2.583221249642015,-1.3239924680125117,-0.876116949232888,-0.12163410900539712,0.2068030440280645,-0.6811028638750911,0.04927391125495913,0.0700239902954827,0.039463120441947636,-1.9204582143192814,-0.4415476257859629,1.008209823881417,1.740854884512593,0.38420995148382586,0.17110705528307135,1.3972512239396093,-2.7049184807904325,1.1248909271314027,0.7945684152107925,-1.4373580132329078,1.7800186249704801,-0.2962206515800525,1.7629225527034844,-2.03446638909469,-1.839091335447957,2.583379363982544,0.5399551276119836,-1.0253872136412687,0.7792507959524774,0.8244752676110229,0.5868753907233616,-0.1657991288806616,-0.5010755917945257,-0.3291826652701088,1.9250972182716404,0.18755691315959433,-0.2888380726071855,1.3626768966103118,1.3189735722100673,0.6485135056704354,-2.0441716194375745,0.26332444716663,1.0336821559196459,3.0370646365504657,1.3165048316508812,0.8332574238679892,-1.451654996595119,0.6156064084686252,-1.757760440685315,-0.6878419032324949,-0.13440255341517482,2.189866109647174,0.6699398541925277,1.6690194425712759,1.5930904480205137,0.807617206765164,0.01732505157829464,-0.8304924967102548,0.5619815285139727,-0.3955913624151292,3.218013411832707,0.7837681078322835,-0.11410166559478718,-0.8763974725208044,-2.6929421223647263,-0.181381197156548,1.6460580629561072,-1.1683494939599068,0.04131776347625073,-0.16315890223531526,0.11461123849598322,-0.08613730370352211,3.2272051443762533,-0.32980125032912194,-0.5873862985224285,2.220844269771,-0.2783065578818758,0.34368496327401554,-0.11198033162056689,1.026996761444816,-0.936127170498852,-1.841181280241264,1.0061625792625621,1.5167849385096122,-0.18953026263416067,0.18309724640952407,0.7933563453659399,1.630456483541666,-2.3994076962748174,-1.5589828546709794,-1.8038320877117557,2.3815707565592437,2.6250245674501564,-0.7357201745844637,0.8074796458532368,-1.8033431944033573,-0.08533639343460993,-1.5861860269737382,0.26435029820718653,-0.14034525545685328,-1.2497930692063055,-1.2630266498484821,-0.1316213879364862,1.0408667203181245,-0.05269676486934528,-0.9067791698346565,-0.004725349688865829,0.37181172942232693,1.2074623218575833,-0.5989130805879307,-0.7060008141394102,-0.9202975871110226,-0.1389119795662027,-0.2755923625062739,0.3623513849535838,0.8012453447070002,-1.6058704064963336,3.285287461429342,0.7017540729688261,-0.3712494870858308,1.9392625930948197,1.1286802844379644,-1.1917616267966105,-1.022024833382038,0.3990986380231332,-0.5606449564939487,0.7236219868500202,-1.2855453046376895,-0.38213914648561703,-3.46278722891253,-0.945827524006422,-0.9904948691478742,0.7635760782008382,0.286826044012718,-0.25640717123887896,-2.224797205324248,0.3535966721812163,1.7701577913089745,-0.37322429996173845,1.6466023509812704,-1.6141903932494366,-0.03842783848580144,1.9573347396717213,2.0222282922665005,-0.14377728335000917,0.9543974634871283,1.1352728710108486,-0.7282985277141563,0.13958261656064225,1.4448489938756721,-0.0366826745397659,0.8469337757581515,2.687316575264542,-0.24138834798431227,-0.7868379783222926,-1.2716860688423157,0.043325547272167746,0.7674843934013196,-1.3339153470950538,1.2144785013772361,0.14803687192797882,-0.23451164292475593,0.1034126549194609,0.13960222218692422,0.1254145574765606,0.2437178345061589,2.131621890671723,-1.3131379540923525,3.376197392480575,-0.6359980670387231,0.8480077862468827,2.335078565995054,-0.052861070809464714,0.33320438548335307,0.2574692809279208,1.0800300864164314,-0.19131062399481194,-2.8238264355436065,0.5984776343406154,-2.2817314621492875,1.5577607734908754,-1.3252688825673742,0.6100807133210419,0.13288196026565222,1.4395319442797334,-0.1336480531997558,2.856061505860793,1.5727112413504227,-0.486853518710195,0.688071591861536,-1.9773641929111756,2.2499294436342283,0.6853858932603525,-0.20828371015140643,0.01084002085663482,0.3454355655368946,-1.5667979166529746,2.680658234249918,0.5016879102482272,0.8847223882126517,-0.02396950110091435,1.5961627176262072,-1.7725369441746317,1.3152234717145161,1.0721864519708453,-0.9709551106663648,0.3784449177697562,0.14529936165795257,1.0987663029824313,1.3816791763486944,-1.2821837588094285,0.3179641569330304,-0.6425132527521138,-2.576956941868429,0.4747122580627294,2.1181741814589894,-0.17075804254348398,1.5407702059905035,0.4620634675523222,-0.6032616284561464,1.4770574210837646,-1.0532004024957644,0.035762546238657995,-0.10381687128511718,-0.8380420861555211,-1.2339566784295553,-0.5395301208674398,-2.4514551371857483,-0.08770868499304849,-0.09328797698638279,2.9139912466911766,0.3974536595370752,0.7988490594190442,-0.03397308469776751,0.7526456458105504,-0.29979330460667586,-0.12002832434514546,0.8259167291799936,-1.5199927168745797,1.7615883181236531,-1.6401475032092088,1.0243926718610996,0.9977657934383202,0.28793369310234795,0.2681283630090107,-1.205200192142942,2.0074815721250774,-0.6649202705571587,-0.7269943650254036,0.9944196509934404,-1.0068379999185293,-2.392924574995816,3.1758158873992497,1.7033501737137586,0.2358739544059558,-2.4345417873554074,1.2766898194482874,0.5460318075474523,-2.35086105364471,1.5086619175659082,-0.5131788284007669,-0.07465379673047343,0.8488984935254291,-0.053641156999874484,0.7683652599978315,1.2520323370341138,-2.502288261459729,1.1286882594394305,0.35746081619516096,0.018626995944287846,-0.8848408570407433,-1.4462060816646425,0.2850351260793818,1.6572824754700481,1.708230871383356,-0.9057304421164013,-0.3649656268101534,0.2518823512124316,-1.1860629364300503,-0.13676644587926737,0.3559159507828456,2.756863777317196,-0.8497003539630501,0.9693073054531669,0.3367844784285136,0.08564338624218182,-1.3013394262541884,-0.7291988731285832,0.0723984260394904,-0.6352692373102493,1.6435683250285145,-0.2882024904745438,-0.19059739626596675,0.07450125257331666,0.714102495081931,1.0338951683008133,1.8102801766721142,1.2334372007923347,-0.8884798550229892,1.5389317907645275,0.6649283178365394,1.0898413723260478,-0.743862475840061,0.6975219389634005,0.48580213271038475,0.5022679807515542,-0.3086421342957518,-0.31753386591985544,-1.7180419288569264,-1.597108462114378,1.0071432551273487,2.401392282410003,0.9691222535322777,1.4532398741231622,2.5448604155084276,0.24298153480952753,0.46750706612170384,0.9134133720613589,-1.2420026812922513,1.1774229557046496,0.5177976804666619,1.901320127170195,1.4262597271442758,1.7433999871578059,0.5147339165011449,0.1747614113453272,0.48698921189162797,0.20215949102527508,1.1249366622575168,-2.183850382038826,-1.8019188016261434,0.9111788863205051,0.5633405631701658,0.1315558068364153,2.7218399945460927,-0.3673571492942735,-1.982528341161872,0.36321561245323863,0.4024627757612839,1.2216324537788315,0.3412077179191356,-1.5325909412310224,-0.20657864644137483,2.2850030270862978,-0.18385113131525363,-1.4356684619963302,-0.8998650866828249,0.8533086029400386,0.6876192767420058,-2.149945363967992,0.4194439221569088,-1.1151353348609419,1.4312943168683117,1.2686688413513658,0.012108326400415157,-0.30441967137180215,-2.2621015638818736,0.9020889760771909,-1.4043240789372657,0.7183250660164721,0.664278743024708,-2.3149352145021105,0.7063334551264238,0.6090682263584482,-3.4299949483202887,-1.6642684508840846,1.1450760822238466,-2.144032527671651,1.1593849603870148,1.600940332557496,-0.644848623705348,0.8546996179497389,0.47715514145683174,0.2722383072579642,-0.4768723834342242,1.8529792626778323,-1.162240981847895,-0.45872197246980173,0.8697396553473159,-0.15365933666692083,1.257075165435167,-0.220956861222793,0.3992771349406699,-1.4909401255454733,0.15974728233579236,1.5603704843384014,0.6732038638748777,1.178971949053128,-0.6436449444778206,-0.7349271392422808,-1.554902050901341,-1.0375351651976914,-0.41260249129567944,0.4665023848136603,-0.03814095041427538,0.32823212614023,-0.06265106976825686,3.3135739867783354,-1.1226767111154192,-1.8632791258671009,0.7978719121508498,1.5645269060008244,0.22056353414616858,2.062032525653868,1.43803455596907,1.1400610676577398,-1.5182371060598294,0.6783608947456409,0.349522037109936,-0.35513398295682874,-1.7253125585437838,0.10354995752081518,-1.3303747327899367,1.4889405135743823,-0.034937266570715796,0.06713634491434863,0.07341452344831843,-0.042244338154295444,-0.6374673422094642,-0.35522261371446934,0.29008050012406744,-2.0749296181068115,-0.37427869333859504,-0.3631549036075417,0.23673348126432162,0.8014577017530967,-1.465300296587397,-0.15352027537756147,-0.35558857451546994,0.47925558375054994,-0.28169876135068056,-1.7987250180390317,-0.550058610734486,2.4988528168441837,-0.7611793912868158,0.7988647998501931,1.6183442053384616,2.7901196365346705,2.851600142276618,0.9438554611554469,-0.983033241599403,-0.21627956297435263,-0.766115419532586,2.686173520663796,3.599031300542591,0.11080759767729174,0.8003787835118625,-0.09527711567459776,-1.5903681097166382,0.49830460125835213,2.2707086017269127,-1.354707879151741,-0.2238244945539544,-1.6918302426076972,0.7063245312923802,0.5294550592127755,0.7365170279933191,1.7495878514567995,-1.7817183622211008,-0.6586324406228591,0.6330466875775785,0.2445745747885483,0.6611258268288547,0.6010151318636626,-0.663242637650742,-0.05516647220957324,0.31613080278908895,0.1926339509808983,0.6635955294864178,0.415029259031243,0.6538363145734494,1.86174915468392,-2.7760715254048516,-0.8776511021042143,1.9172434516800048,1.1190103897957306,-0.34220844373853526,-1.472442538405536,1.7381397183071332,0.7256227001893144,-1.5804985034344787,-0.9175496108751526,0.1663482840186271,0.26914941858679914,0.327941952646352,0.39133186282947025,-0.5575536608108045,-1.6781020485903824,-0.3910133843488471,-0.13339757125105328,3.277499152283468],\"xaxis\":\"x\",\"y\":[6,2,3,0,8,9,2,3,9,4,3,9,0,0,9,5,1,9,9,3,4,0,1,2,1,0,0,9,7,8,8,7,0,0,2,0,3,8,2,8,9,9,7,9,7,5,9,2,5,9,5,5,3,6,5,3,7,3,2,5,9,0,9,8,5,9,3,1,2,4,4,7,2,0,3,2,8,6,4,5,4,7,4,7,2,1,2,4,0,0,5,3,6,2,3,5,6,1,5,7,7,4,7,5,8,9,1,8,1,3,0,3,6,6,8,5,9,3,3,3,3,8,7,7,1,0,0,7,6,4,3,8,3,8,9,7,0,1,0,8,9,7,2,9,0,8,8,1,6,4,2,7,5,0,5,0,1,8,6,3,4,7,8,2,3,1,4,0,8,6,6,4,8,6,9,7,0,9,6,0,4,9,3,3,9,7,8,7,4,7,5,2,6,8,6,9,5,9,4,4,2,1,7,1,7,1,5,1,6,4,9,7,8,7,7,6,9,5,2,0,3,2,3,6,1,6,4,2,1,3,0,1,4,7,0,0,7,8,9,6,7,8,6,1,2,6,9,8,2,4,3,7,9,8,5,1,9,7,5,3,6,6,5,8,5,4,7,8,3,0,3,2,0,0,1,8,4,3,3,7,5,1,2,9,0,0,5,5,3,9,4,1,2,8,5,8,5,6,5,3,2,8,7,9,8,3,3,0,8,7,4,5,1,9,4,6,9,0,1,1,7,4,2,6,8,9,8,8,6,0,9,0,0,8,6,2,0,5,3,7,1,0,9,5,9,9,5,4,4,2,8,5,1,0,6,2,1,5,8,5,2,9,1,9,3,2,5,1,2,5,9,3,5,3,3,0,6,1,7,8,1,4,4,5,4,2,0,5,6,5,2,5,3,1,2,0,1,2,5,7,4,9,3,3,3,8,3,2,5,6,5,6,9,3,2,0,8,5,6,4,3,8,4,3,6,1,1,1,9,4,4,9,9,2,3,9,5,2,3,1,1,8,2,8,6,4,3,3,9,7,2,7,1,4,6,5,5,2,3,7,1,8,0,9,1,4,7,2,0,8,9,2,7,4,2,9,3,8,7,8,6,1,1,7,9,1,8,3,0,7,7,5,3,5,7,1,7,3,7,5,0,9,3,7,1,3,7,2,7,4,0,6,8,4,6,6,5,4,3,4,9,9,9,8,9,0,3,3,5,7,8,6,3,5,3,6,6,8,5,0,4,5,6,4,5,8,9,1,1,5,7,7,3,8,7,8,3,4,2,8,2,7,4,8,4,6,8,1,1,2,5,7,0,1,7,7,1,8,2,4,2,7,7,1,3,5,3,8,3,0,8,8,2,5,4,3,8,8,8,3,4,0,9,6,3,8,3,4,5,0,4,3,8,1,5,1,2,8,4,9,6,6,4,7,5,9,3,2,5,9,6,7,1,2,8,2,1,5,9,1,6,4,9,6,1,8,9,0,6,0,7,5,5,8,0,4,5,3,2,8,9,1,3,2,2,3,6,7,1,5,5,3,0,6,1,1,8,0,0,6,0,1,1,2,1,2,0,0,2,9,9,6,1,4,2,9,1,4,7,5,5,6,3,3,3,6,5,5,3,5,8,0,4,9,2,6,2,3,9,6,7,3,4,4,3,8,0,0,0,1,6,6,6,4,2,2,2,8,8,9,2,5,9,6,4,1,0,8,0,4,7,6,4,5,6,8,9,5,6,8,7,9,2,1,6,6,5,9,3,1,5,4,9,1,5,8,5,9,8,0,4,9,1,5,1,1,2,2,9,5,7,1,3,3,0,9,2,1,1,4,1,4,4,0,2,1,6,1,6,7,4,4,8,5,1,0,8,7,0,7,2,4,0,7,5,4,2,0,3,7,3,6,3,3,8,4,7,4,2,0,7,3,7,0,0,8,8,9,2,5,5,0,1,0,9,8,1,7,0,2,1,3,1,5,0,7,8,1,2,1,2,3,1,1,9,6,9,0,0,4,8,2,2,6,7,8,2,3,2,3,7,2,5,6,6,0,1,0,9,1,8,2,3,4,6,3,0,5,1,3,9,4,1,2,5,5,9,4,6,8,9,6,7,1,6,0,5,7,4,0,7,9,5,7,5,9,0,1,4,3,7,5,8,0,3,4,5,4,0,4,1,5,2,0,1,6,0,7,9,0,4,6,5,0,6,3,6,6,9,6,3,6,0,8,4,0,1,2,0,0,1,1,3,1,9,4,8,4,9,9,0,6,8,1,8,3,5,9,1,0,6,9,4,3,3,3,1,5,5,1,8,0,9,3,2,7,7,1,9,4,4,6,0,8,5,6,7,3,6,6,2,7,8,9,8,4,8,9,6,0,3,4,0,8,2,6,6,7,4,6,4,5,2,7,9,5,4,7,1,8,1,7,3,9,5,5,4,2,8,8,8,8,5,8,3,8,5,4,6,7,2,0,0,9,0,7,8,0,6,1,2,2,6,7,2,7,5,7,6,5,1,5,8,9,5,1,2,9,1,1,7,2,6,0,1,0,1,0,1,6,4,0,0,8,7,5,1,4,9,6,7,1,9,7,7,4,3,9,0,3,5,2,3,9,2,7,0,0,0,2,6,4,5,9,7,8,0,3,8,8,0,9,7,1,1,2,6,4,4,3,7,7,0,6,5,6,9,6,7,9,3,2,2,2,2,1,5,1,0,6,4,8,6,4,6,7,6,3,9,9,1,8,6,2,8,0,3,1,3,7,5,5,8,6,7,4,2,8,1,0,6,1,1,4,8,5,1,9,7,3,5,2,0,6,2,5,9,1,3,3,0,9,9,7,8,0,6,2,4,0,0,9,7,1,8,3,5,9,6,1,9,7,7,2,0,9,1,4,2,2,2,1,5,8,8,2,7,7,5,6,9,7,7,4,0,5,5,7,0,9,3,3,5,6,4,4,7,0,6,2,3,7,5,5,4,3,7,8,5,0,8,1,7,3,7,9,4,4,8,1,5,5,2,0,4,4,6,4,5,4,2,2,0,6,4,5,2,5,6,5,2,2,8,6,0,0,2,7,7,1,2,6,0,3,0,5,0,1,0,9,9,6,7,1,8,4,7,4,4,3,1,4,3,7,9,5,0,3,2,6,3,1,9,6,9,9,4,2,1,9,9,2,2,0,2,6,2,8,8,0,2,1,2,9,6,3,9,6,4,5,8,1,6,4,2,2,4,5,0,8,6,6,8,5,2,7,5,5,4,4,5,6,3,5,0,8,9],\"yaxis\":\"y\",\"type\":\"scattergl\"}],                        {\"template\":{\"data\":{\"histogram2dcontour\":[{\"type\":\"histogram2dcontour\",\"colorbar\":{\"outlinewidth\":0,\"ticks\":\"\"},\"colorscale\":[[0.0,\"#0d0887\"],[0.1111111111111111,\"#46039f\"],[0.2222222222222222,\"#7201a8\"],[0.3333333333333333,\"#9c179e\"],[0.4444444444444444,\"#bd3786\"],[0.5555555555555556,\"#d8576b\"],[0.6666666666666666,\"#ed7953\"],[0.7777777777777778,\"#fb9f3a\"],[0.8888888888888888,\"#fdca26\"],[1.0,\"#f0f921\"]]}],\"choropleth\":[{\"type\":\"choropleth\",\"colorbar\":{\"outlinewidth\":0,\"ticks\":\"\"}}],\"histogram2d\":[{\"type\":\"histogram2d\",\"colorbar\":{\"outlinewidth\":0,\"ticks\":\"\"},\"colorscale\":[[0.0,\"#0d0887\"],[0.1111111111111111,\"#46039f\"],[0.2222222222222222,\"#7201a8\"],[0.3333333333333333,\"#9c179e\"],[0.4444444444444444,\"#bd3786\"],[0.5555555555555556,\"#d8576b\"],[0.6666666666666666,\"#ed7953\"],[0.7777777777777778,\"#fb9f3a\"],[0.8888888888888888,\"#fdca26\"],[1.0,\"#f0f921\"]]}],\"heatmap\":[{\"type\":\"heatmap\",\"colorbar\":{\"outlinewidth\":0,\"ticks\":\"\"},\"colorscale\":[[0.0,\"#0d0887\"],[0.1111111111111111,\"#46039f\"],[0.2222222222222222,\"#7201a8\"],[0.3333333333333333,\"#9c179e\"],[0.4444444444444444,\"#bd3786\"],[0.5555555555555556,\"#d8576b\"],[0.6666666666666666,\"#ed7953\"],[0.7777777777777778,\"#fb9f3a\"],[0.8888888888888888,\"#fdca26\"],[1.0,\"#f0f921\"]]}],\"heatmapgl\":[{\"type\":\"heatmapgl\",\"colorbar\":{\"outlinewidth\":0,\"ticks\":\"\"},\"colorscale\":[[0.0,\"#0d0887\"],[0.1111111111111111,\"#46039f\"],[0.2222222222222222,\"#7201a8\"],[0.3333333333333333,\"#9c179e\"],[0.4444444444444444,\"#bd3786\"],[0.5555555555555556,\"#d8576b\"],[0.6666666666666666,\"#ed7953\"],[0.7777777777777778,\"#fb9f3a\"],[0.8888888888888888,\"#fdca26\"],[1.0,\"#f0f921\"]]}],\"contourcarpet\":[{\"type\":\"contourcarpet\",\"colorbar\":{\"outlinewidth\":0,\"ticks\":\"\"}}],\"contour\":[{\"type\":\"contour\",\"colorbar\":{\"outlinewidth\":0,\"ticks\":\"\"},\"colorscale\":[[0.0,\"#0d0887\"],[0.1111111111111111,\"#46039f\"],[0.2222222222222222,\"#7201a8\"],[0.3333333333333333,\"#9c179e\"],[0.4444444444444444,\"#bd3786\"],[0.5555555555555556,\"#d8576b\"],[0.6666666666666666,\"#ed7953\"],[0.7777777777777778,\"#fb9f3a\"],[0.8888888888888888,\"#fdca26\"],[1.0,\"#f0f921\"]]}],\"surface\":[{\"type\":\"surface\",\"colorbar\":{\"outlinewidth\":0,\"ticks\":\"\"},\"colorscale\":[[0.0,\"#0d0887\"],[0.1111111111111111,\"#46039f\"],[0.2222222222222222,\"#7201a8\"],[0.3333333333333333,\"#9c179e\"],[0.4444444444444444,\"#bd3786\"],[0.5555555555555556,\"#d8576b\"],[0.6666666666666666,\"#ed7953\"],[0.7777777777777778,\"#fb9f3a\"],[0.8888888888888888,\"#fdca26\"],[1.0,\"#f0f921\"]]}],\"mesh3d\":[{\"type\":\"mesh3d\",\"colorbar\":{\"outlinewidth\":0,\"ticks\":\"\"}}],\"scatter\":[{\"fillpattern\":{\"fillmode\":\"overlay\",\"size\":10,\"solidity\":0.2},\"type\":\"scatter\"}],\"parcoords\":[{\"type\":\"parcoords\",\"line\":{\"colorbar\":{\"outlinewidth\":0,\"ticks\":\"\"}}}],\"scatterpolargl\":[{\"type\":\"scatterpolargl\",\"marker\":{\"colorbar\":{\"outlinewidth\":0,\"ticks\":\"\"}}}],\"bar\":[{\"error_x\":{\"color\":\"#2a3f5f\"},\"error_y\":{\"color\":\"#2a3f5f\"},\"marker\":{\"line\":{\"color\":\"#E5ECF6\",\"width\":0.5},\"pattern\":{\"fillmode\":\"overlay\",\"size\":10,\"solidity\":0.2}},\"type\":\"bar\"}],\"scattergeo\":[{\"type\":\"scattergeo\",\"marker\":{\"colorbar\":{\"outlinewidth\":0,\"ticks\":\"\"}}}],\"scatterpolar\":[{\"type\":\"scatterpolar\",\"marker\":{\"colorbar\":{\"outlinewidth\":0,\"ticks\":\"\"}}}],\"histogram\":[{\"marker\":{\"pattern\":{\"fillmode\":\"overlay\",\"size\":10,\"solidity\":0.2}},\"type\":\"histogram\"}],\"scattergl\":[{\"type\":\"scattergl\",\"marker\":{\"colorbar\":{\"outlinewidth\":0,\"ticks\":\"\"}}}],\"scatter3d\":[{\"type\":\"scatter3d\",\"line\":{\"colorbar\":{\"outlinewidth\":0,\"ticks\":\"\"}},\"marker\":{\"colorbar\":{\"outlinewidth\":0,\"ticks\":\"\"}}}],\"scattermapbox\":[{\"type\":\"scattermapbox\",\"marker\":{\"colorbar\":{\"outlinewidth\":0,\"ticks\":\"\"}}}],\"scatterternary\":[{\"type\":\"scatterternary\",\"marker\":{\"colorbar\":{\"outlinewidth\":0,\"ticks\":\"\"}}}],\"scattercarpet\":[{\"type\":\"scattercarpet\",\"marker\":{\"colorbar\":{\"outlinewidth\":0,\"ticks\":\"\"}}}],\"carpet\":[{\"aaxis\":{\"endlinecolor\":\"#2a3f5f\",\"gridcolor\":\"white\",\"linecolor\":\"white\",\"minorgridcolor\":\"white\",\"startlinecolor\":\"#2a3f5f\"},\"baxis\":{\"endlinecolor\":\"#2a3f5f\",\"gridcolor\":\"white\",\"linecolor\":\"white\",\"minorgridcolor\":\"white\",\"startlinecolor\":\"#2a3f5f\"},\"type\":\"carpet\"}],\"table\":[{\"cells\":{\"fill\":{\"color\":\"#EBF0F8\"},\"line\":{\"color\":\"white\"}},\"header\":{\"fill\":{\"color\":\"#C8D4E3\"},\"line\":{\"color\":\"white\"}},\"type\":\"table\"}],\"barpolar\":[{\"marker\":{\"line\":{\"color\":\"#E5ECF6\",\"width\":0.5},\"pattern\":{\"fillmode\":\"overlay\",\"size\":10,\"solidity\":0.2}},\"type\":\"barpolar\"}],\"pie\":[{\"automargin\":true,\"type\":\"pie\"}]},\"layout\":{\"autotypenumbers\":\"strict\",\"colorway\":[\"#636efa\",\"#EF553B\",\"#00cc96\",\"#ab63fa\",\"#FFA15A\",\"#19d3f3\",\"#FF6692\",\"#B6E880\",\"#FF97FF\",\"#FECB52\"],\"font\":{\"color\":\"#2a3f5f\"},\"hovermode\":\"closest\",\"hoverlabel\":{\"align\":\"left\"},\"paper_bgcolor\":\"white\",\"plot_bgcolor\":\"#E5ECF6\",\"polar\":{\"bgcolor\":\"#E5ECF6\",\"angularaxis\":{\"gridcolor\":\"white\",\"linecolor\":\"white\",\"ticks\":\"\"},\"radialaxis\":{\"gridcolor\":\"white\",\"linecolor\":\"white\",\"ticks\":\"\"}},\"ternary\":{\"bgcolor\":\"#E5ECF6\",\"aaxis\":{\"gridcolor\":\"white\",\"linecolor\":\"white\",\"ticks\":\"\"},\"baxis\":{\"gridcolor\":\"white\",\"linecolor\":\"white\",\"ticks\":\"\"},\"caxis\":{\"gridcolor\":\"white\",\"linecolor\":\"white\",\"ticks\":\"\"}},\"coloraxis\":{\"colorbar\":{\"outlinewidth\":0,\"ticks\":\"\"}},\"colorscale\":{\"sequential\":[[0.0,\"#0d0887\"],[0.1111111111111111,\"#46039f\"],[0.2222222222222222,\"#7201a8\"],[0.3333333333333333,\"#9c179e\"],[0.4444444444444444,\"#bd3786\"],[0.5555555555555556,\"#d8576b\"],[0.6666666666666666,\"#ed7953\"],[0.7777777777777778,\"#fb9f3a\"],[0.8888888888888888,\"#fdca26\"],[1.0,\"#f0f921\"]],\"sequentialminus\":[[0.0,\"#0d0887\"],[0.1111111111111111,\"#46039f\"],[0.2222222222222222,\"#7201a8\"],[0.3333333333333333,\"#9c179e\"],[0.4444444444444444,\"#bd3786\"],[0.5555555555555556,\"#d8576b\"],[0.6666666666666666,\"#ed7953\"],[0.7777777777777778,\"#fb9f3a\"],[0.8888888888888888,\"#fdca26\"],[1.0,\"#f0f921\"]],\"diverging\":[[0,\"#8e0152\"],[0.1,\"#c51b7d\"],[0.2,\"#de77ae\"],[0.3,\"#f1b6da\"],[0.4,\"#fde0ef\"],[0.5,\"#f7f7f7\"],[0.6,\"#e6f5d0\"],[0.7,\"#b8e186\"],[0.8,\"#7fbc41\"],[0.9,\"#4d9221\"],[1,\"#276419\"]]},\"xaxis\":{\"gridcolor\":\"white\",\"linecolor\":\"white\",\"ticks\":\"\",\"title\":{\"standoff\":15},\"zerolinecolor\":\"white\",\"automargin\":true,\"zerolinewidth\":2},\"yaxis\":{\"gridcolor\":\"white\",\"linecolor\":\"white\",\"ticks\":\"\",\"title\":{\"standoff\":15},\"zerolinecolor\":\"white\",\"automargin\":true,\"zerolinewidth\":2},\"scene\":{\"xaxis\":{\"backgroundcolor\":\"#E5ECF6\",\"gridcolor\":\"white\",\"linecolor\":\"white\",\"showbackground\":true,\"ticks\":\"\",\"zerolinecolor\":\"white\",\"gridwidth\":2},\"yaxis\":{\"backgroundcolor\":\"#E5ECF6\",\"gridcolor\":\"white\",\"linecolor\":\"white\",\"showbackground\":true,\"ticks\":\"\",\"zerolinecolor\":\"white\",\"gridwidth\":2},\"zaxis\":{\"backgroundcolor\":\"#E5ECF6\",\"gridcolor\":\"white\",\"linecolor\":\"white\",\"showbackground\":true,\"ticks\":\"\",\"zerolinecolor\":\"white\",\"gridwidth\":2}},\"shapedefaults\":{\"line\":{\"color\":\"#2a3f5f\"}},\"annotationdefaults\":{\"arrowcolor\":\"#2a3f5f\",\"arrowhead\":0,\"arrowwidth\":1},\"geo\":{\"bgcolor\":\"white\",\"landcolor\":\"#E5ECF6\",\"subunitcolor\":\"white\",\"showland\":true,\"showlakes\":true,\"lakecolor\":\"white\"},\"title\":{\"x\":0.05},\"mapbox\":{\"style\":\"light\"}}},\"xaxis\":{\"anchor\":\"y\",\"domain\":[0.0,1.0],\"title\":{\"text\":\"LD1\"},\"showgrid\":true,\"gridwidth\":1,\"gridcolor\":\"lightgrey\",\"zeroline\":true,\"zerolinewidth\":1,\"zerolinecolor\":\"lightgrey\",\"showline\":true,\"linewidth\":1,\"linecolor\":\"black\"},\"yaxis\":{\"anchor\":\"x\",\"domain\":[0.0,1.0],\"title\":{\"text\":\"LD2\"},\"showgrid\":true,\"gridwidth\":1,\"gridcolor\":\"lightgrey\",\"zeroline\":true,\"zerolinewidth\":1,\"zerolinecolor\":\"lightgrey\",\"showline\":true,\"linewidth\":1,\"linecolor\":\"black\"},\"coloraxis\":{\"colorbar\":{\"title\":{\"text\":\"color\"}},\"colorscale\":[[0.0,\"#0d0887\"],[0.1111111111111111,\"#46039f\"],[0.2222222222222222,\"#7201a8\"],[0.3333333333333333,\"#9c179e\"],[0.4444444444444444,\"#bd3786\"],[0.5555555555555556,\"#d8576b\"],[0.6666666666666666,\"#ed7953\"],[0.7777777777777778,\"#fb9f3a\"],[0.8888888888888888,\"#fdca26\"],[1.0,\"#f0f921\"]]},\"legend\":{\"tracegroupgap\":0},\"margin\":{\"t\":60},\"plot_bgcolor\":\"white\",\"title\":{\"text\":\"LDA Plot\"}},                        {\"responsive\": true}                    ).then(function(){\n",
              "                            \n",
              "var gd = document.getElementById('7d6650e0-7f73-4747-8a10-8e9899ae67b5');\n",
              "var x = new MutationObserver(function (mutations, observer) {{\n",
              "        var display = window.getComputedStyle(gd).display;\n",
              "        if (!display || display === 'none') {{\n",
              "            console.log([gd, 'removed!']);\n",
              "            Plotly.purge(gd);\n",
              "            observer.disconnect();\n",
              "        }}\n",
              "}});\n",
              "\n",
              "// Listen for the removal of the full notebook cells\n",
              "var notebookContainer = gd.closest('#notebook-container');\n",
              "if (notebookContainer) {{\n",
              "    x.observe(notebookContainer, {childList: true});\n",
              "}}\n",
              "\n",
              "// Listen for the clearing of the current output cell\n",
              "var outputEl = gd.closest('.output');\n",
              "if (outputEl) {{\n",
              "    x.observe(outputEl, {childList: true});\n",
              "}}\n",
              "\n",
              "                        })                };                            </script>        </div>\n",
              "</body>\n",
              "</html>"
            ]
          },
          "metadata": {}
        }
      ]
    },
    {
      "cell_type": "markdown",
      "source": [
        "### **3D Visualization for maximizing the distance**"
      ],
      "metadata": {
        "id": "jQx1fhglT-9j"
      }
    },
    {
      "cell_type": "code",
      "source": [
        "import plotly.express as px\n",
        "fig = px.scatter_3d(df, x = x_train[:,0], y = y_train, z = x_train[:,1],\n",
        "                    labels={\n",
        "                        \"x\": \"LD1\",\n",
        "                        \"y\": \"LD2\",\n",
        "                        \"z\": \"LD3\"\n",
        "                    },\n",
        "                    opacity=1, color = y_train)\n",
        "\n",
        "fig.update_layout(scene=dict(xaxis_backgroundcolor=\"white\",\n",
        "                             yaxis_backgroundcolor=\"white\",\n",
        "                             zaxis_backgroundcolor=\"white\"))\n",
        "\n",
        "fig.update_layout(scene=dict(xaxis_showgrid=True, xaxis_gridwidth=1, xaxis_gridcolor='lightgrey',\n",
        "                             xaxis_zeroline=True, xaxis_zerolinewidth=1, xaxis_zerolinecolor='lightgrey',\n",
        "                             xaxis_showline=True, xaxis_linewidth=1, xaxis_linecolor='black',\n",
        "                             yaxis_showgrid=True, yaxis_gridwidth=1, yaxis_gridcolor='lightgrey',\n",
        "                             yaxis_zeroline=True, yaxis_zerolinewidth=1, yaxis_zerolinecolor='lightgrey',\n",
        "                             yaxis_showline=True, yaxis_linewidth=1, yaxis_linecolor='black',\n",
        "                             zaxis_showgrid=True, zaxis_gridwidth=1, zaxis_gridcolor='lightgrey',\n",
        "                             zaxis_zeroline=True, zaxis_zerolinewidth=1, zaxis_zerolinecolor='lightgrey',\n",
        "                             zaxis_showline=True, zaxis_linewidth=1, zaxis_linecolor='black'))\n",
        "\n",
        "fig.update_layout(title_text=\"3D LDA Scatter Plot\")\n",
        "\n",
        "fig.update_traces(marker=dict(size=3))\n",
        "\n",
        "fig.show()\n"
      ],
      "metadata": {
        "colab": {
          "base_uri": "https://localhost:8080/",
          "height": 542
        },
        "id": "lAUNNuEw8TGA",
        "outputId": "02300481-2f9b-4b84-918f-844bd23d148b"
      },
      "execution_count": null,
      "outputs": [
        {
          "output_type": "display_data",
          "data": {
            "text/html": [
              "<html>\n",
              "<head><meta charset=\"utf-8\" /></head>\n",
              "<body>\n",
              "    <div>            <script src=\"https://cdnjs.cloudflare.com/ajax/libs/mathjax/2.7.5/MathJax.js?config=TeX-AMS-MML_SVG\"></script><script type=\"text/javascript\">if (window.MathJax && window.MathJax.Hub && window.MathJax.Hub.Config) {window.MathJax.Hub.Config({SVG: {font: \"STIX-Web\"}});}</script>                <script type=\"text/javascript\">window.PlotlyConfig = {MathJaxConfig: 'local'};</script>\n",
              "        <script charset=\"utf-8\" src=\"https://cdn.plot.ly/plotly-2.35.2.min.js\"></script>                <div id=\"7693bce7-833a-4875-8fbc-50a423170182\" class=\"plotly-graph-div\" style=\"height:525px; width:100%;\"></div>            <script type=\"text/javascript\">                                    window.PLOTLYENV=window.PLOTLYENV || {};                                    if (document.getElementById(\"7693bce7-833a-4875-8fbc-50a423170182\")) {                    Plotly.newPlot(                        \"7693bce7-833a-4875-8fbc-50a423170182\",                        [{\"hovertemplate\":\"LD1=%{x}\\u003cbr\\u003eLD2=%{y}\\u003cbr\\u003eLD3=%{z}\\u003cbr\\u003ecolor=%{marker.color}\\u003cextra\\u003e\\u003c\\u002fextra\\u003e\",\"legendgroup\":\"\",\"marker\":{\"color\":[8,7,1,4,6,2,8,7,5,9,0,3,9,6,6,1,9,8,2,9,8,9,7,4,8,5,5,9,7,7,6,8,1,3,5,7,9,5,5,2,1,1,2,2,4,8,7,5,8,8,9,4,9,0,1,1,8,9,3,4,2,9,1,7,3,3,3,1,7,6,3,0,6,5,2,3,5,7,8,0,9,5,2,2,1,4,1,8,2,4,1,6,2,0,8,1,0,6,9,7,7,8,2,3,2,6,9,5,7,1,4,8,1,2,9,3,4,8,4,0,3,5,1,8,1,5,0,3,0,2,4,1,1,0,3,9,2,6,0,4,6,6,5,4,0,3,8,6,6,4,1,5,7,4,0,5,4,8,9,7,0,4,7,6,3,3,4,8,8,1,6,5,9,3,2,2,1,8,2,7,6,0,4,3,0,8,2,6,2,1,6,3,8,2,6,7,5,5,6,9,1,8,9,4,6,4,6,1,4,0,2,9,8,6,0,6,5,6,9,0,3,5,6,7,4,3,0,9,2,0,8,1,2,7,0,7,0,7,3,6,3,4,9,2,4,3,4,9,6,6,2,7,8,5,3,3,3,5,1,9,6,5,8,2,0,7,3,9,6,7,2,1,0,1,4,3,2,2,5,3,3,3,3,8,0,7,6,5,7,9,4,9,6,8,4,6,7,1,8,6,8,3,6,0,2,8,3,6,1,1,5,2,8,5,9,6,1,6,3,5,1,5,4,8,9,0,1,7,1,2,9,8,3,1,4,3,5,6,6,7,3,4,7,7,4,0,5,6,6,1,8,6,2,9,8,1,8,5,2,4,9,5,9,7,6,5,6,5,6,2,6,8,0,2,3,9,7,5,1,1,7,1,9,6,9,8,5,0,3,2,3,7,7,0,7,5,1,1,1,4,6,1,0,4,3,5,9,7,7,0,7,0,6,2,9,6,3,3,7,6,9,5,4,2,7,4,9,4,0,9,2,7,4,5,3,3,4,9,0,8,6,4,4,0,2,3,9,3,3,3,4,8,5,7,4,0,4,9,5,0,1,4,9,5,2,7,1,9,4,8,2,4,1,9,8,8,7,8,0,2,1,9,9,3,5,0,7,5,8,3,3,6,6,4,3,3,6,5,0,5,6,6,3,8,1,9,2,6,2,1,1,0,5,6,7,8,6,7,5,7,6,3,1,4,2,0,8,6,3,0,5,7,4,6,8,7,8,8,0,1,6,1,6,2,3,8,3,6,5,7,5,2,4,0,5,5,9,3,3,8,6,3,3,9,5,7,5,5,1,2,1,4,9,1,3,2,9,2,2,2,1,4,0,6,7,3,6,4,3,0,7,4,1,5,0,8,0,5,1,2,3,2,8,5,1,7,7,3,0,9,7,7,9,3,7,8,6,1,8,8,6,1,9,1,8,6,9,4,6,2,6,8,0,7,8,9,7,9,2,1,3,5,6,1,6,7,8,5,2,9,0,7,1,7,0,7,8,1,9,2,0,1,7,9,5,6,5,4,8,2,6,9,5,3,9,0,1,0,7,8,2,9,2,0,2,6,7,9,2,7,9,7,4,1,9,8,6,6,6,5,0,2,4,8,9,7,6,6,2,3,0,0,2,1,7,1,0,8,9,6,7,8,6,7,2,9,9,2,1,0,4,0,8,8,8,8,2,3,5,9,2,5,2,4,5,0,2,3,4,3,6,1,1,4,1,1,1,4,6,2,2,4,6,3,0,4,8,3,4,2,0,8,7,3,0,7,8,9,5,0,5,8,3,8,4,2,7,2,2,9,0,4,9,2,2,9,0,5,1,5,4,1,4,8,3,8,4,5,7,7,5,3,2,0,0,7,6,0,7,2,9,4,1,6,2,1,1,2,6,9,2,9,7,3,9,4,9,8,5,0,2,5,1,5,1,7,5,1,5,4,8,3,4,3,2,4,5,9,2,8,1,7,8,3,8,3,2,0,7,3,7,3,1,2,1,2,3,4,7,9,6,3,1,8,8,1,7,7,8,6,7,0,0,2,0,7,3,2,2,7,1,0,4,6,0,2,0,0,0,9,3,6,4,3,5,4,4,2,8,9,7,1,0,8,3,8,4,0,2,9,3,9,0,8,2,7,8,7,1,7,3,0,8,1,5,2,8,1,7,5,2,9,6,9,8,2,1,9,6,8,8,5,5,6,6,1,3,4,6,6,3,0,7,4,7,3,6,3,5,7,4,6,7,6,7,5,3,1,2,3,1,5,6,9,3,9,9,0,6,1,3,9,4,4,8,2,0,1,3,5,4,9,1,0,1,9,9,0,3,9,1,7,7,0,5,0,8,8,7,4,3,0,9,5,1,6,4,7,1,4,2,7,2,9,4,3,6,9,1,4,2,9,2,4,3,3,4,7,2,8,6,6,0,4,9,8,4,4,8,5,7,6,5,6,8,0,4,9,5,0,5,3,6,9,1,1,8,4,0,9,2,6,9,8,6,8,7,1,5,7,2,8,0,8,8,6,7,0,9,3,8,2,0,2,1,7,4,3,1,4,2,8,2,5,3,8,5,5,5,8,1,5,3,1,1,9,1,4,4,4,3,5,6,8,2,5,7,5,1,5,7,9,9,2,7,1,9,0,9,3,7,5,9,0,3,5,1,1,5,0,0,5,0,4,1,2,2,6,8,8,0,3,4,3,3,8,4,0,6,0,2,3,3,2,1,0,0,4,0,0,1,8,2,0,4,1,5,6,8,0,3,9,8,2,8,4,0,6,4,1,0,0,1,2,9,7,0,8,6,3,9,2,4,4,8,3,8,0,0,6,8,5,4,6,5,7,1,4,4,5,2,4,3,7,2,7,1],\"coloraxis\":\"coloraxis\",\"opacity\":1,\"symbol\":\"circle\",\"size\":3},\"mode\":\"markers\",\"name\":\"\",\"scene\":\"scene\",\"showlegend\":false,\"x\":[1.9526467178316467,-0.29612961323898684,1.7411150875778405,-6.3414776007291715,-3.3770521885296274,3.8178744961503654,0.6492338437986069,-0.2015435393484745,2.1765312880672316,2.2486161256231076,-2.688907255146694,1.6513591884158298,0.6033835454743588,-3.331252054374752,-3.855321725250418,0.11290570443661446,1.2466102850358916,-1.5621108784027053,4.138046118054364,1.1603711890693258,0.7088264841559343,-1.4427094841523904,0.882481139911788,-6.484582884803133,0.9421416066835757,0.6072687260210042,-1.0134401527471464,2.6145282556814964,-0.09053085432670442,-1.0425064698433104,-2.6543225129081875,0.17251886044590267,-1.6158481051690585,4.29205258821881,1.7198490551600802,-0.5332914442045219,1.4589655228421503,0.14204116781118034,0.31654268799213836,0.8113631058083998,-1.887434974925998,0.6691713947061217,3.6743186347393384,4.476597533246211,-5.80522030767305,-0.25469377506053786,1.3459113620252023,1.6003105724436109,2.228392392300329,1.6514645764336706,1.7977631205678366,-7.184779473760681,1.7608855001583363,-0.42335402973092523,-0.12804699919355356,0.9675077065865406,1.724848967667149,2.788008162045375,2.8984371135718363,-6.2786495097350095,3.252786914448748,-0.10500138455005857,-0.466924253090815,0.19166535231577692,1.907137466830606,3.601762972443932,3.7683641861895474,1.0294111472925755,-0.3630243892657385,-3.872485427741731,3.363785339929535,-3.19172768809727,-3.2682132047606793,-0.5441189125829113,4.210381987544142,3.769131031286485,0.5312159215474828,-0.6797822700259138,0.4481030535816592,-2.1938739517099624,1.411344212549375,2.9852505945544614,3.6795586377835074,3.5630075039893945,0.009938977771200687,-7.152725226605027,0.9041137217107784,1.8073771786819435,2.2429374350168176,-6.659284012891353,1.8321364017894772,-3.392389497667417,2.5640440490760175,-1.8727387208492123,1.4553226281450835,0.7189168911519637,-2.9782800536191782,-2.6263210130262076,-0.6066289799304461,1.5870048593777881,1.4327116877403054,1.7055314430175101,4.909185031153641,3.7576992660871706,4.15804730747047,-4.3011171314968095,1.1461416059859293,1.3061738159417204,-0.3586100748601952,0.891028517103594,-4.4634045277909395,0.6329788109636728,0.6768228982483908,3.3745958010094164,-0.17312073156431354,3.6787472614907553,-8.183762821931223,2.5289422889182425,-3.984605507505249,-2.5227706237065712,2.920428756175082,0.6821609338710788,0.719189438604362,1.3373405945461874,0.07384529276987054,1.4993017286407773,-2.9050055350183412,3.811214922305078,-2.6860941970928836,3.865697347493463,-7.106736225061975,0.9688224025636211,1.9282015924006353,-2.438350738877825,3.5672107364197956,0.27560046244044706,3.140310057363783,-3.691503390609369,-2.9438650142177973,-6.524685140539373,-1.8984170444605988,-4.342861774867697,1.0989492346643648,-5.909785802126517,-1.900445551900175,4.544027352279136,1.265908735819625,-3.243037962736579,-4.151481423254702,-5.8290677595769695,0.7977939402042922,1.2689715125750352,0.5186573484975296,-5.643449400620429,-1.5566824648972684,0.1737506417688246,-5.926757453584075,0.4508318775224992,0.9270524343004608,0.8451022365342638,-0.6413062573001316,-4.88267057630109,0.5747354102553789,-3.8075736328890755,3.3549263634005286,4.0523039257070375,-4.257115514745707,0.29127742217894165,0.4036711798510913,1.1715500811623762,-2.853175022379194,1.9356611199666443,1.7539726013540595,3.2366465972262306,3.8529089936857264,4.134905545671399,1.1823840372702223,1.8757699167139825,4.523564717108372,-0.638628610776886,-3.07213196484317,-1.6478645862029015,-3.7003393560646707,2.665733112044947,-2.5122227946462794,1.5639970550888143,3.6639370470689263,-3.775148665667762,1.7789219167838597,0.8106695543053002,-2.7309768248550124,3.8643590450922476,0.3396508572353164,3.3740703392150886,-2.6910091907617106,0.22795480363690085,2.9946963846036025,0.43672449809973934,-3.592993892784778,1.9133816453406174,0.857738649839463,1.1492653605078103,1.6076842376684721,-7.0164968095270925,-2.845256426764782,-6.466419474709562,-3.954370164641033,-0.10492627948178479,-5.924177414278845,-2.695068822871795,5.161867279557304,0.44466985901816813,1.3228738972227687,-4.8146912477648955,-1.9089427922935067,-3.1651046123129123,-0.897512647918328,-3.3853456810674727,-0.0058889484715430205,-1.697531374096005,3.9402610100405147,-1.343059975884235,-3.6149804393125824,-0.24098242350085586,-6.561760030290638,3.722925969560583,-1.8989230732259352,0.652291522729612,5.00011677246764,-1.7404052995855008,-2.361440702363299,-0.028858908031983266,2.9632158176580847,0.618258417016307,-1.507463934608706,-1.6213495304073315,-1.703485016011998,-0.06660455448875534,4.006849721813296,-4.392303124118033,4.278245184535505,-4.6294028881578795,1.410842103288612,2.4428048459949974,-4.748423179766622,3.733166209900776,-4.70226599639405,0.27648822127181927,-3.4183250408522743,-3.9809198872653297,4.3307070187739445,1.2763395233760981,0.5585566245309351,0.6128978918297617,2.7228235897793165,3.1311465823936153,3.847025574364326,2.673299361961254,1.1713683257339051,1.7887516943741248,-2.476143924673263,0.7757230581014726,0.20690624598052815,3.585417212046435,-2.199205395295459,0.873340096585439,1.4799895347533119,0.7593234069374326,-2.203609593920832,0.9291524724561248,1.7076910416497946,0.3767301804155118,-3.577416887822186,1.5156753564251897,-5.539785165180062,3.8885474710614303,4.173734351586708,3.090968040939046,1.7673743420797192,1.6740774089131367,4.059774539410014,2.339530877198232,2.8279729937168234,1.6170055014077636,-2.3139193079562994,-0.6959984093577868,-3.4142652293110967,1.406338029326286,0.3877476031176657,1.7287715589187536,-5.478767601753068,2.518892976151397,-2.442069342662878,0.7070702391751675,-5.230325089236559,-2.7265610067460093,-1.8303051275698268,0.7014248389262687,1.4775939150372526,-4.108544583300788,-0.3636299794396836,2.5402798505144517,-4.449851029855375,-2.1392741557435246,4.397929383635443,0.3925889247185117,4.660178874452949,-1.9514940355657628,-0.31518439233321077,-1.2108693465656069,1.1108070819941616,3.524336372959625,-0.748638733592241,1.8984291602823233,1.0746157240644791,-0.8715026930704066,1.298212734836839,-2.4212476001444134,3.700376208301848,2.4053641438503983,-0.48017702555381336,1.7564682502621312,-5.666290843990185,1.217929313361959,3.02990515407945,-1.3981847714040685,-0.8475909603428721,-0.18255844258995224,-0.3996685541023653,4.000348698206546,1.083035856548822,1.0263165112518782,3.0244561273463444,-0.1964754141266691,-6.218295635065267,4.918417906859875,1.4989612727220958,-2.712879423853916,-3.38626296618624,0.3589797784859134,1.9616568370928944,-4.930491424328836,-0.45309633323186305,0.30254871548658563,-5.409130368075812,-1.3215629558239446,2.2123221568171525,-2.4290849886698576,-4.647781430097068,-0.8131560355451986,0.2702459651943125,-3.803521645544519,4.677334173600132,0.8879477888485785,2.6807640063742952,-0.1112128629889345,0.48768820858494183,1.7504497995619641,2.659759157660088,-6.41721974316352,0.5074775968035364,0.4238700385024785,0.811157097226784,-0.2941150692865586,-2.495409968790792,1.5407744174783715,-3.6048180631805145,1.1999989511444717,-2.3097237848194805,2.3064876643251067,-2.834125153428987,0.3892773349073783,-1.3682840220069168,5.428065856167165,2.3399621396159374,-0.5760128379851639,-1.6668742905704235,0.24928156845886973,1.7739848323046912,-0.23155003495447277,-1.3777795472693466,0.49751982163467934,0.7602455702668565,-2.6316752850431144,0.9359685555084527,1.0911757909240496,1.9179336110360166,-3.870202520089916,2.387534717169821,1.219744480009437,5.108799229997127,1.2209033180423972,0.4070764802688102,-2.3616750750182574,0.5140233578201827,0.5841830529221141,0.5901471563955771,0.6633562205256589,0.16113175289381002,-6.595495824172641,-1.4663644399497948,0.6897567776364004,-2.6171224686157877,-3.359591480944331,3.8579936795436427,0.9426085965387395,1.1073825946601055,0.7371565185615045,1.0897513051169878,-2.111937678398102,-0.0889794704304062,-2.411494193080114,-0.25478602187485494,1.5189265532826082,2.034563126480703,-3.6302905559957894,3.75799930485966,3.2743373586700635,0.727495870712026,-3.3459935528329066,1.2388811413711338,1.37926075497057,-7.31510382974106,3.348557734702771,1.2961952642073002,-3.457776791049871,0.8057565031899194,-5.471374254351307,-1.3066257582891097,1.7388234271604666,4.756512815115372,-0.7635802452830013,-6.136525461452182,1.0775032611273663,3.8485770988402224,3.376283661044821,-7.772266919929397,2.6817192723110677,-3.9142498115904565,0.5466818967585252,-3.8354101729302106,-3.990809985162834,-6.078330451805225,-0.017158592746052293,4.334795106171923,3.6403474728585365,0.9727191509396395,1.7915108023402873,4.5886425897160965,4.311389835236424,-5.4192925508659595,1.9095035104089482,0.9601961846668964,0.2747384734898211,-6.326443768307485,-0.9038606471973005,-4.395420507786183,1.7209388581824245,-0.8798062903884917,-1.8272478968988557,-0.5746776776781404,-2.6180476547841764,2.1638144804179023,0.9384883948908006,5.472491600555143,-1.0203926581177412,-0.06290566153849182,1.4325447229017338,-2.950219777681891,1.4539126600778325,4.7605452608938235,-4.437764223806675,-0.9035111705496958,0.6148548421879241,1.5127284316818022,1.4368530144769796,-0.5316945910487222,1.0073436045325146,-1.2253671226361,3.5158637355148525,0.5725406531103914,2.1780529780468636,1.8605392745749523,3.8891014740710967,1.5854065751733994,-0.4340840577288509,0.8255966758561282,0.7783783951956664,0.46557650864563715,1.9187558156152917,2.6852604160547933,-4.072630566180039,-4.47958153119834,-4.862994881933253,3.254127673444484,2.0453856479532697,-1.979944792458965,1.203903775891649,-2.2456373396437677,1.113304521428313,-3.1834150583413363,-1.3909600275230676,2.5962954798252897,0.9702124823546666,1.058510149338491,0.37246828975113033,4.1373754342650555,-2.7394878613343323,4.244300758496732,-1.429304958958775,0.15666929527871495,-3.11250936130528,1.3670592858615007,-3.4050342439532235,-0.3222525762954866,0.8281718505700094,-1.5836199874787174,-0.6234181004656781,0.6480162652416208,0.9604909345825313,-3.9698780947242547,1.8919861067625339,-0.9619830824479804,-3.1227488501000864,2.6038080064691473,-2.0127549473142996,1.6682102770440148,-1.8815258721703374,4.3306928363302735,-1.8941496665164024,1.5105723405502158,0.07169501494790306,-4.442605313115033,-2.036608038868448,-1.2741966779258223,-1.0367467263063563,-0.11036991849306964,1.843184081959149,-2.8861959939595874,-0.7792350852244964,-3.2870930161684466,0.5088970410983733,-3.2272696287245823,4.068014143822167,4.440858988629666,1.3620075580110023,2.915583991973867,-2.0793539632179225,2.246079899833705,0.9421580370898944,1.8880175436184492,4.041660939266242,-6.732531446266184,-3.4136456617042334,0.03588104377341118,-0.49877057597171076,1.0007610257283648,2.4310731538476924,4.176486516956434,-0.3747861870163952,-4.805945392997621,3.9627783407825357,2.599426400327833,1.0418315844979391,1.7057286383938866,-0.581324756552913,2.0631262817118277,-0.25622497679955264,0.6905275033077588,4.256147635344734,-0.8526792078341999,-6.143335966737441,2.050542680369285,-0.14608698653156835,2.381751014327422,3.4242928516670434,1.7087108142600356,4.417436695281607,4.55245404781277,4.329457966911164,-0.6423793428759225,-0.5023409171115876,-2.641539778719324,-3.1420428321204117,0.410453267584086,5.066802359269073,-2.7228407474235716,-4.88401497003271,3.8237060366256483,-4.14652149666503,0.9853601384666447,-7.026823616967526,-0.6653007701265454,1.7896887640211119,-1.3798877116159545,0.7953881473718523,-2.1383764889016748,1.757683878184102,1.000258540872797,1.9274379037509526,3.1922861813822094,4.892845205466099,0.5414095619599255,1.7230142009088594,0.26852304300212504,0.8267064104633735,-2.885553690011706,3.2134213106273952,-0.9379896850314438,0.16131310733547055,0.7479517824841875,-0.7836024752631587,2.3397919803826506,2.6724185753243774,-0.670049644988018,2.449965957485056,-3.8138452718364357,0.1821485247117226,-0.12373990920030921,1.6745304486765102,-4.677079868040982,-0.04201004136191343,1.8171332031124061,0.2714319784728021,1.2079466208844285,-3.2510573233334132,2.1194196493275212,-7.57897925994903,-3.7576381928333302,3.372001174658929,-3.606506485461931,1.0963671162001176,-0.7120393045464392,1.7301409597684747,1.341769268271472,1.2138188277111885,-1.3231867401945485,0.3640139251787953,4.636525796085946,1.033501191070884,3.6502514249677387,0.9339482883776765,-4.047015407813094,-0.2675851638391948,-2.1623972527071054,-0.29606796745154124,1.3385996390555872,0.9091078393438108,4.793852100066848,2.0953889420437815,-3.101624312952302,-0.7632698921088427,-0.048344479158876165,0.26492647871708447,-2.79056225538346,0.1860679290207246,1.8829436122030279,3.109234499768741,0.9201523023840468,5.04076925577153,-1.7209029103732647,0.32562468384902155,-0.08362186500451944,1.0548955294890248,1.4207893472042763,-4.258403181228796,-0.9786860669406632,-3.966662901022777,1.4896129844020238,1.5279932156550449,-1.1737927681199325,2.878729731233558,0.9521657406920948,3.616189909439557,1.9255318239830541,-2.1263476580861655,0.908972197871095,-0.31553725528719084,-0.7354203012443242,1.1120973954435898,2.38062366209914,1.8070171585153993,4.764500877580876,-1.7713380670097831,4.665801883333939,-4.821211252404354,-0.6688753244933496,1.0939420232345098,4.0447288530067125,0.08425744821675771,-0.2528760676673606,-3.1253933592286405,-7.0227898362770125,1.5338185822019106,0.12297312431270277,0.18625321932214312,-2.4815689687196993,-4.462046244497807,-2.436398447384079,-0.05297401741986243,-2.080153953501402,3.306360554664837,-6.203923947807588,1.0357307949473666,0.3415581633612257,0.038966310809890006,-3.032310513349704,-1.874113763975921,4.4595164411001855,5.215231495450149,-2.1352143354524378,-2.67539094398153,2.2717213902339126,-0.21242314109940252,0.17604909686967424,0.8919799438980853,-2.2611848522878457,0.3475702563337405,1.3404486243158062,-3.8432378120333133,0.10916014358178955,0.23372891766136533,-3.3726265864910148,-2.01103950890175,3.261083761026883,2.460181496523964,2.041616521199414,4.07142706478042,0.6925984459643362,-0.4151828088829078,-5.392021076332593,-2.6933223809704554,1.6876891880805935,1.0694167078369379,0.7624869165745957,-0.7157502613739498,4.839922914180898,4.314969328799763,-1.3077491752068842,0.6425810210441689,3.718222513329519,0.011924590330649699,3.7040125405398054,-4.8774258939332205,2.1924611541601906,-1.610326054278069,5.529286683513421,3.7788000521969334,-4.371951558281341,2.8088650733393856,-3.9656119794298363,-0.1330620536715951,0.800387122236294,-6.280269296445616,-1.3598685399318622,-0.9620550640759781,1.0123519507047118,-6.186369171664097,-3.4637090241088084,2.539125348630496,3.933312327745501,-0.33329404941886304,-2.705091616049443,2.821435399831202,-2.2676560869657187,-5.62896372616311,-1.208864598155544,3.1699892851095304,-7.229504334153457,2.807190145141875,-1.827864827407018,0.44957282023787093,-0.24020773597088774,5.3683035671601065,-1.7185360605849456,-0.3911162880153229,0.6263494000217816,1.1181171256626024,1.6266444735031256,-2.1967776676785835,-0.7189095532900807,-0.3687852904889976,4.186710473255146,1.4539220621021602,-6.0266138927078,2.3067975257309663,-0.6181692300308348,3.862775697258231,3.98504239752776,0.7934067224147862,-1.0472745746854055,-5.394095688404131,2.470760810482412,3.6631875417098465,4.2255839584874675,-0.11033092363379911,-2.028468934697558,1.83904091006814,-0.2543871560848002,-0.2897317211139082,-6.318915466645561,1.7645691124861596,-5.432129594712635,0.7356325359362427,4.669461884372191,0.03679450502475911,-5.654528054697534,1.94055957722273,0.9014738278117851,0.7019658997813654,0.12872857832894666,4.335605034679651,3.627284696998574,-1.956926844431407,-2.7839300259360416,0.5836160965081238,-3.696881160381649,-1.7575385710014033,0.4622282781213335,4.7586278744341195,1.7903401150343197,-6.081063820796472,0.554752473168694,-1.6419584692492657,2.3325817013604526,-0.24510999898488262,1.5462138161095527,3.5825395908916855,-4.420969017864619,0.21262353616678117,2.670204965919894,1.533174725292638,0.1649496805498066,2.9869435856335502,1.4203618818873753,-7.594392602788405,2.9914689984537604,0.8753669493539716,0.611588997771696,-3.8997749782667595,2.4729482859449434,0.7755229795481011,-0.23767291151534858,0.3909807888863795,2.0419486820256787,-1.468399954739381,0.6280194169597155,0.8055469625577683,0.007995879808744178,-5.764781677849561,0.07821204084595886,2.20350897512122,-4.974163049784171,3.1672463775083433,2.897160173612639,-4.559992633668623,2.04185551703764,-0.6396083535747741,3.458786697683363,-0.5482209509441932,1.337194483335007,-0.8314947383106323,0.11607920992587537,4.286672307917714,1.7797280253693721,2.3054579438647593,4.639394842542744,-0.6610646204631814,1.0329971024960318,3.2769228468417007,0.7184815447193325,1.9774624863888226,0.49357072532746715,4.524453193413534,1.0506539046886627,4.295699932091103,4.770096521618628,-3.3338938537153857,0.36941535869212255,2.0647057411727814,-3.980131496344495,3.7786886893348055,2.1268368088452045,1.405442394660182,1.03818395791809,1.0093500494732144,-1.2354971228191156,-0.15828561466170735,0.8720428969464593,-2.6721096667305346,0.5976344927453452,-2.127128048344144,-1.429367896493908,3.7558409035840077,-1.3630508333088815,-0.41428866940877146,3.170009067920234,4.002421953787717,3.3040839195778684,-0.48796720026527074,0.8733256332829461,-0.5174432096424785,-5.77781333648402,-2.2977775567536045,-2.1600072080689365,4.037867928459861,-0.708166486415881,-2.8024274721376616,-2.1312278001690257,2.358907674034809,3.8882745851441545,-3.0050380780614585,-6.340963304163052,2.6536199574340875,1.665734183842814,-7.195540009293098,-4.095711313624664,4.198356234434505,0.3164210758160784,1.571955369650351,0.8017288848087247,0.1402268872362792,-1.251856721746465,1.5394131785837717,3.355513870112636,-0.6883908596025795,-6.334387808393609,-2.70109985684231,4.017102373208963,-1.326494823920662,3.5537893868265824,2.4678188020187184,-1.4100738586860295,1.2400662138096354,3.3351354205308392,-1.5862441858566614,1.2926800088453594,0.5236003626360612,-0.5916151752652945,-2.6270898770515037,3.369683448909556,-1.7256852024900668,1.3521605971367165,-0.31410559709860814,0.34933078407388257,3.0101273032365734,-0.28055518611768443,0.3630783740590514,-0.22600751107318026,-1.4020579046497639,3.472288306841791,1.7098912248417124,-2.6988664360003622,1.260503256340388,0.9365987621731525,3.045570029468671,-0.28760390954515824,1.4322654634122196,-2.835021984514841,1.3095062191527866,0.43290331994792364,1.7720362431382488,-0.6398434414231999,-2.916188676219613,-3.331628642453373,1.987256888984441,4.5302390294247195,-6.951895119723869,-3.1468748625754275,-2.818731810883964,3.4063831606032244,-2.0917065071663377,1.0601912790464298,-5.644080813590283,-1.1619731311026293,1.8671312384652132,-1.9830396883071226,2.650176455834735,1.646954065406611,-1.303488607161857,-7.219506942071495,-3.0587358158808517,0.09448468483239722,-3.00311375555816,-1.5482784070294673,-0.005294463884681538,3.2302905716673775,2.371395774457643,3.4273976270822333,3.796004631150034,-0.11400550074957322,-0.7419636303770195,-3.3953952162508716,0.5426978490928138,4.839060040294046,-1.2942321418805505,1.554843923965058,-1.7452360081882619,-4.396031792633398,0.5652915115311707,3.1961416929642747,1.7078637166877835,-6.825187277133672,-4.758636516124344,1.2962792075037604,4.69528334284568,-2.7976370017639267,0.15195248792722804,2.936730073790784,0.29784200708114233,-6.897510859756215,2.2241203289619365,-0.02140682797033636,-2.2722294648657138,1.3450785432363535,0.005919291991335297,0.6437874479737711,-2.9769017812373444,3.7968528175341993,0.6052990093882524,0.18034750009418898,-0.748090720570051,-0.8792379696992558,-2.7241240879041,0.959776525960034,-3.723903721072211,1.0509771504076026,0.1753192047629975,0.08413160547796669,-5.864412649699352,5.103178674614723,-2.0096096305157047,1.777656775416406,-0.3812374980091226,-1.18722283157578,-2.71246086010841,-5.722037975885092,0.05378547034018291,0.883607115872628,-7.60686004163501,4.444053886449403,0.25441689155109976,4.15742964695132,2.333000751102506,-6.9622350768607,4.262492334805862,-2.078940612154373,2.3092406233487526,2.8239354919527555,-5.378663903434378,2.999391986563184,1.5999146683365721,2.925247791763708,-6.14527219164663,3.1375220762922518,5.0820154451930675,-7.199156412981655,-0.375247447368865,3.290636327288002,0.6953603893683773,-2.2242731591319647,-3.562125249528018,-3.7419938450139654,-0.38341134045731484,1.9286526345232762,0.9056909317607866,-6.850901769919165,-5.870148192159818,1.2321008424191942,-0.8252763299057099,1.088182959038629,-3.9688563741881904,1.7133938424581656,-3.3931238863142954,0.8153985902298222,-1.89542195854433,-6.719215741978874,0.016767064392875907,1.6050948945068622,-1.6742321351643903,1.8767997704557058,3.2725215252689006,-0.5894865258778632,-0.12082660218984188,0.786800346799416,-1.12896489953952,0.934718939777429,-6.200473064821192,-2.7408690483750155,1.9199993995234752,2.658302774710896,-2.4486736280425,2.8866885522174544,1.3133900814329829,-3.759304042612713,-1.2102825155498742,0.027472740635211056,0.3005870997721748,0.6879081871325694,-0.9054848803552884,4.247878264598663,1.3466675776672543,-1.9625350095106828,0.991051694562474,0.6486356974563176,-3.1139207359128322,1.0721804084568887,-2.8519965264753284,0.7876781322473928,4.944801378460549,-0.07880942426185092,1.1875854922874827,-2.123119133049716,4.141205759150532,0.11891725714760595,0.25023966746352183,-5.323369901792999,0.9128170884627534,-0.09666747427772422,-4.326785780475338,4.096502668478152,1.3256089188748157,4.870814081313501,1.2906954365084404,2.9499616990229254,0.632631645307224,1.7003724168074286,2.771539958393848,2.571468320744924,1.1377831044502755,2.5097765269352035,0.2575969871669375,5.68267179802207,0.5055982054960924,-0.3935061888757076,0.5011215389914754,-0.4102847027291036,-6.001710058298077,-7.694832601853296,-5.8449151713807295,3.592600984055333,-1.2720874690090787,-2.918255307569413,1.3111588175465128,2.7258365427659066,0.641218761706341,-1.2143753541243096,1.5458501261678221,-0.5503638948614716,2.6187915767983734,0.08068219552997355,-0.05433466709771064,1.3647063921933782,3.787995051762045,0.14927511720554296,1.2628116856728007,1.9877952064306497,-2.546456883782478,1.9078533392961294,3.6619008357312124,-0.7391865315903672,1.6265365345930693,1.9079538149107886,-2.5189028443299337,4.219271070512711,1.3356779995753512,1.5990734417483947,2.6911139625008897,0.34636721076945887,-1.926353571928578,-2.9529713266590587,2.920642308040388,-0.7402927949737259,-6.840605893036899,0.6937547652664515,4.37422981312233,2.7572929153991725,-2.347218885997225,0.4092542925111852,0.8032855210507187,-1.3589120935607946,3.7802319097582435,-6.9575257718668055,4.420327903324677,4.460564382291857,0.24422451068575401,-6.535431050947059,-1.4814696849322464,-2.869057694712736,-1.1409694329576872,1.9649097377351674,4.939649363300399,3.5564262535941173,2.1149473947653554,1.1971749021977318,-3.6049575251582078,-2.683607533862375,-6.930018438903103,-1.7582799563628226,-2.9560770205291376,1.3570382218574724,0.0750971103548925,5.70814250382386,-2.606471467530083,-5.31801431245412,-0.5875767152281905,1.4944238472093039,-3.146858305182279,0.5244228245464738,-1.7071128747524407,4.07333200802175,1.8881312987081673,1.0047511493241574,3.4726831957242474,-0.056388720041274834,-3.1222098750648235,-1.0626107368433486,-1.8011366393203982,-6.2148302288322155,-0.17036933529396905,-2.1242275040086454,-3.3136439072851784,1.369904847394487,3.9165645699641427,2.0989880917960977,1.4094333092021027,-1.40607769519873,0.9831164057281677,-2.9058249909107396,3.5106958845933094,0.5445045075210623,4.873069857929751,-6.628316843589771,-7.3166815797620375,0.7087943465292136,4.156151325912104,-0.7139430901768923,-2.809707858964067,-1.353819473794724,-2.8175122642451855,1.4678250900167125,0.7584087889197952,-4.76032535817057,-3.639745514110033,1.9007329743757964,0.3769003892407197,0.1750489359052647,-4.209022996942562,-7.239012610031122,1.4647498229738452,1.7373002044063968,-1.2127536883278354,4.313554694584509,-0.10306533294114982,4.54496771156667,-1.871234855214705,-0.9223977139148084],\"y\":[8,7,1,4,6,2,8,7,5,9,0,3,9,6,6,1,9,8,2,9,8,9,7,4,8,5,5,9,7,7,6,8,1,3,5,7,9,5,5,2,1,1,2,2,4,8,7,5,8,8,9,4,9,0,1,1,8,9,3,4,2,9,1,7,3,3,3,1,7,6,3,0,6,5,2,3,5,7,8,0,9,5,2,2,1,4,1,8,2,4,1,6,2,0,8,1,0,6,9,7,7,8,2,3,2,6,9,5,7,1,4,8,1,2,9,3,4,8,4,0,3,5,1,8,1,5,0,3,0,2,4,1,1,0,3,9,2,6,0,4,6,6,5,4,0,3,8,6,6,4,1,5,7,4,0,5,4,8,9,7,0,4,7,6,3,3,4,8,8,1,6,5,9,3,2,2,1,8,2,7,6,0,4,3,0,8,2,6,2,1,6,3,8,2,6,7,5,5,6,9,1,8,9,4,6,4,6,1,4,0,2,9,8,6,0,6,5,6,9,0,3,5,6,7,4,3,0,9,2,0,8,1,2,7,0,7,0,7,3,6,3,4,9,2,4,3,4,9,6,6,2,7,8,5,3,3,3,5,1,9,6,5,8,2,0,7,3,9,6,7,2,1,0,1,4,3,2,2,5,3,3,3,3,8,0,7,6,5,7,9,4,9,6,8,4,6,7,1,8,6,8,3,6,0,2,8,3,6,1,1,5,2,8,5,9,6,1,6,3,5,1,5,4,8,9,0,1,7,1,2,9,8,3,1,4,3,5,6,6,7,3,4,7,7,4,0,5,6,6,1,8,6,2,9,8,1,8,5,2,4,9,5,9,7,6,5,6,5,6,2,6,8,0,2,3,9,7,5,1,1,7,1,9,6,9,8,5,0,3,2,3,7,7,0,7,5,1,1,1,4,6,1,0,4,3,5,9,7,7,0,7,0,6,2,9,6,3,3,7,6,9,5,4,2,7,4,9,4,0,9,2,7,4,5,3,3,4,9,0,8,6,4,4,0,2,3,9,3,3,3,4,8,5,7,4,0,4,9,5,0,1,4,9,5,2,7,1,9,4,8,2,4,1,9,8,8,7,8,0,2,1,9,9,3,5,0,7,5,8,3,3,6,6,4,3,3,6,5,0,5,6,6,3,8,1,9,2,6,2,1,1,0,5,6,7,8,6,7,5,7,6,3,1,4,2,0,8,6,3,0,5,7,4,6,8,7,8,8,0,1,6,1,6,2,3,8,3,6,5,7,5,2,4,0,5,5,9,3,3,8,6,3,3,9,5,7,5,5,1,2,1,4,9,1,3,2,9,2,2,2,1,4,0,6,7,3,6,4,3,0,7,4,1,5,0,8,0,5,1,2,3,2,8,5,1,7,7,3,0,9,7,7,9,3,7,8,6,1,8,8,6,1,9,1,8,6,9,4,6,2,6,8,0,7,8,9,7,9,2,1,3,5,6,1,6,7,8,5,2,9,0,7,1,7,0,7,8,1,9,2,0,1,7,9,5,6,5,4,8,2,6,9,5,3,9,0,1,0,7,8,2,9,2,0,2,6,7,9,2,7,9,7,4,1,9,8,6,6,6,5,0,2,4,8,9,7,6,6,2,3,0,0,2,1,7,1,0,8,9,6,7,8,6,7,2,9,9,2,1,0,4,0,8,8,8,8,2,3,5,9,2,5,2,4,5,0,2,3,4,3,6,1,1,4,1,1,1,4,6,2,2,4,6,3,0,4,8,3,4,2,0,8,7,3,0,7,8,9,5,0,5,8,3,8,4,2,7,2,2,9,0,4,9,2,2,9,0,5,1,5,4,1,4,8,3,8,4,5,7,7,5,3,2,0,0,7,6,0,7,2,9,4,1,6,2,1,1,2,6,9,2,9,7,3,9,4,9,8,5,0,2,5,1,5,1,7,5,1,5,4,8,3,4,3,2,4,5,9,2,8,1,7,8,3,8,3,2,0,7,3,7,3,1,2,1,2,3,4,7,9,6,3,1,8,8,1,7,7,8,6,7,0,0,2,0,7,3,2,2,7,1,0,4,6,0,2,0,0,0,9,3,6,4,3,5,4,4,2,8,9,7,1,0,8,3,8,4,0,2,9,3,9,0,8,2,7,8,7,1,7,3,0,8,1,5,2,8,1,7,5,2,9,6,9,8,2,1,9,6,8,8,5,5,6,6,1,3,4,6,6,3,0,7,4,7,3,6,3,5,7,4,6,7,6,7,5,3,1,2,3,1,5,6,9,3,9,9,0,6,1,3,9,4,4,8,2,0,1,3,5,4,9,1,0,1,9,9,0,3,9,1,7,7,0,5,0,8,8,7,4,3,0,9,5,1,6,4,7,1,4,2,7,2,9,4,3,6,9,1,4,2,9,2,4,3,3,4,7,2,8,6,6,0,4,9,8,4,4,8,5,7,6,5,6,8,0,4,9,5,0,5,3,6,9,1,1,8,4,0,9,2,6,9,8,6,8,7,1,5,7,2,8,0,8,8,6,7,0,9,3,8,2,0,2,1,7,4,3,1,4,2,8,2,5,3,8,5,5,5,8,1,5,3,1,1,9,1,4,4,4,3,5,6,8,2,5,7,5,1,5,7,9,9,2,7,1,9,0,9,3,7,5,9,0,3,5,1,1,5,0,0,5,0,4,1,2,2,6,8,8,0,3,4,3,3,8,4,0,6,0,2,3,3,2,1,0,0,4,0,0,1,8,2,0,4,1,5,6,8,0,3,9,8,2,8,4,0,6,4,1,0,0,1,2,9,7,0,8,6,3,9,2,4,4,8,3,8,0,0,6,8,5,4,6,5,7,1,4,4,5,2,4,3,7,2,7,1],\"z\":[-0.2643444821182586,0.5665339434226945,3.271514348929591,1.571978094659619,0.3248118706164812,2.6205994898089613,0.7156142110430582,0.27193013037317076,-2.606240372782238,-2.8471997732523433,-6.296328715087584,-0.8116269785825373,-3.11189523481229,0.6147390930801953,1.7856537068767608,2.9082110868502333,-2.14893448558479,3.0926619367813424,4.2838888370002275,-2.0557924270293935,-0.26090656959472536,-0.7179857578846319,0.4333946362022911,3.0958331455797836,0.03688559130180361,-2.3999133840656146,-3.6120688276660498,-4.267033512772659,0.8885787986721698,-0.3160479417540252,1.573568932531154,1.1687611873692956,0.718605029322867,-1.9899747304212323,-3.568755427601739,-0.31074653372264954,-3.304767336636748,-2.3408576215418484,-2.562876071893924,3.6230488765458597,2.3678336155763624,4.182807919735471,4.0235659388712195,1.9915050799799439,-1.9546790455249943,-0.302277300027212,1.2356676313902335,-1.036259494104166,0.08200193183406974,-1.3266233553613378,-1.2088042462636386,1.0321884544610587,-1.5450745902784278,-5.6061401872087755,2.4704955072347468,3.829275719884777,0.6022990325341956,-0.5994640806928594,0.7628372900265445,1.6261177536595015,1.8900634569139976,-0.2501734652335541,3.1036967466868837,0.033329623496287535,-0.3796515405960127,-0.4042126243443762,-1.6779890828042814,5.729084690013045,2.6637573494482414,0.7139313572920345,-0.7507797004578121,-5.00830336432104,1.7947633129589005,-2.80201495157968,2.2292112588614303,0.6332739365137396,-2.651707188293006,1.3317881819029769,0.6335782202246721,-2.3910807272417443,-2.4244766270314746,-0.35114137384109684,0.403657389879908,2.2816126913285335,4.375214432376705,2.300731926421,3.263324302177839,-0.4133089093817911,1.5646449187926166,2.6310498985089668,2.687890655219194,0.5580654668525096,0.580738768055147,-4.6911036299722575,0.681244479796387,4.570192767783453,-5.390711055200987,0.5863872167079041,-0.3762842541724958,0.5590970108880025,-0.1004144930009342,0.634060415539511,3.109231831983037,1.3324621568670136,1.7568772365766514,1.738032450146082,-1.0581708219655193,-3.6942059952871675,0.13413594752700056,3.2191751694142665,2.478902776074784,1.9620358657591088,2.820263717684638,3.5385158344872134,-1.0143868787743793,0.5883995444119126,1.9724057888137663,0.3144841241326461,1.362083806167487,-4.023638193354244,-0.08843027208847433,-1.4752997783005553,3.6919944758863776,0.7026453856785377,4.263004988974911,-1.179991694157248,-2.1527388123076574,-2.6805669945939896,-5.159005867033951,1.5553884702138079,1.956946435856499,2.927748697310302,2.345004739932854,-5.610964938496367,-1.1904443253558605,-4.173258039338235,1.6142610987789905,0.4833087632318325,-3.4143468874374445,2.690558322845298,2.603620500339783,0.9827060827734253,-2.562265358682621,0.9650336597199274,-4.066231259091636,-0.47432567683794824,0.4662069685731773,2.031567903985759,1.549979179663167,1.1774240074510192,2.880077092055806,-1.1575531810858968,0.39934569579517537,0.2541483139168082,-4.265527304261855,-2.8580652458677482,3.1297173128409983,0.1939657911148747,-2.144425908834885,0.566446021753549,-4.60271365723552,-0.6966486458874792,1.739076742767774,1.895738471475352,0.390110485677327,-0.8455083935091412,2.9545183362761347,-0.11784976498514156,-0.7007655133117794,3.5607993072296984,2.312484491993446,-2.338652320875259,-2.5552116816501753,1.1885760895391455,2.888597382783518,0.8480606368679526,2.822325513145065,1.57576788512729,3.36276037151522,-0.21580983819737443,-0.06820876623160947,-4.805819517536199,2.233061722728843,-0.3643355044632958,-5.9431310648929285,0.05826143599326342,1.2015028534374503,1.0267796617577558,0.38738115736945067,3.4204836565291297,0.27881304463806983,0.0866220977284448,-0.6914520627518198,1.5542050578423738,2.6767397771993395,0.5799869703110796,-1.9859330515661935,-3.8152446324187674,0.8954023243600574,-2.508429168123738,3.978815601562236,1.7255658734926629,-3.2155377400400726,2.3732662250127583,1.9667294188801934,1.547375150081158,0.9349448958894533,0.9394517313477125,1.7818392303530708,-4.23439535711248,2.6164276112723774,-0.38857279654301713,0.9816425306903864,1.390952454435289,-5.085125308649448,2.5998594587517663,-3.268030393277136,0.875946929576406,-1.0514531210035394,-2.855881092226144,0.011464919585798919,-2.51453957162643,-0.7375242180612499,-0.9070742115823953,0.8278576649667948,0.8938855985367158,-4.723800403232676,-1.4930395195986599,-0.00020395874746722596,-4.629042479593678,1.515471014928761,0.7486281963769578,0.9821109084656878,1.0358530612686088,-5.518607597211366,0.1923660053916996,-5.261084462256614,0.419906236700239,-1.0033769148741163,2.539059013616086,0.1312691847788613,2.4401026384396416,-2.0926062700660704,2.8363159822077457,2.4585607687695377,0.22321138182087685,1.1719127102268858,-1.9029173653961429,0.6070102612353757,1.7236666673482384,1.3244792248552153,0.9955457257472204,0.008637291145401215,-3.528798151787493,-0.17926491160750274,-0.796149986801177,-1.2561555634110997,-2.281532915653442,3.7162362353115883,-2.4045988697106,2.5975676852143725,-3.570058196742354,0.18454327808047166,1.0538546183274307,-5.2108249385491945,0.9663999030741346,-1.7744412929261375,-0.7695483040527242,1.647704231235525,1.2075888362234461,1.9238005961002866,3.0746771354915303,-6.155539001181717,2.27276805125219,3.5812704936870987,-1.0242676006995708,1.7949653904756384,2.241213296991006,-3.0727551893118004,0.26069647964175197,-1.0310265213682963,1.954485942121616,-0.37965303431114644,2.2231286847466483,-4.848301476297995,-1.4308243669037806,0.42830049907520296,-1.7526495579908126,1.9249213947482475,-0.637983755137236,3.658947759958193,-1.4958814568768966,-0.20827762396515917,1.8317747658216725,3.2880483545253747,-0.04598287745125166,0.16114148629170513,4.098716430197344,-0.6835617528771125,-0.38290423467547574,0.4902876128430393,0.5403769688610042,1.5870077356686652,-5.081878648532649,1.3372990514738374,2.3161248975998134,0.09897842619934634,-0.9479379635361422,3.52129892249387,2.6950275339956806,-1.9114295310097684,3.189995069325099,0.9752886457844963,-1.7468363692036768,-3.255548549407885,0.6499259696239611,2.371944659593817,0.6577939527170797,-1.1262594351336797,-2.7672791630161253,2.415857936924679,-1.9254694136429453,0.35847398365845073,-0.18308442451644594,-1.0759465435288662,-4.134519474779712,4.045524563927351,1.5426390314671858,1.778436332764956,1.1886525898430877,-2.0445657829042663,-0.3174799694804712,0.008644368089424195,3.6637041875010152,2.4871117977510906,-0.8517146016349364,-2.110055576380688,2.7019535395571754,1.1405119924596492,-0.623678841307687,-0.32325235955648746,2.386486281915754,1.4820906100888755,1.2206270830155599,1.9515975460133592,-4.824663061361453,-0.2568589596256825,0.4001370178888641,1.6026202474789075,3.1323368465819823,1.9403219314649582,0.7299840920717205,1.1495046524552304,-1.9520191964538953,0.5457279364091229,3.0738134140794475,2.2516320949107955,-2.6265519831428223,1.5204088657132309,1.8837771132848926,-2.5889870485307878,-2.322656343176705,-2.998858516762964,1.2758439966641815,3.286629437701044,-2.424827184855209,-0.11606876822916626,-3.378051779516647,-0.7163533872852875,3.4352702571166636,1.1020356968498748,0.26732329631699187,-4.982386739316955,2.9005093416981635,-0.2637854616668418,-0.49940353948366667,1.104842389637853,-3.084830428205836,4.665322374677486,1.4889030589339713,-0.26048237265217844,-0.42704135339606103,-2.3109194638648396,1.9707087515306465,-1.694573694611806,1.727303471468571,-2.397139125405404,-3.4331389808575117,-1.541666608485894,-0.544567926984517,-1.3620375780916665,1.1096130521712901,1.1305903451398949,-4.868891183769205,1.8526362414205482,-2.375071767173015,4.782371736161429,3.648402182788511,2.3523457371494136,-0.9657354672289233,2.4753972273486036,3.9237718270119357,-2.378845621651448,3.1371124216784096,-1.1594868409894745,-2.6611731150308966,-3.140673242967863,0.5959935972226651,0.4892308902936761,-3.479288660955064,0.8491922438048758,-4.637523000656841,4.004383172888252,5.978269108000746,-1.5255292072231816,0.39796859258789635,-0.5254585645479573,-1.0335641706916303,0.23527241282638117,0.40695705329585774,-2.036197256501868,-3.0803496404694473,0.8215181285160997,2.019183493079209,0.7367335748176778,1.2057767292022399,-1.8108852864273495,1.6290064453252409,-3.9747522132742046,-3.325189418466257,3.559615512284661,0.14145655053652476,1.6171309387005175,-2.7373840498150925,-0.005936941456962471,-1.4163282641010442,0.9678954566531155,-1.6044860543670454,-6.010947982011413,0.66320406719173,0.3977783621976837,3.3236519920378265,1.963416749534202,-5.545098217185991,2.8299180439037395,-0.18524644152066544,-1.0438199136107869,-1.0235305054818022,-0.5531020003512905,-1.387949095282978,1.358110724085032,-0.19426357933084795,-1.5943284466904506,1.6196082975542379,1.2154873695072008,-4.312181687350814,-0.2625834087909233,-1.6197102328844561,-1.1009191591755234,-4.508287302730901,2.287292564439838,1.2109785425920954,-2.077015514886218,-2.76647938987745,2.6630965379588787,0.22764344245801021,1.1333852581691077,-1.5487685499744916,1.4472988151914887,1.079922063167417,1.5209272370221174,2.02373128989638,4.695348476913392,-0.16622301065192277,1.3064776728771723,0.4978991592849636,2.027813142151297,-1.0592284390594577,-4.724945754684674,1.8352575460394294,4.109592399425387,-3.0372136194727317,-3.006602472074447,-1.7322387758118327,-3.654878495222045,-3.9819065754629626,-0.012055632909165346,-1.846579734123818,1.8073622990699107,-0.3081967467168065,-0.5968298819698261,-0.2039092979804809,1.6498551191408015,1.9172298344541496,-0.05164489874367082,-0.6187716706584576,0.6686492528067076,-2.0415280852467865,-5.333894171718759,-1.2800078345644628,2.0735091964749284,1.4526744278885613,-0.9267130854261935,0.9348207394936817,2.7212185457054705,-2.3101606729785553,1.0767274478281101,1.6978755289998484,3.317629814179353,4.333074542076204,4.889630102647996,-4.99845841227072,-1.8949328375835417,-0.4657529262449732,2.3133636565955604,1.239926279003997,2.548568727028799,1.7759496502938206,-1.2461898924298187,0.8572738618728439,0.5209327964956075,-0.31435068186176296,1.9191793460277298,0.5489626432768451,-1.7273957629672378,-5.504636496740565,0.19122384112134908,1.3690581141484455,-0.4234428948231795,-4.564758218884423,-3.5707469476400657,1.1446848269856775,0.6087844081698246,0.2972665142122875,-0.9500966030328774,0.5366878183082211,2.336102862052354,-1.2725657193017614,-5.338139590263454,3.226492623486468,1.0134969809234173,2.443089979002784,0.6610490453271627,2.111637990827619,-1.0096154835393387,0.9009110529754922,-0.1262800115938516,1.9919505691317145,-0.3971631484804403,0.7755984968031351,-1.380055079283636,1.3224132931056922,1.3132948999745282,-5.711513817562341,-1.9915507836862028,-2.321332951594864,-1.8444896493154108,-1.3272365098988022,-0.9893118490231018,1.474089826945694,1.2847938119577513,-1.873119922792188,-0.19679273229336638,-2.6501047376189732,-2.817881152720525,0.17327653249389777,-3.3014871979854763,-0.6628052603981823,3.4829966501398992,2.5281394629896954,1.670016024743126,1.7689918357294048,-1.5397270872189708,0.23222579125662107,0.41440315761573876,0.6319102032005922,-2.824738436153222,3.030494842208083,2.785829295945952,3.329732994549151,1.9682201942035837,1.5930044321650398,-4.50719159913228,1.1514945708035915,0.55703321238541,-0.6518561345489434,0.6618434361728118,1.7191763790439518,-0.5729348657545745,-6.054887504702759,2.118845973794246,2.301585379928485,3.06032035981148,-2.496813558575396,-5.545104018037221,1.4166281403945626,-5.210882429690772,-2.658615254170633,3.0217378661843255,3.835999833657211,-1.4283884756120855,2.908917083625326,-0.08196367210433567,-2.2322233494463157,2.8822703048008464,-1.1376250111641617,-0.26376171896071643,0.09873520900649681,-5.442925845019963,-3.044069191628418,0.39562086970098626,1.4287942917080163,-2.3430743731401806,-1.2269197663266092,0.14877261016373713,-0.7205224018247096,2.0523680832530293,1.9524247067435712,2.1218340165422367,-0.8382006450387611,2.005932402491709,1.8844281578449067,-3.0685390729720297,3.569773978932926,0.12137257954178389,1.5496014481846856,-1.7274690376221271,0.24819057838058822,0.6742885627916765,2.124067665710248,1.99376203300267,-1.2816644437617937,-4.211152859824412,-0.5667787139063168,0.4547583515511407,-3.0776324682040896,-0.344059708856868,-1.6573121178234165,3.3985418087328267,3.149989518306087,-0.29931892230121543,-2.270044839941635,0.7956803221636973,2.5159457147511177,-0.6142186757124228,1.0054169482485225,1.1581661749577403,-2.157607584018631,2.6533750365220374,-2.6356872409605216,-4.433699146128763,-0.2626020765503817,2.44196208932937,0.07340521825692602,-5.5778393456342155,0.5299936426915455,1.356464528413614,4.561028704753756,-1.2376721084936215,2.372432319148868,-3.5947493049214994,2.023334228695954,0.5153276560252478,-3.7203586383504637,-1.4770993023559527,0.2709106600850138,-1.5112980223277743,3.185475260765354,0.6626007159353462,4.183788429979156,1.3399367871721928,-2.339479437532573,-3.1846474133435674,-0.4996122401219015,-2.6745158223935226,-5.6097420149755335,3.3274857459600318,-3.3950014748492428,0.16923808637262397,2.1599187074113897,-0.692809487047076,-2.8826927314679596,1.7160188714972051,-4.373004656141029,1.1147806256467776,2.054407585570693,1.2218044980763387,-2.9809710948298944,2.824672021922194,-0.04423671058694274,-1.0702292903685806,2.7734728894228264,1.036045069912336,3.7217374595047024,-1.3542137810646828,0.011608659918971564,2.219270949352384,1.4788160199682623,0.0741322506134151,-1.265767602555329,-4.06693966341733,0.43046671275646403,1.3416383197854824,1.5850839519971767,-1.2174782935777142,-0.047358206176305886,0.9751164949092139,-0.5731198593633415,2.7956367466956107,0.014229357214804913,-4.338162009807954,-5.10516802860273,0.9930726461368942,2.2671536433840624,-1.745116397112689,3.4956548706592145,-5.558818200567054,1.092334479887187,-1.2955442683002591,1.4182836480501215,1.3831971507088348,0.13596793916757485,-0.05110088247088393,1.3695302808538408,0.5471526240283798,-2.6358176190742624,-2.202762150382707,2.3825622790329306,3.0679003603036517,-5.0780335511207895,3.1725023811942075,-5.468181914405454,-0.23425078833731572,-0.08977356781234334,-0.31956493198235775,-0.6978648753212984,0.41911902101713244,-0.23482238582219986,-1.4370301533914167,-4.0915159683194675,3.1580986493192764,-2.9429243238451983,2.358325926244942,1.713488793265095,-2.8228004568533502,-4.84051766432987,0.27676860658465746,0.146862550574515,1.8045003581898462,-0.8712588330370383,0.9508023202809177,1.733589874008298,2.2965564307436797,1.4377864379409822,2.326158498136562,3.528791104258463,3.3403273134519953,1.087034480842063,0.6982962644292049,1.8981751529340498,1.340988967465513,1.3159470577017012,2.2197433483945725,-0.5750842060702825,-5.087292095962525,0.9698112482412926,2.295965944891198,-0.805232164884923,2.0835578676117756,1.060716339455411,-4.872899039497113,1.7115961115657814,1.0444780784454262,0.8758466551558032,-3.97465613284687,0.941988361351203,2.5559811834846955,-1.1660335977822989,-1.9705859807027957,-5.33707173277949,-4.910021982296291,1.654119378894865,0.8995985049623912,0.28131476074152284,2.1791475579150865,1.7146052393985851,0.5706721579348266,1.7869059153032008,0.41748059973217766,-2.2732371631579444,-3.7267744782189705,2.40131782645432,-1.7576735778653456,1.1393629551652866,2.275594730214656,-0.5181539013954404,-5.457831910317723,-1.6894664139799351,3.3265517370786677,-1.8021827214385602,2.3773934896974596,3.920843809177693,-0.15847683090168194,-0.8726988865887387,-1.090903973693687,0.9657828738566863,1.8413567745144452,-2.805667831301837,0.29256483147518925,1.4065767600259451,-2.7015944202603808,-0.695406733026607,1.4796159482950617,-5.561181481254811,-3.964274401032542,1.4768298032247347,3.142534149434479,-4.592642441410255,0.35563911294168554,1.7437516283065384,-2.221464404580932,0.7132322188711431,2.995128493332436,-0.586250501539521,1.5177936191513892,1.748474976390774,3.3439727909179937,2.228335311756267,1.2066180376444604,-2.9804041165973465,1.7886302690013318,-2.8263066504967447,0.4166057415288806,-0.6710269764437792,-1.4338863000656072,1.4448562929313122,-0.3335225503228191,1.0740393429788584,-2.3746132670522813,-4.1156286921088086,-0.3829363751783241,-2.188445891268753,3.2003366032164644,-2.2013192007800253,3.8172935689245278,-0.012921161172424494,-1.346081636768161,3.380682749520317,-1.9511661467159227,1.6115288977756086,0.7866974305429141,-1.8009833560250856,2.9759125214562645,0.2115988617733085,0.7930085230663998,-0.9547271476958036,-2.6803022609404428,-0.5769080690748967,2.332587563154694,2.308685596258945,4.529800633497518,0.7076559191784975,-0.08677771927182838,-0.3647258634354286,0.6022605724673652,-1.1278823967516556,3.5774523659800113,-3.7375985165622714,1.4265194788525213,-1.207114171261721,0.6430797801505861,-1.2126436521400723,2.8057464371337777,2.835371591966564,2.2697308280586466,2.5470140202521026,-0.32532670631843424,1.732815544964372,-0.45736700533251123,-3.2064925516817846,-1.226527504214022,0.1972873474596778,4.910047052978569,0.5560159788603786,2.147752639316373,3.357204828091689,0.9674624773966665,1.5260466781730206,0.7456631162342926,2.998638113332783,0.8562939888149992,-4.367206701637453,-4.7693592504804725,0.13952995902224033,-5.483153717667631,-0.17257475018285678,-0.4374989311719697,3.1882805456157617,2.5149945421906903,0.616480893532921,3.9516686484568386,-5.248390820662473,3.064742936104928,0.7191230884791532,-1.7999432086190648,2.140959181613532,-4.811990891353747,-5.0530149676948115,-5.907389798156333,0.0053353715217891225,0.12541965655771103,-0.19772886753121097,1.3833799998928524,-0.69779719203951,-2.439889218246959,1.0270109907704446,2.3414486581593557,1.1051210519537156,2.7680457278955806,-3.844240219865138,0.9181195240265332,2.5467744937587184,-4.997507509174726,1.2620759446864223,-2.0405742825670403,-0.5257005205989836,0.994367655864776,-5.354384977414288,4.127103598036833,-2.181060841680985,-1.2263212639011472,-1.651510638847832,-4.827851366286748,-1.3867910122100724,3.1216195415372803,1.6988303954710904,-0.0574161202330755,0.07202260421510386,2.721846838920656,2.766611626960215,-0.3934580930833144,-4.99127351556643,0.4552634558661473,3.4417166865014375,-4.0103674278472,2.50999784938433,1.2065673297667052,2.1493133683997425,-1.0752185295124215,-1.41715583367665,2.1621321735012433,-2.729598643872917,0.5882731798195956,-1.0875509695912517,0.0703143291773353,1.5167638563783599,3.5996562749584604,-2.1565612590446426,1.266138223770413,2.510470532837958,1.7516403755438787,-1.6930092124641294,-1.6693188039913762,2.2999986809536255,0.9097484780736937,5.0746914363339,-0.8956251357601487,2.116140945455497,0.5026552206462842,0.9801601601121961,-0.6430588543824406,-4.1438527829387874,-0.643356545712424,1.7370192265607243,2.219647660931592,-0.08453187322422416,-0.06116614285684456,-1.4737155229764762,-1.682771094525483,1.0353893276170945,1.8684268189053452,1.8721593382385402,2.4219671744735796,0.770106151438637,-0.09300636508868972,-2.6100432523505255,-2.214309978491857,4.898994883463539,2.516983906734449,-1.3720274523116547,2.921744042661407,-1.8534253372273235,1.788694880555576,-1.8879247298217536,-1.3326211579326488,-0.43321158175649915,-4.0548972381483335,-5.089188515502695,1.0203415761990904,3.7711364455995233,-0.3482632510927152,-2.362383754676248,2.5997546495949306,3.555874546431347,1.2410965164051244,2.8746729351831353,-5.119052029706801,0.4280755614691517,0.0890029438383524,-1.6948160020182166,2.9333760687020995,-3.143564952764674,2.2578045133467266,-5.001507988276222,1.846352394074357,-0.432339745571974,-0.8486264259193529,-3.4472649970920104,-0.8603379633513043,-2.2797502594853922,4.041441186482364,1.364122330976037,0.02196657890978714,-6.639313376865405,-2.11011076353413,-1.017090738574005,-0.4155584210180462,1.7106824184794596,0.3853734997120059,-0.5610889332748213,-0.6835863753453962,-5.401601078955372,-2.5345359212548297,-1.1861883997216585,-0.03590164543170511,1.2130585767517568,1.9555934577947232,0.04877501922455268,3.558204689142234,0.6509202609387776,2.4157225494629766,1.3939831492009183,-0.05801091805625026,-3.037385544497945,2.6457498839781595,-1.0150974608868735,1.068303877294901,-3.390533860095911,3.94335213276992,2.1077664436483583,3.5493020688016985,-3.2524611858351817,-1.2690267660808563,0.7055848653021187,-0.5213385579093542,-1.00679416861032,1.2814475697859091,-0.030430647849707906,2.6300277951554882,0.02459770215823594,0.8242645091225034,-0.2133325450530663,-4.9754152936638425,0.8554702809467334,-2.4791672571551193,0.968792350492266,0.5078262565445564,2.1297475930594096,2.5212801135090954,-1.853635939895203,-0.1781295697227372,1.5453727992920627,-1.8679762695103834,0.3108851340681295,0.6262903042786983,-5.602237336245404,1.0690936091275836,-2.992619575556613,-2.250710959725424,-5.02064991500844,-3.185677040336408,-0.17442735149970814,2.28192318786412,-2.2265016700401885,2.6776218189359478,2.3784366509191766,0.3033952183539997,1.4670551579705793,-3.49522823291816,-1.860293428681286,1.5276459936712523,3.036630462042961,-2.716640927622181,2.354170467162243,0.7379742844087109,2.6563144969225205,2.0530729092122217,2.910235275831191,-2.8948025787218215,2.073297182562199,1.6312804560753333,0.657098261641365,-4.559719245147063,0.26186325321363096,2.5956056591865173,1.0939233009602014,0.7768232890501006,-5.552789622813737,0.577660913869719,-0.3474318670334067,1.4896403300599217,1.7643898294531288,-4.959377707811793,2.3994827016159754,2.7530723560377184,1.3338084180182395,1.1579089347596632,-2.0182130813088226,3.5632136217709096,3.023619483925371,2.9544638761070856,0.6560138853898153,3.0918419265378816,-1.9673115802292662,-0.742344887485022,0.3124940333443026,-2.671053656402531,-1.5445414865916482,-2.0310555185131385,1.2153090145750423,0.7054228033376011,-1.5939080049314776,-0.49207185557437894,-0.9000244030153645,3.066213117972347,-0.12451134206432718,2.014336843749602,2.7276641689656054,0.7845873406140873,1.6649209907156084,-1.0429311777275843,-1.5334796580101033,-0.5564466705273005,1.0687487040530375,2.8386146098007154,-2.4079948365849106,2.5385778441070004,-2.460009165639129,3.5612030214239545,-1.2176471672206504,1.3684311593138878,-0.0034181647526709356,-3.2862616326166654,2.626257794576816,0.500207529979187,-0.06480561949235578,-3.1610331542085635,-3.883225866016625,-2.82288421834223,-0.1299679426984202,0.5082305015181724,-1.4830005831989082,-1.2100363942431325,-4.57210157473719,-2.285128534519157,-2.787922151343109,4.236190229789841,1.7157587775066034,-1.6145890068209745,-5.791386699345656,-4.730315695923646,-1.6361598377352435,-4.436008328991639,1.4863606477159437,3.932116917386958,0.4441421062057707,1.2711556743539874,2.180739682389805,-0.07676028414729408,-1.9866749428690649,-5.3181500158265544,-1.233920650381441,2.0137971139207855,-0.36674643779997423,-0.13484042759197976,1.7937446654402167,0.9170492951751148,-3.012138864335937,1.1419176012441457,-4.353030583003073,1.047714555555018,-0.7243990094998795,0.10975173902230113,2.460093271259212,1.2424890787065772,-3.114370708524479,-5.450304946889397,1.7063505689827962,-4.232301072076214,-5.5594870865148875,1.4837887596151136,2.1818498424926207,3.4609306927356505,-4.012040458753482,0.9241059557466108,2.913240777290769,-3.5003324538800964,1.342697629670952,0.15275214749795585,-5.003587739972344,-1.3410000710270238,-1.8991594286607638,0.5802370818457904,0.3155014383282608,1.8760756235243592,2.9928144387028697,-5.2190034818423685,1.3838391593247164,1.8611933453843743,2.1565628563255457,-5.605199939791361,-5.007336916627216,3.9731321765735808,0.8673446491068847,-2.3013834199505396,-0.7300547997880075,-4.605637288426723,1.034042616441597,-0.13497388473000232,-0.0031347841017940626,-2.3930406619899496,3.2445317531248787,3.444506006230549,1.9671668328631784,-0.3380655237962838,-0.6411876399550102,0.9362070189999432,-5.282814998465295,-4.850322798980671,-0.3370812828488172,1.7501932985833963,-2.068084897899789,3.152347764412335,1.1679359455612037,-2.056042618386892,-0.07060467429207364,3.6686263629085647,2.064676092768266,1.6197546374495946,-1.2672174429349259,2.989401567787276,0.5974180973696082,-1.0428287810013213,0.937580299433177,2.393888199556262,0.8475273648729333,1.8781196876844888],\"type\":\"scatter3d\"}],                        {\"template\":{\"data\":{\"histogram2dcontour\":[{\"type\":\"histogram2dcontour\",\"colorbar\":{\"outlinewidth\":0,\"ticks\":\"\"},\"colorscale\":[[0.0,\"#0d0887\"],[0.1111111111111111,\"#46039f\"],[0.2222222222222222,\"#7201a8\"],[0.3333333333333333,\"#9c179e\"],[0.4444444444444444,\"#bd3786\"],[0.5555555555555556,\"#d8576b\"],[0.6666666666666666,\"#ed7953\"],[0.7777777777777778,\"#fb9f3a\"],[0.8888888888888888,\"#fdca26\"],[1.0,\"#f0f921\"]]}],\"choropleth\":[{\"type\":\"choropleth\",\"colorbar\":{\"outlinewidth\":0,\"ticks\":\"\"}}],\"histogram2d\":[{\"type\":\"histogram2d\",\"colorbar\":{\"outlinewidth\":0,\"ticks\":\"\"},\"colorscale\":[[0.0,\"#0d0887\"],[0.1111111111111111,\"#46039f\"],[0.2222222222222222,\"#7201a8\"],[0.3333333333333333,\"#9c179e\"],[0.4444444444444444,\"#bd3786\"],[0.5555555555555556,\"#d8576b\"],[0.6666666666666666,\"#ed7953\"],[0.7777777777777778,\"#fb9f3a\"],[0.8888888888888888,\"#fdca26\"],[1.0,\"#f0f921\"]]}],\"heatmap\":[{\"type\":\"heatmap\",\"colorbar\":{\"outlinewidth\":0,\"ticks\":\"\"},\"colorscale\":[[0.0,\"#0d0887\"],[0.1111111111111111,\"#46039f\"],[0.2222222222222222,\"#7201a8\"],[0.3333333333333333,\"#9c179e\"],[0.4444444444444444,\"#bd3786\"],[0.5555555555555556,\"#d8576b\"],[0.6666666666666666,\"#ed7953\"],[0.7777777777777778,\"#fb9f3a\"],[0.8888888888888888,\"#fdca26\"],[1.0,\"#f0f921\"]]}],\"heatmapgl\":[{\"type\":\"heatmapgl\",\"colorbar\":{\"outlinewidth\":0,\"ticks\":\"\"},\"colorscale\":[[0.0,\"#0d0887\"],[0.1111111111111111,\"#46039f\"],[0.2222222222222222,\"#7201a8\"],[0.3333333333333333,\"#9c179e\"],[0.4444444444444444,\"#bd3786\"],[0.5555555555555556,\"#d8576b\"],[0.6666666666666666,\"#ed7953\"],[0.7777777777777778,\"#fb9f3a\"],[0.8888888888888888,\"#fdca26\"],[1.0,\"#f0f921\"]]}],\"contourcarpet\":[{\"type\":\"contourcarpet\",\"colorbar\":{\"outlinewidth\":0,\"ticks\":\"\"}}],\"contour\":[{\"type\":\"contour\",\"colorbar\":{\"outlinewidth\":0,\"ticks\":\"\"},\"colorscale\":[[0.0,\"#0d0887\"],[0.1111111111111111,\"#46039f\"],[0.2222222222222222,\"#7201a8\"],[0.3333333333333333,\"#9c179e\"],[0.4444444444444444,\"#bd3786\"],[0.5555555555555556,\"#d8576b\"],[0.6666666666666666,\"#ed7953\"],[0.7777777777777778,\"#fb9f3a\"],[0.8888888888888888,\"#fdca26\"],[1.0,\"#f0f921\"]]}],\"surface\":[{\"type\":\"surface\",\"colorbar\":{\"outlinewidth\":0,\"ticks\":\"\"},\"colorscale\":[[0.0,\"#0d0887\"],[0.1111111111111111,\"#46039f\"],[0.2222222222222222,\"#7201a8\"],[0.3333333333333333,\"#9c179e\"],[0.4444444444444444,\"#bd3786\"],[0.5555555555555556,\"#d8576b\"],[0.6666666666666666,\"#ed7953\"],[0.7777777777777778,\"#fb9f3a\"],[0.8888888888888888,\"#fdca26\"],[1.0,\"#f0f921\"]]}],\"mesh3d\":[{\"type\":\"mesh3d\",\"colorbar\":{\"outlinewidth\":0,\"ticks\":\"\"}}],\"scatter\":[{\"fillpattern\":{\"fillmode\":\"overlay\",\"size\":10,\"solidity\":0.2},\"type\":\"scatter\"}],\"parcoords\":[{\"type\":\"parcoords\",\"line\":{\"colorbar\":{\"outlinewidth\":0,\"ticks\":\"\"}}}],\"scatterpolargl\":[{\"type\":\"scatterpolargl\",\"marker\":{\"colorbar\":{\"outlinewidth\":0,\"ticks\":\"\"}}}],\"bar\":[{\"error_x\":{\"color\":\"#2a3f5f\"},\"error_y\":{\"color\":\"#2a3f5f\"},\"marker\":{\"line\":{\"color\":\"#E5ECF6\",\"width\":0.5},\"pattern\":{\"fillmode\":\"overlay\",\"size\":10,\"solidity\":0.2}},\"type\":\"bar\"}],\"scattergeo\":[{\"type\":\"scattergeo\",\"marker\":{\"colorbar\":{\"outlinewidth\":0,\"ticks\":\"\"}}}],\"scatterpolar\":[{\"type\":\"scatterpolar\",\"marker\":{\"colorbar\":{\"outlinewidth\":0,\"ticks\":\"\"}}}],\"histogram\":[{\"marker\":{\"pattern\":{\"fillmode\":\"overlay\",\"size\":10,\"solidity\":0.2}},\"type\":\"histogram\"}],\"scattergl\":[{\"type\":\"scattergl\",\"marker\":{\"colorbar\":{\"outlinewidth\":0,\"ticks\":\"\"}}}],\"scatter3d\":[{\"type\":\"scatter3d\",\"line\":{\"colorbar\":{\"outlinewidth\":0,\"ticks\":\"\"}},\"marker\":{\"colorbar\":{\"outlinewidth\":0,\"ticks\":\"\"}}}],\"scattermapbox\":[{\"type\":\"scattermapbox\",\"marker\":{\"colorbar\":{\"outlinewidth\":0,\"ticks\":\"\"}}}],\"scatterternary\":[{\"type\":\"scatterternary\",\"marker\":{\"colorbar\":{\"outlinewidth\":0,\"ticks\":\"\"}}}],\"scattercarpet\":[{\"type\":\"scattercarpet\",\"marker\":{\"colorbar\":{\"outlinewidth\":0,\"ticks\":\"\"}}}],\"carpet\":[{\"aaxis\":{\"endlinecolor\":\"#2a3f5f\",\"gridcolor\":\"white\",\"linecolor\":\"white\",\"minorgridcolor\":\"white\",\"startlinecolor\":\"#2a3f5f\"},\"baxis\":{\"endlinecolor\":\"#2a3f5f\",\"gridcolor\":\"white\",\"linecolor\":\"white\",\"minorgridcolor\":\"white\",\"startlinecolor\":\"#2a3f5f\"},\"type\":\"carpet\"}],\"table\":[{\"cells\":{\"fill\":{\"color\":\"#EBF0F8\"},\"line\":{\"color\":\"white\"}},\"header\":{\"fill\":{\"color\":\"#C8D4E3\"},\"line\":{\"color\":\"white\"}},\"type\":\"table\"}],\"barpolar\":[{\"marker\":{\"line\":{\"color\":\"#E5ECF6\",\"width\":0.5},\"pattern\":{\"fillmode\":\"overlay\",\"size\":10,\"solidity\":0.2}},\"type\":\"barpolar\"}],\"pie\":[{\"automargin\":true,\"type\":\"pie\"}]},\"layout\":{\"autotypenumbers\":\"strict\",\"colorway\":[\"#636efa\",\"#EF553B\",\"#00cc96\",\"#ab63fa\",\"#FFA15A\",\"#19d3f3\",\"#FF6692\",\"#B6E880\",\"#FF97FF\",\"#FECB52\"],\"font\":{\"color\":\"#2a3f5f\"},\"hovermode\":\"closest\",\"hoverlabel\":{\"align\":\"left\"},\"paper_bgcolor\":\"white\",\"plot_bgcolor\":\"#E5ECF6\",\"polar\":{\"bgcolor\":\"#E5ECF6\",\"angularaxis\":{\"gridcolor\":\"white\",\"linecolor\":\"white\",\"ticks\":\"\"},\"radialaxis\":{\"gridcolor\":\"white\",\"linecolor\":\"white\",\"ticks\":\"\"}},\"ternary\":{\"bgcolor\":\"#E5ECF6\",\"aaxis\":{\"gridcolor\":\"white\",\"linecolor\":\"white\",\"ticks\":\"\"},\"baxis\":{\"gridcolor\":\"white\",\"linecolor\":\"white\",\"ticks\":\"\"},\"caxis\":{\"gridcolor\":\"white\",\"linecolor\":\"white\",\"ticks\":\"\"}},\"coloraxis\":{\"colorbar\":{\"outlinewidth\":0,\"ticks\":\"\"}},\"colorscale\":{\"sequential\":[[0.0,\"#0d0887\"],[0.1111111111111111,\"#46039f\"],[0.2222222222222222,\"#7201a8\"],[0.3333333333333333,\"#9c179e\"],[0.4444444444444444,\"#bd3786\"],[0.5555555555555556,\"#d8576b\"],[0.6666666666666666,\"#ed7953\"],[0.7777777777777778,\"#fb9f3a\"],[0.8888888888888888,\"#fdca26\"],[1.0,\"#f0f921\"]],\"sequentialminus\":[[0.0,\"#0d0887\"],[0.1111111111111111,\"#46039f\"],[0.2222222222222222,\"#7201a8\"],[0.3333333333333333,\"#9c179e\"],[0.4444444444444444,\"#bd3786\"],[0.5555555555555556,\"#d8576b\"],[0.6666666666666666,\"#ed7953\"],[0.7777777777777778,\"#fb9f3a\"],[0.8888888888888888,\"#fdca26\"],[1.0,\"#f0f921\"]],\"diverging\":[[0,\"#8e0152\"],[0.1,\"#c51b7d\"],[0.2,\"#de77ae\"],[0.3,\"#f1b6da\"],[0.4,\"#fde0ef\"],[0.5,\"#f7f7f7\"],[0.6,\"#e6f5d0\"],[0.7,\"#b8e186\"],[0.8,\"#7fbc41\"],[0.9,\"#4d9221\"],[1,\"#276419\"]]},\"xaxis\":{\"gridcolor\":\"white\",\"linecolor\":\"white\",\"ticks\":\"\",\"title\":{\"standoff\":15},\"zerolinecolor\":\"white\",\"automargin\":true,\"zerolinewidth\":2},\"yaxis\":{\"gridcolor\":\"white\",\"linecolor\":\"white\",\"ticks\":\"\",\"title\":{\"standoff\":15},\"zerolinecolor\":\"white\",\"automargin\":true,\"zerolinewidth\":2},\"scene\":{\"xaxis\":{\"backgroundcolor\":\"#E5ECF6\",\"gridcolor\":\"white\",\"linecolor\":\"white\",\"showbackground\":true,\"ticks\":\"\",\"zerolinecolor\":\"white\",\"gridwidth\":2},\"yaxis\":{\"backgroundcolor\":\"#E5ECF6\",\"gridcolor\":\"white\",\"linecolor\":\"white\",\"showbackground\":true,\"ticks\":\"\",\"zerolinecolor\":\"white\",\"gridwidth\":2},\"zaxis\":{\"backgroundcolor\":\"#E5ECF6\",\"gridcolor\":\"white\",\"linecolor\":\"white\",\"showbackground\":true,\"ticks\":\"\",\"zerolinecolor\":\"white\",\"gridwidth\":2}},\"shapedefaults\":{\"line\":{\"color\":\"#2a3f5f\"}},\"annotationdefaults\":{\"arrowcolor\":\"#2a3f5f\",\"arrowhead\":0,\"arrowwidth\":1},\"geo\":{\"bgcolor\":\"white\",\"landcolor\":\"#E5ECF6\",\"subunitcolor\":\"white\",\"showland\":true,\"showlakes\":true,\"lakecolor\":\"white\"},\"title\":{\"x\":0.05},\"mapbox\":{\"style\":\"light\"}}},\"scene\":{\"domain\":{\"x\":[0.0,1.0],\"y\":[0.0,1.0]},\"xaxis\":{\"title\":{\"text\":\"LD1\"},\"backgroundcolor\":\"white\",\"showgrid\":true,\"gridwidth\":1,\"gridcolor\":\"lightgrey\",\"zeroline\":true,\"zerolinewidth\":1,\"zerolinecolor\":\"lightgrey\",\"showline\":true,\"linewidth\":1,\"linecolor\":\"black\"},\"yaxis\":{\"title\":{\"text\":\"LD2\"},\"backgroundcolor\":\"white\",\"showgrid\":true,\"gridwidth\":1,\"gridcolor\":\"lightgrey\",\"zeroline\":true,\"zerolinewidth\":1,\"zerolinecolor\":\"lightgrey\",\"showline\":true,\"linewidth\":1,\"linecolor\":\"black\"},\"zaxis\":{\"title\":{\"text\":\"LD3\"},\"backgroundcolor\":\"white\",\"showgrid\":true,\"gridwidth\":1,\"gridcolor\":\"lightgrey\",\"zeroline\":true,\"zerolinewidth\":1,\"zerolinecolor\":\"lightgrey\",\"showline\":true,\"linewidth\":1,\"linecolor\":\"black\"}},\"coloraxis\":{\"colorbar\":{\"title\":{\"text\":\"color\"}},\"colorscale\":[[0.0,\"#0d0887\"],[0.1111111111111111,\"#46039f\"],[0.2222222222222222,\"#7201a8\"],[0.3333333333333333,\"#9c179e\"],[0.4444444444444444,\"#bd3786\"],[0.5555555555555556,\"#d8576b\"],[0.6666666666666666,\"#ed7953\"],[0.7777777777777778,\"#fb9f3a\"],[0.8888888888888888,\"#fdca26\"],[1.0,\"#f0f921\"]]},\"legend\":{\"tracegroupgap\":0},\"margin\":{\"t\":60},\"title\":{\"text\":\"3D LDA Scatter Plot\"}},                        {\"responsive\": true}                    ).then(function(){\n",
              "                            \n",
              "var gd = document.getElementById('7693bce7-833a-4875-8fbc-50a423170182');\n",
              "var x = new MutationObserver(function (mutations, observer) {{\n",
              "        var display = window.getComputedStyle(gd).display;\n",
              "        if (!display || display === 'none') {{\n",
              "            console.log([gd, 'removed!']);\n",
              "            Plotly.purge(gd);\n",
              "            observer.disconnect();\n",
              "        }}\n",
              "}});\n",
              "\n",
              "// Listen for the removal of the full notebook cells\n",
              "var notebookContainer = gd.closest('#notebook-container');\n",
              "if (notebookContainer) {{\n",
              "    x.observe(notebookContainer, {childList: true});\n",
              "}}\n",
              "\n",
              "// Listen for the clearing of the current output cell\n",
              "var outputEl = gd.closest('.output');\n",
              "if (outputEl) {{\n",
              "    x.observe(outputEl, {childList: true});\n",
              "}}\n",
              "\n",
              "                        })                };                            </script>        </div>\n",
              "</body>\n",
              "</html>"
            ]
          },
          "metadata": {}
        }
      ]
    },
    {
      "cell_type": "code",
      "source": [],
      "metadata": {
        "id": "87UqT9x4Twkq"
      },
      "execution_count": null,
      "outputs": []
    }
  ]
}