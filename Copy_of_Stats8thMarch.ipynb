{
  "nbformat": 4,
  "nbformat_minor": 0,
  "metadata": {
    "colab": {
      "provenance": [],
      "include_colab_link": true
    },
    "kernelspec": {
      "name": "python3",
      "display_name": "Python 3"
    },
    "language_info": {
      "name": "python"
    }
  },
  "cells": [
    {
      "cell_type": "markdown",
      "metadata": {
        "id": "view-in-github",
        "colab_type": "text"
      },
      "source": [
        "<a href=\"https://colab.research.google.com/github/Saitejamacha/Data_Science_-_AI_ML/blob/main/Copy_of_Stats8thMarch.ipynb\" target=\"_parent\"><img src=\"https://colab.research.google.com/assets/colab-badge.svg\" alt=\"Open In Colab\"/></a>"
      ]
    },
    {
      "cell_type": "markdown",
      "source": [
        "# Happy Womens Day"
      ],
      "metadata": {
        "id": "tdI1fBZdFgsD"
      }
    },
    {
      "cell_type": "markdown",
      "source": [
        "#Statistics or Stats\n",
        "It is a branch of Maths that deals with Collection of Data, Organization/Presentation of Data, Analysis of data -----> To extract some meaningful information (Insights) -----> Help us to make a proper Decision\n",
        "\n",
        "\n",
        "---\n",
        "\n",
        "It is Divided into two parts:\n",
        "1. **Descriptive Statistics (Mathematical operations)** - It is a branch of stats that involves the collection and interpretation of data\n",
        "\n",
        "**Descriptive Stats is further divided into two parts:**\n",
        "\n",
        "-> **Measure of Central Tendency** - It is used to indicate where does the center of my data lies.\n",
        "* Mean\n",
        "* Median\n",
        "* Mode\n",
        "\n",
        "--> **Measure of dispersion:** - It is used to indicate how my data is spreaded in all directions\n",
        "* Range\n",
        "* Variance\n",
        "* Standard Deviation\n",
        "* Percentile\n",
        "* Quartiles\n",
        "* IQR (Inter Quartile range)\n",
        "* Outliers\n",
        "* Correlation\n",
        "* Kurtosis\n",
        "* Skewness (inclination)"
      ],
      "metadata": {
        "id": "3Wq-j8FIFmUn"
      }
    },
    {
      "cell_type": "markdown",
      "source": [
        "\n",
        "\n",
        "---\n",
        "2. **Inferential Stats -(Prediction and conclusion)** - It is a branch of stats that deals with making prediction and drawing conclusion based on Sample data collected from population\n",
        "\n",
        "**Inferential stats is also divided into two parts**:\n",
        "1. Hypothesis Testing(Assumption/Intelligent guess)\n",
        "* Null Hypothesis\n",
        "* Alternate hypothesis\n",
        "\n",
        "2. Regression Analysis\n",
        "* Dependent Variable\n",
        "* Independent Variable\n"
      ],
      "metadata": {
        "id": "p5BkXnxnKp0L"
      }
    },
    {
      "cell_type": "markdown",
      "source": [
        "# Measure of Central Tendancy"
      ],
      "metadata": {
        "id": "sQgdQlAXNMbd"
      }
    },
    {
      "cell_type": "markdown",
      "source": [
        "### MEAN\n",
        "Average of your data"
      ],
      "metadata": {
        "id": "BAOqzeB_NPmT"
      }
    },
    {
      "cell_type": "code",
      "execution_count": null,
      "metadata": {
        "id": "A3j3fqlgFHW0"
      },
      "outputs": [],
      "source": [
        "import numpy as np\n",
        "import statistics as stats"
      ]
    },
    {
      "cell_type": "code",
      "source": [
        "# Mathematical formula\n",
        "'''\n",
        "data = [5,2,7,8,5,9,1,3,5]\n",
        "mean/avg = sum of all values / total no of values\n",
        "mean/avg = 45/9\n",
        "mean/avg = 5\n",
        "'''\n",
        "#Python Implementation\n",
        "data = [5,2,7,8,5,9,1,3,5]\n",
        "meanAns = stats.mean(data)\n",
        "meanAns"
      ],
      "metadata": {
        "colab": {
          "base_uri": "https://localhost:8080/"
        },
        "id": "bdCPx200Nbvs",
        "outputId": "3cd4feb5-4ab3-405b-c430-413e8ff3750f"
      },
      "execution_count": null,
      "outputs": [
        {
          "output_type": "execute_result",
          "data": {
            "text/plain": [
              "5"
            ]
          },
          "metadata": {},
          "execution_count": 4
        }
      ]
    },
    {
      "cell_type": "code",
      "source": [
        "# with numpy\n",
        "data = [5,2,7,8,5,9,1,3,5]\n",
        "sol = np.mean(data)\n",
        "sol # ---> Float output"
      ],
      "metadata": {
        "colab": {
          "base_uri": "https://localhost:8080/"
        },
        "id": "qoLqr1m1NzHO",
        "outputId": "c74f0a50-6e73-4d0f-a116-035834592feb"
      },
      "execution_count": null,
      "outputs": [
        {
          "output_type": "execute_result",
          "data": {
            "text/plain": [
              "5.0"
            ]
          },
          "metadata": {},
          "execution_count": 5
        }
      ]
    },
    {
      "cell_type": "markdown",
      "source": [
        "### Median\n",
        "Middle value of my sorted data"
      ],
      "metadata": {
        "id": "hKuBPGojOc5I"
      }
    },
    {
      "cell_type": "code",
      "source": [
        "# Mathematical formula for Even no of values\n",
        "'''\n",
        "data = [5,11,12,2,3,6,7,9] --- (Even number)\n",
        "what is the middle value of this data\n",
        "1> You should sort your data in ascending order\n",
        "sorted_data = [2,3,5,6,7,9,11,12]\n",
        "\n",
        "2> Median = sum of 2 midle value / 2\n",
        "median = (6+7) / 2 --- 13/2 --- 6.5\n",
        "'''\n",
        "\n",
        "# Python implementation\n",
        "data = [5,11,12,2,3,6,7,9]\n",
        "middleValue = stats.median(data)\n",
        "middleValue"
      ],
      "metadata": {
        "colab": {
          "base_uri": "https://localhost:8080/"
        },
        "id": "bDK4zoYkN4KO",
        "outputId": "162ac81d-ca64-4533-9246-3be18fa4e29b"
      },
      "execution_count": null,
      "outputs": [
        {
          "output_type": "execute_result",
          "data": {
            "text/plain": [
              "6.5"
            ]
          },
          "metadata": {},
          "execution_count": 6
        }
      ]
    },
    {
      "cell_type": "code",
      "source": [
        "# Mathematical formula for odd\n",
        "'''\n",
        "data = [5,2,7,8,5,9,1,3,5]\n",
        "1> You should sort your data in ascending order\n",
        "sorted_data = [1,2,3,5,5,5,7,8,9]\n",
        "median - n/2 --> Total num(n)\n",
        "median - 9/2 --> 4.5 position from both\n",
        "\n",
        "median = n+1/2\n",
        "median = 9+1 / 2 -- 10/2 -- 5th position from starting(Element)\n",
        "\n",
        "At 5th position ---- 5--- median\n",
        "'''\n",
        "\n",
        "# Python implementation\n",
        "data = [5,2,7,8,5,9,1,3,5]\n",
        "midVal = stats.median(data)\n",
        "midVal"
      ],
      "metadata": {
        "colab": {
          "base_uri": "https://localhost:8080/"
        },
        "id": "oaVEb8eDOp-I",
        "outputId": "c01daaf4-5f1f-478e-8ef0-c37699617ad8"
      },
      "execution_count": null,
      "outputs": [
        {
          "output_type": "execute_result",
          "data": {
            "text/plain": [
              "5"
            ]
          },
          "metadata": {},
          "execution_count": 7
        }
      ]
    },
    {
      "cell_type": "code",
      "source": [
        "print(sorted(data,reverse=True))\n",
        "print(sorted(data))\n"
      ],
      "metadata": {
        "colab": {
          "base_uri": "https://localhost:8080/"
        },
        "id": "rk0BHq_FPfDG",
        "outputId": "4f7a45f4-5a1b-45fd-c5eb-90758ef2a092"
      },
      "execution_count": null,
      "outputs": [
        {
          "output_type": "stream",
          "name": "stdout",
          "text": [
            "[9, 8, 7, 5, 5, 5, 3, 2, 1]\n",
            "[1, 2, 3, 5, 5, 5, 7, 8, 9]\n"
          ]
        }
      ]
    },
    {
      "cell_type": "markdown",
      "source": [
        "### Mode\n",
        "The value that have highest frequency/most occuring value / most repeated value / most common value"
      ],
      "metadata": {
        "id": "yUlxwosaRzUE"
      }
    },
    {
      "cell_type": "code",
      "source": [
        "data = ['India','Australia','New zeland','Pakistan','India','India','Australia']\n",
        "# India - 3 --- Mode\n",
        "# NZL - 1\n",
        "# Pak - 1\n",
        "# Aus - 2\n",
        "\n",
        "# python implemenation\n",
        "sol = stats.mode(data)\n",
        "sol # variable name --- To store the result(solution)"
      ],
      "metadata": {
        "colab": {
          "base_uri": "https://localhost:8080/",
          "height": 35
        },
        "id": "Z52wm3BDRoKi",
        "outputId": "55164d6e-d88b-474b-db3e-b84d61a056fa"
      },
      "execution_count": null,
      "outputs": [
        {
          "output_type": "execute_result",
          "data": {
            "text/plain": [
              "'India'"
            ],
            "application/vnd.google.colaboratory.intrinsic+json": {
              "type": "string"
            }
          },
          "metadata": {},
          "execution_count": 9
        }
      ]
    },
    {
      "cell_type": "code",
      "source": [
        "data = ['Australia','India','New zeland','Pakistan','India','India','Australia','Australia']\n",
        "ans = stats.mode(data)\n",
        "print(ans)\n",
        "# The first most occuring value will be my mode\n"
      ],
      "metadata": {
        "colab": {
          "base_uri": "https://localhost:8080/"
        },
        "id": "jvnhX0ZoSmFN",
        "outputId": "c350bd27-1513-4627-f0e5-53f863e20aec"
      },
      "execution_count": null,
      "outputs": [
        {
          "output_type": "stream",
          "name": "stdout",
          "text": [
            "Australia\n"
          ]
        }
      ]
    },
    {
      "cell_type": "code",
      "source": [
        "import pandas as pd"
      ],
      "metadata": {
        "id": "JTpCUtVET2Wx"
      },
      "execution_count": null,
      "outputs": []
    },
    {
      "cell_type": "code",
      "source": [
        "# Manually check all the counts\n",
        "for xyz in data:\n",
        "  print(f'{xyz} occuring: {data.count(xyz)}')"
      ],
      "metadata": {
        "colab": {
          "base_uri": "https://localhost:8080/"
        },
        "id": "mlmFiUXNTDuK",
        "outputId": "371bf52d-fb12-4b34-b87c-26683cb0ec66"
      },
      "execution_count": null,
      "outputs": [
        {
          "output_type": "stream",
          "name": "stdout",
          "text": [
            "Australia occuring: 3\n",
            "India occuring: 3\n",
            "New zeland occuring: 1\n",
            "Pakistan occuring: 1\n",
            "India occuring: 3\n",
            "India occuring: 3\n",
            "Australia occuring: 3\n",
            "Australia occuring: 3\n"
          ]
        }
      ]
    },
    {
      "cell_type": "code",
      "source": [
        "# Bonus\n",
        "# Format string --f\n",
        "x = 5\n",
        "y = 10\n",
        "print('The value of x is',x,'The value of y is',y)\n",
        "print(f'The value of x is {x} the value of y is {y}')"
      ],
      "metadata": {
        "colab": {
          "base_uri": "https://localhost:8080/"
        },
        "id": "5NjvwZihT6k-",
        "outputId": "be2b1db4-5130-4234-baa0-3ebad2422cc5"
      },
      "execution_count": null,
      "outputs": [
        {
          "output_type": "stream",
          "name": "stdout",
          "text": [
            "The value of x is 5 The value of y is 10\n",
            "The value of x is 5 the value of y is 10\n"
          ]
        }
      ]
    },
    {
      "cell_type": "markdown",
      "source": [
        "**Note - For my Numerical col --- Mean and median**\n",
        "\n",
        "**Note- For my Categorical col(string data) --- Mode**\n"
      ],
      "metadata": {
        "id": "IibWpA1yWPGC"
      }
    },
    {
      "cell_type": "markdown",
      "source": [
        "* When we have big amount of null values as compared to data then we fill the null values"
      ],
      "metadata": {
        "id": "SB64zNBcXDmo"
      }
    },
    {
      "cell_type": "markdown",
      "source": [
        "# Measure of Dispersion\n",
        "---\n",
        "### Range\n",
        "The difference between (Maximum value - minimum value) is known as Range"
      ],
      "metadata": {
        "id": "sTt21M5YXzTe"
      }
    },
    {
      "cell_type": "code",
      "source": [
        "data = [25,30,35,40,45,60,65,70,10]\n",
        "'''\n",
        "What will be the range?\n",
        "max = 70\n",
        "min = 10\n",
        "range = 70-10 ----> 60\n",
        "'''\n",
        "# python\n",
        "# np.ptp() - Point to point ---To identify the range\n",
        "result = np.ptp(data)\n",
        "result"
      ],
      "metadata": {
        "colab": {
          "base_uri": "https://localhost:8080/"
        },
        "id": "PpOiHWd-UuIZ",
        "outputId": "cf82714f-81a3-4b26-ff94-8cc4d1a1092d"
      },
      "execution_count": null,
      "outputs": [
        {
          "output_type": "execute_result",
          "data": {
            "text/plain": [
              "60"
            ]
          },
          "metadata": {},
          "execution_count": 14
        }
      ]
    },
    {
      "cell_type": "code",
      "source": [
        "min(data)\n"
      ],
      "metadata": {
        "colab": {
          "base_uri": "https://localhost:8080/"
        },
        "id": "6P66Xf0YdGdc",
        "outputId": "ea5cf0db-dab0-46d2-b6e2-20cb4fa85108"
      },
      "execution_count": null,
      "outputs": [
        {
          "output_type": "execute_result",
          "data": {
            "text/plain": [
              "10"
            ]
          },
          "metadata": {},
          "execution_count": 15
        }
      ]
    },
    {
      "cell_type": "markdown",
      "source": [
        "###Variance\n",
        "It quantifies the spread of data around mean"
      ],
      "metadata": {
        "id": "e6gSCBRYd5w2"
      }
    },
    {
      "cell_type": "markdown",
      "source": [
        "![image.png](data:image/png;base64,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)"
      ],
      "metadata": {
        "id": "GdJMsz2Kej24"
      }
    },
    {
      "cell_type": "code",
      "source": [
        "'''\n",
        "data = [25,30,35,40,45,50,55,60,65,70] - 10 elements\n",
        "# variance = Sum of squared difference between mean and the data point / Total number of data point\n",
        "# Mean - 47.5\n",
        "\n",
        "variance = [(25-47.5)^2 + (30 - 47.5)^2.....(70-47.5)^2] / 10\n",
        "'''\n",
        "\n",
        "# Python impletation\n",
        "data = [25,30,35,40,45,50,55,60,65,70]\n",
        "varianceValue = np.var(data)\n",
        "varianceValue # 206.25 -- variance"
      ],
      "metadata": {
        "colab": {
          "base_uri": "https://localhost:8080/"
        },
        "id": "_pJol8kIdHrE",
        "outputId": "fecf4404-bd0b-4956-c9de-6dfe256ae68e"
      },
      "execution_count": null,
      "outputs": [
        {
          "output_type": "execute_result",
          "data": {
            "text/plain": [
              "206.25"
            ]
          },
          "metadata": {},
          "execution_count": 16
        }
      ]
    },
    {
      "cell_type": "code",
      "source": [
        "np.mean(data)"
      ],
      "metadata": {
        "colab": {
          "base_uri": "https://localhost:8080/"
        },
        "id": "1RB7slh5fNGi",
        "outputId": "59ff3526-1f9e-443b-cd07-77e92c4cad69"
      },
      "execution_count": null,
      "outputs": [
        {
          "output_type": "execute_result",
          "data": {
            "text/plain": [
              "47.5"
            ]
          },
          "metadata": {},
          "execution_count": 17
        }
      ]
    },
    {
      "cell_type": "markdown",
      "source": [
        "### Standard Deviation\n",
        "It indicates how much individual data points deviates from the mean in a same unit\n",
        "* To get same unit --- We do Square root of variance"
      ],
      "metadata": {
        "id": "zanuPP_LivmE"
      }
    },
    {
      "cell_type": "code",
      "source": [
        "np.sqrt(varianceValue) # --- Standard deviation"
      ],
      "metadata": {
        "colab": {
          "base_uri": "https://localhost:8080/"
        },
        "id": "FcgzGx8Hg0NP",
        "outputId": "cc5f733a-d360-496b-f1ec-10dc880a985a"
      },
      "execution_count": null,
      "outputs": [
        {
          "output_type": "execute_result",
          "data": {
            "text/plain": [
              "14.361406616345072"
            ]
          },
          "metadata": {},
          "execution_count": 18
        }
      ]
    },
    {
      "cell_type": "code",
      "source": [
        "data = [25,30,35,40,45,50,55,60,65,70]\n",
        "standardDevVal = np.std(data)\n",
        "standardDevVal"
      ],
      "metadata": {
        "colab": {
          "base_uri": "https://localhost:8080/"
        },
        "id": "sFv-NirDiN2V",
        "outputId": "f6ac2a14-5b01-4774-8b28-45968f01b3cc"
      },
      "execution_count": null,
      "outputs": [
        {
          "output_type": "execute_result",
          "data": {
            "text/plain": [
              "14.361406616345072"
            ]
          },
          "metadata": {},
          "execution_count": 19
        }
      ]
    },
    {
      "cell_type": "markdown",
      "source": [
        "# Percentile\n",
        "\n",
        "Percentage - Out of 100\n",
        "\n",
        "Percentile : Out of total value (population)\n",
        "vaibhav scored 99% in JEE Mains\n",
        "\n",
        "the score that vaibhav got is higher than 99% of the student who attempeted the exam (Population)"
      ],
      "metadata": {
        "id": "2cCrwTEKkLQ-"
      }
    },
    {
      "cell_type": "code",
      "source": [
        "data = [10,34,64,24,63,73,78,34,57,35,46,98,34,37,85,45]\n",
        "# I want to find th 25 percentile\n",
        "np.percentile(data,25) # Quartile 1\n",
        "# 34 is the value that is ahead of 25% of my population"
      ],
      "metadata": {
        "colab": {
          "base_uri": "https://localhost:8080/"
        },
        "id": "NBCOMyBYkAGN",
        "outputId": "ab832efe-0854-40b2-dceb-82439ad76bf4"
      },
      "execution_count": null,
      "outputs": [
        {
          "output_type": "execute_result",
          "data": {
            "text/plain": [
              "34.0"
            ]
          },
          "metadata": {},
          "execution_count": 20
        }
      ]
    },
    {
      "cell_type": "code",
      "source": [
        "data.sort()\n",
        "data"
      ],
      "metadata": {
        "colab": {
          "base_uri": "https://localhost:8080/"
        },
        "id": "NBR11VjWmwZO",
        "outputId": "af9604d6-24e9-446e-9360-99c95b3cb7df"
      },
      "execution_count": null,
      "outputs": [
        {
          "output_type": "execute_result",
          "data": {
            "text/plain": [
              "[10, 24, 34, 34, 34, 35, 37, 45, 46, 57, 63, 64, 73, 78, 85, 98]"
            ]
          },
          "metadata": {},
          "execution_count": 21
        }
      ]
    },
    {
      "cell_type": "code",
      "source": [
        "np.percentile(data,50) # ---- Median 50 percentile --- Quartile 2"
      ],
      "metadata": {
        "colab": {
          "base_uri": "https://localhost:8080/"
        },
        "id": "RIk3iHRJnFPW",
        "outputId": "9a9d6b21-b100-4428-f068-4174c183bd0a"
      },
      "execution_count": null,
      "outputs": [
        {
          "output_type": "execute_result",
          "data": {
            "text/plain": [
              "45.5"
            ]
          },
          "metadata": {},
          "execution_count": 47
        }
      ]
    },
    {
      "cell_type": "code",
      "source": [
        "np.median(data)"
      ],
      "metadata": {
        "colab": {
          "base_uri": "https://localhost:8080/"
        },
        "id": "pgcfY2Y7nS4L",
        "outputId": "d921351a-953a-4972-a3d9-8b5c8a6d697c"
      },
      "execution_count": null,
      "outputs": [
        {
          "output_type": "execute_result",
          "data": {
            "text/plain": [
              "45.5"
            ]
          },
          "metadata": {},
          "execution_count": 48
        }
      ]
    },
    {
      "cell_type": "code",
      "source": [
        "np.percentile(data,75) # quartile 3---"
      ],
      "metadata": {
        "colab": {
          "base_uri": "https://localhost:8080/"
        },
        "id": "Daec1M68nX8C",
        "outputId": "a34ec682-3f93-4c45-a713-7cbc170e46bc"
      },
      "execution_count": null,
      "outputs": [
        {
          "output_type": "execute_result",
          "data": {
            "text/plain": [
              "66.25"
            ]
          },
          "metadata": {},
          "execution_count": 49
        }
      ]
    },
    {
      "cell_type": "markdown",
      "source": [
        "we have some fixed percentile value - 25,50,75 (quartiles)\n",
        "* 25 percentile - Quartile 1\n",
        "* 50 percentile - Quartile 2\n",
        "* 75 percentile - Quartile 3"
      ],
      "metadata": {
        "id": "K6L7ZsXAn2Wv"
      }
    },
    {
      "cell_type": "code",
      "source": [
        "np.percentile(data,56)"
      ],
      "metadata": {
        "colab": {
          "base_uri": "https://localhost:8080/"
        },
        "id": "Sg-2Bj2Knr1O",
        "outputId": "489e4ddd-8189-44bb-b2a7-2e539e02e74f"
      },
      "execution_count": null,
      "outputs": [
        {
          "output_type": "execute_result",
          "data": {
            "text/plain": [
              "50.400000000000006"
            ]
          },
          "metadata": {},
          "execution_count": 22
        }
      ]
    },
    {
      "cell_type": "code",
      "source": [
        "np.quantile(data,0.5)"
      ],
      "metadata": {
        "colab": {
          "base_uri": "https://localhost:8080/"
        },
        "id": "CuJQLHHUO0aD",
        "outputId": "1cf1cb53-020f-4f51-9482-2586a0044c95"
      },
      "execution_count": null,
      "outputs": [
        {
          "output_type": "execute_result",
          "data": {
            "text/plain": [
              "45.5"
            ]
          },
          "metadata": {},
          "execution_count": 25
        }
      ]
    },
    {
      "cell_type": "markdown",
      "source": [
        "# IQR\n",
        "Inter quatile range = Q3 - Q1"
      ],
      "metadata": {
        "id": "YpvSZcAwolhX"
      }
    },
    {
      "cell_type": "markdown",
      "source": [
        "#Outliers\n",
        "Very high ot very low values that differ from the normal range of my data"
      ],
      "metadata": {
        "id": "_ClfayiRPb8q"
      }
    },
    {
      "cell_type": "code",
      "source": [
        "age = [18,25,30,45,-190,33,67,78,89,93,83,250,76,99,271,10,1,96,56,7,35,56,67,97,46,45,78]\n",
        "import matplotlib.pyplot as plt\n",
        "plt.boxplot(age)\n",
        "plt.show()"
      ],
      "metadata": {
        "id": "PMQuOlLloMTW",
        "colab": {
          "base_uri": "https://localhost:8080/",
          "height": 430
        },
        "outputId": "fea08b2e-4e2a-41be-b93a-163337d75eee"
      },
      "execution_count": null,
      "outputs": [
        {
          "output_type": "display_data",
          "data": {
            "text/plain": [
              "<Figure size 640x480 with 1 Axes>"
            ],
            "image/png": "[encoded data removed]"
          },
          "metadata": {}
        }
      ]
    },
    {
      "cell_type": "markdown",
      "source": [
        "# Steps to remove outliers\n",
        "* Calculate Q1 and Q3\n",
        "* Find IQR (Inter Quartile Range)(Q3-Q1)\n",
        "* Find UpperFence and LowerFence\n",
        "* Check if there is any outlier in my data(if any --->Remove)"
      ],
      "metadata": {
        "id": "4CWO2e3NQtVW"
      }
    },
    {
      "cell_type": "code",
      "source": [
        "age = [18,25,30,45,-190,33,67,78,89,93,83,250,76,99,271,10,1,96,56,7,35,56,67,97,46,45,78]\n",
        "Q1 = np.percentile(age,25)\n",
        "Q3 = np.percentile(age,75)\n",
        "# Inter Quartile Range\n",
        "IQR = Q3 - Q1\n",
        "print(f'Quartile1: {Q1} and Quartile3: {Q3}, IQR: {IQR}')"
      ],
      "metadata": {
        "colab": {
          "base_uri": "https://localhost:8080/"
        },
        "id": "Sy518CJDOgfy",
        "outputId": "f568639b-8ee6-4060-c944-3558ad8088bc"
      },
      "execution_count": null,
      "outputs": [
        {
          "output_type": "stream",
          "name": "stdout",
          "text": [
            "Quartile1: 31.5 and Quartile3: 86.0, IQR: 54.5\n"
          ]
        }
      ]
    },
    {
      "cell_type": "code",
      "source": [
        "upperFence = Q3 +1.5*IQR\n",
        "lowerFence = Q1 - 1.5*IQR\n",
        "print(upperFence,lowerFence)\n",
        "# 167.75 ---- Max ---- If any data beyond this will be consider as Outlier\n",
        "# -50.25 ---- Min ---- Any value is less that -50.25 --- Outlier"
      ],
      "metadata": {
        "colab": {
          "base_uri": "https://localhost:8080/"
        },
        "id": "Di4ajb-TRwdW",
        "outputId": "834ec065-37c4-4d7b-9871-b7ddbca17cea"
      },
      "execution_count": null,
      "outputs": [
        {
          "output_type": "stream",
          "name": "stdout",
          "text": [
            "167.75 -50.25\n"
          ]
        }
      ]
    },
    {
      "cell_type": "code",
      "source": [
        "for i in age:\n",
        "  if i>upperFence or i<lowerFence:\n",
        "    print(f'Outlier value in data is:{i} and its been deleted')\n",
        "    age.remove(i)"
      ],
      "metadata": {
        "colab": {
          "base_uri": "https://localhost:8080/"
        },
        "id": "0avGA13WSuzS",
        "outputId": "d7ee04b3-e2fc-4673-a1a7-576786600c0c"
      },
      "execution_count": null,
      "outputs": [
        {
          "output_type": "stream",
          "name": "stdout",
          "text": [
            "Outlier value in data is:-190 and its been deleted\n",
            "Outlier value in data is:250 and its been deleted\n",
            "Outlier value in data is:271 and its been deleted\n"
          ]
        }
      ]
    },
    {
      "cell_type": "code",
      "source": [
        "age"
      ],
      "metadata": {
        "colab": {
          "base_uri": "https://localhost:8080/"
        },
        "id": "eTnyXkudT2le",
        "outputId": "8ca6a5bb-a18e-42b7-87ef-cec717eaf3f2"
      },
      "execution_count": null,
      "outputs": [
        {
          "output_type": "execute_result",
          "data": {
            "text/plain": [
              "[18,\n",
              " 25,\n",
              " 30,\n",
              " 45,\n",
              " 33,\n",
              " 67,\n",
              " 78,\n",
              " 89,\n",
              " 93,\n",
              " 83,\n",
              " 76,\n",
              " 99,\n",
              " 10,\n",
              " 1,\n",
              " 96,\n",
              " 56,\n",
              " 7,\n",
              " 35,\n",
              " 56,\n",
              " 67,\n",
              " 97,\n",
              " 46,\n",
              " 45,\n",
              " 78]"
            ]
          },
          "metadata": {},
          "execution_count": 34
        }
      ]
    },
    {
      "cell_type": "code",
      "source": [
        "plt.boxplot(age)\n",
        "plt.show()"
      ],
      "metadata": {
        "colab": {
          "base_uri": "https://localhost:8080/",
          "height": 430
        },
        "id": "dX2W2QVST6Qz",
        "outputId": "a40ea900-b037-48e6-ec5e-d934b486bd54"
      },
      "execution_count": null,
      "outputs": [
        {
          "output_type": "display_data",
          "data": {
            "text/plain": [
              "<Figure size 640x480 with 1 Axes>"
            ],
            "image/png": "[encoded data removed]"
          },
          "metadata": {}
        }
      ]
    },
    {
      "cell_type": "markdown",
      "source": [
        "# Correlation\n",
        "* Relationship between two things (Two variables, Two Columns, Two values) ---- Depenedent and Independent column\n",
        "* Range varies from -1 to +1\n",
        "* Positive Corr - Between 0 to +1\n",
        "* no corr - 0\n",
        "* Negative corr - btwn 0 to -1\n",
        "* It works only on numerical data/ Continuous data"
      ],
      "metadata": {
        "id": "AaVeOyoLU-bD"
      }
    },
    {
      "cell_type": "code",
      "source": [
        "# Postive corr (if x axis increase ---- Y also increase)\n",
        "\n",
        "'''\n",
        "Example:\n",
        "temp increase ---> Sales of ice cream increase\n",
        "'''\n",
        "x = 10\n",
        "y = x*2\n",
        "print(y)"
      ],
      "metadata": {
        "colab": {
          "base_uri": "https://localhost:8080/"
        },
        "id": "oWuMLbgsUGe0",
        "outputId": "a8434c44-3715-4f63-e1c5-a4f6b8122c86"
      },
      "execution_count": null,
      "outputs": [
        {
          "output_type": "stream",
          "name": "stdout",
          "text": [
            "20\n"
          ]
        }
      ]
    },
    {
      "cell_type": "code",
      "source": [
        "# Negative corr - If x axis inc --- y dec\n",
        "'''\n",
        "Example\n",
        "Speed increase --- Time to reach destination decrease\n",
        "inflation inc --- puchaseing pow dec\n",
        "'''\n",
        "\n",
        "x = 2\n",
        "y = 5/x\n",
        "print(y)"
      ],
      "metadata": {
        "colab": {
          "base_uri": "https://localhost:8080/"
        },
        "id": "zoeIJDPEXhch",
        "outputId": "c01a4167-9c80-43ce-e59d-f145481b17a1"
      },
      "execution_count": null,
      "outputs": [
        {
          "output_type": "stream",
          "name": "stdout",
          "text": [
            "2.5\n"
          ]
        }
      ]
    },
    {
      "cell_type": "code",
      "source": [
        "import seaborn as sns\n",
        "iris = sns.load_dataset('iris')"
      ],
      "metadata": {
        "id": "o8MaBjf_YiTa"
      },
      "execution_count": null,
      "outputs": []
    },
    {
      "cell_type": "code",
      "source": [
        "iris.head()"
      ],
      "metadata": {
        "colab": {
          "base_uri": "https://localhost:8080/",
          "height": 206
        },
        "id": "RsnaHpdmY1zF",
        "outputId": "97c00a31-c6a4-4685-f6fc-a5de290b5469"
      },
      "execution_count": null,
      "outputs": [
        {
          "output_type": "execute_result",
          "data": {
            "text/plain": [
              "   sepal_length  sepal_width  petal_length  petal_width species\n",
              "0           5.1          3.5           1.4          0.2  setosa\n",
              "1           4.9          3.0           1.4          0.2  setosa\n",
              "2           4.7          3.2           1.3          0.2  setosa\n",
              "3           4.6          3.1           1.5          0.2  setosa\n",
              "4           5.0          3.6           1.4          0.2  setosa"
            ],
            "text/html": [
              "\n",
              "  <div id=\"df-3d28de5b-3065-4174-bc54-efe2cd5e5711\" class=\"colab-df-container\">\n",
              "    <div>\n",
              "<style scoped>\n",
              "    .dataframe tbody tr th:only-of-type {\n",
              "        vertical-align: middle;\n",
              "    }\n",
              "\n",
              "    .dataframe tbody tr th {\n",
              "        vertical-align: top;\n",
              "    }\n",
              "\n",
              "    .dataframe thead th {\n",
              "        text-align: right;\n",
              "    }\n",
              "</style>\n",
              "<table border=\"1\" class=\"dataframe\">\n",
              "  <thead>\n",
              "    <tr style=\"text-align: right;\">\n",
              "      <th></th>\n",
              "      <th>sepal_length</th>\n",
              "      <th>sepal_width</th>\n",
              "      <th>petal_length</th>\n",
              "      <th>petal_width</th>\n",
              "      <th>species</th>\n",
              "    </tr>\n",
              "  </thead>\n",
              "  <tbody>\n",
              "    <tr>\n",
              "      <th>0</th>\n",
              "      <td>5.1</td>\n",
              "      <td>3.5</td>\n",
              "      <td>1.4</td>\n",
              "      <td>0.2</td>\n",
              "      <td>setosa</td>\n",
              "    </tr>\n",
              "    <tr>\n",
              "      <th>1</th>\n",
              "      <td>4.9</td>\n",
              "      <td>3.0</td>\n",
              "      <td>1.4</td>\n",
              "      <td>0.2</td>\n",
              "      <td>setosa</td>\n",
              "    </tr>\n",
              "    <tr>\n",
              "      <th>2</th>\n",
              "      <td>4.7</td>\n",
              "      <td>3.2</td>\n",
              "      <td>1.3</td>\n",
              "      <td>0.2</td>\n",
              "      <td>setosa</td>\n",
              "    </tr>\n",
              "    <tr>\n",
              "      <th>3</th>\n",
              "      <td>4.6</td>\n",
              "      <td>3.1</td>\n",
              "      <td>1.5</td>\n",
              "      <td>0.2</td>\n",
              "      <td>setosa</td>\n",
              "    </tr>\n",
              "    <tr>\n",
              "      <th>4</th>\n",
              "      <td>5.0</td>\n",
              "      <td>3.6</td>\n",
              "      <td>1.4</td>\n",
              "      <td>0.2</td>\n",
              "      <td>setosa</td>\n",
              "    </tr>\n",
              "  </tbody>\n",
              "</table>\n",
              "</div>\n",
              "    <div class=\"colab-df-buttons\">\n",
              "\n",
              "  <div class=\"colab-df-container\">\n",
              "    <button class=\"colab-df-convert\" onclick=\"convertToInteractive('df-3d28de5b-3065-4174-bc54-efe2cd5e5711')\"\n",
              "            title=\"Convert this dataframe to an interactive table.\"\n",
              "            style=\"display:none;\">\n",
              "\n",
              "  <svg xmlns=\"http://www.w3.org/2000/svg\" height=\"24px\" viewBox=\"0 -960 960 960\">\n",
              "    <path d=\"M120-120v-720h720v720H120Zm60-500h600v-160H180v160Zm220 220h160v-160H400v160Zm0 220h160v-160H400v160ZM180-400h160v-160H180v160Zm440 0h160v-160H620v160ZM180-180h160v-160H180v160Zm440 0h160v-160H620v160Z\"/>\n",
              "  </svg>\n",
              "    </button>\n",
              "\n",
              "  <style>\n",
              "    .colab-df-container {\n",
              "      display:flex;\n",
              "      gap: 12px;\n",
              "    }\n",
              "\n",
              "    .colab-df-convert {\n",
              "      background-color: #E8F0FE;\n",
              "      border: none;\n",
              "      border-radius: 50%;\n",
              "      cursor: pointer;\n",
              "      display: none;\n",
              "      fill: #1967D2;\n",
              "      height: 32px;\n",
              "      padding: 0 0 0 0;\n",
              "      width: 32px;\n",
              "    }\n",
              "\n",
              "    .colab-df-convert:hover {\n",
              "      background-color: #E2EBFA;\n",
              "      box-shadow: 0px 1px 2px rgba(60, 64, 67, 0.3), 0px 1px 3px 1px rgba(60, 64, 67, 0.15);\n",
              "      fill: #174EA6;\n",
              "    }\n",
              "\n",
              "    .colab-df-buttons div {\n",
              "      margin-bottom: 4px;\n",
              "    }\n",
              "\n",
              "    [theme=dark] .colab-df-convert {\n",
              "      background-color: #3B4455;\n",
              "      fill: #D2E3FC;\n",
              "    }\n",
              "\n",
              "    [theme=dark] .colab-df-convert:hover {\n",
              "      background-color: #434B5C;\n",
              "      box-shadow: 0px 1px 3px 1px rgba(0, 0, 0, 0.15);\n",
              "      filter: drop-shadow(0px 1px 2px rgba(0, 0, 0, 0.3));\n",
              "      fill: #FFFFFF;\n",
              "    }\n",
              "  </style>\n",
              "\n",
              "    <script>\n",
              "      const buttonEl =\n",
              "        document.querySelector('#df-3d28de5b-3065-4174-bc54-efe2cd5e5711 button.colab-df-convert');\n",
              "      buttonEl.style.display =\n",
              "        google.colab.kernel.accessAllowed ? 'block' : 'none';\n",
              "\n",
              "      async function convertToInteractive(key) {\n",
              "        const element = document.querySelector('#df-3d28de5b-3065-4174-bc54-efe2cd5e5711');\n",
              "        const dataTable =\n",
              "          await google.colab.kernel.invokeFunction('convertToInteractive',\n",
              "                                                    [key], {});\n",
              "        if (!dataTable) return;\n",
              "\n",
              "        const docLinkHtml = 'Like what you see? Visit the ' +\n",
              "          '<a target=\"_blank\" href=https://colab.research.google.com/notebooks/data_table.ipynb>data table notebook</a>'\n",
              "          + ' to learn more about interactive tables.';\n",
              "        element.innerHTML = '';\n",
              "        dataTable['output_type'] = 'display_data';\n",
              "        await google.colab.output.renderOutput(dataTable, element);\n",
              "        const docLink = document.createElement('div');\n",
              "        docLink.innerHTML = docLinkHtml;\n",
              "        element.appendChild(docLink);\n",
              "      }\n",
              "    </script>\n",
              "  </div>\n",
              "\n",
              "\n",
              "<div id=\"df-d7567f65-c460-44a2-baa0-402110ce9019\">\n",
              "  <button class=\"colab-df-quickchart\" onclick=\"quickchart('df-d7567f65-c460-44a2-baa0-402110ce9019')\"\n",
              "            title=\"Suggest charts\"\n",
              "            style=\"display:none;\">\n",
              "\n",
              "<svg xmlns=\"http://www.w3.org/2000/svg\" height=\"24px\"viewBox=\"0 0 24 24\"\n",
              "     width=\"24px\">\n",
              "    <g>\n",
              "        <path d=\"M19 3H5c-1.1 0-2 .9-2 2v14c0 1.1.9 2 2 2h14c1.1 0 2-.9 2-2V5c0-1.1-.9-2-2-2zM9 17H7v-7h2v7zm4 0h-2V7h2v10zm4 0h-2v-4h2v4z\"/>\n",
              "    </g>\n",
              "</svg>\n",
              "  </button>\n",
              "\n",
              "<style>\n",
              "  .colab-df-quickchart {\n",
              "      --bg-color: #E8F0FE;\n",
              "      --fill-color: #1967D2;\n",
              "      --hover-bg-color: #E2EBFA;\n",
              "      --hover-fill-color: #174EA6;\n",
              "      --disabled-fill-color: #AAA;\n",
              "      --disabled-bg-color: #DDD;\n",
              "  }\n",
              "\n",
              "  [theme=dark] .colab-df-quickchart {\n",
              "      --bg-color: #3B4455;\n",
              "      --fill-color: #D2E3FC;\n",
              "      --hover-bg-color: #434B5C;\n",
              "      --hover-fill-color: #FFFFFF;\n",
              "      --disabled-bg-color: #3B4455;\n",
              "      --disabled-fill-color: #666;\n",
              "  }\n",
              "\n",
              "  .colab-df-quickchart {\n",
              "    background-color: var(--bg-color);\n",
              "    border: none;\n",
              "    border-radius: 50%;\n",
              "    cursor: pointer;\n",
              "    display: none;\n",
              "    fill: var(--fill-color);\n",
              "    height: 32px;\n",
              "    padding: 0;\n",
              "    width: 32px;\n",
              "  }\n",
              "\n",
              "  .colab-df-quickchart:hover {\n",
              "    background-color: var(--hover-bg-color);\n",
              "    box-shadow: 0 1px 2px rgba(60, 64, 67, 0.3), 0 1px 3px 1px rgba(60, 64, 67, 0.15);\n",
              "    fill: var(--button-hover-fill-color);\n",
              "  }\n",
              "\n",
              "  .colab-df-quickchart-complete:disabled,\n",
              "  .colab-df-quickchart-complete:disabled:hover {\n",
              "    background-color: var(--disabled-bg-color);\n",
              "    fill: var(--disabled-fill-color);\n",
              "    box-shadow: none;\n",
              "  }\n",
              "\n",
              "  .colab-df-spinner {\n",
              "    border: 2px solid var(--fill-color);\n",
              "    border-color: transparent;\n",
              "    border-bottom-color: var(--fill-color);\n",
              "    animation:\n",
              "      spin 1s steps(1) infinite;\n",
              "  }\n",
              "\n",
              "  @keyframes spin {\n",
              "    0% {\n",
              "      border-color: transparent;\n",
              "      border-bottom-color: var(--fill-color);\n",
              "      border-left-color: var(--fill-color);\n",
              "    }\n",
              "    20% {\n",
              "      border-color: transparent;\n",
              "      border-left-color: var(--fill-color);\n",
              "      border-top-color: var(--fill-color);\n",
              "    }\n",
              "    30% {\n",
              "      border-color: transparent;\n",
              "      border-left-color: var(--fill-color);\n",
              "      border-top-color: var(--fill-color);\n",
              "      border-right-color: var(--fill-color);\n",
              "    }\n",
              "    40% {\n",
              "      border-color: transparent;\n",
              "      border-right-color: var(--fill-color);\n",
              "      border-top-color: var(--fill-color);\n",
              "    }\n",
              "    60% {\n",
              "      border-color: transparent;\n",
              "      border-right-color: var(--fill-color);\n",
              "    }\n",
              "    80% {\n",
              "      border-color: transparent;\n",
              "      border-right-color: var(--fill-color);\n",
              "      border-bottom-color: var(--fill-color);\n",
              "    }\n",
              "    90% {\n",
              "      border-color: transparent;\n",
              "      border-bottom-color: var(--fill-color);\n",
              "    }\n",
              "  }\n",
              "</style>\n",
              "\n",
              "  <script>\n",
              "    async function quickchart(key) {\n",
              "      const quickchartButtonEl =\n",
              "        document.querySelector('#' + key + ' button');\n",
              "      quickchartButtonEl.disabled = true;  // To prevent multiple clicks.\n",
              "      quickchartButtonEl.classList.add('colab-df-spinner');\n",
              "      try {\n",
              "        const charts = await google.colab.kernel.invokeFunction(\n",
              "            'suggestCharts', [key], {});\n",
              "      } catch (error) {\n",
              "        console.error('Error during call to suggestCharts:', error);\n",
              "      }\n",
              "      quickchartButtonEl.classList.remove('colab-df-spinner');\n",
              "      quickchartButtonEl.classList.add('colab-df-quickchart-complete');\n",
              "    }\n",
              "    (() => {\n",
              "      let quickchartButtonEl =\n",
              "        document.querySelector('#df-d7567f65-c460-44a2-baa0-402110ce9019 button');\n",
              "      quickchartButtonEl.style.display =\n",
              "        google.colab.kernel.accessAllowed ? 'block' : 'none';\n",
              "    })();\n",
              "  </script>\n",
              "</div>\n",
              "\n",
              "    </div>\n",
              "  </div>\n"
            ],
            "application/vnd.google.colaboratory.intrinsic+json": {
              "type": "dataframe",
              "variable_name": "iris",
              "summary": "{\n  \"name\": \"iris\",\n  \"rows\": 150,\n  \"fields\": [\n    {\n      \"column\": \"sepal_length\",\n      \"properties\": {\n        \"dtype\": \"number\",\n        \"std\": 0.8280661279778629,\n        \"min\": 4.3,\n        \"max\": 7.9,\n        \"num_unique_values\": 35,\n        \"samples\": [\n          6.2,\n          4.5,\n          5.6\n        ],\n        \"semantic_type\": \"\",\n        \"description\": \"\"\n      }\n    },\n    {\n      \"column\": \"sepal_width\",\n      \"properties\": {\n        \"dtype\": \"number\",\n        \"std\": 0.435866284936698,\n        \"min\": 2.0,\n        \"max\": 4.4,\n        \"num_unique_values\": 23,\n        \"samples\": [\n          2.3,\n          4.0,\n          3.5\n        ],\n        \"semantic_type\": \"\",\n        \"description\": \"\"\n      }\n    },\n    {\n      \"column\": \"petal_length\",\n      \"properties\": {\n        \"dtype\": \"number\",\n        \"std\": 1.7652982332594667,\n        \"min\": 1.0,\n        \"max\": 6.9,\n        \"num_unique_values\": 43,\n        \"samples\": [\n          6.7,\n          3.8,\n          3.7\n        ],\n        \"semantic_type\": \"\",\n        \"description\": \"\"\n      }\n    },\n    {\n      \"column\": \"petal_width\",\n      \"properties\": {\n        \"dtype\": \"number\",\n        \"std\": 0.7622376689603465,\n        \"min\": 0.1,\n        \"max\": 2.5,\n        \"num_unique_values\": 22,\n        \"samples\": [\n          0.2,\n          1.2,\n          1.3\n        ],\n        \"semantic_type\": \"\",\n        \"description\": \"\"\n      }\n    },\n    {\n      \"column\": \"species\",\n      \"properties\": {\n        \"dtype\": \"category\",\n        \"num_unique_values\": 3,\n        \"samples\": [\n          \"setosa\",\n          \"versicolor\",\n          \"virginica\"\n        ],\n        \"semantic_type\": \"\",\n        \"description\": \"\"\n      }\n    }\n  ]\n}"
            }
          },
          "metadata": {},
          "execution_count": 46
        }
      ]
    },
    {
      "cell_type": "code",
      "source": [
        "iris.info()"
      ],
      "metadata": {
        "colab": {
          "base_uri": "https://localhost:8080/"
        },
        "id": "syVRFA8eY4Wh",
        "outputId": "98869f0f-d4b4-4877-c045-c9f9ecce5c4a"
      },
      "execution_count": null,
      "outputs": [
        {
          "output_type": "stream",
          "name": "stdout",
          "text": [
            "<class 'pandas.core.frame.DataFrame'>\n",
            "RangeIndex: 150 entries, 0 to 149\n",
            "Data columns (total 5 columns):\n",
            " #   Column        Non-Null Count  Dtype  \n",
            "---  ------        --------------  -----  \n",
            " 0   sepal_length  150 non-null    float64\n",
            " 1   sepal_width   150 non-null    float64\n",
            " 2   petal_length  150 non-null    float64\n",
            " 3   petal_width   150 non-null    float64\n",
            " 4   species       150 non-null    object \n",
            "dtypes: float64(4), object(1)\n",
            "memory usage: 6.0+ KB\n"
          ]
        }
      ]
    },
    {
      "cell_type": "code",
      "source": [
        "iris.species.value_counts()"
      ],
      "metadata": {
        "colab": {
          "base_uri": "https://localhost:8080/",
          "height": 209
        },
        "id": "iT2pNBNdY7Wk",
        "outputId": "1fa52baf-7327-4451-f45c-f532f1498f55"
      },
      "execution_count": null,
      "outputs": [
        {
          "output_type": "execute_result",
          "data": {
            "text/plain": [
              "species\n",
              "setosa        50\n",
              "versicolor    50\n",
              "virginica     50\n",
              "Name: count, dtype: int64"
            ],
            "text/html": [
              "<div>\n",
              "<style scoped>\n",
              "    .dataframe tbody tr th:only-of-type {\n",
              "        vertical-align: middle;\n",
              "    }\n",
              "\n",
              "    .dataframe tbody tr th {\n",
              "        vertical-align: top;\n",
              "    }\n",
              "\n",
              "    .dataframe thead th {\n",
              "        text-align: right;\n",
              "    }\n",
              "</style>\n",
              "<table border=\"1\" class=\"dataframe\">\n",
              "  <thead>\n",
              "    <tr style=\"text-align: right;\">\n",
              "      <th></th>\n",
              "      <th>count</th>\n",
              "    </tr>\n",
              "    <tr>\n",
              "      <th>species</th>\n",
              "      <th></th>\n",
              "    </tr>\n",
              "  </thead>\n",
              "  <tbody>\n",
              "    <tr>\n",
              "      <th>setosa</th>\n",
              "      <td>50</td>\n",
              "    </tr>\n",
              "    <tr>\n",
              "      <th>versicolor</th>\n",
              "      <td>50</td>\n",
              "    </tr>\n",
              "    <tr>\n",
              "      <th>virginica</th>\n",
              "      <td>50</td>\n",
              "    </tr>\n",
              "  </tbody>\n",
              "</table>\n",
              "</div><br><label><b>dtype:</b> int64</label>"
            ]
          },
          "metadata": {},
          "execution_count": 48
        }
      ]
    },
    {
      "cell_type": "code",
      "source": [
        "corrM = iris.select_dtypes(include=[np.number]).corr()"
      ],
      "metadata": {
        "id": "2yGctiGKZlW7"
      },
      "execution_count": null,
      "outputs": []
    },
    {
      "cell_type": "code",
      "source": [
        "corrM *100"
      ],
      "metadata": {
        "colab": {
          "base_uri": "https://localhost:8080/",
          "height": 174
        },
        "id": "4GtonEB0Z1np",
        "outputId": "aeb4d2eb-1404-4ec0-ea5f-dcf7aac037ff"
      },
      "execution_count": null,
      "outputs": [
        {
          "output_type": "execute_result",
          "data": {
            "text/plain": [
              "              sepal_length  sepal_width  petal_length  petal_width\n",
              "sepal_length    100.000000   -11.756978     87.175378    81.794113\n",
              "sepal_width     -11.756978   100.000000    -42.844010   -36.612593\n",
              "petal_length     87.175378   -42.844010    100.000000    96.286543\n",
              "petal_width      81.794113   -36.612593     96.286543   100.000000"
            ],
            "text/html": [
              "\n",
              "  <div id=\"df-436c12af-b87e-4266-b484-3fca5d6ee96f\" class=\"colab-df-container\">\n",
              "    <div>\n",
              "<style scoped>\n",
              "    .dataframe tbody tr th:only-of-type {\n",
              "        vertical-align: middle;\n",
              "    }\n",
              "\n",
              "    .dataframe tbody tr th {\n",
              "        vertical-align: top;\n",
              "    }\n",
              "\n",
              "    .dataframe thead th {\n",
              "        text-align: right;\n",
              "    }\n",
              "</style>\n",
              "<table border=\"1\" class=\"dataframe\">\n",
              "  <thead>\n",
              "    <tr style=\"text-align: right;\">\n",
              "      <th></th>\n",
              "      <th>sepal_length</th>\n",
              "      <th>sepal_width</th>\n",
              "      <th>petal_length</th>\n",
              "      <th>petal_width</th>\n",
              "    </tr>\n",
              "  </thead>\n",
              "  <tbody>\n",
              "    <tr>\n",
              "      <th>sepal_length</th>\n",
              "      <td>100.000000</td>\n",
              "      <td>-11.756978</td>\n",
              "      <td>87.175378</td>\n",
              "      <td>81.794113</td>\n",
              "    </tr>\n",
              "    <tr>\n",
              "      <th>sepal_width</th>\n",
              "      <td>-11.756978</td>\n",
              "      <td>100.000000</td>\n",
              "      <td>-42.844010</td>\n",
              "      <td>-36.612593</td>\n",
              "    </tr>\n",
              "    <tr>\n",
              "      <th>petal_length</th>\n",
              "      <td>87.175378</td>\n",
              "      <td>-42.844010</td>\n",
              "      <td>100.000000</td>\n",
              "      <td>96.286543</td>\n",
              "    </tr>\n",
              "    <tr>\n",
              "      <th>petal_width</th>\n",
              "      <td>81.794113</td>\n",
              "      <td>-36.612593</td>\n",
              "      <td>96.286543</td>\n",
              "      <td>100.000000</td>\n",
              "    </tr>\n",
              "  </tbody>\n",
              "</table>\n",
              "</div>\n",
              "    <div class=\"colab-df-buttons\">\n",
              "\n",
              "  <div class=\"colab-df-container\">\n",
              "    <button class=\"colab-df-convert\" onclick=\"convertToInteractive('df-436c12af-b87e-4266-b484-3fca5d6ee96f')\"\n",
              "            title=\"Convert this dataframe to an interactive table.\"\n",
              "            style=\"display:none;\">\n",
              "\n",
              "  <svg xmlns=\"http://www.w3.org/2000/svg\" height=\"24px\" viewBox=\"0 -960 960 960\">\n",
              "    <path d=\"M120-120v-720h720v720H120Zm60-500h600v-160H180v160Zm220 220h160v-160H400v160Zm0 220h160v-160H400v160ZM180-400h160v-160H180v160Zm440 0h160v-160H620v160ZM180-180h160v-160H180v160Zm440 0h160v-160H620v160Z\"/>\n",
              "  </svg>\n",
              "    </button>\n",
              "\n",
              "  <style>\n",
              "    .colab-df-container {\n",
              "      display:flex;\n",
              "      gap: 12px;\n",
              "    }\n",
              "\n",
              "    .colab-df-convert {\n",
              "      background-color: #E8F0FE;\n",
              "      border: none;\n",
              "      border-radius: 50%;\n",
              "      cursor: pointer;\n",
              "      display: none;\n",
              "      fill: #1967D2;\n",
              "      height: 32px;\n",
              "      padding: 0 0 0 0;\n",
              "      width: 32px;\n",
              "    }\n",
              "\n",
              "    .colab-df-convert:hover {\n",
              "      background-color: #E2EBFA;\n",
              "      box-shadow: 0px 1px 2px rgba(60, 64, 67, 0.3), 0px 1px 3px 1px rgba(60, 64, 67, 0.15);\n",
              "      fill: #174EA6;\n",
              "    }\n",
              "\n",
              "    .colab-df-buttons div {\n",
              "      margin-bottom: 4px;\n",
              "    }\n",
              "\n",
              "    [theme=dark] .colab-df-convert {\n",
              "      background-color: #3B4455;\n",
              "      fill: #D2E3FC;\n",
              "    }\n",
              "\n",
              "    [theme=dark] .colab-df-convert:hover {\n",
              "      background-color: #434B5C;\n",
              "      box-shadow: 0px 1px 3px 1px rgba(0, 0, 0, 0.15);\n",
              "      filter: drop-shadow(0px 1px 2px rgba(0, 0, 0, 0.3));\n",
              "      fill: #FFFFFF;\n",
              "    }\n",
              "  </style>\n",
              "\n",
              "    <script>\n",
              "      const buttonEl =\n",
              "        document.querySelector('#df-436c12af-b87e-4266-b484-3fca5d6ee96f button.colab-df-convert');\n",
              "      buttonEl.style.display =\n",
              "        google.colab.kernel.accessAllowed ? 'block' : 'none';\n",
              "\n",
              "      async function convertToInteractive(key) {\n",
              "        const element = document.querySelector('#df-436c12af-b87e-4266-b484-3fca5d6ee96f');\n",
              "        const dataTable =\n",
              "          await google.colab.kernel.invokeFunction('convertToInteractive',\n",
              "                                                    [key], {});\n",
              "        if (!dataTable) return;\n",
              "\n",
              "        const docLinkHtml = 'Like what you see? Visit the ' +\n",
              "          '<a target=\"_blank\" href=https://colab.research.google.com/notebooks/data_table.ipynb>data table notebook</a>'\n",
              "          + ' to learn more about interactive tables.';\n",
              "        element.innerHTML = '';\n",
              "        dataTable['output_type'] = 'display_data';\n",
              "        await google.colab.output.renderOutput(dataTable, element);\n",
              "        const docLink = document.createElement('div');\n",
              "        docLink.innerHTML = docLinkHtml;\n",
              "        element.appendChild(docLink);\n",
              "      }\n",
              "    </script>\n",
              "  </div>\n",
              "\n",
              "\n",
              "<div id=\"df-53a13848-253e-421f-a092-c0c21f80afa7\">\n",
              "  <button class=\"colab-df-quickchart\" onclick=\"quickchart('df-53a13848-253e-421f-a092-c0c21f80afa7')\"\n",
              "            title=\"Suggest charts\"\n",
              "            style=\"display:none;\">\n",
              "\n",
              "<svg xmlns=\"http://www.w3.org/2000/svg\" height=\"24px\"viewBox=\"0 0 24 24\"\n",
              "     width=\"24px\">\n",
              "    <g>\n",
              "        <path d=\"M19 3H5c-1.1 0-2 .9-2 2v14c0 1.1.9 2 2 2h14c1.1 0 2-.9 2-2V5c0-1.1-.9-2-2-2zM9 17H7v-7h2v7zm4 0h-2V7h2v10zm4 0h-2v-4h2v4z\"/>\n",
              "    </g>\n",
              "</svg>\n",
              "  </button>\n",
              "\n",
              "<style>\n",
              "  .colab-df-quickchart {\n",
              "      --bg-color: #E8F0FE;\n",
              "      --fill-color: #1967D2;\n",
              "      --hover-bg-color: #E2EBFA;\n",
              "      --hover-fill-color: #174EA6;\n",
              "      --disabled-fill-color: #AAA;\n",
              "      --disabled-bg-color: #DDD;\n",
              "  }\n",
              "\n",
              "  [theme=dark] .colab-df-quickchart {\n",
              "      --bg-color: #3B4455;\n",
              "      --fill-color: #D2E3FC;\n",
              "      --hover-bg-color: #434B5C;\n",
              "      --hover-fill-color: #FFFFFF;\n",
              "      --disabled-bg-color: #3B4455;\n",
              "      --disabled-fill-color: #666;\n",
              "  }\n",
              "\n",
              "  .colab-df-quickchart {\n",
              "    background-color: var(--bg-color);\n",
              "    border: none;\n",
              "    border-radius: 50%;\n",
              "    cursor: pointer;\n",
              "    display: none;\n",
              "    fill: var(--fill-color);\n",
              "    height: 32px;\n",
              "    padding: 0;\n",
              "    width: 32px;\n",
              "  }\n",
              "\n",
              "  .colab-df-quickchart:hover {\n",
              "    background-color: var(--hover-bg-color);\n",
              "    box-shadow: 0 1px 2px rgba(60, 64, 67, 0.3), 0 1px 3px 1px rgba(60, 64, 67, 0.15);\n",
              "    fill: var(--button-hover-fill-color);\n",
              "  }\n",
              "\n",
              "  .colab-df-quickchart-complete:disabled,\n",
              "  .colab-df-quickchart-complete:disabled:hover {\n",
              "    background-color: var(--disabled-bg-color);\n",
              "    fill: var(--disabled-fill-color);\n",
              "    box-shadow: none;\n",
              "  }\n",
              "\n",
              "  .colab-df-spinner {\n",
              "    border: 2px solid var(--fill-color);\n",
              "    border-color: transparent;\n",
              "    border-bottom-color: var(--fill-color);\n",
              "    animation:\n",
              "      spin 1s steps(1) infinite;\n",
              "  }\n",
              "\n",
              "  @keyframes spin {\n",
              "    0% {\n",
              "      border-color: transparent;\n",
              "      border-bottom-color: var(--fill-color);\n",
              "      border-left-color: var(--fill-color);\n",
              "    }\n",
              "    20% {\n",
              "      border-color: transparent;\n",
              "      border-left-color: var(--fill-color);\n",
              "      border-top-color: var(--fill-color);\n",
              "    }\n",
              "    30% {\n",
              "      border-color: transparent;\n",
              "      border-left-color: var(--fill-color);\n",
              "      border-top-color: var(--fill-color);\n",
              "      border-right-color: var(--fill-color);\n",
              "    }\n",
              "    40% {\n",
              "      border-color: transparent;\n",
              "      border-right-color: var(--fill-color);\n",
              "      border-top-color: var(--fill-color);\n",
              "    }\n",
              "    60% {\n",
              "      border-color: transparent;\n",
              "      border-right-color: var(--fill-color);\n",
              "    }\n",
              "    80% {\n",
              "      border-color: transparent;\n",
              "      border-right-color: var(--fill-color);\n",
              "      border-bottom-color: var(--fill-color);\n",
              "    }\n",
              "    90% {\n",
              "      border-color: transparent;\n",
              "      border-bottom-color: var(--fill-color);\n",
              "    }\n",
              "  }\n",
              "</style>\n",
              "\n",
              "  <script>\n",
              "    async function quickchart(key) {\n",
              "      const quickchartButtonEl =\n",
              "        document.querySelector('#' + key + ' button');\n",
              "      quickchartButtonEl.disabled = true;  // To prevent multiple clicks.\n",
              "      quickchartButtonEl.classList.add('colab-df-spinner');\n",
              "      try {\n",
              "        const charts = await google.colab.kernel.invokeFunction(\n",
              "            'suggestCharts', [key], {});\n",
              "      } catch (error) {\n",
              "        console.error('Error during call to suggestCharts:', error);\n",
              "      }\n",
              "      quickchartButtonEl.classList.remove('colab-df-spinner');\n",
              "      quickchartButtonEl.classList.add('colab-df-quickchart-complete');\n",
              "    }\n",
              "    (() => {\n",
              "      let quickchartButtonEl =\n",
              "        document.querySelector('#df-53a13848-253e-421f-a092-c0c21f80afa7 button');\n",
              "      quickchartButtonEl.style.display =\n",
              "        google.colab.kernel.accessAllowed ? 'block' : 'none';\n",
              "    })();\n",
              "  </script>\n",
              "</div>\n",
              "\n",
              "    </div>\n",
              "  </div>\n"
            ],
            "application/vnd.google.colaboratory.intrinsic+json": {
              "type": "dataframe",
              "summary": "{\n  \"name\": \"corrM *100\",\n  \"rows\": 4,\n  \"fields\": [\n    {\n      \"column\": \"sepal_length\",\n      \"properties\": {\n        \"dtype\": \"number\",\n        \"std\": 51.27858813273581,\n        \"min\": -11.756978413300088,\n        \"max\": 100.0,\n        \"num_unique_values\": 4,\n        \"samples\": [\n          -11.756978413300088,\n          81.79411262715757,\n          100.0\n        ],\n        \"semantic_type\": \"\",\n        \"description\": \"\"\n      }\n    },\n    {\n      \"column\": \"sepal_width\",\n      \"properties\": {\n        \"dtype\": \"number\",\n        \"std\": 66.57080809503223,\n        \"min\": -42.84401043305387,\n        \"max\": 100.0,\n        \"num_unique_values\": 4,\n        \"samples\": [\n          100.0,\n          -36.61259325364377,\n          -11.756978413300088\n        ],\n        \"semantic_type\": \"\",\n        \"description\": \"\"\n      }\n    },\n    {\n      \"column\": \"petal_length\",\n      \"properties\": {\n        \"dtype\": \"number\",\n        \"std\": 68.87672414981272,\n        \"min\": -42.84401043305387,\n        \"max\": 100.0,\n        \"num_unique_values\": 4,\n        \"samples\": [\n          -42.84401043305387,\n          96.2865431402796,\n          87.17537758865838\n        ],\n        \"semantic_type\": \"\",\n        \"description\": \"\"\n      }\n    },\n    {\n      \"column\": \"petal_width\",\n      \"properties\": {\n        \"dtype\": \"number\",\n        \"std\": 65.12846518377997,\n        \"min\": -36.61259325364377,\n        \"max\": 100.0,\n        \"num_unique_values\": 4,\n        \"samples\": [\n          -36.61259325364377,\n          100.0,\n          81.79411262715757\n        ],\n        \"semantic_type\": \"\",\n        \"description\": \"\"\n      }\n    }\n  ]\n}"
            }
          },
          "metadata": {},
          "execution_count": 59
        }
      ]
    },
    {
      "cell_type": "code",
      "source": [
        "sns.heatmap(corrM,annot=True,cmap='Blues')\n",
        "plt.show()"
      ],
      "metadata": {
        "colab": {
          "base_uri": "https://localhost:8080/",
          "height": 435
        },
        "id": "WhOHGiu2aDxv",
        "outputId": "a55f6ee6-f3a7-45b2-fa80-8fd24dc659ab"
      },
      "execution_count": null,
      "outputs": [
        {
          "output_type": "display_data",
          "data": {
            "text/plain": [
              "<Figure size 640x480 with 2 Axes>"
            ],
            "image/png": "[encoded data removed]"
          },
          "metadata": {}
        }
      ]
    },
    {
      "cell_type": "markdown",
      "source": [
        "# Insights\n",
        "* Petal length and sepal lenght have +ve corr ; Same with petal width and sepal lenght\n",
        "* Light --- Negative corr\n",
        "* More Dark -- Positive corr"
      ],
      "metadata": {
        "id": "Da8yCpZbb8LQ"
      }
    },
    {
      "cell_type": "markdown",
      "source": [
        "# Normal Distribution\n",
        "* Bell shaped curve and values will be equally distributed in both side\n",
        "* Mean, Median and mode all will be there on the center of data"
      ],
      "metadata": {
        "id": "CMnyA5Sncyu2"
      }
    },
    {
      "cell_type": "code",
      "source": [
        "data = [15,16,16,17,17,17,18,18,19]\n",
        "plt.hist(data,bins = 5,color='red',edgecolor = 'black')\n",
        "plt.ylabel('Frequency')\n",
        "plt.xlabel('Values')\n",
        "plt.show()"
      ],
      "metadata": {
        "colab": {
          "base_uri": "https://localhost:8080/",
          "height": 449
        },
        "id": "lffj-xybanLm",
        "outputId": "bf50d6fc-d646-4d99-d1cf-f632b2f3b77b"
      },
      "execution_count": null,
      "outputs": [
        {
          "output_type": "display_data",
          "data": {
            "text/plain": [
              "<Figure size 640x480 with 1 Axes>"
            ],
            "image/png": "[encoded data removed]"
          },
          "metadata": {}
        }
      ]
    },
    {
      "cell_type": "markdown",
      "source": [
        "# Kurtosis\n",
        "It describe the shape of data in the form of Peakedness and tailedness\n"
      ],
      "metadata": {
        "id": "6N4hkuHrejM7"
      }
    },
    {
      "cell_type": "code",
      "source": [
        "data = [15,16,16,17,17,17,17,17,17,17,18,18,19]\n",
        "plt.hist(data,bins = 5,color='red',edgecolor = 'black')\n",
        "plt.title('Peakedness graph will show +ve kurtosis value')\n",
        "plt.show()"
      ],
      "metadata": {
        "colab": {
          "base_uri": "https://localhost:8080/",
          "height": 452
        },
        "id": "wyS80AUadn7z",
        "outputId": "17871906-aab8-4e24-a1a3-ff5f310dda07"
      },
      "execution_count": null,
      "outputs": [
        {
          "output_type": "display_data",
          "data": {
            "text/plain": [
              "<Figure size 640x480 with 1 Axes>"
            ],
            "image/png": "[encoded data removed]"
          },
          "metadata": {}
        }
      ]
    },
    {
      "cell_type": "code",
      "source": [
        "from scipy.stats import kurtosis\n",
        "result = kurtosis(data)\n",
        "result"
      ],
      "metadata": {
        "colab": {
          "base_uri": "https://localhost:8080/"
        },
        "id": "CzveJhN5e67D",
        "outputId": "61a7843c-b4c7-4fe3-facc-0ebf337885fe"
      },
      "execution_count": null,
      "outputs": [
        {
          "output_type": "execute_result",
          "data": {
            "text/plain": [
              "0.24999999999999956"
            ]
          },
          "metadata": {},
          "execution_count": 70
        }
      ]
    },
    {
      "cell_type": "code",
      "source": [
        "data2 = [15,15,16,16,17,17]\n",
        "plt.hist(data2,bins = 3,color='red',edgecolor = 'black')\n",
        "plt.title('Tailedness graph will show -ve kurtosis value')\n",
        "plt.show()"
      ],
      "metadata": {
        "colab": {
          "base_uri": "https://localhost:8080/",
          "height": 452
        },
        "id": "dklh5-7BfJkf",
        "outputId": "b5841c2c-5183-4924-ed3e-cb4b409b3044"
      },
      "execution_count": null,
      "outputs": [
        {
          "output_type": "display_data",
          "data": {
            "text/plain": [
              "<Figure size 640x480 with 1 Axes>"
            ],
            "image/png": "[encoded data removed]"
          },
          "metadata": {}
        }
      ]
    },
    {
      "cell_type": "code",
      "source": [
        "value = kurtosis(data2)\n",
        "value"
      ],
      "metadata": {
        "colab": {
          "base_uri": "https://localhost:8080/"
        },
        "id": "Sz3QoRehfoHw",
        "outputId": "0b32bf16-8dff-400e-acd4-9ca9ae5836a9"
      },
      "execution_count": null,
      "outputs": [
        {
          "output_type": "execute_result",
          "data": {
            "text/plain": [
              "-1.5"
            ]
          },
          "metadata": {},
          "execution_count": 76
        }
      ]
    },
    {
      "cell_type": "code",
      "source": [
        "# Normal Distribution\n",
        "data = [15,16,16,17,17,17,18,18,19]\n",
        "plt.hist(data,bins = 5,color='red',edgecolor = 'black')\n",
        "plt.ylabel('Frequency')\n",
        "plt.xlabel('Values')\n",
        "plt.show()"
      ],
      "metadata": {
        "colab": {
          "base_uri": "https://localhost:8080/",
          "height": 449
        },
        "id": "Wt3ZXE0qfuTJ",
        "outputId": "cfd4a43c-5c4e-4baa-a72b-acb9b6f9873c"
      },
      "execution_count": null,
      "outputs": [
        {
          "output_type": "display_data",
          "data": {
            "text/plain": [
              "<Figure size 640x480 with 1 Axes>"
            ],
            "image/png": "[encoded data removed]"
          },
          "metadata": {}
        }
      ]
    },
    {
      "cell_type": "code",
      "source": [
        "value = kurtosis(data)\n",
        "value"
      ],
      "metadata": {
        "colab": {
          "base_uri": "https://localhost:8080/"
        },
        "id": "JGmsQaTwgLU1",
        "outputId": "7a5616ac-2d29-4f88-ecda-f938fec65d45"
      },
      "execution_count": null,
      "outputs": [
        {
          "output_type": "execute_result",
          "data": {
            "text/plain": [
              "-0.24999999999999956"
            ]
          },
          "metadata": {},
          "execution_count": 85
        }
      ]
    },
    {
      "cell_type": "markdown",
      "source": [
        "**Note** -\n",
        "* Normal distribution --- Kurtosis value will be close to 0\n",
        "* Mean - 0\n",
        "* std - 1"
      ],
      "metadata": {
        "id": "-CI3QipHneO5"
      }
    },
    {
      "cell_type": "code",
      "source": [
        "# mean = 0\n",
        "# std = 1\n",
        "np.random.seed(0) # Fix the data Value\n",
        "normalData = np.random.normal(loc = 0,scale = 1, size = 100000) # loc - Mean , scale -STD , size = Sample data\n",
        "plt.hist(normalData,bins = 100,edgecolor = 'black')\n",
        "plt.show()"
      ],
      "metadata": {
        "colab": {
          "base_uri": "https://localhost:8080/",
          "height": 430
        },
        "id": "zjvccDtBgSGX",
        "outputId": "b6342dad-b22f-45d1-e85e-e6d2b2e19e88"
      },
      "execution_count": null,
      "outputs": [
        {
          "output_type": "display_data",
          "data": {
            "text/plain": [
              "<Figure size 640x480 with 1 Axes>"
            ],
            "image/png": "[encoded data removed]"
          },
          "metadata": {}
        }
      ]
    },
    {
      "cell_type": "code",
      "source": [
        "ans = kurtosis(normalData)\n",
        "ans"
      ],
      "metadata": {
        "colab": {
          "base_uri": "https://localhost:8080/"
        },
        "id": "eAs-CMBdhB97",
        "outputId": "2e0a5622-9503-461e-b837-446df512d8b8"
      },
      "execution_count": null,
      "outputs": [
        {
          "output_type": "execute_result",
          "data": {
            "text/plain": [
              "0.031338388595333555"
            ]
          },
          "metadata": {},
          "execution_count": 90
        }
      ]
    },
    {
      "cell_type": "markdown",
      "source": [
        "# Skewness\n",
        "* left skewed graph - > -ve skewed value\n",
        "* Right skewed graph -> +ve skewed value"
      ],
      "metadata": {
        "id": "eCbqWCR6n1KF"
      }
    },
    {
      "cell_type": "code",
      "source": [
        "data = [10,11,11,12,12,12,12,12]\n",
        "plt.hist(data,bins=3,edgecolor='black')\n",
        "plt.title('Left skewed graph (-ve skew)')\n",
        "plt.show()"
      ],
      "metadata": {
        "colab": {
          "base_uri": "https://localhost:8080/",
          "height": 452
        },
        "id": "_o_zWualhhDM",
        "outputId": "20b1a2ac-ee35-4549-c66d-e2a99d38e120"
      },
      "execution_count": null,
      "outputs": [
        {
          "output_type": "display_data",
          "data": {
            "text/plain": [
              "<Figure size 640x480 with 1 Axes>"
            ],
            "image/png": "[encoded data removed]"
          },
          "metadata": {}
        }
      ]
    },
    {
      "cell_type": "code",
      "source": [
        "from scipy.stats import skew # Scitific python\n",
        "value = skew(data)\n",
        "value # Left skew"
      ],
      "metadata": {
        "colab": {
          "base_uri": "https://localhost:8080/"
        },
        "id": "zUpOmiBOoO9q",
        "outputId": "120a0b88-b722-41d1-9ef1-39af9958fb0c"
      },
      "execution_count": null,
      "outputs": [
        {
          "output_type": "execute_result",
          "data": {
            "text/plain": [
              "-1.0606601717798212"
            ]
          },
          "metadata": {},
          "execution_count": 97
        }
      ]
    },
    {
      "cell_type": "code",
      "source": [
        "data = [10,10,10,10,10,11,11,12]\n",
        "plt.hist(data,bins=3,edgecolor='black')\n",
        "plt.title('Right skewed graph (+ve skew value)')\n",
        "plt.show()"
      ],
      "metadata": {
        "colab": {
          "base_uri": "https://localhost:8080/",
          "height": 452
        },
        "id": "UvsVpa9Noozl",
        "outputId": "ccf925e3-a38d-4d77-e83f-ffc2de062954"
      },
      "execution_count": null,
      "outputs": [
        {
          "output_type": "display_data",
          "data": {
            "text/plain": [
              "<Figure size 640x480 with 1 Axes>"
            ],
            "image/png": "[encoded data removed]"
          },
          "metadata": {}
        }
      ]
    },
    {
      "cell_type": "code",
      "source": [
        "value = skew(data)\n",
        "value # Right skew"
      ],
      "metadata": {
        "colab": {
          "base_uri": "https://localhost:8080/"
        },
        "id": "ehzJh1yypLYa",
        "outputId": "0d8259b1-ef86-469b-b15b-b510d875be9e"
      },
      "execution_count": null,
      "outputs": [
        {
          "output_type": "execute_result",
          "data": {
            "text/plain": [
              "1.0606601717798212"
            ]
          },
          "metadata": {},
          "execution_count": 99
        }
      ]
    },
    {
      "cell_type": "markdown",
      "source": [
        "# Types of Data\n",
        "1. Categorical data - Data that represents categories without involing any numbers in a meaning full way.\n",
        "* Nominal Data: When there is no specific order btwn categories\n",
        "  - (fruits: apple,banana,orange), (Gender: M, F)\n",
        "* Ordinal Data : When we specify order\n",
        "  - (Grade: A,B,C) (Poor,good,execellent)\n",
        "\n",
        "\n",
        "---\n",
        "2. Numerical Data - The data that represents numbers and can be measured or counted.\n",
        "* Discrete Data: The data that only takes specific value (Whole number).\n",
        "  - for ex: number of students in a classroom - 25,50,21\n",
        "* Continous data - The data that can take any value within range, (includes decimal values)\n",
        "  - for example : Stock price, height, weight, temperature\n"
      ],
      "metadata": {
        "id": "BnoSWzCNpzjM"
      }
    },
    {
      "cell_type": "markdown",
      "source": [
        "# Probability\n",
        "**Experiment** : Any process/ Trail / Task that we do\n",
        "* Flipping a coin, Rolling a dice, Drawing a card from a deck\n",
        "\n",
        "**Event** : It is a specific group of outcomes from an experiment\n",
        "* Simple Event - 1 outcome (flipped a coin and got heads)\n",
        "* Compound Event - multiple outcomes rolling a dice and getting even number (2,4,6)\n",
        "\n",
        "**Outcomes** is like a result of single trail of experiment - either head or tail\n",
        "\n",
        "**Probability**: It is ameasure of how likely an event is going to occur\n",
        "\n",
        "P = number of favourable outcomes/ total number of possible outcomes\n",
        "\n",
        "Flipping coin : Getting Head\n",
        "* **P = 1/2**\n",
        "\n",
        "Rolling a dice single time : Getting 4\n",
        "* **P = 1/6**"
      ],
      "metadata": {
        "id": "rejBJSuQppwP"
      }
    },
    {
      "cell_type": "markdown",
      "source": [
        "# Marginal Probabilty\n",
        "It is the probability of single event happening without considering any other event.\n",
        "\n",
        "(Picking redballs are indpenedent of blue balls)\n",
        "* Example: You are having bag of balls (5 red bals and 3 blue balls)\n",
        "* What is the chances of marginal probailty of picking red ball out of total bals\n",
        "* MP(R) = 5/8\n"
      ],
      "metadata": {
        "id": "xWl0JO2lx3EC"
      }
    },
    {
      "cell_type": "markdown",
      "source": [
        "# Joint Probability\n",
        "It is a probability of two or more event happening at the same time\n",
        "\n",
        "Q - What is the probability of both dice getting 3?\n",
        "* Each dice as 1/6 chances to get 3\n",
        "* the probabilty of getting 3 on both dice - 1/6 * 1/6 = 1/36\n"
      ],
      "metadata": {
        "id": "oInR077XM4L0"
      }
    },
    {
      "cell_type": "markdown",
      "source": [
        "# Conditional Probability\n",
        "It is a probability of an event happening given that another event is already happened.\n",
        "* Question - What is the probability of getting king when we know that the drawn cards from the deck are face cards?\n",
        "* sol - There are total 12 face cards (4 jack,4 Queen, 4 King)\n",
        "* P = 4/12 = 1/3"
      ],
      "metadata": {
        "id": "KSBSnWsyPORr"
      }
    },
    {
      "cell_type": "markdown",
      "source": [
        "![image.png](data:image/png;base64,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)"
      ],
      "metadata": {
        "id": "Bnkto6cvTxon"
      }
    },
    {
      "cell_type": "code",
      "source": [
        "# & | --->\n",
        "set1 = {1,2,3,4}\n",
        "set2 = {3,4,5,6}\n",
        "# set1.intersection(set2)\n",
        "set1 & set2"
      ],
      "metadata": {
        "id": "n0xkXd5VpRaV",
        "colab": {
          "base_uri": "https://localhost:8080/"
        },
        "outputId": "ecd90deb-cbb0-48c5-e987-57ed4cb95619"
      },
      "execution_count": null,
      "outputs": [
        {
          "output_type": "execute_result",
          "data": {
            "text/plain": [
              "{3, 4}"
            ]
          },
          "metadata": {},
          "execution_count": 3
        }
      ]
    },
    {
      "cell_type": "markdown",
      "source": [
        "# Question 1\n",
        "The probabilty of student passing in science is 4/5 and the the student passing in both science and maths is 1/2. What is the pobability of that student who passed in maths knowing that he passed in science?"
      ],
      "metadata": {
        "id": "flSi00HSVxIz"
      }
    },
    {
      "cell_type": "markdown",
      "source": [
        "Sol: ![image.png](data:image/png;base64,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)"
      ],
      "metadata": {
        "id": "nhho2iItfwg0"
      }
    },
    {
      "cell_type": "markdown",
      "source": [
        "![image.png](data:image/png;base64,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)"
      ],
      "metadata": {
        "id": "djtHUEdJgtvC"
      }
    },
    {
      "cell_type": "markdown",
      "source": [
        "# Question 2\n",
        "A coin is tossed two times such that\n",
        "\n",
        "* E: event of having both head and tail\n",
        "\n",
        "* F: event of having atmost one tail\n",
        "\n",
        "* Find: P(E),p(F) and P(E|F)"
      ],
      "metadata": {
        "id": "UV8KVQVgexA2"
      }
    },
    {
      "cell_type": "markdown",
      "source": [
        "Sol = Total outcome = {HH,HT,TH,TT}\n",
        "* p(E) = {HT,TH} = 2/4 = 1/2\n",
        "* p(F) = {HH,HT,TH} = 3/4\n",
        "* P(E|F) = P(E n F) / P(F)\n",
        "* p(E n F) = {HT,TH} = 2/4 = 1/2\n",
        "* P(E|F) = (1/2)/(3/4) = 2/3 ans"
      ],
      "metadata": {
        "id": "BQ33QXQmiwmz"
      }
    },
    {
      "cell_type": "markdown",
      "source": [
        "# Types of probability distributions\n",
        "1. **Discrete probability distribution** (Whole)\n",
        "\n",
        "It deals with descrete random variables, which takes on specific values\n",
        "\n",
        "example - Fliping coin - Either head or tail\n",
        "\n",
        "\n",
        "**Common types of discrete distribution**\n",
        "* Binomial Distribution - The number of sucesses in a fixed number of trail, where each trial has two possibilities (success or failure).\n",
        " - Example: If you fkip coin 10 times, The binomial distribution can model the probability of getting exactly 5 heads (gives either win / loss)\n",
        "\n",
        "* Poisson Distribution: It models the number of times an event occur in fixed interval of time or space.\n",
        "  - Example: The number of emails that you recieve **Per hour** might follow a poisson ditribution"
      ],
      "metadata": {
        "id": "ef3HCpIjje4D"
      }
    },
    {
      "cell_type": "markdown",
      "source": [
        "2. Continuois Probability Distribution: It Deal swoth the continuous random values, which can take any value withing a given range.\n",
        " - Example: Time to complete certain task: It can vary 5min to 10 min(Range)\n",
        "\n",
        "**Common Contiuous Distribution**\n",
        "* Normal distribution(Gaussian): A bell shaped curve where most of the data points are grouped around Centeral tendency(MEAN)\n",
        " - Example: The height of student in class 9th (140-150cm)\n",
        "* Uniform Distribution: All Outcomes are equally likely within a specific range\n",
        " - Example: If you randomly pick a number between 1-10, each number has  equal chances of being selected\n"
      ],
      "metadata": {
        "id": "IZ7RyosPnz7c"
      }
    },
    {
      "cell_type": "markdown",
      "source": [],
      "metadata": {
        "id": "_8fIzc1Rpi97"
      }
    },
    {
      "cell_type": "code",
      "source": [],
      "metadata": {
        "id": "RV_tDC22Ta-5"
      },
      "execution_count": null,
      "outputs": []
    }
  ]
}