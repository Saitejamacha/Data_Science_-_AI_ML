{
  "nbformat": 4,
  "nbformat_minor": 0,
  "metadata": {
    "colab": {
      "provenance": [],
      "include_colab_link": true
    },
    "kernelspec": {
      "name": "python3",
      "display_name": "Python 3"
    },
    "language_info": {
      "name": "python"
    }
  },
  "cells": [
    {
      "cell_type": "markdown",
      "metadata": {
        "id": "view-in-github",
        "colab_type": "text"
      },
      "source": [
        "<a href=\"https://colab.research.google.com/github/Saitejamacha/Data_Science_-_AI_ML/blob/main/OOPS_01_02_2025.ipynb\" target=\"_parent\"><img src=\"https://colab.research.google.com/assets/colab-badge.svg\" alt=\"Open In Colab\"/></a>"
      ]
    },
    {
      "cell_type": "code",
      "execution_count": null,
      "metadata": {
        "id": "dQGuRtGfxfV0"
      },
      "outputs": [],
      "source": [
        "# Object Oriented Programming\n",
        "# To do classification in your program\n",
        "# To make your program readable, refined."
      ]
    },
    {
      "cell_type": "code",
      "source": [
        "# TEACHERS\n",
        "\n",
        "def details(name,dept,shift_timings):    #This fxn belongs to the employees\n",
        "  print(\"You are an employee of our company\")\n",
        "  print(\"Your shift timings are\",shift_timings)\n",
        "  print(\"Thank you\")\n",
        "\n",
        "def salary():\n",
        "  pass\n",
        "def work_agenda():\n",
        "  pass\n",
        "def roster():\n",
        "  pass\n",
        "def holidays():\n",
        "  pass\n",
        "\n",
        "\n",
        "\n",
        "\n",
        "# STUDETNS\n",
        "def details(name,course,batch_timings):   #This fxn belongs to the students\n",
        "  print(\"You are a student of our company\")\n",
        "  print(\"Your batch timings are \",batch_timings)\n",
        "  print(\"Thank you\")\n",
        "\n",
        "def LMS():\n",
        "  pass   #pass keyword allows us to create empty functions\n",
        "def whatsapp_group():\n",
        "  pass\n",
        "def holidays():\n",
        "  pass\n"
      ],
      "metadata": {
        "id": "ZqBohDX4xtPJ"
      },
      "execution_count": null,
      "outputs": []
    },
    {
      "cell_type": "code",
      "source": [
        "details(\"Kabir\",\"Python\",\"10-5\")"
      ],
      "metadata": {
        "colab": {
          "base_uri": "https://localhost:8080/"
        },
        "id": "7kEMq6c6yJBH",
        "outputId": "35ae9241-5429-4fdb-d769-5bc1109d1759"
      },
      "execution_count": null,
      "outputs": [
        {
          "output_type": "stream",
          "name": "stdout",
          "text": [
            "You are a student of our company\n",
            "Your batch timings are  10-5\n",
            "Thank you\n"
          ]
        }
      ]
    },
    {
      "cell_type": "code",
      "source": [
        "class Employees:\n",
        "  def information(self,name,dept,shift_timings):    #This is a method now -> function inside a class.\n",
        "    print(\"You are an employee of our company\")\n",
        "    print(\"Your shift timings are\",shift_timings)\n",
        "    print(\"Thank you\")\n",
        "\n",
        "  def income(self):\n",
        "    print(\"You can see your salary\")\n",
        "    print(\"You will get increment very soon\")\n",
        "\n",
        "  def hike(self):\n",
        "    pass\n",
        "\n",
        "  def agenda(self):\n",
        "    print(\"You have to work 6 days a week\")\n",
        "\n",
        "  def weekly_routine(self):\n",
        "    print(\"Your week off is on 29th Feb\")\n",
        "\n",
        "  def leave_balance(self):\n",
        "    print(\"You have holidays but we won't let you use them\")\n",
        "\n",
        "\n",
        "\n"
      ],
      "metadata": {
        "id": "KZn292vQyT5g"
      },
      "execution_count": null,
      "outputs": []
    },
    {
      "cell_type": "code",
      "source": [
        "xyz = Employees()      #variable_name = ClassName()\n",
        "#OBJECT CREATION          # So that variable will become your object."
      ],
      "metadata": {
        "id": "oqz9lgmf4Wwo"
      },
      "execution_count": null,
      "outputs": []
    },
    {
      "cell_type": "code",
      "source": [
        "xyz.agenda()\n",
        "xyz.leave_balance()\n",
        "# With the help of our object we can access the class methods."
      ],
      "metadata": {
        "colab": {
          "base_uri": "https://localhost:8080/"
        },
        "id": "f7weG6kW5dy9",
        "outputId": "afb325c3-7ac9-4e3a-fca1-c18eeeba0162"
      },
      "execution_count": null,
      "outputs": [
        {
          "output_type": "stream",
          "name": "stdout",
          "text": [
            "You have to work 6 days a week\n",
            "You have holidays but we won't let you use them\n"
          ]
        }
      ]
    },
    {
      "cell_type": "code",
      "source": [
        "class Students:\n",
        "  def information(self,name,course,batch_timings):\n",
        "    print(\"You are a student\")\n",
        "    print(\"Your batch timings are:\",batch_timings)\n",
        "\n",
        "  def LMS(self):\n",
        "    print(\"Here you can get your course ciricullum\")\n",
        "\n",
        "  def whatsapp_group(self):\n",
        "    print(\"Here we can communicate with each other\")\n",
        "\n",
        "  def leaves(self):\n",
        "    print(\"We have leave on 26th January\")"
      ],
      "metadata": {
        "id": "0AZn1bph6fGU"
      },
      "execution_count": null,
      "outputs": []
    },
    {
      "cell_type": "code",
      "source": [
        "obj = Students()\n",
        "obj.information(\"Abhishek\",\"Python\",\"10-1\")\n",
        "xyz.information(\"Kabir\",\"Python\",\"10-5\")\n",
        "xyz.whatsapp_group()   #?????\n",
        "# xyz is an object of Employee class that's why it can't access the function of some other class."
      ],
      "metadata": {
        "colab": {
          "base_uri": "https://localhost:8080/",
          "height": 288
        },
        "id": "wnk8n0HK9nug",
        "outputId": "94e53adf-cacb-4cae-93ed-d6e8b57da7d9"
      },
      "execution_count": null,
      "outputs": [
        {
          "output_type": "stream",
          "name": "stdout",
          "text": [
            "You are a student\n",
            "Your batch timings are: 10-1\n",
            "You are an employee of our company\n",
            "Your shift timings are 10-5\n",
            "Thank you\n"
          ]
        },
        {
          "output_type": "error",
          "ename": "AttributeError",
          "evalue": "'Employees' object has no attribute 'whatsapp_group'",
          "traceback": [
            "\u001b[0;31m---------------------------------------------------------------------------\u001b[0m",
            "\u001b[0;31mAttributeError\u001b[0m                            Traceback (most recent call last)",
            "\u001b[0;32m<ipython-input-81-d64da169a472>\u001b[0m in \u001b[0;36m<cell line: 0>\u001b[0;34m()\u001b[0m\n\u001b[1;32m      2\u001b[0m \u001b[0mobj\u001b[0m\u001b[0;34m.\u001b[0m\u001b[0minformation\u001b[0m\u001b[0;34m(\u001b[0m\u001b[0;34m\"Abhishek\"\u001b[0m\u001b[0;34m,\u001b[0m\u001b[0;34m\"Python\"\u001b[0m\u001b[0;34m,\u001b[0m\u001b[0;34m\"10-1\"\u001b[0m\u001b[0;34m)\u001b[0m\u001b[0;34m\u001b[0m\u001b[0;34m\u001b[0m\u001b[0m\n\u001b[1;32m      3\u001b[0m \u001b[0mxyz\u001b[0m\u001b[0;34m.\u001b[0m\u001b[0minformation\u001b[0m\u001b[0;34m(\u001b[0m\u001b[0;34m\"Kabir\"\u001b[0m\u001b[0;34m,\u001b[0m\u001b[0;34m\"Python\"\u001b[0m\u001b[0;34m,\u001b[0m\u001b[0;34m\"10-5\"\u001b[0m\u001b[0;34m)\u001b[0m\u001b[0;34m\u001b[0m\u001b[0;34m\u001b[0m\u001b[0m\n\u001b[0;32m----> 4\u001b[0;31m \u001b[0mxyz\u001b[0m\u001b[0;34m.\u001b[0m\u001b[0mwhatsapp_group\u001b[0m\u001b[0;34m(\u001b[0m\u001b[0;34m)\u001b[0m   \u001b[0;31m#?????\u001b[0m\u001b[0;34m\u001b[0m\u001b[0;34m\u001b[0m\u001b[0m\n\u001b[0m\u001b[1;32m      5\u001b[0m \u001b[0;31m# xyz is an object of Employee class that's why it can't access the function of some other class.\u001b[0m\u001b[0;34m\u001b[0m\u001b[0;34m\u001b[0m\u001b[0m\n",
            "\u001b[0;31mAttributeError\u001b[0m: 'Employees' object has no attribute 'whatsapp_group'"
          ]
        }
      ]
    },
    {
      "cell_type": "markdown",
      "source": [
        "# Self Keyword holds the reference of your object"
      ],
      "metadata": {
        "id": "LIXEtDTXAoK1"
      }
    },
    {
      "cell_type": "code",
      "source": [
        "class RegisterationForm:\n",
        "  def details(self,name,address,pan_card):    #(ob,kabir,bangalore,pseps)\n",
        "    self.name=name   #ob.name=Kabir   #ob3.name = Rahul\n",
        "    self.address=address  #ob.address=Bangalore\n",
        "    self.pan_card=pan_card #ob.pan_card = pseps\n",
        "\n",
        "  def fun():   # We cannot create a fxn without self keyword as we know only objects will be accessing the\n",
        "    print(\"HELLO\")  #class fxns. self is the one which holds the reference of your object."
      ],
      "metadata": {
        "id": "Bh_1YBWw9pl3"
      },
      "execution_count": null,
      "outputs": []
    },
    {
      "cell_type": "code",
      "source": [
        "ob = RegisterationForm()\n",
        "ob.details(\"Kabir\",\"Bangalore\",\"PSEPS\")\n",
        "ob.address"
      ],
      "metadata": {
        "colab": {
          "base_uri": "https://localhost:8080/",
          "height": 36
        },
        "id": "nrzQevC795kA",
        "outputId": "3c1a1307-3381-447b-a4a5-4d4ecd58960c"
      },
      "execution_count": null,
      "outputs": [
        {
          "output_type": "execute_result",
          "data": {
            "text/plain": [
              "'Bangalore'"
            ],
            "application/vnd.google.colaboratory.intrinsic+json": {
              "type": "string"
            }
          },
          "metadata": {},
          "execution_count": 83
        }
      ]
    },
    {
      "cell_type": "code",
      "source": [
        "ob3 = RegisterationForm()\n",
        "ob3.details(\"Rahul\",\"Jaipur\",\"1132D\")\n",
        "ob3.pan_card"
      ],
      "metadata": {
        "colab": {
          "base_uri": "https://localhost:8080/",
          "height": 36
        },
        "id": "QY6ySKxXFYej",
        "outputId": "b3868646-b9a7-4a0c-cf85-8703baab78da"
      },
      "execution_count": null,
      "outputs": [
        {
          "output_type": "execute_result",
          "data": {
            "text/plain": [
              "'1132D'"
            ],
            "application/vnd.google.colaboratory.intrinsic+json": {
              "type": "string"
            }
          },
          "metadata": {},
          "execution_count": 84
        }
      ]
    },
    {
      "cell_type": "code",
      "source": [
        "ob.fun()"
      ],
      "metadata": {
        "colab": {
          "base_uri": "https://localhost:8080/",
          "height": 145
        },
        "id": "GlbuWkfiA6J1",
        "outputId": "6bbadd5d-0cb6-43c1-a6f5-757c2ee6cb40"
      },
      "execution_count": null,
      "outputs": [
        {
          "output_type": "error",
          "ename": "TypeError",
          "evalue": "RegisterationForm.fun() takes 0 positional arguments but 1 was given",
          "traceback": [
            "\u001b[0;31m---------------------------------------------------------------------------\u001b[0m",
            "\u001b[0;31mTypeError\u001b[0m                                 Traceback (most recent call last)",
            "\u001b[0;32m<ipython-input-85-4bc83b7747a3>\u001b[0m in \u001b[0;36m<cell line: 0>\u001b[0;34m()\u001b[0m\n\u001b[0;32m----> 1\u001b[0;31m \u001b[0mob\u001b[0m\u001b[0;34m.\u001b[0m\u001b[0mfun\u001b[0m\u001b[0;34m(\u001b[0m\u001b[0;34m)\u001b[0m\u001b[0;34m\u001b[0m\u001b[0;34m\u001b[0m\u001b[0m\n\u001b[0m",
            "\u001b[0;31mTypeError\u001b[0m: RegisterationForm.fun() takes 0 positional arguments but 1 was given"
          ]
        }
      ]
    },
    {
      "cell_type": "markdown",
      "source": [
        "# Constructor is used whenever you want your function to be executed by default for every object.\n",
        "# When you know some functions which are mandatory for every object of your class we use a constructor"
      ],
      "metadata": {
        "id": "9Z-bNQZrKnvR"
      }
    },
    {
      "cell_type": "code",
      "source": [],
      "metadata": {
        "id": "gG4c5oYxBIN6"
      },
      "execution_count": null,
      "outputs": []
    },
    {
      "cell_type": "code",
      "source": [
        "class Hotel:\n",
        "  def reception(self,name,room_no,document):\n",
        "    self.name=name\n",
        "    self.room_no = room_no\n",
        "    self.document = document\n",
        "    print(\"Thank you for choosing us.\")\n",
        "    print(\"Your room number is \",self.room_no)\n",
        "\n",
        "  def greet(self):\n",
        "    print(\"Hello welcome to our hotel\")\n"
      ],
      "metadata": {
        "id": "17FbP2OjK55p"
      },
      "execution_count": null,
      "outputs": []
    },
    {
      "cell_type": "code",
      "source": [
        "obj = Hotel()           #I entered the Hotel\n",
        "# I want whoever enters the hotel/vist the hotel must be greeted.\n",
        "\n",
        "obj.greet()               #I am going the person and asking him/her to greet me.\n",
        "# I want something like this function should be executed by default whenever I create the object of my class."
      ],
      "metadata": {
        "colab": {
          "base_uri": "https://localhost:8080/"
        },
        "id": "KHOXM0myLLyg",
        "outputId": "44b1fe4c-66d5-4bab-a03d-8da73b82613c"
      },
      "execution_count": null,
      "outputs": [
        {
          "output_type": "stream",
          "name": "stdout",
          "text": [
            "Hello welcome to our hotel\n"
          ]
        }
      ]
    },
    {
      "cell_type": "code",
      "source": [
        "obj.reception(\"Kabir\",104,\"Pan Card\")   # I went to the reception and registerd my details."
      ],
      "metadata": {
        "colab": {
          "base_uri": "https://localhost:8080/"
        },
        "id": "DMuGYvmELUm6",
        "outputId": "ba06418b-7759-4159-9f62-d4cbd51d4bb2"
      },
      "execution_count": null,
      "outputs": [
        {
          "output_type": "stream",
          "name": "stdout",
          "text": [
            "Thank you for choosing us.\n",
            "Your room number is  104\n"
          ]
        }
      ]
    },
    {
      "cell_type": "code",
      "source": [
        "class Hotel:\n",
        "  def __init__(self):                    #__init__\n",
        "    print(\"Hello welcome to our hotel\")\n",
        "\n",
        "  def reception(self,name,room_no,document):\n",
        "    self.name=name\n",
        "    self.room_no = room_no\n",
        "    self.document = document\n",
        "    print(\"Thank you for choosing us.\")\n",
        "    print(\"Your room number is \",self.room_no)\n",
        "\n"
      ],
      "metadata": {
        "id": "Yo_ZogH_LdiJ"
      },
      "execution_count": null,
      "outputs": []
    },
    {
      "cell_type": "code",
      "source": [
        "ob = Hotel()"
      ],
      "metadata": {
        "colab": {
          "base_uri": "https://localhost:8080/"
        },
        "id": "JzZWBOvSL45z",
        "outputId": "54cb0adf-caaf-4674-85d7-90dc65920b45"
      },
      "execution_count": null,
      "outputs": [
        {
          "output_type": "stream",
          "name": "stdout",
          "text": [
            "Hello welcome to our hotel\n"
          ]
        }
      ]
    },
    {
      "cell_type": "code",
      "source": [
        "class StudyPlan:\n",
        "  def __init__(self,name,email_id,phone_num):      #Isn't this fxn mandatory for all the objects.\n",
        "    self.name=name\n",
        "    self.email_id=email_id\n",
        "    self.pan_card=phone_num\n",
        "    print(\"Thanks for the registeration. Now you can access all the study materials\")\n",
        "\n",
        "  def python_modules(self):\n",
        "    print(\"You can access all the python modules here\")\n",
        "    print(\"Do you want to see your details? Enter 1 to check 0 to exit\")\n",
        "    inp = int(input())\n",
        "    if inp==1:\n",
        "      print(self.name,self.email_id,self.pan_card)\n",
        "    else:\n",
        "      return\n",
        "\n",
        "  def java_modules(self):\n",
        "    print(\"You can access all the java modules here\")\n",
        "\n",
        "  def mock_exams(self):\n",
        "    print(\"You can attempt mock exams here\")\n",
        "\n",
        "\n"
      ],
      "metadata": {
        "id": "OPvfdYm8Nd7i"
      },
      "execution_count": null,
      "outputs": []
    },
    {
      "cell_type": "code",
      "source": [
        "ob = StudyPlan(\"Kavitha\",\"kv@gmail.com\",\"675\")"
      ],
      "metadata": {
        "colab": {
          "base_uri": "https://localhost:8080/"
        },
        "id": "UGx2rXsvOQCv",
        "outputId": "014b68f5-09a0-47b5-acac-1f7c9861ba98"
      },
      "execution_count": null,
      "outputs": [
        {
          "output_type": "stream",
          "name": "stdout",
          "text": [
            "Thanks for the registeration. Now you can access all the study materials\n"
          ]
        }
      ]
    },
    {
      "cell_type": "code",
      "source": [
        "ob.python_modules()"
      ],
      "metadata": {
        "colab": {
          "base_uri": "https://localhost:8080/"
        },
        "id": "q0q1O0U_O987",
        "outputId": "8938f860-3af3-48e5-8570-ca3757bc01ad"
      },
      "execution_count": null,
      "outputs": [
        {
          "output_type": "stream",
          "name": "stdout",
          "text": [
            "You can access all the python modules here\n",
            "Do you want to see your details? Enter 1 to check 0 to exit\n",
            "1\n",
            "Kavitha kv@gmail.com 675\n"
          ]
        }
      ]
    },
    {
      "cell_type": "code",
      "source": [
        "# help(StudyPlan)"
      ],
      "metadata": {
        "id": "IcoM45uPPxWt"
      },
      "execution_count": null,
      "outputs": []
    },
    {
      "cell_type": "code",
      "source": [
        "#12:33"
      ],
      "metadata": {
        "id": "hbV5yomSQC27"
      },
      "execution_count": null,
      "outputs": []
    },
    {
      "cell_type": "code",
      "source": [
        "# Classes\n",
        "# Objects\n",
        "# Self Keyword\n",
        "# Constructor"
      ],
      "metadata": {
        "id": "h5IVwpN6Q7UI"
      },
      "execution_count": null,
      "outputs": []
    },
    {
      "cell_type": "code",
      "source": [
        "# Pillars of OOPS\n",
        "# Inheritance\n",
        "# Polymorphism\n",
        "# Encapsulation\n",
        "# Abstraction"
      ],
      "metadata": {
        "id": "TRmL4PVaRCIM"
      },
      "execution_count": null,
      "outputs": []
    },
    {
      "cell_type": "code",
      "source": [
        "class Dummy:\n",
        "  def __init__(self,name,age):\n",
        "    self.name=name\n",
        "    self.age=age\n",
        "     #Class name.variable name\n",
        "\n",
        "  def trial(self):\n",
        "    print(self.name, self.age)"
      ],
      "metadata": {
        "id": "1Jt5v8wiS06p"
      },
      "execution_count": null,
      "outputs": []
    },
    {
      "cell_type": "code",
      "source": [
        "ob = Dummy(\"Kabir\",24)\n",
        "ob.trial()"
      ],
      "metadata": {
        "colab": {
          "base_uri": "https://localhost:8080/"
        },
        "id": "n_4uMfJ_TGHm",
        "outputId": "e64251c6-5d32-4f13-fe97-94d46c5c6b55"
      },
      "execution_count": null,
      "outputs": [
        {
          "output_type": "stream",
          "name": "stdout",
          "text": [
            "Kabir 24\n"
          ]
        }
      ]
    },
    {
      "cell_type": "markdown",
      "source": [
        "# HOMEWORK"
      ],
      "metadata": {
        "id": "njDBP5A0VTUz"
      }
    },
    {
      "cell_type": "code",
      "source": [
        "# Q1\n",
        "# Create a class car which contains 3 functions.\n",
        "# car_details(3 arguments) , car_price() , car_compare()\n",
        "# Also make sure to get the customer details by default.\n",
        "\n",
        "# Q2\n",
        "# Create a class mathematics\n",
        "# In that take two numerical values from every object whenever it is accessing the class.\n",
        "# You need to perform addition, subtraction, multiplication, floor divison, square of both numbers\n",
        "# check for even and odd  and print those numbers multiplication table\n",
        "\n",
        "#  5, 8\n",
        "# -> Addition -> 13\n",
        "# Subtraction -> -3\n",
        "# Multiplication -> 40\n",
        "# Division ->  0\n",
        "# square of both numbers  -> 25 and 64\n",
        "# check for even odd -> False and True\n",
        "# multiplication table -> 5,10,15,20..50    8,16,24,32...80"
      ],
      "metadata": {
        "id": "uUJMMEmPTmn2"
      },
      "execution_count": null,
      "outputs": []
    },
    {
      "cell_type": "markdown",
      "source": [
        "# Create a class car which contains 3 functions.car_details(3 arguments) , car_price() , car_compare() Also make sure to get the customer details by default.\n"
      ],
      "metadata": {
        "id": "iEpFxKyc7GYq"
      }
    },
    {
      "cell_type": "code",
      "source": [
        "class Car:\n",
        "  def __init__(self,name,address,phone_num):\n",
        "    self.name=name\n",
        "    self.address=address\n",
        "    self.phone_num = phone_num\n",
        "    print(\"Thanks for your details. Welcome to our showroom\")\n",
        "\n",
        "  def car_details(self):\n",
        "    self.budget = int(input(\"Please enter your budget in terms of lakhs\"))\n",
        "    if self.budget > 25:\n",
        "      print(\"You can go for SUVS. Your car representation number is 3\")\n",
        "    elif self.budget < 10:\n",
        "      print(\"You can go for Hatchback. Your car representation number is 2\")\n",
        "    else:\n",
        "      print(\"You can go for Sedans. Your car representation number is 1.\")\n",
        "\n",
        "  def car_compare(self):\n",
        "    self.inp = int(input(\"Enter 1 to compare Sedans, 2 to compare hatchbacks and 3 to compare SUVs\"))\n",
        "    if self.inp==1:\n",
        "      print(\"Your price won't extend from 25 lakhs\")\n",
        "      print(\"Your car will be having better milage than SUVs\")\n",
        "      print(\"Your car will be having more space than Hatchbacks\")\n",
        "    elif self.inp==2:\n",
        "      print(\"You will be having highest average among other categories\")\n",
        "      print(\"Your car will be compact easy to go with good traffic\")\n",
        "      print(\"Your price range won't extend from 10 lakhs\")\n",
        "    elif self.inp==3:\n",
        "      print(\"Higher safety ratings as comparitevly other categories\")\n",
        "      print(\"You will get different drive modes\")\n",
        "      print(\"More comfort with extra leg space\")\n",
        "    else:\n",
        "      print(\"Incorrect Input, Please try again\")\n",
        "      self.car_compare()\n",
        "\n",
        "  def car_price(self):\n",
        "      print(\"Your ex-showroom car price is\",self.budget,\"Lakhs\")\n",
        "      self.tax = 11\n",
        "      print(\"Your tax will be added as\",self.tax,\"%\")\n",
        "      self.tax = self.tax%100    # 11 -> 0.11\n",
        "      self.insurance = 45000\n",
        "      print(\"Your insurance amount will be\",self.insurance)\n",
        "      print(\"Your final price will be: \")\n",
        "      lakhs = self.budget * 100000   #Converting my number into lakhs\n",
        "      self.price = (self.tax * lakhs)+self.insurance\n",
        "      print(self.price)\n"
      ],
      "metadata": {
        "id": "xmjZcA2uUj_-"
      },
      "execution_count": null,
      "outputs": []
    },
    {
      "cell_type": "code",
      "source": [
        "obj = Car(\"Kabir\",\"Kota\",\"9575643\")"
      ],
      "metadata": {
        "colab": {
          "base_uri": "https://localhost:8080/"
        },
        "id": "OETWnyi4_rUc",
        "outputId": "ca7d3e80-0300-43b2-a7c5-36be50df0e07"
      },
      "execution_count": null,
      "outputs": [
        {
          "output_type": "stream",
          "name": "stdout",
          "text": [
            "Thanks for your details. Welcome to our showroom\n"
          ]
        }
      ]
    },
    {
      "cell_type": "code",
      "source": [
        "obj.car_details()"
      ],
      "metadata": {
        "colab": {
          "base_uri": "https://localhost:8080/"
        },
        "id": "J6KLDnl4_vnZ",
        "outputId": "c3dcb8da-7baf-4129-ccac-fb750eb28b03"
      },
      "execution_count": null,
      "outputs": [
        {
          "output_type": "stream",
          "name": "stdout",
          "text": [
            "Please enter your budget in terms of lakhs26\n",
            "You can go for SUVS. Your car representation number is 3\n"
          ]
        }
      ]
    },
    {
      "cell_type": "code",
      "source": [
        "obj.car_compare()"
      ],
      "metadata": {
        "colab": {
          "base_uri": "https://localhost:8080/"
        },
        "id": "2EcjtupT_8iD",
        "outputId": "bf52f67f-0498-46a5-cd17-1efeeeb30c08"
      },
      "execution_count": null,
      "outputs": [
        {
          "output_type": "stream",
          "name": "stdout",
          "text": [
            "Enter 1 to compare Sedans, 2 to compare hatchbacks and 3 to compare SUVs5\n",
            "Incorrect Input, Please try again\n",
            "Enter 1 to compare Sedans, 2 to compare hatchbacks and 3 to compare SUVs65\n",
            "Incorrect Input, Please try again\n",
            "Enter 1 to compare Sedans, 2 to compare hatchbacks and 3 to compare SUVs3\n",
            "Higher safety ratings as comparitevly other categories\n",
            "You will get different drive modes\n",
            "More comfort with extra leg space\n"
          ]
        }
      ]
    },
    {
      "cell_type": "code",
      "source": [
        "obj.car_price()"
      ],
      "metadata": {
        "colab": {
          "base_uri": "https://localhost:8080/"
        },
        "id": "jcNFYmetAKz3",
        "outputId": "b500bf2d-d414-4ffd-d1d9-68887fcba7da"
      },
      "execution_count": null,
      "outputs": [
        {
          "output_type": "stream",
          "name": "stdout",
          "text": [
            "Your ex-showroom car price is 26 Lakhs\n",
            "Your tax will be addes as 11 %\n",
            "Your insurance amount will be 45000\n",
            "Your final price will be: \n",
            "28645000\n"
          ]
        }
      ]
    },
    {
      "cell_type": "markdown",
      "source": [
        "# Inheritance a concept which allows us to inherit properties(functions/methods) from other classes"
      ],
      "metadata": {
        "id": "OG7Sn1JcFD2_"
      }
    },
    {
      "cell_type": "code",
      "source": [
        "class Father:      #This class is inheritaed -> Parent Class.\n",
        "  def house(self):\n",
        "    print(\"This is our house\")\n",
        "\n",
        "  def car(self):\n",
        "    print(\"This is our car\")\n",
        "\n",
        "# Whenever we have some fxns present in XYZ class and we want to use those fxns in\n",
        "# IJK class. I will perform Inheritance.\n",
        "\n",
        "class Son(Father):                 #Inheriting the Father class   -> Child Class.\n",
        "  def bike(self):\n",
        "    print(\"This is my bike\")\n",
        "\n",
        "  def room(self):\n",
        "    print(\"This is my room\")\n",
        "\n",
        "# Your parent classes are completely unaware of your child classes."
      ],
      "metadata": {
        "id": "PmrVIhwgBh4J"
      },
      "execution_count": null,
      "outputs": []
    },
    {
      "cell_type": "code",
      "source": [
        "ob2 = Son()\n",
        "ob2.bike()\n",
        "ob2.house()                 #Accessing the Father class fxn."
      ],
      "metadata": {
        "colab": {
          "base_uri": "https://localhost:8080/"
        },
        "id": "O9ITxC4vFl81",
        "outputId": "8ecf1eaa-2773-4100-d975-59f098a9ea14"
      },
      "execution_count": null,
      "outputs": [
        {
          "output_type": "stream",
          "name": "stdout",
          "text": [
            "This is my bike\n",
            "This is our house\n"
          ]
        }
      ]
    },
    {
      "cell_type": "code",
      "source": [
        "ob = Father()\n",
        "ob.house()\n",
        "ob.car()\n",
        "ob.bike()   #Parent classes are completely unaware about child classes."
      ],
      "metadata": {
        "colab": {
          "base_uri": "https://localhost:8080/",
          "height": 217
        },
        "id": "Yj1BZfVsFrSQ",
        "outputId": "728b821a-ab56-4218-9d19-7d792347933b"
      },
      "execution_count": null,
      "outputs": [
        {
          "output_type": "stream",
          "name": "stdout",
          "text": [
            "This is our house\n",
            "This is our car\n"
          ]
        },
        {
          "output_type": "error",
          "ename": "AttributeError",
          "evalue": "'Father' object has no attribute 'bike'",
          "traceback": [
            "\u001b[0;31m---------------------------------------------------------------------------\u001b[0m",
            "\u001b[0;31mAttributeError\u001b[0m                            Traceback (most recent call last)",
            "\u001b[0;32m<ipython-input-46-abff4b473681>\u001b[0m in \u001b[0;36m<cell line: 0>\u001b[0;34m()\u001b[0m\n\u001b[1;32m      2\u001b[0m \u001b[0mob\u001b[0m\u001b[0;34m.\u001b[0m\u001b[0mhouse\u001b[0m\u001b[0;34m(\u001b[0m\u001b[0;34m)\u001b[0m\u001b[0;34m\u001b[0m\u001b[0;34m\u001b[0m\u001b[0m\n\u001b[1;32m      3\u001b[0m \u001b[0mob\u001b[0m\u001b[0;34m.\u001b[0m\u001b[0mcar\u001b[0m\u001b[0;34m(\u001b[0m\u001b[0;34m)\u001b[0m\u001b[0;34m\u001b[0m\u001b[0;34m\u001b[0m\u001b[0m\n\u001b[0;32m----> 4\u001b[0;31m \u001b[0mob\u001b[0m\u001b[0;34m.\u001b[0m\u001b[0mbike\u001b[0m\u001b[0;34m(\u001b[0m\u001b[0;34m)\u001b[0m\u001b[0;34m\u001b[0m\u001b[0;34m\u001b[0m\u001b[0m\n\u001b[0m",
            "\u001b[0;31mAttributeError\u001b[0m: 'Father' object has no attribute 'bike'"
          ]
        }
      ]
    },
    {
      "cell_type": "markdown",
      "source": [
        "# Multiple Inheritance when we inherit more than one parent class directly."
      ],
      "metadata": {
        "id": "aHkonUxXIjw-"
      }
    },
    {
      "cell_type": "code",
      "source": [
        "class Father:     #Parent Class\n",
        "  def car(self):\n",
        "    print(\"This is our car\")\n",
        "\n",
        "  def pocket_money(self):\n",
        "    print(\"This is your pocket money\")\n",
        "\n",
        "class Mother:          #Parent Class\n",
        "  def house(self):\n",
        "    print(\"This is our house\")\n",
        "\n",
        "  def garden(self):\n",
        "    print(\"This is our garden\")\n",
        "\n",
        "class Daughter(Father,Mother):      #Child Class\n",
        "  def scooter(self):\n",
        "    print(\"This is my scooter\")\n",
        "\n",
        "  def phone(self):\n",
        "    print(\"This is my phone\")\n"
      ],
      "metadata": {
        "id": "7ZCGMktmH9FH"
      },
      "execution_count": null,
      "outputs": []
    },
    {
      "cell_type": "code",
      "source": [
        "ob = Daughter()\n",
        "ob.scooter()    #Accessing own class fxn\n",
        "ob.house()       #Accessing Mother class fxn\n",
        "ob.car()          #Accessing Father class fxn"
      ],
      "metadata": {
        "colab": {
          "base_uri": "https://localhost:8080/"
        },
        "id": "oxkRFVPFJfgl",
        "outputId": "696254eb-aad6-49ed-b473-44a75974aca5"
      },
      "execution_count": null,
      "outputs": [
        {
          "output_type": "stream",
          "name": "stdout",
          "text": [
            "This is my scooter\n",
            "This is our house\n",
            "This is our car\n"
          ]
        }
      ]
    },
    {
      "cell_type": "markdown",
      "source": [
        "# Multi level Inheritance"
      ],
      "metadata": {
        "id": "v6VNLsTCKwK_"
      }
    },
    {
      "cell_type": "code",
      "source": [
        "class GrandParents:                              # 2 Parent Classes.\n",
        "  def property(self):                            # 2 child classes.\n",
        "    print(\"This is our property\")\n",
        "\n",
        "  def recipe(self):\n",
        "    print(\"This is our recipe\")\n",
        "\n",
        "class Parents(GrandParents):   #This class is Parent for children and child for GrandParents\n",
        "  def house(self):\n",
        "    print(\"This is our house\")\n",
        "\n",
        "  def car(self):\n",
        "    print(\"This is our car\")\n",
        "\n",
        "class Children(Parents):\n",
        "  def room(self):\n",
        "    print(\"This is our room\")\n",
        "\n",
        "  def scooter(self):\n",
        "    print(\"This is our scooter\")"
      ],
      "metadata": {
        "id": "5OvuHn6OJ6Fy"
      },
      "execution_count": null,
      "outputs": []
    },
    {
      "cell_type": "code",
      "source": [
        "ob = Children()\n",
        "ob.scooter()   #Own class fxn\n",
        "ob.house()     #Parent Class fxn\n",
        "ob.recipe()    #Grandparent class fxn"
      ],
      "metadata": {
        "colab": {
          "base_uri": "https://localhost:8080/"
        },
        "id": "3BPDWukJL5kw",
        "outputId": "b9aba7f6-3ae0-4390-dcd9-5b4fa2b5ffb6"
      },
      "execution_count": null,
      "outputs": [
        {
          "output_type": "stream",
          "name": "stdout",
          "text": [
            "This is our scooter\n",
            "This is our house\n",
            "This is our recipe\n"
          ]
        }
      ]
    },
    {
      "cell_type": "markdown",
      "source": [
        "# Hybrid Inheritance -> Multiple Inheritance + Multilevel Inheritance"
      ],
      "metadata": {
        "id": "5BkTzFGxM95O"
      }
    },
    {
      "cell_type": "code",
      "source": [
        "class Parents:\n",
        "  def property(self):\n",
        "    print(\"This is our property\")\n",
        "\n",
        "  def recipe(self):\n",
        "    print(\"This is our recipe\")\n",
        "\n",
        "class Father(Parents):\n",
        "  def house(self):\n",
        "    print(\"This is our house\")\n",
        "\n",
        "  def bike(self):\n",
        "    print(\"This is our bike\")\n",
        "\n",
        "class Mother(Parents):\n",
        "  def garden(self):\n",
        "    print(\"This is our garden\")\n",
        "\n",
        "  def car(self):\n",
        "    print(\"This is our car\")\n",
        "\n",
        "class Son(Father,Mother):\n",
        "  def room(self):\n",
        "    print(\"This is my room\")\n",
        "\n",
        "  def phone(self):\n",
        "    print(\"This is my phone\")"
      ],
      "metadata": {
        "id": "WQxDv3skMEep"
      },
      "execution_count": null,
      "outputs": []
    },
    {
      "cell_type": "code",
      "source": [
        "ob = Son()\n",
        "ob.phone()     #This is my phone\n",
        "ob.garden()    #Mother class fxn\n",
        "ob.bike()      #Father class fxn\n",
        "ob.recipe()    #Parent class fxn"
      ],
      "metadata": {
        "colab": {
          "base_uri": "https://localhost:8080/"
        },
        "id": "34dWYmK5PUjN",
        "outputId": "eae80d09-36b8-4d06-a698-4f7328ec997d"
      },
      "execution_count": null,
      "outputs": [
        {
          "output_type": "stream",
          "name": "stdout",
          "text": [
            "This is my phone\n",
            "This is our garden\n",
            "This is our bike\n",
            "This is our recipe\n"
          ]
        }
      ]
    },
    {
      "cell_type": "markdown",
      "source": [
        "# Polymorphism"
      ],
      "metadata": {
        "id": "a7oJpV2AU8KF"
      }
    },
    {
      "cell_type": "code",
      "source": [
        "# Method Overloading  -> not supported in python\n",
        "# Method Overriding"
      ],
      "metadata": {
        "id": "RGptubjMPu1R"
      },
      "execution_count": null,
      "outputs": []
    },
    {
      "cell_type": "code",
      "source": [
        "def sum(a,b):\n",
        "  print(a+b)\n",
        "\n",
        "def sum(a,b,c):\n",
        "  print(a+b+c)\n",
        "\n",
        "def sum():\n",
        "  print(\"HELLLO\")"
      ],
      "metadata": {
        "id": "fMXQRS5vVAcg"
      },
      "execution_count": null,
      "outputs": []
    },
    {
      "cell_type": "code",
      "source": [
        "sum()"
      ],
      "metadata": {
        "colab": {
          "base_uri": "https://localhost:8080/"
        },
        "id": "WLUf9KQUYw4D",
        "outputId": "d00d8143-4e85-48fa-e136-17e690ad7324"
      },
      "execution_count": null,
      "outputs": [
        {
          "output_type": "stream",
          "name": "stdout",
          "text": [
            "HELLLO\n"
          ]
        }
      ]
    },
    {
      "cell_type": "code",
      "source": [
        "sum(10,20)\n",
        "# My program is not considering both the fxn with same name but different parameters\n",
        "# as different. That's why we say method overloading is not supported in python."
      ],
      "metadata": {
        "colab": {
          "base_uri": "https://localhost:8080/",
          "height": 181
        },
        "id": "VwR8ABPqX5CP",
        "outputId": "480d6301-0d50-47e0-bf33-c11edb7681ee"
      },
      "execution_count": null,
      "outputs": [
        {
          "output_type": "error",
          "ename": "TypeError",
          "evalue": "sum() takes 0 positional arguments but 2 were given",
          "traceback": [
            "\u001b[0;31m---------------------------------------------------------------------------\u001b[0m",
            "\u001b[0;31mTypeError\u001b[0m                                 Traceback (most recent call last)",
            "\u001b[0;32m<ipython-input-61-56c250bc3014>\u001b[0m in \u001b[0;36m<cell line: 0>\u001b[0;34m()\u001b[0m\n\u001b[0;32m----> 1\u001b[0;31m \u001b[0msum\u001b[0m\u001b[0;34m(\u001b[0m\u001b[0;36m10\u001b[0m\u001b[0;34m,\u001b[0m\u001b[0;36m20\u001b[0m\u001b[0;34m)\u001b[0m\u001b[0;34m\u001b[0m\u001b[0;34m\u001b[0m\u001b[0m\n\u001b[0m\u001b[1;32m      2\u001b[0m \u001b[0;31m# My program is not considering both the fxn with same name but different parameters\u001b[0m\u001b[0;34m\u001b[0m\u001b[0;34m\u001b[0m\u001b[0m\n\u001b[1;32m      3\u001b[0m \u001b[0;31m# as different. That's why we say method overloading is not supported in python.\u001b[0m\u001b[0;34m\u001b[0m\u001b[0;34m\u001b[0m\u001b[0m\n",
            "\u001b[0;31mTypeError\u001b[0m: sum() takes 0 positional arguments but 2 were given"
          ]
        }
      ]
    },
    {
      "cell_type": "code",
      "source": [
        "sum(10,20,30)"
      ],
      "metadata": {
        "colab": {
          "base_uri": "https://localhost:8080/",
          "height": 145
        },
        "id": "gTVTBCHNX7bE",
        "outputId": "f9e01e19-940e-4177-be3b-ad1faba5c9a9"
      },
      "execution_count": null,
      "outputs": [
        {
          "output_type": "error",
          "ename": "TypeError",
          "evalue": "sum() takes 0 positional arguments but 3 were given",
          "traceback": [
            "\u001b[0;31m---------------------------------------------------------------------------\u001b[0m",
            "\u001b[0;31mTypeError\u001b[0m                                 Traceback (most recent call last)",
            "\u001b[0;32m<ipython-input-62-e7ab4573c74f>\u001b[0m in \u001b[0;36m<cell line: 0>\u001b[0;34m()\u001b[0m\n\u001b[0;32m----> 1\u001b[0;31m \u001b[0msum\u001b[0m\u001b[0;34m(\u001b[0m\u001b[0;36m10\u001b[0m\u001b[0;34m,\u001b[0m\u001b[0;36m20\u001b[0m\u001b[0;34m,\u001b[0m\u001b[0;36m30\u001b[0m\u001b[0;34m)\u001b[0m\u001b[0;34m\u001b[0m\u001b[0;34m\u001b[0m\u001b[0m\n\u001b[0m",
            "\u001b[0;31mTypeError\u001b[0m: sum() takes 0 positional arguments but 3 were given"
          ]
        }
      ]
    },
    {
      "cell_type": "code",
      "source": [
        "# Method Overriding"
      ],
      "metadata": {
        "id": "Y9Qw67zzX7yh"
      },
      "execution_count": null,
      "outputs": []
    },
    {
      "cell_type": "code",
      "source": [
        "class Father:    #PARENT CLASS.\n",
        "  def homework(self):\n",
        "    print(\"You have to finish your homework before 6:00 PM\")\n",
        "\n",
        "  def tution(self):\n",
        "    print(\"You have to go to tution at 7:00 PM\")\n",
        "\n",
        "class Son(Father):   #CHILD CLASS\n",
        "  def homework(self):    #Method Overriding is. Here we overridden the Parent class homework function\n",
        "    print(\"I will finish my homework after playing cricket\")\n",
        "  def play(self):\n",
        "    print(\"I have cricket match at 5:30 PM\")\n",
        "\n",
        "  def cycling(self):\n",
        "    print(\"I will go cycling after coming from school\")"
      ],
      "metadata": {
        "id": "4MYFOS-GY-2P"
      },
      "execution_count": null,
      "outputs": []
    },
    {
      "cell_type": "code",
      "source": [
        "ob= Son()\n",
        "# ob.play()\n",
        "# ob.cycling()\n",
        "# ob.tution()\n",
        "ob.homework()\n",
        "\n",
        "# Child class wants to do some changes in parent class fxn.\n"
      ],
      "metadata": {
        "colab": {
          "base_uri": "https://localhost:8080/"
        },
        "id": "4bXwpmbyZb07",
        "outputId": "ab09da8d-5431-453a-9d19-3380a3da49ce"
      },
      "execution_count": null,
      "outputs": [
        {
          "output_type": "stream",
          "name": "stdout",
          "text": [
            "I will finish my homework after playing cricket\n"
          ]
        }
      ]
    },
    {
      "cell_type": "code",
      "source": [
        "ob2 = Father()\n",
        "ob2.homework()"
      ],
      "metadata": {
        "colab": {
          "base_uri": "https://localhost:8080/"
        },
        "id": "YAlBpOZfZgKV",
        "outputId": "69f3a749-54d9-4522-c6a8-0df1c620ac48"
      },
      "execution_count": null,
      "outputs": [
        {
          "output_type": "stream",
          "name": "stdout",
          "text": [
            "You have to finish your homework before 6:00 PM\n"
          ]
        }
      ]
    },
    {
      "cell_type": "markdown",
      "source": [
        "# Encapsulation"
      ],
      "metadata": {
        "id": "SFqQtDD2bZpH"
      }
    },
    {
      "cell_type": "code",
      "source": [
        "# Hiding or protecting your data\n",
        "# Protecting your data by hiding it. Keep it private"
      ],
      "metadata": {
        "id": "aq5D4fuhaoXE"
      },
      "execution_count": null,
      "outputs": []
    },
    {
      "cell_type": "code",
      "source": [
        "class Bank:\n",
        "  def __init__(self,name,account_num,pan_card):\n",
        "    self.name=name\n",
        "    self.account_num = account_num\n",
        "    self.pan_card = pan_card\n",
        "    print(\"Thanks for the details. How may I help you?\")\n",
        "\n",
        "  def offers(self):\n",
        "    print(\"You can avail great benefits on credit cards\")\n",
        "\n",
        "  def withdraw(self):\n",
        "    print(\"You can withdraw money here\")\n",
        "\n",
        "  def deposit(self):\n",
        "    print(\"You can deposit money here\")\n",
        "\n",
        "\n",
        "  def __locker(self):               # __ are used to make your function private\n",
        "    print(\"You can access the money , jewellery and documents here\")\n",
        "\n",
        "  def manager(self):    #With the help of this fxn I am able to get/access my private fxn -> Getter Methods\n",
        "    print(\"How May I help you?\")\n",
        "    inp = int(input(\"Enter 1 if you want to access locker\"))\n",
        "    if inp==1:\n",
        "      locker_num = int(input(\"Enter your locker number\"))\n",
        "      aadhar_num = int(input(\"Enter your aadhar number\"))\n",
        "      acc_no = self.account_num\n",
        "      print(\"Thanks for the details. You can access the locker now\")\n",
        "      self.__locker() #We can access the private methods inside that class only.\n",
        "    else:\n",
        "      print(\"Thanks nice to meet you.\")"
      ],
      "metadata": {
        "id": "sy-we1X3cFEg"
      },
      "execution_count": null,
      "outputs": []
    },
    {
      "cell_type": "code",
      "source": [
        "ob = Bank(\"Rachit\",476563,\"GSBE\")\n",
        "ob.deposit()\n",
        "ob.offers()\n",
        "#ob.__locker()   #Directly accessing the locker. That's an issue.\n",
        "# We need to save this fxn. Protect this fxn."
      ],
      "metadata": {
        "colab": {
          "base_uri": "https://localhost:8080/"
        },
        "id": "UBztJstndYJH",
        "outputId": "60d259a6-5331-46fa-dc2b-20c61d6832b4"
      },
      "execution_count": null,
      "outputs": [
        {
          "output_type": "stream",
          "name": "stdout",
          "text": [
            "Thanks for the details. How may I help you?\n",
            "You can deposit money here\n",
            "You can avail great benefits on credit cards\n"
          ]
        }
      ]
    },
    {
      "cell_type": "code",
      "source": [
        "ob.manager()"
      ],
      "metadata": {
        "colab": {
          "base_uri": "https://localhost:8080/"
        },
        "id": "HtcC7M_adkB5",
        "outputId": "6a5bad5a-b811-43c7-af53-1a795a27353e"
      },
      "execution_count": null,
      "outputs": [
        {
          "output_type": "stream",
          "name": "stdout",
          "text": [
            "How May I help you?\n",
            "Enter 1 if you want to access locker1\n",
            "Enter your locker number465733\n",
            "Enter your aadhar number75846343\n",
            "Thanks for the details. You can access the locker now\n",
            "You can access the money , jewellery and documents here\n"
          ]
        }
      ]
    },
    {
      "cell_type": "code",
      "source": [
        "# Try to use encapsulation over there. Make some fxns private and try to access them\n",
        "# from child classes.\n",
        "#SUPER KEYWORK\n",
        "class A:\n",
        "  def __init__(self):\n",
        "    print(\"Constructor of A class Executing\")\n",
        "\n",
        "class B(A):   #In your child class if you want only your parent class constructor to be executred\n",
        "  def __init__(self):\n",
        "    super().__init__()   #Calling the Parent class constructor\n",
        "\n",
        "ob = B()"
      ],
      "metadata": {
        "colab": {
          "base_uri": "https://localhost:8080/"
        },
        "id": "-tYx6SXSf281",
        "outputId": "bfb45b58-9d92-4e2a-fbda-a2a92b855c47"
      },
      "execution_count": null,
      "outputs": [
        {
          "output_type": "stream",
          "name": "stdout",
          "text": [
            "Constructor of A class Executing\n"
          ]
        }
      ]
    },
    {
      "cell_type": "markdown",
      "source": [
        "# Abstraction -> Showing only important information to the users and hiding the rest(Implementation)"
      ],
      "metadata": {
        "id": "nINh6lmC0UCI"
      }
    },
    {
      "cell_type": "markdown",
      "source": [
        "In our Abstract class we will define the functions that the class will perform.\n",
        "It will be the child classes responsibility to do the implementation"
      ],
      "metadata": {
        "id": "Xjrp1o0i2HSZ"
      }
    },
    {
      "cell_type": "markdown",
      "source": [],
      "metadata": {
        "id": "t_xKTyjy2HPC"
      }
    },
    {
      "cell_type": "code",
      "source": [
        "import abc"
      ],
      "metadata": {
        "id": "NSX4XhBh2uts"
      },
      "execution_count": null,
      "outputs": []
    },
    {
      "cell_type": "code",
      "source": [
        "help(abc)   # predefined module."
      ],
      "metadata": {
        "colab": {
          "base_uri": "https://localhost:8080/"
        },
        "id": "R-vQ_UbI3V2W",
        "outputId": "a6a112ca-78a3-4139-9df8-46130646c9e9"
      },
      "execution_count": null,
      "outputs": [
        {
          "output_type": "stream",
          "name": "stdout",
          "text": [
            "Help on module abc:\n",
            "\n",
            "NAME\n",
            "    abc - Abstract Base Classes (ABCs) according to PEP 3119.\n",
            "\n",
            "MODULE REFERENCE\n",
            "    https://docs.python.org/3.11/library/abc.html\n",
            "    \n",
            "    The following documentation is automatically generated from the Python\n",
            "    source files.  It may be incomplete, incorrect or include features that\n",
            "    are considered implementation detail and may vary between Python\n",
            "    implementations.  When in doubt, consult the module reference at the\n",
            "    location listed above.\n",
            "\n",
            "CLASSES\n",
            "    builtins.classmethod(builtins.object)\n",
            "        abstractclassmethod\n",
            "    builtins.object\n",
            "        ABC\n",
            "    builtins.property(builtins.object)\n",
            "        abstractproperty\n",
            "    builtins.staticmethod(builtins.object)\n",
            "        abstractstaticmethod\n",
            "    builtins.type(builtins.object)\n",
            "        ABCMeta\n",
            "    \n",
            "    class ABC(builtins.object)\n",
            "     |  Helper class that provides a standard way to create an ABC using\n",
            "     |  inheritance.\n",
            "     |  \n",
            "     |  Data and other attributes defined here:\n",
            "     |  \n",
            "     |  __abstractmethods__ = frozenset()\n",
            "    \n",
            "    class ABCMeta(builtins.type)\n",
            "     |  ABCMeta(name, bases, namespace, /, **kwargs)\n",
            "     |  \n",
            "     |  Metaclass for defining Abstract Base Classes (ABCs).\n",
            "     |  \n",
            "     |  Use this metaclass to create an ABC.  An ABC can be subclassed\n",
            "     |  directly, and then acts as a mix-in class.  You can also register\n",
            "     |  unrelated concrete classes (even built-in classes) and unrelated\n",
            "     |  ABCs as 'virtual subclasses' -- these and their descendants will\n",
            "     |  be considered subclasses of the registering ABC by the built-in\n",
            "     |  issubclass() function, but the registering ABC won't show up in\n",
            "     |  their MRO (Method Resolution Order) nor will method\n",
            "     |  implementations defined by the registering ABC be callable (not\n",
            "     |  even via super()).\n",
            "     |  \n",
            "     |  Method resolution order:\n",
            "     |      ABCMeta\n",
            "     |      builtins.type\n",
            "     |      builtins.object\n",
            "     |  \n",
            "     |  Methods defined here:\n",
            "     |  \n",
            "     |  __instancecheck__(cls, instance)\n",
            "     |      Override for isinstance(instance, cls).\n",
            "     |  \n",
            "     |  __subclasscheck__(cls, subclass)\n",
            "     |      Override for issubclass(subclass, cls).\n",
            "     |  \n",
            "     |  register(cls, subclass)\n",
            "     |      Register a virtual subclass of an ABC.\n",
            "     |      \n",
            "     |      Returns the subclass, to allow usage as a class decorator.\n",
            "     |  \n",
            "     |  ----------------------------------------------------------------------\n",
            "     |  Static methods defined here:\n",
            "     |  \n",
            "     |  __new__(mcls, name, bases, namespace, /, **kwargs)\n",
            "     |      Create and return a new object.  See help(type) for accurate signature.\n",
            "     |  \n",
            "     |  ----------------------------------------------------------------------\n",
            "     |  Data and other attributes defined here:\n",
            "     |  \n",
            "     |  __annotations__ = {}\n",
            "     |  \n",
            "     |  ----------------------------------------------------------------------\n",
            "     |  Methods inherited from builtins.type:\n",
            "     |  \n",
            "     |  __call__(self, /, *args, **kwargs)\n",
            "     |      Call self as a function.\n",
            "     |  \n",
            "     |  __delattr__(self, name, /)\n",
            "     |      Implement delattr(self, name).\n",
            "     |  \n",
            "     |  __dir__(self, /)\n",
            "     |      Specialized __dir__ implementation for types.\n",
            "     |  \n",
            "     |  __getattribute__(self, name, /)\n",
            "     |      Return getattr(self, name).\n",
            "     |  \n",
            "     |  __init__(self, /, *args, **kwargs)\n",
            "     |      Initialize self.  See help(type(self)) for accurate signature.\n",
            "     |  \n",
            "     |  __or__(self, value, /)\n",
            "     |      Return self|value.\n",
            "     |  \n",
            "     |  __repr__(self, /)\n",
            "     |      Return repr(self).\n",
            "     |  \n",
            "     |  __ror__(self, value, /)\n",
            "     |      Return value|self.\n",
            "     |  \n",
            "     |  __setattr__(self, name, value, /)\n",
            "     |      Implement setattr(self, name, value).\n",
            "     |  \n",
            "     |  __sizeof__(self, /)\n",
            "     |      Return memory consumption of the type object.\n",
            "     |  \n",
            "     |  __subclasses__(self, /)\n",
            "     |      Return a list of immediate subclasses.\n",
            "     |  \n",
            "     |  mro(self, /)\n",
            "     |      Return a type's method resolution order.\n",
            "     |  \n",
            "     |  ----------------------------------------------------------------------\n",
            "     |  Class methods inherited from builtins.type:\n",
            "     |  \n",
            "     |  __prepare__(...)\n",
            "     |      __prepare__() -> dict\n",
            "     |      used to create the namespace for the class statement\n",
            "     |  \n",
            "     |  ----------------------------------------------------------------------\n",
            "     |  Data descriptors inherited from builtins.type:\n",
            "     |  \n",
            "     |  __abstractmethods__\n",
            "     |  \n",
            "     |  __dict__\n",
            "     |  \n",
            "     |  __text_signature__\n",
            "     |  \n",
            "     |  ----------------------------------------------------------------------\n",
            "     |  Data and other attributes inherited from builtins.type:\n",
            "     |  \n",
            "     |  __base__ = <class 'type'>\n",
            "     |      type(object) -> the object's type\n",
            "     |      type(name, bases, dict, **kwds) -> a new type\n",
            "     |  \n",
            "     |  \n",
            "     |  __bases__ = (<class 'type'>,)\n",
            "     |  \n",
            "     |  __basicsize__ = 904\n",
            "     |  \n",
            "     |  __dictoffset__ = 264\n",
            "     |  \n",
            "     |  __flags__ = 2148029952\n",
            "     |  \n",
            "     |  __itemsize__ = 40\n",
            "     |  \n",
            "     |  __mro__ = (<class 'abc.ABCMeta'>, <class 'type'>, <class 'object'>)\n",
            "     |  \n",
            "     |  __weakrefoffset__ = 368\n",
            "    \n",
            "    class abstractclassmethod(builtins.classmethod)\n",
            "     |  abstractclassmethod(callable)\n",
            "     |  \n",
            "     |  A decorator indicating abstract classmethods.\n",
            "     |  \n",
            "     |  Deprecated, use 'classmethod' with 'abstractmethod' instead:\n",
            "     |  \n",
            "     |      class C(ABC):\n",
            "     |          @classmethod\n",
            "     |          @abstractmethod\n",
            "     |          def my_abstract_classmethod(cls, ...):\n",
            "     |              ...\n",
            "     |  \n",
            "     |  Method resolution order:\n",
            "     |      abstractclassmethod\n",
            "     |      builtins.classmethod\n",
            "     |      builtins.object\n",
            "     |  \n",
            "     |  Methods defined here:\n",
            "     |  \n",
            "     |  __init__(self, callable)\n",
            "     |      Initialize self.  See help(type(self)) for accurate signature.\n",
            "     |  \n",
            "     |  ----------------------------------------------------------------------\n",
            "     |  Data descriptors defined here:\n",
            "     |  \n",
            "     |  __weakref__\n",
            "     |      list of weak references to the object\n",
            "     |  \n",
            "     |  ----------------------------------------------------------------------\n",
            "     |  Data and other attributes defined here:\n",
            "     |  \n",
            "     |  __isabstractmethod__ = True\n",
            "     |  \n",
            "     |  ----------------------------------------------------------------------\n",
            "     |  Methods inherited from builtins.classmethod:\n",
            "     |  \n",
            "     |  __get__(self, instance, owner=None, /)\n",
            "     |      Return an attribute of instance, which is of type owner.\n",
            "     |  \n",
            "     |  __repr__(self, /)\n",
            "     |      Return repr(self).\n",
            "     |  \n",
            "     |  ----------------------------------------------------------------------\n",
            "     |  Static methods inherited from builtins.classmethod:\n",
            "     |  \n",
            "     |  __new__(*args, **kwargs) class method of builtins.classmethod\n",
            "     |      Create and return a new object.  See help(type) for accurate signature.\n",
            "     |  \n",
            "     |  ----------------------------------------------------------------------\n",
            "     |  Data descriptors inherited from builtins.classmethod:\n",
            "     |  \n",
            "     |  __dict__\n",
            "     |  \n",
            "     |  __func__\n",
            "     |  \n",
            "     |  __wrapped__\n",
            "    \n",
            "    class abstractproperty(builtins.property)\n",
            "     |  abstractproperty(fget=None, fset=None, fdel=None, doc=None)\n",
            "     |  \n",
            "     |  A decorator indicating abstract properties.\n",
            "     |  \n",
            "     |  Deprecated, use 'property' with 'abstractmethod' instead:\n",
            "     |  \n",
            "     |      class C(ABC):\n",
            "     |          @property\n",
            "     |          @abstractmethod\n",
            "     |          def my_abstract_property(self):\n",
            "     |              ...\n",
            "     |  \n",
            "     |  Method resolution order:\n",
            "     |      abstractproperty\n",
            "     |      builtins.property\n",
            "     |      builtins.object\n",
            "     |  \n",
            "     |  Data descriptors defined here:\n",
            "     |  \n",
            "     |  __dict__\n",
            "     |      dictionary for instance variables\n",
            "     |  \n",
            "     |  __weakref__\n",
            "     |      list of weak references to the object\n",
            "     |  \n",
            "     |  ----------------------------------------------------------------------\n",
            "     |  Data and other attributes defined here:\n",
            "     |  \n",
            "     |  __isabstractmethod__ = True\n",
            "     |  \n",
            "     |  ----------------------------------------------------------------------\n",
            "     |  Methods inherited from builtins.property:\n",
            "     |  \n",
            "     |  __delete__(self, instance, /)\n",
            "     |      Delete an attribute of instance.\n",
            "     |  \n",
            "     |  __get__(self, instance, owner=None, /)\n",
            "     |      Return an attribute of instance, which is of type owner.\n",
            "     |  \n",
            "     |  __getattribute__(self, name, /)\n",
            "     |      Return getattr(self, name).\n",
            "     |  \n",
            "     |  __init__(self, /, *args, **kwargs)\n",
            "     |      Initialize self.  See help(type(self)) for accurate signature.\n",
            "     |  \n",
            "     |  __set__(self, instance, value, /)\n",
            "     |      Set an attribute of instance to value.\n",
            "     |  \n",
            "     |  __set_name__(...)\n",
            "     |      Method to set name of a property.\n",
            "     |  \n",
            "     |  deleter(...)\n",
            "     |      Descriptor to obtain a copy of the property with a different deleter.\n",
            "     |  \n",
            "     |  getter(...)\n",
            "     |      Descriptor to obtain a copy of the property with a different getter.\n",
            "     |  \n",
            "     |  setter(...)\n",
            "     |      Descriptor to obtain a copy of the property with a different setter.\n",
            "     |  \n",
            "     |  ----------------------------------------------------------------------\n",
            "     |  Static methods inherited from builtins.property:\n",
            "     |  \n",
            "     |  __new__(*args, **kwargs) class method of builtins.property\n",
            "     |      Create and return a new object.  See help(type) for accurate signature.\n",
            "     |  \n",
            "     |  ----------------------------------------------------------------------\n",
            "     |  Data descriptors inherited from builtins.property:\n",
            "     |  \n",
            "     |  fdel\n",
            "     |  \n",
            "     |  fget\n",
            "     |  \n",
            "     |  fset\n",
            "    \n",
            "    class abstractstaticmethod(builtins.staticmethod)\n",
            "     |  abstractstaticmethod(callable)\n",
            "     |  \n",
            "     |  A decorator indicating abstract staticmethods.\n",
            "     |  \n",
            "     |  Deprecated, use 'staticmethod' with 'abstractmethod' instead:\n",
            "     |  \n",
            "     |      class C(ABC):\n",
            "     |          @staticmethod\n",
            "     |          @abstractmethod\n",
            "     |          def my_abstract_staticmethod(...):\n",
            "     |              ...\n",
            "     |  \n",
            "     |  Method resolution order:\n",
            "     |      abstractstaticmethod\n",
            "     |      builtins.staticmethod\n",
            "     |      builtins.object\n",
            "     |  \n",
            "     |  Methods defined here:\n",
            "     |  \n",
            "     |  __init__(self, callable)\n",
            "     |      Initialize self.  See help(type(self)) for accurate signature.\n",
            "     |  \n",
            "     |  ----------------------------------------------------------------------\n",
            "     |  Data descriptors defined here:\n",
            "     |  \n",
            "     |  __weakref__\n",
            "     |      list of weak references to the object\n",
            "     |  \n",
            "     |  ----------------------------------------------------------------------\n",
            "     |  Data and other attributes defined here:\n",
            "     |  \n",
            "     |  __isabstractmethod__ = True\n",
            "     |  \n",
            "     |  ----------------------------------------------------------------------\n",
            "     |  Methods inherited from builtins.staticmethod:\n",
            "     |  \n",
            "     |  __call__(self, /, *args, **kwargs)\n",
            "     |      Call self as a function.\n",
            "     |  \n",
            "     |  __get__(self, instance, owner=None, /)\n",
            "     |      Return an attribute of instance, which is of type owner.\n",
            "     |  \n",
            "     |  __repr__(self, /)\n",
            "     |      Return repr(self).\n",
            "     |  \n",
            "     |  ----------------------------------------------------------------------\n",
            "     |  Static methods inherited from builtins.staticmethod:\n",
            "     |  \n",
            "     |  __new__(*args, **kwargs) class method of builtins.staticmethod\n",
            "     |      Create and return a new object.  See help(type) for accurate signature.\n",
            "     |  \n",
            "     |  ----------------------------------------------------------------------\n",
            "     |  Data descriptors inherited from builtins.staticmethod:\n",
            "     |  \n",
            "     |  __dict__\n",
            "     |  \n",
            "     |  __func__\n",
            "     |  \n",
            "     |  __wrapped__\n",
            "\n",
            "FUNCTIONS\n",
            "    abstractmethod(funcobj)\n",
            "        A decorator indicating abstract methods.\n",
            "        \n",
            "        Requires that the metaclass is ABCMeta or derived from it.  A\n",
            "        class that has a metaclass derived from ABCMeta cannot be\n",
            "        instantiated unless all of its abstract methods are overridden.\n",
            "        The abstract methods can be called using any of the normal\n",
            "        'super' call mechanisms.  abstractmethod() may be used to declare\n",
            "        abstract methods for properties and descriptors.\n",
            "        \n",
            "        Usage:\n",
            "        \n",
            "            class C(metaclass=ABCMeta):\n",
            "                @abstractmethod\n",
            "                def my_abstract_method(self, arg1, arg2, argN):\n",
            "                    ...\n",
            "    \n",
            "    get_cache_token()\n",
            "        Returns the current ABC cache token.\n",
            "        \n",
            "        The token is an opaque object (supporting equality testing) identifying the\n",
            "        current version of the ABC cache for virtual subclasses. The token changes\n",
            "        with every call to register() on any ABC.\n",
            "    \n",
            "    update_abstractmethods(cls)\n",
            "        Recalculate the set of abstract methods of an abstract class.\n",
            "        \n",
            "        If a class has had one of its abstract methods implemented after the\n",
            "        class was created, the method will not be considered implemented until\n",
            "        this function is called. Alternatively, if a new abstract method has been\n",
            "        added to the class, it will only be considered an abstract method of the\n",
            "        class after this function is called.\n",
            "        \n",
            "        This function should be called before any use is made of the class,\n",
            "        usually in class decorators that add methods to the subject class.\n",
            "        \n",
            "        Returns cls, to allow usage as a class decorator.\n",
            "        \n",
            "        If cls is not an instance of ABCMeta, does nothing.\n",
            "\n",
            "FILE\n",
            "    /usr/lib/python3.11/abc.py\n",
            "\n",
            "\n"
          ]
        }
      ]
    },
    {
      "cell_type": "code",
      "source": [
        "from abc import ABC  , abstractmethod                      #from module abc I imported the class ABC(Abstract Class)\n",
        "class Car(ABC):         #Now my car classtract class by inheriting ABC.\n",
        "\n",
        "  @abstractmethod                    #Here making my methods as abstractmethod\n",
        "  def engine_start(self):\n",
        "    pass\n",
        "\n",
        "  @abstractmethod #s is also an Ab\n",
        "  def engine_stop(self):\n",
        "    pass\n",
        "\n",
        "  @abstractmethod\n",
        "  def headlights_on(self):\n",
        "    pass\n",
        "\n",
        "  @abstractmethod\n",
        "  def headlights_off(self):\n",
        "    pass\n",
        "\n",
        "\n",
        "# My goal is to make sure every child of this Car have to implement all these fxns.\n",
        "# If you create an abstract class. All the functions of that class must be abstractmethod"
      ],
      "metadata": {
        "id": "TTHash0dhp8q"
      },
      "execution_count": null,
      "outputs": []
    },
    {
      "cell_type": "code",
      "source": [
        "# ob  = Car()    # We cannot create object of our Abstract Class."
      ],
      "metadata": {
        "id": "td_8mOS-ABcf"
      },
      "execution_count": null,
      "outputs": []
    },
    {
      "cell_type": "code",
      "source": [],
      "metadata": {
        "id": "hFN3i6LBABY3"
      },
      "execution_count": null,
      "outputs": []
    },
    {
      "cell_type": "code",
      "source": [
        "class Tata(Car):\n",
        "  def electric_engine(self):\n",
        "    print(\"We have electric vehicles\")\n",
        "\n",
        "  def service(self):\n",
        "    print(\"We have service centers all over the country\")\n",
        "\n",
        "\n",
        "\n",
        "  def engine_stop(self):\n",
        "    print(\"Press the start/stop button to stop your car\")\n",
        "    print(\"Engine Stopped\")\n",
        "\n",
        "  def headlights_on(self):\n",
        "    print(\"headlights on\")\n",
        "\n",
        "  def headlights_off(self):\n",
        "    print(\"Headlights off\")\n",
        "\n",
        "\n",
        "\n",
        "# If you want to be considered as a Car. You have to implement all those fxns.\n"
      ],
      "metadata": {
        "id": "OmiVaTfJ11dS"
      },
      "execution_count": null,
      "outputs": []
    },
    {
      "cell_type": "code",
      "source": [
        "ob = Tata()"
      ],
      "metadata": {
        "id": "rq5WrQcZ5vco"
      },
      "execution_count": null,
      "outputs": []
    },
    {
      "cell_type": "code",
      "source": [],
      "metadata": {
        "id": "1ld7rs5_5vZl"
      },
      "execution_count": null,
      "outputs": []
    },
    {
      "cell_type": "code",
      "source": [],
      "metadata": {
        "id": "LSRVhmN-5vW4"
      },
      "execution_count": null,
      "outputs": []
    },
    {
      "cell_type": "markdown",
      "source": [
        "Crete an Abstract class Game which contains abstractmethod as start, menu, back, next, Exit.\n",
        "\n",
        "Create child class for the same and do the implementation"
      ],
      "metadata": {
        "id": "Bg2DwBnS74Va"
      }
    },
    {
      "cell_type": "code",
      "source": [],
      "metadata": {
        "id": "Sj4MsmcQ5vUc"
      },
      "execution_count": null,
      "outputs": []
    },
    {
      "cell_type": "code",
      "source": [],
      "metadata": {
        "id": "AtctjqkM7tXa"
      },
      "execution_count": null,
      "outputs": []
    },
    {
      "cell_type": "code",
      "source": [],
      "metadata": {
        "id": "qdwHjypN3Wwc"
      },
      "execution_count": null,
      "outputs": []
    },
    {
      "cell_type": "markdown",
      "source": [
        " Create a class named ‘Super’ and inside that class define a user-defined function named\n",
        "fun1.\n",
        "a. Inside the ‘fun1’ function, pass the message “This is function 1 in the Super class.”\n",
        "in the print statement.\n"
      ],
      "metadata": {
        "id": "QqObArruCo3H"
      }
    },
    {
      "cell_type": "markdown",
      "source": [
        ". Create another class named ‘Modified_Super’ and inherit this class from the Super class.\n",
        "a. Inside the Modified_Super class, create a function named ‘fun1’ and pass the\n",
        "following message inside the print statement: ‘This is function 1 in the Modified\n",
        "Super class.’\n",
        "b. Create another user-defined function named ‘fun2’ and pass the message: ‘This is\n",
        "the 2nd function from the Modified Super class’ in the print statement.\n",
        "c. After that, now create an object for the Modified_Super class and call the fun1()\n"
      ],
      "metadata": {
        "id": "Ga2W4_arC5gS"
      }
    },
    {
      "cell_type": "code",
      "source": [
        "class Super:\n",
        "  def fun1(self):\n",
        "    print(\"This is function 1 in the Super class.\")\n",
        "\n",
        "class Modified_Super(Super):\n",
        "  def fun1(self):\n",
        "    print('This is function 1 in the Modified Super class.')\n",
        "\n",
        "  def fun2(self):\n",
        "    print('This is the 2nd function from the Modified Super class')\n",
        "\n",
        "ob = Modified_Super()\n",
        "ob.fun1()"
      ],
      "metadata": {
        "colab": {
          "base_uri": "https://localhost:8080/"
        },
        "id": "9Wvx4i6DCpF8",
        "outputId": "a749dab4-36ac-476e-ec06-ce7c49d4af4e"
      },
      "execution_count": null,
      "outputs": [
        {
          "output_type": "stream",
          "name": "stdout",
          "text": [
            "This is function 1 in the Modified Super class.\n"
          ]
        }
      ]
    },
    {
      "cell_type": "markdown",
      "source": [],
      "metadata": {
        "id": "BIm3nW-ZG3qm"
      }
    },
    {
      "cell_type": "code",
      "source": [
        "#  Create a class named ‘Encapsulation’:\n",
        "# a. Inside the class, first create a constructor. Inside the constructor, initialize\n",
        "# originalValue variable as 10.\n",
        "# b. After creating the constructor, define a function named ‘Value’ and this function\n",
        "# should return the variable that we have initialized in the constructor.\n",
        "# c. Now create 2nd function named setValue, and pass an argument named\n",
        "# ‘newValue’. The task of this function will be to replace the value of the\n",
        "# originalValue variable by the value of the newValue variable."
      ],
      "metadata": {
        "id": "XBttuIuwF2Zu"
      },
      "execution_count": null,
      "outputs": []
    },
    {
      "cell_type": "code",
      "source": [
        "# class Encapsulation -> define a constructor -> create a variable = 10\n",
        "# define a function -> print the variable value that was created in your constructor.\n",
        "# define second function(with one argument)  -> update the variable value with this argument value"
      ],
      "metadata": {
        "id": "aw8YM5AQIWgS"
      },
      "execution_count": null,
      "outputs": []
    },
    {
      "cell_type": "code",
      "source": [
        "class Encapsulation:\n",
        "  def __init__(self):\n",
        "    self.var = 10\n",
        "\n",
        "  def get_Value(self):\n",
        "    print(self.var)\n",
        "\n",
        "  def set_Value(self,num):\n",
        "    self.var = num\n",
        "\n",
        "\n",
        "ob = Encapsulation()\n",
        "ob.get_Value()"
      ],
      "metadata": {
        "colab": {
          "base_uri": "https://localhost:8080/"
        },
        "id": "dWcAHyT_JKda",
        "outputId": "aebcf14a-68ee-4195-9dc3-b07b06959788"
      },
      "execution_count": null,
      "outputs": [
        {
          "output_type": "stream",
          "name": "stdout",
          "text": [
            "10\n"
          ]
        }
      ]
    },
    {
      "cell_type": "code",
      "source": [
        "ob.set_Value(34)"
      ],
      "metadata": {
        "id": "UM3Io4uwK8jO"
      },
      "execution_count": null,
      "outputs": []
    },
    {
      "cell_type": "code",
      "source": [
        "ob.get_Value()"
      ],
      "metadata": {
        "colab": {
          "base_uri": "https://localhost:8080/"
        },
        "id": "s0o4saXnLUni",
        "outputId": "b8a96dd9-e775-4bc2-81a6-bc3fd9b50db8"
      },
      "execution_count": null,
      "outputs": [
        {
          "output_type": "stream",
          "name": "stdout",
          "text": [
            "34\n"
          ]
        }
      ]
    },
    {
      "cell_type": "code",
      "source": [
        "def fun():\n",
        "  print(\"HELLO\")\n",
        "  return \"Bye Bye\"   # Dead end of your fxn -> Whatever you will use in return statement that will be the final value\n",
        "              #returned by your fxn.\n",
        "  print(\"Hello world\")"
      ],
      "metadata": {
        "id": "tI-96bfJLW3D"
      },
      "execution_count": null,
      "outputs": []
    },
    {
      "cell_type": "code",
      "source": [
        "fun()"
      ],
      "metadata": {
        "colab": {
          "base_uri": "https://localhost:8080/",
          "height": 52
        },
        "id": "iqxUX1OWQOJG",
        "outputId": "0cf83fc0-ff91-4006-b45c-7559a2b8bfe3"
      },
      "execution_count": null,
      "outputs": [
        {
          "output_type": "stream",
          "name": "stdout",
          "text": [
            "HELLO\n"
          ]
        },
        {
          "output_type": "execute_result",
          "data": {
            "text/plain": [
              "'Bye Bye'"
            ],
            "application/vnd.google.colaboratory.intrinsic+json": {
              "type": "string"
            }
          },
          "metadata": {},
          "execution_count": 40
        }
      ]
    },
    {
      "cell_type": "markdown",
      "source": [
        "Create a function named ‘check_string’, the function should accept a string data from the\n",
        "user and the function should check if the user input contains the letter ‘s’ in it. If it contains\n",
        "the letter ‘s’ then print- ‘The string is containing the letter ‘s’’, if not then print- ‘The string\n",
        "doesn’t contain the letter ‘s’’."
      ],
      "metadata": {
        "id": "H0Q-Srl9Qin1"
      }
    },
    {
      "cell_type": "code",
      "source": [
        "# arun -> 'No'\n",
        "# sanjay -> 'Yes'\n",
        "# 'samsung' -> Yes.\n",
        "# 12:25 PM."
      ],
      "metadata": {
        "id": "1PwX4s8PQO0X"
      },
      "execution_count": null,
      "outputs": []
    },
    {
      "cell_type": "code",
      "source": [
        "inp= input(\"Enter the string you want to check\")\n",
        "\n",
        "# Strings are also sequential Data Types\n",
        "\n",
        "def check_string(inp):\n",
        "  for x in inp:\n",
        "    if x=='s' or x=='S':\n",
        "      return \"This string contains the letter S/s\"\n",
        "  return \"This string does not contains the letter S/s\"\n",
        "check_string(inp)"
      ],
      "metadata": {
        "colab": {
          "base_uri": "https://localhost:8080/",
          "height": 52
        },
        "id": "9moMrQ2GSmLf",
        "outputId": "2eb98e78-10ec-47fe-b510-f7ba7c2c2035"
      },
      "execution_count": null,
      "outputs": [
        {
          "name": "stdout",
          "output_type": "stream",
          "text": [
            "Enter the string you want to checkmonika\n"
          ]
        },
        {
          "output_type": "execute_result",
          "data": {
            "text/plain": [
              "'This string does not contains the letter S/s'"
            ],
            "application/vnd.google.colaboratory.intrinsic+json": {
              "type": "string"
            }
          },
          "metadata": {},
          "execution_count": 48
        }
      ]
    },
    {
      "cell_type": "markdown",
      "source": [
        "Create a class named Employee, with a constructor ‘__init__’ method that accepts name and\n",
        "salary as parameters and set properties named name and salary.\n",
        "Then create another function details there ask for address from the user and then print all the details in the output."
      ],
      "metadata": {
        "id": "hqSlVWdLUbaD"
      }
    },
    {
      "cell_type": "code",
      "source": [
        "# Create a class Employee -> Create a constructor(with 2 parameters name and salary)\n",
        "# Define a function named details(with 0 parameters) -> Take address as the input of the user.\n",
        "# ask user if he/she wants to see it's details -> If yes print the details if no -> Function over."
      ],
      "metadata": {
        "id": "_SOTG2t1S2kS"
      },
      "execution_count": null,
      "outputs": []
    },
    {
      "cell_type": "code",
      "source": [
        "class Employee:\n",
        "  def __init__(self,name,salary):\n",
        "    self.name=name\n",
        "    self.salary = salary\n",
        "\n",
        "  def details(self):\n",
        "    self.address = input(\"Kindly enter your address\")\n",
        "\n",
        "    inp = int(input(\"Enter 1 to see your details, 0 to exit.\"))\n",
        "    if inp==1:\n",
        "      print(self.name, self.salary, self.address)\n",
        "      print(\"These are your details\")\n",
        "    elif inp==0:\n",
        "      print(\"Thanks for the details. Your Program is over\")\n",
        "\n",
        "    else:\n",
        "      print(\"Wrong Input\")\n"
      ],
      "metadata": {
        "id": "Zrg_uPXbTBiX"
      },
      "execution_count": null,
      "outputs": []
    },
    {
      "cell_type": "code",
      "source": [
        "ob = Employee(\"Arun\",56000)\n",
        "ob.details()"
      ],
      "metadata": {
        "colab": {
          "base_uri": "https://localhost:8080/"
        },
        "id": "Q_0YSTeSYSkO",
        "outputId": "d5978984-d29c-4c61-c2d4-9112c7705763"
      },
      "execution_count": null,
      "outputs": [
        {
          "output_type": "stream",
          "name": "stdout",
          "text": [
            "Kindly enter your addressKanpur\n",
            "Enter 1 to see your details, 0 to exit.1\n",
            "Arun 56000 Kanpur\n",
            "These are your details\n"
          ]
        }
      ]
    },
    {
      "cell_type": "code",
      "source": [
        "# lambda functions\n",
        "# We want to create small functions in just one line\n"
      ],
      "metadata": {
        "id": "ZZgGKQRbYUC4"
      },
      "execution_count": null,
      "outputs": []
    },
    {
      "cell_type": "code",
      "source": [
        "# SYNTAX\n",
        "# func_name = lambda keyword  arguments  : expression(logic)"
      ],
      "metadata": {
        "id": "dTumpDOWZ4ll"
      },
      "execution_count": null,
      "outputs": []
    },
    {
      "cell_type": "code",
      "source": [
        "sum = lambda a,b,c  : a+b+c    #One line fxns."
      ],
      "metadata": {
        "id": "3t1S6G6oaKzn"
      },
      "execution_count": null,
      "outputs": []
    },
    {
      "cell_type": "code",
      "source": [
        "sum(10,20,30)"
      ],
      "metadata": {
        "colab": {
          "base_uri": "https://localhost:8080/"
        },
        "id": "cmdizpqmacuH",
        "outputId": "4c24857b-7207-469e-9a67-eeb74070a6e8"
      },
      "execution_count": null,
      "outputs": [
        {
          "output_type": "execute_result",
          "data": {
            "text/plain": [
              "60"
            ]
          },
          "metadata": {},
          "execution_count": 59
        }
      ]
    },
    {
      "cell_type": "code",
      "source": [
        "# double a number\n",
        "double_num = lambda num : num*2"
      ],
      "metadata": {
        "id": "ldA6k7c7aefs"
      },
      "execution_count": null,
      "outputs": []
    },
    {
      "cell_type": "code",
      "source": [
        "double_num(45)"
      ],
      "metadata": {
        "colab": {
          "base_uri": "https://localhost:8080/"
        },
        "id": "UvfSgoQ5aotC",
        "outputId": "5972ae2c-bf8f-4870-f6fb-e0dbe114f2af"
      },
      "execution_count": null,
      "outputs": [
        {
          "output_type": "execute_result",
          "data": {
            "text/plain": [
              "90"
            ]
          },
          "metadata": {},
          "execution_count": 61
        }
      ]
    },
    {
      "cell_type": "code",
      "source": [
        "# Check Even odd\n",
        "\n",
        "is_even = lambda x : x%2==0"
      ],
      "metadata": {
        "id": "bqMht_cLap0k"
      },
      "execution_count": null,
      "outputs": []
    },
    {
      "cell_type": "code",
      "source": [
        "is_even(46)"
      ],
      "metadata": {
        "colab": {
          "base_uri": "https://localhost:8080/"
        },
        "id": "wFBu0SMXay0m",
        "outputId": "0a92a3d4-717c-4c1d-d15a-c8e7198349d4"
      },
      "execution_count": null,
      "outputs": [
        {
          "output_type": "execute_result",
          "data": {
            "text/plain": [
              "True"
            ]
          },
          "metadata": {},
          "execution_count": 64
        }
      ]
    },
    {
      "cell_type": "code",
      "source": [],
      "metadata": {
        "id": "J7u9bVHca0Cz"
      },
      "execution_count": null,
      "outputs": []
    }
  ]
}